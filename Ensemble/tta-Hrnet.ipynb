{
 "cells": [
  {
   "cell_type": "code",
   "execution_count": 1,
   "metadata": {},
   "outputs": [],
   "source": [
    "from fastai.vision.all import *\n",
    "import fastai\n",
    "from wwf.vision.timm import *\n",
    "import timm"
   ]
  },
  {
   "cell_type": "code",
   "execution_count": 2,
   "metadata": {},
   "outputs": [
    {
     "name": "stdout",
     "output_type": "stream",
     "text": [
      "Thu Mar 25 12:51:56 2021       \n",
      "+-----------------------------------------------------------------------------+\n",
      "| NVIDIA-SMI 418.67       Driver Version: 418.67       CUDA Version: 10.1     |\n",
      "|-------------------------------+----------------------+----------------------+\n",
      "| GPU  Name        Persistence-M| Bus-Id        Disp.A | Volatile Uncorr. ECC |\n",
      "| Fan  Temp  Perf  Pwr:Usage/Cap|         Memory-Usage | GPU-Util  Compute M. |\n",
      "|===============================+======================+======================|\n",
      "|   0  GeForce RTX 208...  Off  | 00000000:19:00.0 Off |                  N/A |\n",
      "| 28%   35C    P8    24W / 250W |     10MiB / 10989MiB |      0%      Default |\n",
      "+-------------------------------+----------------------+----------------------+\n",
      "|   1  GeForce RTX 208...  Off  | 00000000:1A:00.0 Off |                  N/A |\n",
      "| 28%   37C    P8    15W / 250W |     10MiB / 10989MiB |      0%      Default |\n",
      "+-------------------------------+----------------------+----------------------+\n",
      "|   2  GeForce RTX 208...  Off  | 00000000:67:00.0 Off |                  N/A |\n",
      "| 29%   42C    P8     8W / 250W |     10MiB / 10989MiB |      0%      Default |\n",
      "+-------------------------------+----------------------+----------------------+\n",
      "|   3  GeForce RTX 208...  Off  | 00000000:68:00.0 Off |                  N/A |\n",
      "| 47%   84C    P2   191W / 250W |   7057MiB / 10986MiB |     89%      Default |\n",
      "+-------------------------------+----------------------+----------------------+\n",
      "                                                                               \n",
      "+-----------------------------------------------------------------------------+\n",
      "| Processes:                                                       GPU Memory |\n",
      "|  GPU       PID   Type   Process name                             Usage      |\n",
      "|=============================================================================|\n",
      "|    3      9633      C   python3                                     7047MiB |\n",
      "+-----------------------------------------------------------------------------+\n"
     ]
    }
   ],
   "source": [
    "!nvidia-smi"
   ]
  },
  {
   "cell_type": "code",
   "execution_count": 3,
   "metadata": {},
   "outputs": [],
   "source": [
    "import torch\n",
    "torch.cuda.set_device(2)"
   ]
  },
  {
   "cell_type": "code",
   "execution_count": 4,
   "metadata": {},
   "outputs": [],
   "source": [
    "path = Path('datasetCorregido/')\n",
    "trainPath = path/'train'\n",
    "testPath = path/'test'"
   ]
  },
  {
   "cell_type": "code",
   "execution_count": 19,
   "metadata": {},
   "outputs": [],
   "source": [
    "dbTest = DataBlock(blocks = (ImageBlock, CategoryBlock),\n",
    "                 get_items=get_image_files, \n",
    "                 splitter=GrandparentSplitter(valid_name='test'),\n",
    "                 get_y=parent_label,\n",
    "                 item_tfms = Resize(512),\n",
    "                 batch_tfms=[*aug_transforms(size=256, min_scale=0.75), Normalize.from_stats(*imagenet_stats)])\n",
    "dlsTest = dbTest.dataloaders(path,bs=32)"
   ]
  },
  {
   "cell_type": "code",
   "execution_count": 66,
   "metadata": {},
   "outputs": [],
   "source": [
    "learn = Learner(dlsTest, timm.models.hrnet.hrnet_w32(num_classes=2),metrics=[accuracy,Precision(),Recall(),RocAucBinary()],loss_func=LabelSmoothingCrossEntropy()).to_fp16()"
   ]
  },
  {
   "cell_type": "code",
   "execution_count": 69,
   "metadata": {},
   "outputs": [
    {
     "name": "stderr",
     "output_type": "stream",
     "text": [
      "/home/jonathan/.virtualenvs/segmentation/lib/python3.6/site-packages/fastai/learner.py:56: UserWarning: Saved filed doesn't contain an optimizer state.\n",
      "  elif with_opt: warn(\"Saved filed doesn't contain an optimizer state.\")\n"
     ]
    },
    {
     "data": {
      "text/plain": [
       "<fastai.learner.Learner at 0x7f1fe3376ac8>"
      ]
     },
     "execution_count": 69,
     "metadata": {},
     "output_type": "execute_result"
    }
   ],
   "source": [
    "learn.load('hrnet')"
   ]
  },
  {
   "cell_type": "code",
   "execution_count": 70,
   "metadata": {
    "scrolled": true
   },
   "outputs": [
    {
     "data": {
      "text/html": [],
      "text/plain": [
       "<IPython.core.display.HTML object>"
      ]
     },
     "metadata": {},
     "output_type": "display_data"
    },
    {
     "data": {
      "text/plain": [
       "(#5) [0.5184487104415894,0.7881041169166565,0.888283378746594,0.7149122807017544,0.8774147798270605]"
      ]
     },
     "execution_count": 70,
     "metadata": {},
     "output_type": "execute_result"
    }
   ],
   "source": [
    "learn.validate()"
   ]
  },
  {
   "cell_type": "code",
   "execution_count": 71,
   "metadata": {},
   "outputs": [
    {
     "data": {
      "text/html": [],
      "text/plain": [
       "<IPython.core.display.HTML object>"
      ]
     },
     "metadata": {},
     "output_type": "display_data"
    }
   ],
   "source": [
    "preds,y=learn.get_preds()"
   ]
  },
  {
   "cell_type": "code",
   "execution_count": 72,
   "metadata": {},
   "outputs": [],
   "source": [
    "predIdxs = np.argmax(preds.numpy(), axis=1)"
   ]
  },
  {
   "cell_type": "code",
   "execution_count": 73,
   "metadata": {},
   "outputs": [
    {
     "name": "stdout",
     "output_type": "stream",
     "text": [
      "0.7045454545454546\n"
     ]
    }
   ],
   "source": [
    "from sklearn.metrics import confusion_matrix\n",
    "tn, fp, fn, tp = confusion_matrix(predIdxs, y).ravel()\n",
    "\n",
    "print(tn / (tn+fp))"
   ]
  },
  {
   "cell_type": "markdown",
   "metadata": {},
   "source": [
    "## TTA"
   ]
  },
  {
   "cell_type": "code",
   "execution_count": null,
   "metadata": {},
   "outputs": [
    {
     "data": {
      "text/html": [
       "\n",
       "    <div>\n",
       "        <style>\n",
       "            /* Turns off some styling */\n",
       "            progress {\n",
       "                /* gets rid of default border in Firefox and Opera. */\n",
       "                border: none;\n",
       "                /* Needs to be in here for Safari polyfill so background images work as expected. */\n",
       "                background-size: auto;\n",
       "            }\n",
       "            .progress-bar-interrupted, .progress-bar-interrupted::-webkit-progress-bar {\n",
       "                background: #F44336;\n",
       "            }\n",
       "        </style>\n",
       "      <progress value='0' class='' max='1' style='width:300px; height:20px; vertical-align: middle;'></progress>\n",
       "      \n",
       "    </div>\n",
       "    \n"
      ],
      "text/plain": [
       "<IPython.core.display.HTML object>"
      ]
     },
     "metadata": {},
     "output_type": "display_data"
    },
    {
     "data": {
      "text/html": [
       "\n",
       "    <div>\n",
       "        <style>\n",
       "            /* Turns off some styling */\n",
       "            progress {\n",
       "                /* gets rid of default border in Firefox and Opera. */\n",
       "                border: none;\n",
       "                /* Needs to be in here for Safari polyfill so background images work as expected. */\n",
       "                background-size: auto;\n",
       "            }\n",
       "            .progress-bar-interrupted, .progress-bar-interrupted::-webkit-progress-bar {\n",
       "                background: #F44336;\n",
       "            }\n",
       "        </style>\n",
       "      <progress value='6' class='' max='6' style='width:300px; height:20px; vertical-align: middle;'></progress>\n",
       "      100.00% [6/6 00:43<00:00]\n",
       "    </div>\n",
       "    \n",
       "\n",
       "\n",
       "    <div>\n",
       "        <style>\n",
       "            /* Turns off some styling */\n",
       "            progress {\n",
       "                /* gets rid of default border in Firefox and Opera. */\n",
       "                border: none;\n",
       "                /* Needs to be in here for Safari polyfill so background images work as expected. */\n",
       "                background-size: auto;\n",
       "            }\n",
       "            .progress-bar-interrupted, .progress-bar-interrupted::-webkit-progress-bar {\n",
       "                background: #F44336;\n",
       "            }\n",
       "        </style>\n",
       "      <progress value='0' class='' max='26' style='width:300px; height:20px; vertical-align: middle;'></progress>\n",
       "      0.00% [0/26 00:00<00:00]\n",
       "    </div>\n",
       "    "
      ],
      "text/plain": [
       "<IPython.core.display.HTML object>"
      ]
     },
     "metadata": {},
     "output_type": "display_data"
    }
   ],
   "source": [
    "preds,y=learn.tta(n=6)"
   ]
  },
  {
   "cell_type": "code",
   "execution_count": null,
   "metadata": {},
   "outputs": [],
   "source": [
    "predIdxs = np.argmax(preds.numpy(), axis=1)"
   ]
  },
  {
   "cell_type": "code",
   "execution_count": null,
   "metadata": {},
   "outputs": [],
   "source": [
    "from sklearn.metrics import precision_score,recall_score,f1_score,accuracy_score,roc_auc_score,classification_report"
   ]
  },
  {
   "cell_type": "code",
   "execution_count": 59,
   "metadata": {},
   "outputs": [
    {
     "data": {
      "text/plain": [
       "0.7982456140350878"
      ]
     },
     "execution_count": 59,
     "metadata": {},
     "output_type": "execute_result"
    }
   ],
   "source": [
    "precision_score(predIdxs,y)"
   ]
  },
  {
   "cell_type": "code",
   "execution_count": 60,
   "metadata": {},
   "outputs": [
    {
     "data": {
      "text/plain": [
       "0.8921568627450981"
      ]
     },
     "execution_count": 60,
     "metadata": {},
     "output_type": "execute_result"
    }
   ],
   "source": [
    "recall_score(predIdxs,y)"
   ]
  },
  {
   "cell_type": "code",
   "execution_count": 61,
   "metadata": {
    "scrolled": true
   },
   "outputs": [
    {
     "data": {
      "text/plain": [
       "0.8314745972738538"
      ]
     },
     "execution_count": 61,
     "metadata": {},
     "output_type": "execute_result"
    }
   ],
   "source": [
    "accuracy_score(predIdxs,y)"
   ]
  },
  {
   "cell_type": "code",
   "execution_count": 62,
   "metadata": {},
   "outputs": [
    {
     "data": {
      "text/plain": [
       "0.8425925925925927"
      ]
     },
     "execution_count": 62,
     "metadata": {},
     "output_type": "execute_result"
    }
   ],
   "source": [
    "f1_score(y,predIdxs)"
   ]
  },
  {
   "cell_type": "code",
   "execution_count": 63,
   "metadata": {
    "scrolled": false
   },
   "outputs": [
    {
     "data": {
      "text/plain": [
       "0.9191345529064827"
      ]
     },
     "execution_count": 63,
     "metadata": {},
     "output_type": "execute_result"
    }
   ],
   "source": [
    "roc_auc_score(y,preds[:,1])"
   ]
  },
  {
   "cell_type": "code",
   "execution_count": null,
   "metadata": {},
   "outputs": [],
   "source": [
    "tn, fp, fn, tp = confusion_matrix(predIdxs, y).ravel()\n",
    "\n",
    "print(tn / (tn+fp))"
   ]
  },
  {
   "cell_type": "code",
   "execution_count": 65,
   "metadata": {},
   "outputs": [
    {
     "name": "stdout",
     "output_type": "stream",
     "text": [
      "              precision    recall  f1-score   support\n",
      "\n",
      "           0     0.7694    0.8746    0.8187       351\n",
      "           1     0.8922    0.7982    0.8426       456\n",
      "\n",
      "    accuracy                         0.8315       807\n",
      "   macro avg     0.8308    0.8364    0.8306       807\n",
      "weighted avg     0.8388    0.8315    0.8322       807\n",
      "\n"
     ]
    }
   ],
   "source": [
    "print(classification_report(y,predIdxs,digits=4))"
   ]
  },
  {
   "cell_type": "markdown",
   "metadata": {},
   "source": [
    "-------------------------------------------------------"
   ]
  },
  {
   "cell_type": "code",
   "execution_count": 54,
   "metadata": {},
   "outputs": [
    {
     "data": {
      "text/plain": [
       "array([0.9303789 , 0.75445956, 0.7427454 , 0.84579724, 0.73201686,\n",
       "       0.7989495 , 0.7441814 , 0.96091676, 0.95411706, 0.91908157,\n",
       "       0.8072547 , 0.6259793 , 0.9041923 , 0.66963094, 0.7862104 ,\n",
       "       0.89290553, 0.59019667, 0.9470582 , 0.6006665 , 0.8151437 ,\n",
       "       0.8898027 , 0.83778036, 0.8098404 , 0.6502403 , 0.91925997,\n",
       "       0.8531942 , 0.8712686 , 0.93743676, 0.9570373 , 0.90081346,\n",
       "       0.8353411 , 0.97862947, 0.51516104, 0.55372745, 0.92228794,\n",
       "       0.89999545, 0.74750006, 0.89660573, 0.92137724, 0.69277704,\n",
       "       0.8428752 , 0.90335345, 0.83016133, 0.8917056 , 0.6386014 ,\n",
       "       0.8868762 , 0.90812147, 0.7777797 , 0.82237184, 0.90417755,\n",
       "       0.78263026, 0.84783936, 0.61609584, 0.7010434 , 0.9271331 ,\n",
       "       0.8991491 , 0.8816315 , 0.7694386 , 0.8795728 , 0.8046267 ,\n",
       "       0.9270269 , 0.76836264, 0.5777951 , 0.81703633, 0.8965539 ,\n",
       "       0.75859165, 0.6300471 , 0.8663912 , 0.68358636, 0.8304776 ,\n",
       "       0.8660434 , 0.73298645, 0.83759606, 0.6564155 , 0.90663755,\n",
       "       0.52815825, 0.72124106, 0.8825682 , 0.64036226, 0.8120696 ,\n",
       "       0.6422545 , 0.95112497, 0.9501649 , 0.75248605, 0.914245  ,\n",
       "       0.9350598 , 0.8947291 , 0.85616004, 0.7207284 , 0.9665623 ,\n",
       "       0.63915515, 0.8418608 , 0.6524879 , 0.8250043 , 0.94400233,\n",
       "       0.82047796, 0.88574815, 0.74143827, 0.9553586 , 0.6462215 ,\n",
       "       0.8001648 , 0.8759556 , 0.8825051 , 0.791263  , 0.54177743,\n",
       "       0.877751  , 0.9359193 , 0.56288385, 0.6295179 , 0.6872417 ,\n",
       "       0.9180115 , 0.53999597, 0.9319911 , 0.76208067, 0.7637547 ,\n",
       "       0.8087231 , 0.61325276, 0.6334324 , 0.7205265 , 0.55992573,\n",
       "       0.91095006, 0.73366106, 0.95626897, 0.79627734, 0.66391814,\n",
       "       0.5193544 , 0.73257387, 0.56181884, 0.84688306, 0.85679746,\n",
       "       0.6219695 , 0.9290614 , 0.6517799 , 0.5263895 , 0.75617254,\n",
       "       0.8923495 , 0.606239  , 0.8355662 , 0.8005239 , 0.6685444 ,\n",
       "       0.6751043 , 0.70817804, 0.5053043 , 0.67651945, 0.86004794,\n",
       "       0.75530046, 0.813781  , 0.8224153 , 0.8311473 , 0.76421815,\n",
       "       0.9000938 , 0.8702112 , 0.8392524 , 0.69284743, 0.52704597,\n",
       "       0.93029803, 0.7136951 , 0.72744143, 0.91223526, 0.8999977 ,\n",
       "       0.5251118 , 0.63621444, 0.7287366 , 0.84942585, 0.7616227 ,\n",
       "       0.8358952 , 0.9729809 , 0.7347055 , 0.66792625, 0.9066188 ,\n",
       "       0.8887148 , 0.8195348 , 0.556653  , 0.6009586 , 0.9233248 ,\n",
       "       0.5905447 , 0.9498746 , 0.87087107, 0.85480917, 0.5474606 ,\n",
       "       0.7906726 , 0.57031083, 0.8316154 , 0.5941181 , 0.9194385 ,\n",
       "       0.81532854, 0.8584447 , 0.830168  , 0.9830567 , 0.8118302 ,\n",
       "       0.7999029 , 0.9372784 , 0.69644666, 0.89849186, 0.7736899 ,\n",
       "       0.87882555, 0.8945834 , 0.92937976, 0.9113624 , 0.6172478 ,\n",
       "       0.960417  , 0.8236186 , 0.83201724, 0.8947548 , 0.94190985,\n",
       "       0.7886606 , 0.84735906, 0.92088807, 0.69519687, 0.83087707,\n",
       "       0.8731979 , 0.8179591 , 0.72743106, 0.5258453 , 0.7295816 ,\n",
       "       0.64604324, 0.554263  , 0.7506083 , 0.59072185, 0.9564961 ,\n",
       "       0.5965537 , 0.75018024, 0.6671417 , 0.8820094 , 0.6653347 ,\n",
       "       0.8414475 , 0.73482096, 0.55237895, 0.6284061 , 0.87369615,\n",
       "       0.9542135 , 0.8952993 , 0.81892943, 0.77135277, 0.608708  ,\n",
       "       0.89114714, 0.8577657 , 0.95262194, 0.55907315, 0.806953  ,\n",
       "       0.86131054, 0.89944136, 0.69614375, 0.6566749 , 0.762759  ,\n",
       "       0.93307495, 0.83356166, 0.510456  , 0.912704  , 0.5350117 ,\n",
       "       0.9426597 , 0.85947275, 0.92385864, 0.8398624 , 0.7143284 ,\n",
       "       0.73141754, 0.5878952 , 0.94406074, 0.77830434, 0.7526268 ,\n",
       "       0.72702855, 0.8797654 , 0.90018255, 0.9082293 , 0.60963064,\n",
       "       0.92332643, 0.85186875, 0.9455441 , 0.86915076, 0.54713756,\n",
       "       0.8861459 , 0.84204763, 0.9038052 , 0.8269656 , 0.936494  ,\n",
       "       0.72363526, 0.7932778 , 0.85148364, 0.8930039 , 0.5347706 ,\n",
       "       0.8801491 , 0.8056193 , 0.9530575 , 0.9679981 , 0.8365724 ,\n",
       "       0.903555  , 0.7002433 , 0.6975012 , 0.8737561 , 0.9297637 ,\n",
       "       0.9602475 , 0.86798084, 0.62344515, 0.8312524 , 0.7144675 ,\n",
       "       0.9088266 , 0.95566034, 0.6269599 , 0.7536779 , 0.67447364,\n",
       "       0.62206966, 0.5014484 , 0.84821576, 0.68315965, 0.6118191 ,\n",
       "       0.82505286, 0.9093294 , 0.80591863, 0.6846781 , 0.6057792 ,\n",
       "       0.85397524, 0.87316525, 0.6660295 , 0.9300054 , 0.9320698 ,\n",
       "       0.8744685 , 0.74475706, 0.60314775, 0.9129696 , 0.8164722 ,\n",
       "       0.72823983, 0.75871164, 0.6437227 , 0.9206209 , 0.88106495,\n",
       "       0.6229949 , 0.95287156, 0.9498303 , 0.9207428 , 0.7933291 ,\n",
       "       0.53303957, 0.5316931 , 0.5904038 , 0.81170535, 0.67308277,\n",
       "       0.82625127, 0.9307915 , 0.98251826, 0.68109363, 0.92564404,\n",
       "       0.91700816, 0.6900247 , 0.70067984, 0.9117815 , 0.7911691 ,\n",
       "       0.9660374 , 0.6851757 , 0.87116575, 0.9588087 , 0.50795156,\n",
       "       0.74081886, 0.8693599 , 0.7251246 , 0.9050549 , 0.91426075,\n",
       "       0.98307556, 0.88826853, 0.67448854, 0.5182547 , 0.8608434 ,\n",
       "       0.75108016, 0.51849914, 0.76302433, 0.5413966 , 0.6189692 ,\n",
       "       0.5322491 , 0.8595116 , 0.57623845, 0.8343397 , 0.76194674,\n",
       "       0.8392667 , 0.9167622 , 0.9255923 , 0.94595003, 0.92485875,\n",
       "       0.7962314 , 0.9361835 , 0.89190763, 0.7978128 , 0.6583754 ,\n",
       "       0.65280175, 0.96509045, 0.8851397 , 0.7084369 , 0.7718012 ,\n",
       "       0.8569947 , 0.5312829 , 0.88625735, 0.9583104 , 0.81349754,\n",
       "       0.70364743, 0.86688566, 0.826001  , 0.8645778 , 0.89619505,\n",
       "       0.92218184, 0.85219353, 0.8968122 , 0.8634362 , 0.7325171 ,\n",
       "       0.70505047, 0.8818319 , 0.5839597 , 0.8292906 , 0.52279526,\n",
       "       0.73791015, 0.7312943 , 0.5569127 , 0.9137181 , 0.61029047,\n",
       "       0.89148915, 0.6578688 , 0.93441886, 0.847487  , 0.866875  ,\n",
       "       0.62682444, 0.6423242 , 0.92337894, 0.6199143 , 0.86313164,\n",
       "       0.890064  , 0.7350432 , 0.80621326, 0.7781279 , 0.67261374,\n",
       "       0.9288597 , 0.52440494, 0.56016046, 0.93227214, 0.777527  ,\n",
       "       0.8773386 , 0.6394455 , 0.52240247, 0.53525066, 0.9237832 ,\n",
       "       0.84332144, 0.8195934 , 0.9523457 , 0.69537514, 0.87498105,\n",
       "       0.7466309 , 0.81679964, 0.5664585 , 0.70139396, 0.8773943 ,\n",
       "       0.9073642 , 0.900397  , 0.76789474, 0.5775093 , 0.9790822 ,\n",
       "       0.94054663, 0.9100795 , 0.89118755, 0.82241035, 0.86848265,\n",
       "       0.9055606 , 0.75766677, 0.62628746, 0.8420826 , 0.6033597 ,\n",
       "       0.9314023 , 0.9017917 , 0.9317033 , 0.61864346, 0.93604624,\n",
       "       0.7776714 , 0.5517614 , 0.9571593 , 0.88578314, 0.56624544,\n",
       "       0.90891576, 0.80957866, 0.5660894 , 0.873454  , 0.8391853 ,\n",
       "       0.93861365, 0.88947964, 0.81496364, 0.90215874, 0.91336536,\n",
       "       0.5140642 , 0.8295156 , 0.82711506, 0.65810347, 0.54924387,\n",
       "       0.5886334 , 0.9195809 , 0.90230143, 0.82912457, 0.54500073,\n",
       "       0.9104484 , 0.84635377, 0.5864796 , 0.9327384 , 0.7551963 ,\n",
       "       0.8687246 , 0.8535438 , 0.7929266 , 0.74597645, 0.8440332 ,\n",
       "       0.876347  , 0.67279816, 0.61868364, 0.5912077 , 0.5580851 ,\n",
       "       0.608821  , 0.64036196, 0.9624439 , 0.9022417 , 0.91242284,\n",
       "       0.8029574 , 0.8290236 , 0.8649889 , 0.54725945, 0.75541615,\n",
       "       0.8837112 , 0.79902434, 0.7037367 , 0.93486565, 0.6499557 ,\n",
       "       0.66570455, 0.74815726, 0.53754216, 0.69661605, 0.72918725,\n",
       "       0.71797764, 0.7561451 , 0.6398725 , 0.5809159 , 0.5327942 ,\n",
       "       0.7327623 , 0.902384  , 0.70006484, 0.60060126, 0.9085078 ,\n",
       "       0.61085695, 0.9560392 , 0.85206866, 0.7722501 , 0.848631  ,\n",
       "       0.67390233, 0.9317124 , 0.7318383 , 0.90509397, 0.8739424 ,\n",
       "       0.7849703 , 0.93457735, 0.65161395, 0.86674637, 0.7071123 ,\n",
       "       0.98480636, 0.88610816, 0.72588074, 0.86330724, 0.8894767 ,\n",
       "       0.827387  , 0.69428706, 0.5586036 , 0.8696516 , 0.6797104 ,\n",
       "       0.90958714, 0.6147795 , 0.9346729 , 0.8278018 , 0.62446016,\n",
       "       0.78701615, 0.70910025, 0.864983  , 0.8451065 , 0.50524145,\n",
       "       0.68837386, 0.6666976 , 0.7432189 , 0.8492062 , 0.85592335,\n",
       "       0.94060373, 0.90941864, 0.59589535, 0.82908183, 0.9504115 ,\n",
       "       0.79457974, 0.8415962 , 0.79481786, 0.89312726, 0.92477894,\n",
       "       0.8583133 , 0.8197371 , 0.9296606 , 0.96049786, 0.76926243,\n",
       "       0.868832  , 0.55914164, 0.6384742 , 0.81450665, 0.9257109 ,\n",
       "       0.82030475, 0.92058843, 0.53625727, 0.91382253, 0.5583208 ,\n",
       "       0.851061  , 0.9463211 , 0.91200274, 0.85888547, 0.9068235 ,\n",
       "       0.87224865, 0.8982003 , 0.6873611 , 0.65117097, 0.56783646,\n",
       "       0.910451  , 0.5711303 , 0.7777257 , 0.91333175, 0.91375726,\n",
       "       0.93935186, 0.71329224, 0.93078893, 0.88596344, 0.5252894 ,\n",
       "       0.8375244 , 0.7445655 , 0.8216277 , 0.84982437, 0.8298149 ,\n",
       "       0.58091253, 0.6322669 , 0.62234044, 0.8661194 , 0.7453614 ,\n",
       "       0.9233536 , 0.90181667, 0.53465813, 0.91318995, 0.92532676,\n",
       "       0.90261364, 0.7572417 , 0.83206254, 0.6896365 , 0.93249035,\n",
       "       0.88995636, 0.7069608 , 0.6384717 , 0.6544129 , 0.8693812 ,\n",
       "       0.8588685 , 0.83637655, 0.8569024 , 0.6497298 , 0.7184408 ,\n",
       "       0.5991355 , 0.87182474, 0.8346894 , 0.91587645, 0.71679616,\n",
       "       0.8723811 , 0.80405307, 0.7873277 , 0.92619425, 0.59851223,\n",
       "       0.91376334, 0.7971242 , 0.90089583, 0.8066847 , 0.8396158 ,\n",
       "       0.870287  , 0.8352307 , 0.9437337 , 0.8611673 , 0.7475947 ,\n",
       "       0.6575661 , 0.88498175, 0.8570914 , 0.92065644, 0.65741986,\n",
       "       0.93543136, 0.89101076, 0.8451376 , 0.5368153 , 0.8927067 ,\n",
       "       0.93132955, 0.8698305 , 0.7114813 , 0.94733834, 0.7927164 ,\n",
       "       0.81413525, 0.87415385, 0.9217971 , 0.5290735 , 0.89655024,\n",
       "       0.5729857 , 0.5892249 , 0.8347312 , 0.90361476, 0.5956741 ,\n",
       "       0.8782942 , 0.5922629 , 0.82695377, 0.79508054, 0.83272064,\n",
       "       0.793442  , 0.67784125, 0.81465423, 0.8544944 , 0.65502274,\n",
       "       0.8165649 , 0.5899054 , 0.69597226, 0.92706406, 0.6294413 ,\n",
       "       0.7822298 , 0.656119  , 0.80311966, 0.7785944 , 0.60399747,\n",
       "       0.9210026 , 0.8650821 , 0.75762796, 0.6570843 , 0.79931784,\n",
       "       0.7882691 , 0.53914696, 0.7686688 , 0.8981186 , 0.8040705 ,\n",
       "       0.68707144, 0.62960887, 0.54013795, 0.85477096, 0.69846493,\n",
       "       0.60572517, 0.8056543 , 0.86442184, 0.912179  , 0.5827249 ,\n",
       "       0.929674  , 0.5012157 , 0.6641114 , 0.7127677 , 0.8097104 ,\n",
       "       0.95473015, 0.7345896 , 0.6589149 , 0.90858126, 0.83986604,\n",
       "       0.96051675, 0.7471256 , 0.6865827 , 0.79644537, 0.7362819 ,\n",
       "       0.73986846, 0.7515083 , 0.54054135, 0.63573635, 0.8688071 ,\n",
       "       0.68392015, 0.6683638 , 0.5186025 , 0.7944272 , 0.50057864,\n",
       "       0.96020305, 0.7420805 , 0.902629  , 0.81414485, 0.61683834,\n",
       "       0.8795211 , 0.9072777 , 0.90009034, 0.94157827, 0.920832  ,\n",
       "       0.5362809 , 0.7516384 , 0.8920743 , 0.94190896, 0.68838024,\n",
       "       0.84494424, 0.844926  , 0.67939603, 0.50077564, 0.8986044 ,\n",
       "       0.8580916 , 0.5466235 , 0.5385126 , 0.50053966, 0.8270244 ,\n",
       "       0.5963197 , 0.80488944, 0.6753017 , 0.8455996 , 0.9264566 ,\n",
       "       0.9057945 , 0.9274163 , 0.9192597 , 0.90032357, 0.85542357,\n",
       "       0.760903  , 0.92802805, 0.78962743, 0.98681885, 0.90928537,\n",
       "       0.5907446 , 0.5221913 , 0.8723465 , 0.86500156, 0.650555  ,\n",
       "       0.6561653 , 0.753541  ], dtype=float32)"
      ]
     },
     "execution_count": 54,
     "metadata": {},
     "output_type": "execute_result"
    }
   ],
   "source": [
    "np.max(preds.numpy(), axis=1)"
   ]
  },
  {
   "cell_type": "code",
   "execution_count": 55,
   "metadata": {},
   "outputs": [],
   "source": [
    "confidentPredictions = []\n",
    "confidentRealValues = []\n",
    "for i,x in enumerate(np.max(preds.numpy(), axis=1)):\n",
    "    if(x>=0.7):\n",
    "        confidentPredictions.append(predIdxs[i])\n",
    "        confidentRealValues.append(y[i])"
   ]
  },
  {
   "cell_type": "code",
   "execution_count": 56,
   "metadata": {},
   "outputs": [
    {
     "data": {
      "text/plain": [
       "0.8981481481481481"
      ]
     },
     "execution_count": 56,
     "metadata": {},
     "output_type": "execute_result"
    }
   ],
   "source": [
    "precision_score(confidentPredictions,confidentRealValues)"
   ]
  },
  {
   "cell_type": "code",
   "execution_count": 57,
   "metadata": {},
   "outputs": [
    {
     "data": {
      "text/plain": [
       "0.9478827361563518"
      ]
     },
     "execution_count": 57,
     "metadata": {},
     "output_type": "execute_result"
    }
   ],
   "source": [
    "recall_score(confidentPredictions,confidentRealValues)"
   ]
  },
  {
   "cell_type": "code",
   "execution_count": 58,
   "metadata": {},
   "outputs": [
    {
     "data": {
      "text/plain": [
       "0.9223454833597464"
      ]
     },
     "execution_count": 58,
     "metadata": {},
     "output_type": "execute_result"
    }
   ],
   "source": [
    "f1_score(confidentPredictions,confidentRealValues)"
   ]
  },
  {
   "cell_type": "code",
   "execution_count": 59,
   "metadata": {},
   "outputs": [
    {
     "data": {
      "text/plain": [
       "0.9156626506024096"
      ]
     },
     "execution_count": 59,
     "metadata": {},
     "output_type": "execute_result"
    }
   ],
   "source": [
    "accuracy_score(confidentPredictions,confidentRealValues)"
   ]
  },
  {
   "cell_type": "code",
   "execution_count": 60,
   "metadata": {},
   "outputs": [
    {
     "data": {
      "text/plain": [
       "0.7199504337050805"
      ]
     },
     "execution_count": 60,
     "metadata": {},
     "output_type": "execute_result"
    }
   ],
   "source": [
    "len(confidentPredictions)/len(y)"
   ]
  }
 ],
 "metadata": {
  "kernelspec": {
   "display_name": "Python 3",
   "language": "python",
   "name": "python3"
  },
  "language_info": {
   "codemirror_mode": {
    "name": "ipython",
    "version": 3
   },
   "file_extension": ".py",
   "mimetype": "text/x-python",
   "name": "python",
   "nbconvert_exporter": "python",
   "pygments_lexer": "ipython3",
   "version": "3.6.7"
  }
 },
 "nbformat": 4,
 "nbformat_minor": 4
}
