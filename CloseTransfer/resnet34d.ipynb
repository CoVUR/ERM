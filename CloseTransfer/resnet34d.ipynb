{
 "cells": [
  {
   "cell_type": "code",
   "execution_count": 1,
   "metadata": {},
   "outputs": [],
   "source": [
    "from fastai.vision.all import *\n",
    "import fastai\n",
    "from wwf.vision.timm import *\n",
    "import timm"
   ]
  },
  {
   "cell_type": "code",
   "execution_count": 4,
   "metadata": {},
   "outputs": [
    {
     "name": "stdout",
     "output_type": "stream",
     "text": [
      "Mon Mar  1 10:10:16 2021       \n",
      "+-----------------------------------------------------------------------------+\n",
      "| NVIDIA-SMI 418.67       Driver Version: 418.67       CUDA Version: 10.1     |\n",
      "|-------------------------------+----------------------+----------------------+\n",
      "| GPU  Name        Persistence-M| Bus-Id        Disp.A | Volatile Uncorr. ECC |\n",
      "| Fan  Temp  Perf  Pwr:Usage/Cap|         Memory-Usage | GPU-Util  Compute M. |\n",
      "|===============================+======================+======================|\n",
      "|   0  GeForce RTX 208...  Off  | 00000000:19:00.0 Off |                  N/A |\n",
      "| 45%   82C    P2   116W / 250W |  10919MiB / 10989MiB |     60%      Default |\n",
      "+-------------------------------+----------------------+----------------------+\n",
      "|   1  GeForce RTX 208...  Off  | 00000000:1A:00.0 Off |                  N/A |\n",
      "| 35%   57C    P2    59W / 250W |   6902MiB / 10989MiB |      0%      Default |\n",
      "+-------------------------------+----------------------+----------------------+\n",
      "|   2  GeForce RTX 208...  Off  | 00000000:67:00.0 Off |                  N/A |\n",
      "| 32%   48C    P8     8W / 250W |    165MiB / 10989MiB |      0%      Default |\n",
      "+-------------------------------+----------------------+----------------------+\n",
      "|   3  GeForce RTX 208...  Off  | 00000000:68:00.0 Off |                  N/A |\n",
      "| 53%   86C    P2   232W / 250W |   9070MiB / 10986MiB |     98%      Default |\n",
      "+-------------------------------+----------------------+----------------------+\n",
      "                                                                               \n",
      "+-----------------------------------------------------------------------------+\n",
      "| Processes:                                                       GPU Memory |\n",
      "|  GPU       PID   Type   Process name                             Usage      |\n",
      "|=============================================================================|\n",
      "|    0     14882      C   python3                                    10909MiB |\n",
      "|    1      9688      C   ./darknet                                   6737MiB |\n",
      "|    1     14882      C   python3                                      155MiB |\n",
      "|    2     14882      C   python3                                      155MiB |\n",
      "|    3     14882      C   python3                                      155MiB |\n",
      "|    3     17431      C   ...n/.virtualenvs/segmentation/bin/python3  8905MiB |\n",
      "+-----------------------------------------------------------------------------+\n"
     ]
    }
   ],
   "source": [
    "!nvidia-smi"
   ]
  },
  {
   "cell_type": "code",
   "execution_count": 2,
   "metadata": {},
   "outputs": [],
   "source": [
    "import torch\n",
    "torch.cuda.set_device(2)"
   ]
  },
  {
   "cell_type": "code",
   "execution_count": 3,
   "metadata": {},
   "outputs": [],
   "source": [
    "path = Path('datasetPrueba/')\n",
    "trainPath = path/'train'\n",
    "testPath = path/'test'"
   ]
  },
  {
   "cell_type": "code",
   "execution_count": 4,
   "metadata": {},
   "outputs": [],
   "source": [
    "def getDataBlock(presize=512,size=256):\n",
    "    return DataBlock(blocks = (ImageBlock, CategoryBlock),\n",
    "                 get_items=get_image_files, \n",
    "                 splitter=RandomSplitter(valid_pct=0.2,seed=42),\n",
    "                 get_y=parent_label,\n",
    "                 item_tfms = [Resize(presize)],\n",
    "                 batch_tfms=[*aug_transforms(size=size, min_scale=0.75,do_flip=True,flip_vert=True,\n",
    "                      max_rotate=180,pad_mode=PadMode.Zeros), Normalize.from_stats(*imagenet_stats)])"
   ]
  },
  {
   "cell_type": "code",
   "execution_count": 5,
   "metadata": {},
   "outputs": [],
   "source": [
    "db512 = getDataBlock(512,256)\n",
    "dls512 = db512.dataloaders(trainPath,bs=64)"
   ]
  },
  {
   "cell_type": "code",
   "execution_count": 6,
   "metadata": {},
   "outputs": [],
   "source": [
    "from fastai.vision.all import *\n",
    "callbacks = [\n",
    "    ShowGraphCallback(),\n",
    "    EarlyStoppingCallback(patience=3),\n",
    "    SaveModelCallback(fname='resnest34'),\n",
    "    MixUp(),\n",
    "]"
   ]
  },
  {
   "cell_type": "code",
   "execution_count": 7,
   "metadata": {},
   "outputs": [],
   "source": [
    "learn = timm_learner(dls512, 'resnet34d',cbs = callbacks,metrics=[accuracy,Precision(),Recall()]).to_fp16()"
   ]
  },
  {
   "cell_type": "code",
   "execution_count": 9,
   "metadata": {
    "scrolled": false
   },
   "outputs": [
    {
     "data": {
      "text/html": [],
      "text/plain": [
       "<IPython.core.display.HTML object>"
      ]
     },
     "metadata": {},
     "output_type": "display_data"
    },
    {
     "data": {
      "text/plain": [
       "SuggestedLRs(lr_min=0.2754228591918945, lr_steep=2.290867567062378)"
      ]
     },
     "execution_count": 9,
     "metadata": {},
     "output_type": "execute_result"
    },
    {
     "data": {
      "image/png": "[encoded data removed]",
      "text/plain": [
       "<Figure size 432x288 with 1 Axes>"
      ]
     },
     "metadata": {
      "needs_background": "light"
     },
     "output_type": "display_data"
    }
   ],
   "source": [
    "#learn.lr_find()"
   ]
  },
  {
   "cell_type": "code",
   "execution_count": 8,
   "metadata": {},
   "outputs": [
    {
     "data": {
      "text/html": [
       "<table border=\"1\" class=\"dataframe\">\n",
       "  <thead>\n",
       "    <tr style=\"text-align: left;\">\n",
       "      <th>epoch</th>\n",
       "      <th>train_loss</th>\n",
       "      <th>valid_loss</th>\n",
       "      <th>accuracy</th>\n",
       "      <th>precision_score</th>\n",
       "      <th>recall_score</th>\n",
       "      <th>time</th>\n",
       "    </tr>\n",
       "  </thead>\n",
       "  <tbody>\n",
       "    <tr>\n",
       "      <td>0</td>\n",
       "      <td>1.217967</td>\n",
       "      <td>0.743879</td>\n",
       "      <td>0.626433</td>\n",
       "      <td>0.728188</td>\n",
       "      <td>0.487093</td>\n",
       "      <td>00:21</td>\n",
       "    </tr>\n",
       "  </tbody>\n",
       "</table>"
      ],
      "text/plain": [
       "<IPython.core.display.HTML object>"
      ]
     },
     "metadata": {},
     "output_type": "display_data"
    },
    {
     "name": "stdout",
     "output_type": "stream",
     "text": [
      "Better model found at epoch 0 with valid_loss value: 0.743878960609436.\n"
     ]
    },
    {
     "data": {
      "image/png": "[encoded data removed]",
      "text/plain": [
       "<Figure size 432x288 with 1 Axes>"
      ]
     },
     "metadata": {},
     "output_type": "display_data"
    },
    {
     "data": {
      "text/html": [
       "<table border=\"1\" class=\"dataframe\">\n",
       "  <thead>\n",
       "    <tr style=\"text-align: left;\">\n",
       "      <th>epoch</th>\n",
       "      <th>train_loss</th>\n",
       "      <th>valid_loss</th>\n",
       "      <th>accuracy</th>\n",
       "      <th>precision_score</th>\n",
       "      <th>recall_score</th>\n",
       "      <th>time</th>\n",
       "    </tr>\n",
       "  </thead>\n",
       "  <tbody>\n",
       "    <tr>\n",
       "      <td>0</td>\n",
       "      <td>1.079222</td>\n",
       "      <td>0.716827</td>\n",
       "      <td>0.636693</td>\n",
       "      <td>0.731942</td>\n",
       "      <td>0.511785</td>\n",
       "      <td>00:24</td>\n",
       "    </tr>\n",
       "    <tr>\n",
       "      <td>1</td>\n",
       "      <td>1.071936</td>\n",
       "      <td>0.700232</td>\n",
       "      <td>0.650573</td>\n",
       "      <td>0.740741</td>\n",
       "      <td>0.538721</td>\n",
       "      <td>00:24</td>\n",
       "    </tr>\n",
       "    <tr>\n",
       "      <td>2</td>\n",
       "      <td>1.027934</td>\n",
       "      <td>0.687486</td>\n",
       "      <td>0.656608</td>\n",
       "      <td>0.752351</td>\n",
       "      <td>0.538721</td>\n",
       "      <td>00:25</td>\n",
       "    </tr>\n",
       "    <tr>\n",
       "      <td>3</td>\n",
       "      <td>1.015563</td>\n",
       "      <td>0.669468</td>\n",
       "      <td>0.659022</td>\n",
       "      <td>0.740413</td>\n",
       "      <td>0.563412</td>\n",
       "      <td>00:25</td>\n",
       "    </tr>\n",
       "    <tr>\n",
       "      <td>4</td>\n",
       "      <td>1.023464</td>\n",
       "      <td>0.672718</td>\n",
       "      <td>0.661436</td>\n",
       "      <td>0.757812</td>\n",
       "      <td>0.544332</td>\n",
       "      <td>00:25</td>\n",
       "    </tr>\n",
       "    <tr>\n",
       "      <td>5</td>\n",
       "      <td>0.999981</td>\n",
       "      <td>0.642412</td>\n",
       "      <td>0.677731</td>\n",
       "      <td>0.754636</td>\n",
       "      <td>0.593715</td>\n",
       "      <td>00:25</td>\n",
       "    </tr>\n",
       "    <tr>\n",
       "      <td>6</td>\n",
       "      <td>1.010517</td>\n",
       "      <td>0.640422</td>\n",
       "      <td>0.678938</td>\n",
       "      <td>0.764359</td>\n",
       "      <td>0.582492</td>\n",
       "      <td>00:25</td>\n",
       "    </tr>\n",
       "    <tr>\n",
       "      <td>7</td>\n",
       "      <td>1.004715</td>\n",
       "      <td>0.626511</td>\n",
       "      <td>0.691008</td>\n",
       "      <td>0.767278</td>\n",
       "      <td>0.610550</td>\n",
       "      <td>00:25</td>\n",
       "    </tr>\n",
       "    <tr>\n",
       "      <td>8</td>\n",
       "      <td>0.947802</td>\n",
       "      <td>0.618864</td>\n",
       "      <td>0.689801</td>\n",
       "      <td>0.769671</td>\n",
       "      <td>0.603816</td>\n",
       "      <td>00:25</td>\n",
       "    </tr>\n",
       "    <tr>\n",
       "      <td>9</td>\n",
       "      <td>0.951835</td>\n",
       "      <td>0.596209</td>\n",
       "      <td>0.708509</td>\n",
       "      <td>0.769129</td>\n",
       "      <td>0.654321</td>\n",
       "      <td>00:25</td>\n",
       "    </tr>\n",
       "    <tr>\n",
       "      <td>10</td>\n",
       "      <td>0.944533</td>\n",
       "      <td>0.590915</td>\n",
       "      <td>0.704285</td>\n",
       "      <td>0.772049</td>\n",
       "      <td>0.638608</td>\n",
       "      <td>00:25</td>\n",
       "    </tr>\n",
       "    <tr>\n",
       "      <td>11</td>\n",
       "      <td>0.930554</td>\n",
       "      <td>0.576899</td>\n",
       "      <td>0.702474</td>\n",
       "      <td>0.752538</td>\n",
       "      <td>0.665544</td>\n",
       "      <td>00:25</td>\n",
       "    </tr>\n",
       "    <tr>\n",
       "      <td>12</td>\n",
       "      <td>0.926306</td>\n",
       "      <td>0.572920</td>\n",
       "      <td>0.715148</td>\n",
       "      <td>0.756426</td>\n",
       "      <td>0.693603</td>\n",
       "      <td>00:25</td>\n",
       "    </tr>\n",
       "    <tr>\n",
       "      <td>13</td>\n",
       "      <td>0.890490</td>\n",
       "      <td>0.564945</td>\n",
       "      <td>0.719976</td>\n",
       "      <td>0.757539</td>\n",
       "      <td>0.704826</td>\n",
       "      <td>00:25</td>\n",
       "    </tr>\n",
       "    <tr>\n",
       "      <td>14</td>\n",
       "      <td>0.884933</td>\n",
       "      <td>0.563421</td>\n",
       "      <td>0.709113</td>\n",
       "      <td>0.752158</td>\n",
       "      <td>0.684624</td>\n",
       "      <td>00:25</td>\n",
       "    </tr>\n",
       "    <tr>\n",
       "      <td>15</td>\n",
       "      <td>0.870723</td>\n",
       "      <td>0.552319</td>\n",
       "      <td>0.705492</td>\n",
       "      <td>0.752823</td>\n",
       "      <td>0.673401</td>\n",
       "      <td>00:25</td>\n",
       "    </tr>\n",
       "    <tr>\n",
       "      <td>16</td>\n",
       "      <td>0.852455</td>\n",
       "      <td>0.550999</td>\n",
       "      <td>0.721786</td>\n",
       "      <td>0.772843</td>\n",
       "      <td>0.683502</td>\n",
       "      <td>00:25</td>\n",
       "    </tr>\n",
       "    <tr>\n",
       "      <td>17</td>\n",
       "      <td>0.873771</td>\n",
       "      <td>0.547531</td>\n",
       "      <td>0.716958</td>\n",
       "      <td>0.763750</td>\n",
       "      <td>0.685746</td>\n",
       "      <td>00:25</td>\n",
       "    </tr>\n",
       "    <tr>\n",
       "      <td>18</td>\n",
       "      <td>0.875142</td>\n",
       "      <td>0.534581</td>\n",
       "      <td>0.719372</td>\n",
       "      <td>0.757869</td>\n",
       "      <td>0.702581</td>\n",
       "      <td>00:25</td>\n",
       "    </tr>\n",
       "    <tr>\n",
       "      <td>19</td>\n",
       "      <td>0.821756</td>\n",
       "      <td>0.528273</td>\n",
       "      <td>0.722390</td>\n",
       "      <td>0.761212</td>\n",
       "      <td>0.704826</td>\n",
       "      <td>00:25</td>\n",
       "    </tr>\n",
       "    <tr>\n",
       "      <td>20</td>\n",
       "      <td>0.807507</td>\n",
       "      <td>0.523991</td>\n",
       "      <td>0.726011</td>\n",
       "      <td>0.749714</td>\n",
       "      <td>0.736251</td>\n",
       "      <td>00:25</td>\n",
       "    </tr>\n",
       "    <tr>\n",
       "      <td>21</td>\n",
       "      <td>0.815875</td>\n",
       "      <td>0.525229</td>\n",
       "      <td>0.721183</td>\n",
       "      <td>0.775353</td>\n",
       "      <td>0.677890</td>\n",
       "      <td>00:25</td>\n",
       "    </tr>\n",
       "    <tr>\n",
       "      <td>22</td>\n",
       "      <td>0.793692</td>\n",
       "      <td>0.522899</td>\n",
       "      <td>0.720579</td>\n",
       "      <td>0.771574</td>\n",
       "      <td>0.682379</td>\n",
       "      <td>00:25</td>\n",
       "    </tr>\n",
       "    <tr>\n",
       "      <td>23</td>\n",
       "      <td>0.806467</td>\n",
       "      <td>0.519088</td>\n",
       "      <td>0.728425</td>\n",
       "      <td>0.765983</td>\n",
       "      <td>0.712682</td>\n",
       "      <td>00:25</td>\n",
       "    </tr>\n",
       "    <tr>\n",
       "      <td>24</td>\n",
       "      <td>0.782992</td>\n",
       "      <td>0.523208</td>\n",
       "      <td>0.712130</td>\n",
       "      <td>0.783562</td>\n",
       "      <td>0.641975</td>\n",
       "      <td>00:25</td>\n",
       "    </tr>\n",
       "    <tr>\n",
       "      <td>25</td>\n",
       "      <td>0.765653</td>\n",
       "      <td>0.505287</td>\n",
       "      <td>0.724200</td>\n",
       "      <td>0.773990</td>\n",
       "      <td>0.687991</td>\n",
       "      <td>00:25</td>\n",
       "    </tr>\n",
       "    <tr>\n",
       "      <td>26</td>\n",
       "      <td>0.771179</td>\n",
       "      <td>0.498589</td>\n",
       "      <td>0.732046</td>\n",
       "      <td>0.765755</td>\n",
       "      <td>0.722783</td>\n",
       "      <td>00:25</td>\n",
       "    </tr>\n",
       "    <tr>\n",
       "      <td>27</td>\n",
       "      <td>0.746457</td>\n",
       "      <td>0.499782</td>\n",
       "      <td>0.719976</td>\n",
       "      <td>0.759417</td>\n",
       "      <td>0.701459</td>\n",
       "      <td>00:25</td>\n",
       "    </tr>\n",
       "    <tr>\n",
       "      <td>28</td>\n",
       "      <td>0.748640</td>\n",
       "      <td>0.490773</td>\n",
       "      <td>0.733856</td>\n",
       "      <td>0.756849</td>\n",
       "      <td>0.744108</td>\n",
       "      <td>00:25</td>\n",
       "    </tr>\n",
       "    <tr>\n",
       "      <td>29</td>\n",
       "      <td>0.731912</td>\n",
       "      <td>0.496485</td>\n",
       "      <td>0.728425</td>\n",
       "      <td>0.779468</td>\n",
       "      <td>0.690236</td>\n",
       "      <td>00:25</td>\n",
       "    </tr>\n",
       "    <tr>\n",
       "      <td>30</td>\n",
       "      <td>0.719988</td>\n",
       "      <td>0.493625</td>\n",
       "      <td>0.724200</td>\n",
       "      <td>0.764634</td>\n",
       "      <td>0.703704</td>\n",
       "      <td>00:25</td>\n",
       "    </tr>\n",
       "    <tr>\n",
       "      <td>31</td>\n",
       "      <td>0.701929</td>\n",
       "      <td>0.493511</td>\n",
       "      <td>0.723597</td>\n",
       "      <td>0.775095</td>\n",
       "      <td>0.684624</td>\n",
       "      <td>00:25</td>\n",
       "    </tr>\n",
       "  </tbody>\n",
       "</table>"
      ],
      "text/plain": [
       "<IPython.core.display.HTML object>"
      ]
     },
     "metadata": {},
     "output_type": "display_data"
    },
    {
     "name": "stdout",
     "output_type": "stream",
     "text": [
      "Better model found at epoch 0 with valid_loss value: 0.7168272137641907.\n"
     ]
    },
    {
     "data": {
      "image/png": "[encoded data removed]",
      "text/plain": [
       "<Figure size 432x288 with 1 Axes>"
      ]
     },
     "metadata": {},
     "output_type": "display_data"
    },
    {
     "name": "stdout",
     "output_type": "stream",
     "text": [
      "Better model found at epoch 1 with valid_loss value: 0.7002317309379578.\n",
      "Better model found at epoch 2 with valid_loss value: 0.6874856352806091.\n",
      "Better model found at epoch 3 with valid_loss value: 0.669468343257904.\n",
      "Better model found at epoch 5 with valid_loss value: 0.6424123644828796.\n",
      "Better model found at epoch 6 with valid_loss value: 0.6404215693473816.\n",
      "Better model found at epoch 7 with valid_loss value: 0.62651127576828.\n",
      "Better model found at epoch 8 with valid_loss value: 0.6188642978668213.\n",
      "Better model found at epoch 9 with valid_loss value: 0.5962094664573669.\n",
      "Better model found at epoch 10 with valid_loss value: 0.5909145474433899.\n",
      "Better model found at epoch 11 with valid_loss value: 0.5768991112709045.\n",
      "Better model found at epoch 12 with valid_loss value: 0.5729200839996338.\n",
      "Better model found at epoch 13 with valid_loss value: 0.5649449229240417.\n",
      "Better model found at epoch 14 with valid_loss value: 0.5634213089942932.\n",
      "Better model found at epoch 15 with valid_loss value: 0.5523185133934021.\n",
      "Better model found at epoch 16 with valid_loss value: 0.5509994029998779.\n",
      "Better model found at epoch 17 with valid_loss value: 0.5475308299064636.\n",
      "Better model found at epoch 18 with valid_loss value: 0.5345810055732727.\n",
      "Better model found at epoch 19 with valid_loss value: 0.528273344039917.\n",
      "Better model found at epoch 20 with valid_loss value: 0.5239909887313843.\n",
      "Better model found at epoch 22 with valid_loss value: 0.5228986740112305.\n",
      "Better model found at epoch 23 with valid_loss value: 0.5190884470939636.\n",
      "Better model found at epoch 25 with valid_loss value: 0.5052866339683533.\n",
      "Better model found at epoch 26 with valid_loss value: 0.498588889837265.\n",
      "Better model found at epoch 28 with valid_loss value: 0.4907732307910919.\n",
      "No improvement since epoch 28: early stopping\n"
     ]
    }
   ],
   "source": [
    "learn.fine_tune(100,base_lr=1e-4)"
   ]
  },
  {
   "cell_type": "code",
   "execution_count": 9,
   "metadata": {},
   "outputs": [],
   "source": [
    "path = Path('dataset/')\n",
    "trainPath = path/'train'\n",
    "testPath = path/'test'"
   ]
  },
  {
   "cell_type": "code",
   "execution_count": 10,
   "metadata": {},
   "outputs": [],
   "source": [
    "dbTest = DataBlock(blocks = (ImageBlock, CategoryBlock),\n",
    "                 get_items=get_image_files, \n",
    "                 splitter=GrandparentSplitter(valid_name='test'),\n",
    "                 get_y=parent_label,\n",
    "                 item_tfms = Resize(512),\n",
    "                 batch_tfms=[*aug_transforms(size=256, min_scale=0.75), Normalize.from_stats(*imagenet_stats)])\n",
    "dlsTest = dbTest.dataloaders(path,bs=32)"
   ]
  },
  {
   "cell_type": "code",
   "execution_count": 11,
   "metadata": {},
   "outputs": [],
   "source": [
    "db512 = getDataBlock(512,256)\n",
    "dls512 = db512.dataloaders(trainPath,bs=64)"
   ]
  },
  {
   "cell_type": "code",
   "execution_count": 12,
   "metadata": {},
   "outputs": [],
   "source": [
    "learn.freeze()"
   ]
  },
  {
   "cell_type": "code",
   "execution_count": 13,
   "metadata": {},
   "outputs": [],
   "source": [
    "learn.dls=dls512"
   ]
  },
  {
   "cell_type": "code",
   "execution_count": 12,
   "metadata": {},
   "outputs": [
    {
     "name": "stderr",
     "output_type": "stream",
     "text": [
      "/home/jonathan/.virtualenvs/segmentation/lib/python3.6/site-packages/fastai/learner.py:56: UserWarning: Saved filed doesn't contain an optimizer state.\n",
      "  elif with_opt: warn(\"Saved filed doesn't contain an optimizer state.\")\n"
     ]
    },
    {
     "data": {
      "text/plain": [
       "<fastai.learner.Learner at 0x7f1ed01fb7f0>"
      ]
     },
     "execution_count": 12,
     "metadata": {},
     "output_type": "execute_result"
    }
   ],
   "source": [
    "#learn.load('hrnet')"
   ]
  },
  {
   "cell_type": "code",
   "execution_count": 16,
   "metadata": {},
   "outputs": [
    {
     "data": {
      "text/html": [],
      "text/plain": [
       "<IPython.core.display.HTML object>"
      ]
     },
     "metadata": {},
     "output_type": "display_data"
    },
    {
     "data": {
      "text/plain": [
       "SuggestedLRs(lr_min=0.07585775852203369, lr_steep=0.6309573650360107)"
      ]
     },
     "execution_count": 16,
     "metadata": {},
     "output_type": "execute_result"
    },
    {
     "data": {
      "image/png": "[encoded data removed]",
      "text/plain": [
       "<Figure size 432x288 with 1 Axes>"
      ]
     },
     "metadata": {
      "needs_background": "light"
     },
     "output_type": "display_data"
    }
   ],
   "source": [
    "#learn.lr_find()"
   ]
  },
  {
   "cell_type": "code",
   "execution_count": 14,
   "metadata": {},
   "outputs": [
    {
     "data": {
      "text/html": [
       "<table border=\"1\" class=\"dataframe\">\n",
       "  <thead>\n",
       "    <tr style=\"text-align: left;\">\n",
       "      <th>epoch</th>\n",
       "      <th>train_loss</th>\n",
       "      <th>valid_loss</th>\n",
       "      <th>accuracy</th>\n",
       "      <th>precision_score</th>\n",
       "      <th>recall_score</th>\n",
       "      <th>time</th>\n",
       "    </tr>\n",
       "  </thead>\n",
       "  <tbody>\n",
       "    <tr>\n",
       "      <td>0</td>\n",
       "      <td>1.048497</td>\n",
       "      <td>0.765552</td>\n",
       "      <td>0.542813</td>\n",
       "      <td>0.529412</td>\n",
       "      <td>0.537736</td>\n",
       "      <td>00:10</td>\n",
       "    </tr>\n",
       "  </tbody>\n",
       "</table>"
      ],
      "text/plain": [
       "<IPython.core.display.HTML object>"
      ]
     },
     "metadata": {},
     "output_type": "display_data"
    },
    {
     "name": "stdout",
     "output_type": "stream",
     "text": [
      "Better model found at epoch 0 with valid_loss value: 0.7655521631240845.\n"
     ]
    },
    {
     "data": {
      "image/png": "[encoded data removed]",
      "text/plain": [
       "<Figure size 432x288 with 1 Axes>"
      ]
     },
     "metadata": {},
     "output_type": "display_data"
    },
    {
     "data": {
      "text/html": [
       "<table border=\"1\" class=\"dataframe\">\n",
       "  <thead>\n",
       "    <tr style=\"text-align: left;\">\n",
       "      <th>epoch</th>\n",
       "      <th>train_loss</th>\n",
       "      <th>valid_loss</th>\n",
       "      <th>accuracy</th>\n",
       "      <th>precision_score</th>\n",
       "      <th>recall_score</th>\n",
       "      <th>time</th>\n",
       "    </tr>\n",
       "  </thead>\n",
       "  <tbody>\n",
       "    <tr>\n",
       "      <td>0</td>\n",
       "      <td>1.013111</td>\n",
       "      <td>0.773872</td>\n",
       "      <td>0.527523</td>\n",
       "      <td>0.512894</td>\n",
       "      <td>0.562893</td>\n",
       "      <td>00:11</td>\n",
       "    </tr>\n",
       "    <tr>\n",
       "      <td>1</td>\n",
       "      <td>1.040812</td>\n",
       "      <td>0.776716</td>\n",
       "      <td>0.556575</td>\n",
       "      <td>0.539548</td>\n",
       "      <td>0.600629</td>\n",
       "      <td>00:11</td>\n",
       "    </tr>\n",
       "    <tr>\n",
       "      <td>2</td>\n",
       "      <td>1.036629</td>\n",
       "      <td>0.768633</td>\n",
       "      <td>0.533639</td>\n",
       "      <td>0.517711</td>\n",
       "      <td>0.597484</td>\n",
       "      <td>00:11</td>\n",
       "    </tr>\n",
       "    <tr>\n",
       "      <td>3</td>\n",
       "      <td>1.033736</td>\n",
       "      <td>0.768394</td>\n",
       "      <td>0.547401</td>\n",
       "      <td>0.530055</td>\n",
       "      <td>0.610063</td>\n",
       "      <td>00:11</td>\n",
       "    </tr>\n",
       "    <tr>\n",
       "      <td>4</td>\n",
       "      <td>1.065666</td>\n",
       "      <td>0.766804</td>\n",
       "      <td>0.545872</td>\n",
       "      <td>0.529745</td>\n",
       "      <td>0.588050</td>\n",
       "      <td>00:11</td>\n",
       "    </tr>\n",
       "    <tr>\n",
       "      <td>5</td>\n",
       "      <td>1.039787</td>\n",
       "      <td>0.771643</td>\n",
       "      <td>0.547401</td>\n",
       "      <td>0.529730</td>\n",
       "      <td>0.616352</td>\n",
       "      <td>00:11</td>\n",
       "    </tr>\n",
       "    <tr>\n",
       "      <td>6</td>\n",
       "      <td>1.041331</td>\n",
       "      <td>0.755537</td>\n",
       "      <td>0.550459</td>\n",
       "      <td>0.533898</td>\n",
       "      <td>0.594340</td>\n",
       "      <td>00:11</td>\n",
       "    </tr>\n",
       "    <tr>\n",
       "      <td>7</td>\n",
       "      <td>1.031479</td>\n",
       "      <td>0.764008</td>\n",
       "      <td>0.541284</td>\n",
       "      <td>0.524590</td>\n",
       "      <td>0.603774</td>\n",
       "      <td>00:11</td>\n",
       "    </tr>\n",
       "    <tr>\n",
       "      <td>8</td>\n",
       "      <td>1.030854</td>\n",
       "      <td>0.754016</td>\n",
       "      <td>0.542813</td>\n",
       "      <td>0.526316</td>\n",
       "      <td>0.597484</td>\n",
       "      <td>00:11</td>\n",
       "    </tr>\n",
       "    <tr>\n",
       "      <td>9</td>\n",
       "      <td>1.029708</td>\n",
       "      <td>0.758531</td>\n",
       "      <td>0.545872</td>\n",
       "      <td>0.528455</td>\n",
       "      <td>0.613208</td>\n",
       "      <td>00:11</td>\n",
       "    </tr>\n",
       "    <tr>\n",
       "      <td>10</td>\n",
       "      <td>1.024742</td>\n",
       "      <td>0.756551</td>\n",
       "      <td>0.555046</td>\n",
       "      <td>0.535433</td>\n",
       "      <td>0.641509</td>\n",
       "      <td>00:11</td>\n",
       "    </tr>\n",
       "    <tr>\n",
       "      <td>11</td>\n",
       "      <td>1.031943</td>\n",
       "      <td>0.759763</td>\n",
       "      <td>0.519878</td>\n",
       "      <td>0.505263</td>\n",
       "      <td>0.603774</td>\n",
       "      <td>00:11</td>\n",
       "    </tr>\n",
       "  </tbody>\n",
       "</table>"
      ],
      "text/plain": [
       "<IPython.core.display.HTML object>"
      ]
     },
     "metadata": {},
     "output_type": "display_data"
    },
    {
     "name": "stdout",
     "output_type": "stream",
     "text": [
      "Better model found at epoch 0 with valid_loss value: 0.7738723158836365.\n"
     ]
    },
    {
     "data": {
      "image/png": "[encoded data removed]",
      "text/plain": [
       "<Figure size 432x288 with 1 Axes>"
      ]
     },
     "metadata": {},
     "output_type": "display_data"
    },
    {
     "name": "stdout",
     "output_type": "stream",
     "text": [
      "Better model found at epoch 2 with valid_loss value: 0.7686334848403931.\n",
      "Better model found at epoch 3 with valid_loss value: 0.7683944702148438.\n",
      "Better model found at epoch 4 with valid_loss value: 0.7668038010597229.\n",
      "Better model found at epoch 6 with valid_loss value: 0.755536675453186.\n",
      "Better model found at epoch 8 with valid_loss value: 0.7540163397789001.\n",
      "No improvement since epoch 8: early stopping\n"
     ]
    }
   ],
   "source": [
    "learn.fine_tune(50,base_lr=1e-5)"
   ]
  },
  {
   "cell_type": "code",
   "execution_count": 15,
   "metadata": {},
   "outputs": [],
   "source": [
    "learn.dls = dlsTest"
   ]
  },
  {
   "cell_type": "code",
   "execution_count": 16,
   "metadata": {},
   "outputs": [
    {
     "data": {
      "text/html": [],
      "text/plain": [
       "<IPython.core.display.HTML object>"
      ]
     },
     "metadata": {},
     "output_type": "display_data"
    },
    {
     "name": "stdout",
     "output_type": "stream",
     "text": [
      "Better model found at epoch 0 with valid_loss value: 0.519559919834137.\n"
     ]
    },
    {
     "data": {
      "text/plain": [
       "(#4) [0.7864082455635071,0.519559919834137,0.5441176470588235,0.5954022988505747]"
      ]
     },
     "execution_count": 16,
     "metadata": {},
     "output_type": "execute_result"
    }
   ],
   "source": [
    "learn.validate()"
   ]
  },
  {
   "cell_type": "code",
   "execution_count": null,
   "metadata": {},
   "outputs": [],
   "source": []
  }
 ],
 "metadata": {
  "kernelspec": {
   "display_name": "Python 3",
   "language": "python",
   "name": "python3"
  },
  "language_info": {
   "codemirror_mode": {
    "name": "ipython",
    "version": 3
   },
   "file_extension": ".py",
   "mimetype": "text/x-python",
   "name": "python",
   "nbconvert_exporter": "python",
   "pygments_lexer": "ipython3",
   "version": "3.6.7"
  }
 },
 "nbformat": 4,
 "nbformat_minor": 4
}
