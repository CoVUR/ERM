{
 "cells": [
  {
   "cell_type": "code",
   "execution_count": 1,
   "metadata": {},
   "outputs": [],
   "source": [
    "from fastai.vision.all import *\n",
    "import fastai\n",
    "from wwf.vision.timm import *\n",
    "import timm"
   ]
  },
  {
   "cell_type": "code",
   "execution_count": 2,
   "metadata": {},
   "outputs": [
    {
     "name": "stdout",
     "output_type": "stream",
     "text": [
      "Wed Mar 10 15:52:42 2021       \n",
      "+-----------------------------------------------------------------------------+\n",
      "| NVIDIA-SMI 418.67       Driver Version: 418.67       CUDA Version: 10.1     |\n",
      "|-------------------------------+----------------------+----------------------+\n",
      "| GPU  Name        Persistence-M| Bus-Id        Disp.A | Volatile Uncorr. ECC |\n",
      "| Fan  Temp  Perf  Pwr:Usage/Cap|         Memory-Usage | GPU-Util  Compute M. |\n",
      "|===============================+======================+======================|\n",
      "|   0  GeForce RTX 208...  Off  | 00000000:19:00.0 Off |                  N/A |\n",
      "| 48%   84C    P2   212W / 250W |   4444MiB / 10989MiB |     90%      Default |\n",
      "+-------------------------------+----------------------+----------------------+\n",
      "|   1  GeForce RTX 208...  Off  | 00000000:1A:00.0 Off |                  N/A |\n",
      "| 31%   45C    P8    15W / 250W |     10MiB / 10989MiB |      0%      Default |\n",
      "+-------------------------------+----------------------+----------------------+\n",
      "|   2  GeForce RTX 208...  Off  | 00000000:67:00.0 Off |                  N/A |\n",
      "| 40%   76C    P2   190W / 250W |   3459MiB / 10989MiB |     79%      Default |\n",
      "+-------------------------------+----------------------+----------------------+\n",
      "|   3  GeForce RTX 208...  Off  | 00000000:68:00.0 Off |                  N/A |\n",
      "| 48%   83C    P2   189W / 250W |  10649MiB / 10986MiB |     89%      Default |\n",
      "+-------------------------------+----------------------+----------------------+\n",
      "                                                                               \n",
      "+-----------------------------------------------------------------------------+\n",
      "| Processes:                                                       GPU Memory |\n",
      "|  GPU       PID   Type   Process name                             Usage      |\n",
      "|=============================================================================|\n",
      "|    0     14058      C   python                                      3425MiB |\n",
      "|    0     16282      C   python3                                     1009MiB |\n",
      "|    2     16684      C   ...n/.virtualenvs/segmentation/bin/python3  3449MiB |\n",
      "|    3     16282      C   python3                                    10639MiB |\n",
      "+-----------------------------------------------------------------------------+\n"
     ]
    }
   ],
   "source": [
    "!nvidia-smi"
   ]
  },
  {
   "cell_type": "code",
   "execution_count": 3,
   "metadata": {},
   "outputs": [],
   "source": [
    "import torch\n",
    "torch.cuda.set_device(1)"
   ]
  },
  {
   "cell_type": "code",
   "execution_count": 4,
   "metadata": {},
   "outputs": [],
   "source": [
    "path = Path('datasetPrueba/')\n",
    "trainPath = path/'train'\n",
    "testPath = path/'test'"
   ]
  },
  {
   "cell_type": "code",
   "execution_count": 5,
   "metadata": {},
   "outputs": [],
   "source": [
    "def getDataBlock(presize=512,size=256):\n",
    "    return DataBlock(blocks = (ImageBlock, CategoryBlock),\n",
    "                 get_items=get_image_files, \n",
    "                 splitter=RandomSplitter(valid_pct=0.2,seed=42),\n",
    "                 get_y=parent_label,\n",
    "                 item_tfms = [Resize(presize)],\n",
    "                 batch_tfms=[*aug_transforms(size=size, min_scale=0.75,do_flip=True,flip_vert=True,\n",
    "                      max_rotate=180,pad_mode=PadMode.Zeros), Normalize.from_stats(*imagenet_stats)])"
   ]
  },
  {
   "cell_type": "code",
   "execution_count": 6,
   "metadata": {},
   "outputs": [],
   "source": [
    "db512 = getDataBlock(512,256)\n",
    "dls512 = db512.dataloaders(trainPath,bs=64)"
   ]
  },
  {
   "cell_type": "code",
   "execution_count": 7,
   "metadata": {},
   "outputs": [],
   "source": [
    "from fastai.vision.all import *\n",
    "callbacks = [\n",
    "    ShowGraphCallback(),\n",
    "    EarlyStoppingCallback(patience=3),\n",
    "    SaveModelCallback(fname='nasnet'),\n",
    "    MixUp(),\n",
    "]"
   ]
  },
  {
   "cell_type": "code",
   "execution_count": 8,
   "metadata": {},
   "outputs": [],
   "source": [
    "learn = timm_learner(dls512, 'mnasnet_100',cbs = callbacks,metrics=[accuracy,Precision(),Recall()]).to_fp16()"
   ]
  },
  {
   "cell_type": "code",
   "execution_count": 9,
   "metadata": {
    "scrolled": false
   },
   "outputs": [],
   "source": [
    "#learn.lr_find()"
   ]
  },
  {
   "cell_type": "code",
   "execution_count": 9,
   "metadata": {},
   "outputs": [
    {
     "data": {
      "text/html": [
       "<table border=\"1\" class=\"dataframe\">\n",
       "  <thead>\n",
       "    <tr style=\"text-align: left;\">\n",
       "      <th>epoch</th>\n",
       "      <th>train_loss</th>\n",
       "      <th>valid_loss</th>\n",
       "      <th>accuracy</th>\n",
       "      <th>precision_score</th>\n",
       "      <th>recall_score</th>\n",
       "      <th>time</th>\n",
       "    </tr>\n",
       "  </thead>\n",
       "  <tbody>\n",
       "    <tr>\n",
       "      <td>0</td>\n",
       "      <td>1.046417</td>\n",
       "      <td>0.637856</td>\n",
       "      <td>0.688594</td>\n",
       "      <td>0.763713</td>\n",
       "      <td>0.609428</td>\n",
       "      <td>00:20</td>\n",
       "    </tr>\n",
       "  </tbody>\n",
       "</table>"
      ],
      "text/plain": [
       "<IPython.core.display.HTML object>"
      ]
     },
     "metadata": {},
     "output_type": "display_data"
    },
    {
     "name": "stdout",
     "output_type": "stream",
     "text": [
      "Better model found at epoch 0 with valid_loss value: 0.6378555297851562.\n"
     ]
    },
    {
     "data": {
      "image/png": "[encoded data removed]",
      "text/plain": [
       "<Figure size 432x288 with 1 Axes>"
      ]
     },
     "metadata": {},
     "output_type": "display_data"
    },
    {
     "data": {
      "text/html": [
       "<table border=\"1\" class=\"dataframe\">\n",
       "  <thead>\n",
       "    <tr style=\"text-align: left;\">\n",
       "      <th>epoch</th>\n",
       "      <th>train_loss</th>\n",
       "      <th>valid_loss</th>\n",
       "      <th>accuracy</th>\n",
       "      <th>precision_score</th>\n",
       "      <th>recall_score</th>\n",
       "      <th>time</th>\n",
       "    </tr>\n",
       "  </thead>\n",
       "  <tbody>\n",
       "    <tr>\n",
       "      <td>0</td>\n",
       "      <td>0.932820</td>\n",
       "      <td>0.615892</td>\n",
       "      <td>0.691008</td>\n",
       "      <td>0.758527</td>\n",
       "      <td>0.624018</td>\n",
       "      <td>00:22</td>\n",
       "    </tr>\n",
       "    <tr>\n",
       "      <td>1</td>\n",
       "      <td>0.939405</td>\n",
       "      <td>0.594156</td>\n",
       "      <td>0.707302</td>\n",
       "      <td>0.763636</td>\n",
       "      <td>0.659933</td>\n",
       "      <td>00:21</td>\n",
       "    </tr>\n",
       "    <tr>\n",
       "      <td>2</td>\n",
       "      <td>0.926009</td>\n",
       "      <td>0.581215</td>\n",
       "      <td>0.710320</td>\n",
       "      <td>0.749696</td>\n",
       "      <td>0.692480</td>\n",
       "      <td>00:22</td>\n",
       "    </tr>\n",
       "    <tr>\n",
       "      <td>3</td>\n",
       "      <td>0.896273</td>\n",
       "      <td>0.574695</td>\n",
       "      <td>0.707906</td>\n",
       "      <td>0.760563</td>\n",
       "      <td>0.666667</td>\n",
       "      <td>00:22</td>\n",
       "    </tr>\n",
       "    <tr>\n",
       "      <td>4</td>\n",
       "      <td>0.908733</td>\n",
       "      <td>0.573376</td>\n",
       "      <td>0.718165</td>\n",
       "      <td>0.771100</td>\n",
       "      <td>0.676768</td>\n",
       "      <td>00:22</td>\n",
       "    </tr>\n",
       "    <tr>\n",
       "      <td>5</td>\n",
       "      <td>0.864378</td>\n",
       "      <td>0.577595</td>\n",
       "      <td>0.703681</td>\n",
       "      <td>0.765252</td>\n",
       "      <td>0.647587</td>\n",
       "      <td>00:22</td>\n",
       "    </tr>\n",
       "    <tr>\n",
       "      <td>6</td>\n",
       "      <td>0.849396</td>\n",
       "      <td>0.568277</td>\n",
       "      <td>0.712734</td>\n",
       "      <td>0.774834</td>\n",
       "      <td>0.656566</td>\n",
       "      <td>00:22</td>\n",
       "    </tr>\n",
       "    <tr>\n",
       "      <td>7</td>\n",
       "      <td>0.860613</td>\n",
       "      <td>0.555555</td>\n",
       "      <td>0.718769</td>\n",
       "      <td>0.774194</td>\n",
       "      <td>0.673401</td>\n",
       "      <td>00:23</td>\n",
       "    </tr>\n",
       "    <tr>\n",
       "      <td>8</td>\n",
       "      <td>0.827073</td>\n",
       "      <td>0.551664</td>\n",
       "      <td>0.719372</td>\n",
       "      <td>0.782493</td>\n",
       "      <td>0.662177</td>\n",
       "      <td>00:22</td>\n",
       "    </tr>\n",
       "    <tr>\n",
       "      <td>9</td>\n",
       "      <td>0.843940</td>\n",
       "      <td>0.537374</td>\n",
       "      <td>0.722993</td>\n",
       "      <td>0.772040</td>\n",
       "      <td>0.687991</td>\n",
       "      <td>00:20</td>\n",
       "    </tr>\n",
       "    <tr>\n",
       "      <td>10</td>\n",
       "      <td>0.821192</td>\n",
       "      <td>0.533758</td>\n",
       "      <td>0.722390</td>\n",
       "      <td>0.775928</td>\n",
       "      <td>0.680135</td>\n",
       "      <td>00:21</td>\n",
       "    </tr>\n",
       "    <tr>\n",
       "      <td>11</td>\n",
       "      <td>0.822583</td>\n",
       "      <td>0.528451</td>\n",
       "      <td>0.733253</td>\n",
       "      <td>0.790427</td>\n",
       "      <td>0.685746</td>\n",
       "      <td>00:21</td>\n",
       "    </tr>\n",
       "    <tr>\n",
       "      <td>12</td>\n",
       "      <td>0.822375</td>\n",
       "      <td>0.527617</td>\n",
       "      <td>0.729028</td>\n",
       "      <td>0.776942</td>\n",
       "      <td>0.695847</td>\n",
       "      <td>00:20</td>\n",
       "    </tr>\n",
       "    <tr>\n",
       "      <td>13</td>\n",
       "      <td>0.787324</td>\n",
       "      <td>0.523812</td>\n",
       "      <td>0.727821</td>\n",
       "      <td>0.768293</td>\n",
       "      <td>0.707071</td>\n",
       "      <td>00:20</td>\n",
       "    </tr>\n",
       "    <tr>\n",
       "      <td>14</td>\n",
       "      <td>0.804340</td>\n",
       "      <td>0.515190</td>\n",
       "      <td>0.731442</td>\n",
       "      <td>0.777363</td>\n",
       "      <td>0.701459</td>\n",
       "      <td>00:20</td>\n",
       "    </tr>\n",
       "    <tr>\n",
       "      <td>15</td>\n",
       "      <td>0.778885</td>\n",
       "      <td>0.498006</td>\n",
       "      <td>0.741702</td>\n",
       "      <td>0.777911</td>\n",
       "      <td>0.727273</td>\n",
       "      <td>00:20</td>\n",
       "    </tr>\n",
       "    <tr>\n",
       "      <td>16</td>\n",
       "      <td>0.777696</td>\n",
       "      <td>0.497489</td>\n",
       "      <td>0.739891</td>\n",
       "      <td>0.777108</td>\n",
       "      <td>0.723906</td>\n",
       "      <td>00:20</td>\n",
       "    </tr>\n",
       "    <tr>\n",
       "      <td>17</td>\n",
       "      <td>0.766765</td>\n",
       "      <td>0.499398</td>\n",
       "      <td>0.736874</td>\n",
       "      <td>0.795071</td>\n",
       "      <td>0.687991</td>\n",
       "      <td>00:20</td>\n",
       "    </tr>\n",
       "    <tr>\n",
       "      <td>18</td>\n",
       "      <td>0.739473</td>\n",
       "      <td>0.495012</td>\n",
       "      <td>0.744719</td>\n",
       "      <td>0.804688</td>\n",
       "      <td>0.693603</td>\n",
       "      <td>00:20</td>\n",
       "    </tr>\n",
       "    <tr>\n",
       "      <td>19</td>\n",
       "      <td>0.736237</td>\n",
       "      <td>0.492923</td>\n",
       "      <td>0.733253</td>\n",
       "      <td>0.776819</td>\n",
       "      <td>0.707071</td>\n",
       "      <td>00:21</td>\n",
       "    </tr>\n",
       "    <tr>\n",
       "      <td>20</td>\n",
       "      <td>0.740863</td>\n",
       "      <td>0.504815</td>\n",
       "      <td>0.730235</td>\n",
       "      <td>0.806630</td>\n",
       "      <td>0.655443</td>\n",
       "      <td>00:20</td>\n",
       "    </tr>\n",
       "    <tr>\n",
       "      <td>21</td>\n",
       "      <td>0.718613</td>\n",
       "      <td>0.482323</td>\n",
       "      <td>0.744719</td>\n",
       "      <td>0.809524</td>\n",
       "      <td>0.686869</td>\n",
       "      <td>00:20</td>\n",
       "    </tr>\n",
       "    <tr>\n",
       "      <td>22</td>\n",
       "      <td>0.706275</td>\n",
       "      <td>0.478335</td>\n",
       "      <td>0.742909</td>\n",
       "      <td>0.792453</td>\n",
       "      <td>0.707071</td>\n",
       "      <td>00:20</td>\n",
       "    </tr>\n",
       "    <tr>\n",
       "      <td>23</td>\n",
       "      <td>0.688372</td>\n",
       "      <td>0.476988</td>\n",
       "      <td>0.744719</td>\n",
       "      <td>0.796203</td>\n",
       "      <td>0.705948</td>\n",
       "      <td>00:20</td>\n",
       "    </tr>\n",
       "    <tr>\n",
       "      <td>24</td>\n",
       "      <td>0.690205</td>\n",
       "      <td>0.472119</td>\n",
       "      <td>0.752565</td>\n",
       "      <td>0.820240</td>\n",
       "      <td>0.691358</td>\n",
       "      <td>00:20</td>\n",
       "    </tr>\n",
       "    <tr>\n",
       "      <td>25</td>\n",
       "      <td>0.670881</td>\n",
       "      <td>0.475482</td>\n",
       "      <td>0.748340</td>\n",
       "      <td>0.812665</td>\n",
       "      <td>0.691358</td>\n",
       "      <td>00:20</td>\n",
       "    </tr>\n",
       "    <tr>\n",
       "      <td>26</td>\n",
       "      <td>0.663616</td>\n",
       "      <td>0.467867</td>\n",
       "      <td>0.750151</td>\n",
       "      <td>0.790499</td>\n",
       "      <td>0.728395</td>\n",
       "      <td>00:20</td>\n",
       "    </tr>\n",
       "    <tr>\n",
       "      <td>27</td>\n",
       "      <td>0.666665</td>\n",
       "      <td>0.458425</td>\n",
       "      <td>0.757996</td>\n",
       "      <td>0.777778</td>\n",
       "      <td>0.769921</td>\n",
       "      <td>00:20</td>\n",
       "    </tr>\n",
       "    <tr>\n",
       "      <td>28</td>\n",
       "      <td>0.662540</td>\n",
       "      <td>0.468621</td>\n",
       "      <td>0.747737</td>\n",
       "      <td>0.796738</td>\n",
       "      <td>0.712682</td>\n",
       "      <td>00:21</td>\n",
       "    </tr>\n",
       "    <tr>\n",
       "      <td>29</td>\n",
       "      <td>0.649154</td>\n",
       "      <td>0.464666</td>\n",
       "      <td>0.751358</td>\n",
       "      <td>0.780117</td>\n",
       "      <td>0.748597</td>\n",
       "      <td>00:20</td>\n",
       "    </tr>\n",
       "    <tr>\n",
       "      <td>30</td>\n",
       "      <td>0.635279</td>\n",
       "      <td>0.458607</td>\n",
       "      <td>0.753168</td>\n",
       "      <td>0.797531</td>\n",
       "      <td>0.725028</td>\n",
       "      <td>00:20</td>\n",
       "    </tr>\n",
       "  </tbody>\n",
       "</table>"
      ],
      "text/plain": [
       "<IPython.core.display.HTML object>"
      ]
     },
     "metadata": {},
     "output_type": "display_data"
    },
    {
     "name": "stdout",
     "output_type": "stream",
     "text": [
      "Better model found at epoch 0 with valid_loss value: 0.6158920526504517.\n"
     ]
    },
    {
     "data": {
      "image/png": "[encoded data removed]",
      "text/plain": [
       "<Figure size 432x288 with 1 Axes>"
      ]
     },
     "metadata": {},
     "output_type": "display_data"
    },
    {
     "name": "stdout",
     "output_type": "stream",
     "text": [
      "Better model found at epoch 1 with valid_loss value: 0.5941562652587891.\n",
      "Better model found at epoch 2 with valid_loss value: 0.5812152028083801.\n",
      "Better model found at epoch 3 with valid_loss value: 0.5746946930885315.\n",
      "Better model found at epoch 4 with valid_loss value: 0.5733759999275208.\n",
      "Better model found at epoch 6 with valid_loss value: 0.5682766437530518.\n",
      "Better model found at epoch 7 with valid_loss value: 0.5555549263954163.\n",
      "Better model found at epoch 8 with valid_loss value: 0.551663875579834.\n",
      "Better model found at epoch 9 with valid_loss value: 0.5373736023902893.\n",
      "Better model found at epoch 10 with valid_loss value: 0.5337581038475037.\n",
      "Better model found at epoch 11 with valid_loss value: 0.5284509062767029.\n",
      "Better model found at epoch 12 with valid_loss value: 0.5276174545288086.\n",
      "Better model found at epoch 13 with valid_loss value: 0.5238122344017029.\n",
      "Better model found at epoch 14 with valid_loss value: 0.515190064907074.\n",
      "Better model found at epoch 15 with valid_loss value: 0.4980064630508423.\n",
      "Better model found at epoch 16 with valid_loss value: 0.49748891592025757.\n",
      "Better model found at epoch 18 with valid_loss value: 0.49501195549964905.\n",
      "Better model found at epoch 19 with valid_loss value: 0.49292290210723877.\n",
      "Better model found at epoch 21 with valid_loss value: 0.48232269287109375.\n",
      "Better model found at epoch 22 with valid_loss value: 0.47833535075187683.\n",
      "Better model found at epoch 23 with valid_loss value: 0.47698765993118286.\n",
      "Better model found at epoch 24 with valid_loss value: 0.47211867570877075.\n",
      "Better model found at epoch 26 with valid_loss value: 0.4678666889667511.\n",
      "Better model found at epoch 27 with valid_loss value: 0.4584254324436188.\n",
      "No improvement since epoch 27: early stopping\n"
     ]
    }
   ],
   "source": [
    "learn.fine_tune(100,base_lr=1e-4)"
   ]
  },
  {
   "cell_type": "code",
   "execution_count": 10,
   "metadata": {},
   "outputs": [],
   "source": [
    "path = Path('datasetCorregido/')\n",
    "trainPath = path/'train'\n",
    "testPath = path/'test'"
   ]
  },
  {
   "cell_type": "code",
   "execution_count": 11,
   "metadata": {},
   "outputs": [],
   "source": [
    "dbTest = DataBlock(blocks = (ImageBlock, CategoryBlock),\n",
    "                 get_items=get_image_files, \n",
    "                 splitter=GrandparentSplitter(valid_name='test'),\n",
    "                 get_y=parent_label,\n",
    "                 item_tfms = Resize(512),\n",
    "                 batch_tfms=[*aug_transforms(size=256, min_scale=0.75), Normalize.from_stats(*imagenet_stats)])\n",
    "dlsTest = dbTest.dataloaders(path,bs=32)"
   ]
  },
  {
   "cell_type": "code",
   "execution_count": 12,
   "metadata": {},
   "outputs": [],
   "source": [
    "db512 = getDataBlock(512,256)\n",
    "dls512 = db512.dataloaders(trainPath,bs=64)"
   ]
  },
  {
   "cell_type": "code",
   "execution_count": 13,
   "metadata": {},
   "outputs": [],
   "source": [
    "learn.freeze()"
   ]
  },
  {
   "cell_type": "code",
   "execution_count": 14,
   "metadata": {},
   "outputs": [],
   "source": [
    "learn.dls=dls512"
   ]
  },
  {
   "cell_type": "code",
   "execution_count": 14,
   "metadata": {},
   "outputs": [],
   "source": [
    "#learn.load('hrnet')"
   ]
  },
  {
   "cell_type": "code",
   "execution_count": 16,
   "metadata": {},
   "outputs": [
    {
     "data": {
      "text/html": [],
      "text/plain": [
       "<IPython.core.display.HTML object>"
      ]
     },
     "metadata": {},
     "output_type": "display_data"
    },
    {
     "data": {
      "text/plain": [
       "SuggestedLRs(lr_min=0.07585775852203369, lr_steep=0.6309573650360107)"
      ]
     },
     "execution_count": 16,
     "metadata": {},
     "output_type": "execute_result"
    },
    {
     "data": {
      "image/png": "[encoded data removed]",
      "text/plain": [
       "<Figure size 432x288 with 1 Axes>"
      ]
     },
     "metadata": {
      "needs_background": "light"
     },
     "output_type": "display_data"
    }
   ],
   "source": [
    "#learn.lr_find()"
   ]
  },
  {
   "cell_type": "code",
   "execution_count": 15,
   "metadata": {},
   "outputs": [
    {
     "data": {
      "text/html": [
       "<table border=\"1\" class=\"dataframe\">\n",
       "  <thead>\n",
       "    <tr style=\"text-align: left;\">\n",
       "      <th>epoch</th>\n",
       "      <th>train_loss</th>\n",
       "      <th>valid_loss</th>\n",
       "      <th>accuracy</th>\n",
       "      <th>precision_score</th>\n",
       "      <th>recall_score</th>\n",
       "      <th>time</th>\n",
       "    </tr>\n",
       "  </thead>\n",
       "  <tbody>\n",
       "    <tr>\n",
       "      <td>0</td>\n",
       "      <td>1.021560</td>\n",
       "      <td>0.739444</td>\n",
       "      <td>0.600917</td>\n",
       "      <td>0.575198</td>\n",
       "      <td>0.685535</td>\n",
       "      <td>00:08</td>\n",
       "    </tr>\n",
       "  </tbody>\n",
       "</table>"
      ],
      "text/plain": [
       "<IPython.core.display.HTML object>"
      ]
     },
     "metadata": {},
     "output_type": "display_data"
    },
    {
     "name": "stdout",
     "output_type": "stream",
     "text": [
      "Better model found at epoch 0 with valid_loss value: 0.7394437789916992.\n"
     ]
    },
    {
     "data": {
      "image/png": "[encoded data removed]",
      "text/plain": [
       "<Figure size 432x288 with 1 Axes>"
      ]
     },
     "metadata": {},
     "output_type": "display_data"
    },
    {
     "data": {
      "text/html": [
       "<table border=\"1\" class=\"dataframe\">\n",
       "  <thead>\n",
       "    <tr style=\"text-align: left;\">\n",
       "      <th>epoch</th>\n",
       "      <th>train_loss</th>\n",
       "      <th>valid_loss</th>\n",
       "      <th>accuracy</th>\n",
       "      <th>precision_score</th>\n",
       "      <th>recall_score</th>\n",
       "      <th>time</th>\n",
       "    </tr>\n",
       "  </thead>\n",
       "  <tbody>\n",
       "    <tr>\n",
       "      <td>0</td>\n",
       "      <td>1.017176</td>\n",
       "      <td>0.746180</td>\n",
       "      <td>0.607034</td>\n",
       "      <td>0.577608</td>\n",
       "      <td>0.713836</td>\n",
       "      <td>00:09</td>\n",
       "    </tr>\n",
       "    <tr>\n",
       "      <td>1</td>\n",
       "      <td>1.008948</td>\n",
       "      <td>0.734064</td>\n",
       "      <td>0.605505</td>\n",
       "      <td>0.578947</td>\n",
       "      <td>0.691824</td>\n",
       "      <td>00:09</td>\n",
       "    </tr>\n",
       "    <tr>\n",
       "      <td>2</td>\n",
       "      <td>1.006409</td>\n",
       "      <td>0.741109</td>\n",
       "      <td>0.607034</td>\n",
       "      <td>0.578811</td>\n",
       "      <td>0.704403</td>\n",
       "      <td>00:09</td>\n",
       "    </tr>\n",
       "    <tr>\n",
       "      <td>3</td>\n",
       "      <td>0.985959</td>\n",
       "      <td>0.740590</td>\n",
       "      <td>0.597859</td>\n",
       "      <td>0.569620</td>\n",
       "      <td>0.707547</td>\n",
       "      <td>00:09</td>\n",
       "    </tr>\n",
       "    <tr>\n",
       "      <td>4</td>\n",
       "      <td>0.995329</td>\n",
       "      <td>0.726033</td>\n",
       "      <td>0.614679</td>\n",
       "      <td>0.586842</td>\n",
       "      <td>0.701258</td>\n",
       "      <td>00:09</td>\n",
       "    </tr>\n",
       "    <tr>\n",
       "      <td>5</td>\n",
       "      <td>0.991902</td>\n",
       "      <td>0.728566</td>\n",
       "      <td>0.611621</td>\n",
       "      <td>0.583333</td>\n",
       "      <td>0.704403</td>\n",
       "      <td>00:09</td>\n",
       "    </tr>\n",
       "    <tr>\n",
       "      <td>6</td>\n",
       "      <td>0.995024</td>\n",
       "      <td>0.720678</td>\n",
       "      <td>0.590214</td>\n",
       "      <td>0.564433</td>\n",
       "      <td>0.688679</td>\n",
       "      <td>00:09</td>\n",
       "    </tr>\n",
       "    <tr>\n",
       "      <td>7</td>\n",
       "      <td>0.996654</td>\n",
       "      <td>0.713842</td>\n",
       "      <td>0.602446</td>\n",
       "      <td>0.575130</td>\n",
       "      <td>0.698113</td>\n",
       "      <td>00:09</td>\n",
       "    </tr>\n",
       "    <tr>\n",
       "      <td>8</td>\n",
       "      <td>0.972125</td>\n",
       "      <td>0.713176</td>\n",
       "      <td>0.600917</td>\n",
       "      <td>0.571072</td>\n",
       "      <td>0.720126</td>\n",
       "      <td>00:09</td>\n",
       "    </tr>\n",
       "    <tr>\n",
       "      <td>9</td>\n",
       "      <td>0.968263</td>\n",
       "      <td>0.711559</td>\n",
       "      <td>0.602446</td>\n",
       "      <td>0.572139</td>\n",
       "      <td>0.723270</td>\n",
       "      <td>00:09</td>\n",
       "    </tr>\n",
       "    <tr>\n",
       "      <td>10</td>\n",
       "      <td>0.982552</td>\n",
       "      <td>0.699184</td>\n",
       "      <td>0.610092</td>\n",
       "      <td>0.582245</td>\n",
       "      <td>0.701258</td>\n",
       "      <td>00:09</td>\n",
       "    </tr>\n",
       "    <tr>\n",
       "      <td>11</td>\n",
       "      <td>0.943563</td>\n",
       "      <td>0.703229</td>\n",
       "      <td>0.622324</td>\n",
       "      <td>0.589421</td>\n",
       "      <td>0.735849</td>\n",
       "      <td>00:09</td>\n",
       "    </tr>\n",
       "    <tr>\n",
       "      <td>12</td>\n",
       "      <td>0.960555</td>\n",
       "      <td>0.698316</td>\n",
       "      <td>0.603976</td>\n",
       "      <td>0.575448</td>\n",
       "      <td>0.707547</td>\n",
       "      <td>00:09</td>\n",
       "    </tr>\n",
       "    <tr>\n",
       "      <td>13</td>\n",
       "      <td>0.960469</td>\n",
       "      <td>0.693902</td>\n",
       "      <td>0.613150</td>\n",
       "      <td>0.580645</td>\n",
       "      <td>0.735849</td>\n",
       "      <td>00:09</td>\n",
       "    </tr>\n",
       "    <tr>\n",
       "      <td>14</td>\n",
       "      <td>0.953971</td>\n",
       "      <td>0.691554</td>\n",
       "      <td>0.610092</td>\n",
       "      <td>0.580977</td>\n",
       "      <td>0.710692</td>\n",
       "      <td>00:09</td>\n",
       "    </tr>\n",
       "    <tr>\n",
       "      <td>15</td>\n",
       "      <td>0.931462</td>\n",
       "      <td>0.683253</td>\n",
       "      <td>0.616208</td>\n",
       "      <td>0.587927</td>\n",
       "      <td>0.704403</td>\n",
       "      <td>00:09</td>\n",
       "    </tr>\n",
       "    <tr>\n",
       "      <td>16</td>\n",
       "      <td>0.917416</td>\n",
       "      <td>0.688682</td>\n",
       "      <td>0.622324</td>\n",
       "      <td>0.594667</td>\n",
       "      <td>0.701258</td>\n",
       "      <td>00:09</td>\n",
       "    </tr>\n",
       "    <tr>\n",
       "      <td>17</td>\n",
       "      <td>0.921654</td>\n",
       "      <td>0.687979</td>\n",
       "      <td>0.603976</td>\n",
       "      <td>0.579088</td>\n",
       "      <td>0.679245</td>\n",
       "      <td>00:09</td>\n",
       "    </tr>\n",
       "    <tr>\n",
       "      <td>18</td>\n",
       "      <td>0.928281</td>\n",
       "      <td>0.683241</td>\n",
       "      <td>0.608563</td>\n",
       "      <td>0.581579</td>\n",
       "      <td>0.694969</td>\n",
       "      <td>00:09</td>\n",
       "    </tr>\n",
       "    <tr>\n",
       "      <td>19</td>\n",
       "      <td>0.919934</td>\n",
       "      <td>0.682496</td>\n",
       "      <td>0.600917</td>\n",
       "      <td>0.577236</td>\n",
       "      <td>0.669811</td>\n",
       "      <td>00:09</td>\n",
       "    </tr>\n",
       "    <tr>\n",
       "      <td>20</td>\n",
       "      <td>0.925133</td>\n",
       "      <td>0.687668</td>\n",
       "      <td>0.617737</td>\n",
       "      <td>0.591892</td>\n",
       "      <td>0.688679</td>\n",
       "      <td>00:09</td>\n",
       "    </tr>\n",
       "    <tr>\n",
       "      <td>21</td>\n",
       "      <td>0.926571</td>\n",
       "      <td>0.681764</td>\n",
       "      <td>0.622324</td>\n",
       "      <td>0.600567</td>\n",
       "      <td>0.666667</td>\n",
       "      <td>00:09</td>\n",
       "    </tr>\n",
       "    <tr>\n",
       "      <td>22</td>\n",
       "      <td>0.915790</td>\n",
       "      <td>0.683412</td>\n",
       "      <td>0.628440</td>\n",
       "      <td>0.602740</td>\n",
       "      <td>0.691824</td>\n",
       "      <td>00:09</td>\n",
       "    </tr>\n",
       "    <tr>\n",
       "      <td>23</td>\n",
       "      <td>0.913808</td>\n",
       "      <td>0.678696</td>\n",
       "      <td>0.620795</td>\n",
       "      <td>0.597765</td>\n",
       "      <td>0.672956</td>\n",
       "      <td>00:09</td>\n",
       "    </tr>\n",
       "    <tr>\n",
       "      <td>24</td>\n",
       "      <td>0.898506</td>\n",
       "      <td>0.679429</td>\n",
       "      <td>0.613150</td>\n",
       "      <td>0.592593</td>\n",
       "      <td>0.654088</td>\n",
       "      <td>00:09</td>\n",
       "    </tr>\n",
       "    <tr>\n",
       "      <td>25</td>\n",
       "      <td>0.911568</td>\n",
       "      <td>0.679096</td>\n",
       "      <td>0.608563</td>\n",
       "      <td>0.589595</td>\n",
       "      <td>0.641509</td>\n",
       "      <td>00:09</td>\n",
       "    </tr>\n",
       "    <tr>\n",
       "      <td>26</td>\n",
       "      <td>0.935189</td>\n",
       "      <td>0.675096</td>\n",
       "      <td>0.613150</td>\n",
       "      <td>0.590529</td>\n",
       "      <td>0.666667</td>\n",
       "      <td>00:09</td>\n",
       "    </tr>\n",
       "    <tr>\n",
       "      <td>27</td>\n",
       "      <td>0.931636</td>\n",
       "      <td>0.676173</td>\n",
       "      <td>0.613150</td>\n",
       "      <td>0.592593</td>\n",
       "      <td>0.654088</td>\n",
       "      <td>00:09</td>\n",
       "    </tr>\n",
       "    <tr>\n",
       "      <td>28</td>\n",
       "      <td>0.922161</td>\n",
       "      <td>0.676173</td>\n",
       "      <td>0.603976</td>\n",
       "      <td>0.587537</td>\n",
       "      <td>0.622642</td>\n",
       "      <td>00:09</td>\n",
       "    </tr>\n",
       "    <tr>\n",
       "      <td>29</td>\n",
       "      <td>0.918881</td>\n",
       "      <td>0.680256</td>\n",
       "      <td>0.602446</td>\n",
       "      <td>0.582386</td>\n",
       "      <td>0.644654</td>\n",
       "      <td>00:09</td>\n",
       "    </tr>\n",
       "  </tbody>\n",
       "</table>"
      ],
      "text/plain": [
       "<IPython.core.display.HTML object>"
      ]
     },
     "metadata": {},
     "output_type": "display_data"
    },
    {
     "name": "stdout",
     "output_type": "stream",
     "text": [
      "Better model found at epoch 0 with valid_loss value: 0.7461797595024109.\n"
     ]
    },
    {
     "data": {
      "image/png": "[encoded data removed]",
      "text/plain": [
       "<Figure size 432x288 with 1 Axes>"
      ]
     },
     "metadata": {},
     "output_type": "display_data"
    },
    {
     "name": "stdout",
     "output_type": "stream",
     "text": [
      "Better model found at epoch 1 with valid_loss value: 0.7340638041496277.\n",
      "Better model found at epoch 4 with valid_loss value: 0.7260329723358154.\n",
      "Better model found at epoch 6 with valid_loss value: 0.7206775546073914.\n",
      "Better model found at epoch 7 with valid_loss value: 0.7138423919677734.\n",
      "Better model found at epoch 8 with valid_loss value: 0.7131763696670532.\n",
      "Better model found at epoch 9 with valid_loss value: 0.7115586996078491.\n",
      "Better model found at epoch 10 with valid_loss value: 0.6991842985153198.\n",
      "Better model found at epoch 12 with valid_loss value: 0.698316216468811.\n",
      "Better model found at epoch 13 with valid_loss value: 0.693902313709259.\n",
      "Better model found at epoch 14 with valid_loss value: 0.6915537118911743.\n",
      "Better model found at epoch 15 with valid_loss value: 0.6832531094551086.\n",
      "Better model found at epoch 18 with valid_loss value: 0.6832414269447327.\n",
      "Better model found at epoch 19 with valid_loss value: 0.6824963688850403.\n",
      "Better model found at epoch 21 with valid_loss value: 0.6817639470100403.\n",
      "Better model found at epoch 23 with valid_loss value: 0.6786962151527405.\n",
      "Better model found at epoch 26 with valid_loss value: 0.6750956177711487.\n",
      "No improvement since epoch 26: early stopping\n"
     ]
    }
   ],
   "source": [
    "learn.fine_tune(50,base_lr=1e-5)"
   ]
  },
  {
   "cell_type": "code",
   "execution_count": 16,
   "metadata": {},
   "outputs": [],
   "source": [
    "learn.dls = dlsTest"
   ]
  },
  {
   "cell_type": "code",
   "execution_count": 17,
   "metadata": {},
   "outputs": [
    {
     "data": {
      "text/html": [],
      "text/plain": [
       "<IPython.core.display.HTML object>"
      ]
     },
     "metadata": {},
     "output_type": "display_data"
    },
    {
     "name": "stdout",
     "output_type": "stream",
     "text": [
      "Better model found at epoch 0 with valid_loss value: 0.6158612370491028.\n"
     ]
    },
    {
     "data": {
      "text/plain": [
       "(#4) [0.6744378805160522,0.6158612370491028,0.6527196652719666,0.6842105263157895]"
      ]
     },
     "execution_count": 17,
     "metadata": {},
     "output_type": "execute_result"
    }
   ],
   "source": [
    "learn.validate()"
   ]
  },
  {
   "cell_type": "code",
   "execution_count": null,
   "metadata": {},
   "outputs": [],
   "source": []
  }
 ],
 "metadata": {
  "kernelspec": {
   "display_name": "Python 3",
   "language": "python",
   "name": "python3"
  },
  "language_info": {
   "codemirror_mode": {
    "name": "ipython",
    "version": 3
   },
   "file_extension": ".py",
   "mimetype": "text/x-python",
   "name": "python",
   "nbconvert_exporter": "python",
   "pygments_lexer": "ipython3",
   "version": "3.6.7"
  }
 },
 "nbformat": 4,
 "nbformat_minor": 4
}
