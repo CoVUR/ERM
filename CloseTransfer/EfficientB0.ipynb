{
 "cells": [
  {
   "cell_type": "code",
   "execution_count": 1,
   "metadata": {},
   "outputs": [],
   "source": [
    "from fastai.vision.all import *\n",
    "import fastai\n",
    "from wwf.vision.timm import *\n",
    "import timm"
   ]
  },
  {
   "cell_type": "code",
   "execution_count": 2,
   "metadata": {},
   "outputs": [
    {
     "name": "stdout",
     "output_type": "stream",
     "text": [
      "Mon Mar  1 16:00:06 2021       \n",
      "+-----------------------------------------------------------------------------+\n",
      "| NVIDIA-SMI 418.67       Driver Version: 418.67       CUDA Version: 10.1     |\n",
      "|-------------------------------+----------------------+----------------------+\n",
      "| GPU  Name        Persistence-M| Bus-Id        Disp.A | Volatile Uncorr. ECC |\n",
      "| Fan  Temp  Perf  Pwr:Usage/Cap|         Memory-Usage | GPU-Util  Compute M. |\n",
      "|===============================+======================+======================|\n",
      "|   0  GeForce RTX 208...  Off  | 00000000:19:00.0 Off |                  N/A |\n",
      "| 46%   84C    P2   203W / 250W |  10919MiB / 10989MiB |     50%      Default |\n",
      "+-------------------------------+----------------------+----------------------+\n",
      "|   1  GeForce RTX 208...  Off  | 00000000:1A:00.0 Off |                  N/A |\n",
      "| 53%   85C    P2   219W / 250W |  10280MiB / 10989MiB |     98%      Default |\n",
      "+-------------------------------+----------------------+----------------------+\n",
      "|   2  GeForce RTX 208...  Off  | 00000000:67:00.0 Off |                  N/A |\n",
      "| 33%   52C    P8    10W / 250W |    165MiB / 10989MiB |      0%      Default |\n",
      "+-------------------------------+----------------------+----------------------+\n",
      "|   3  GeForce RTX 208...  Off  | 00000000:68:00.0 Off |                  N/A |\n",
      "| 29%   40C    P8    27W / 250W |    165MiB / 10986MiB |      0%      Default |\n",
      "+-------------------------------+----------------------+----------------------+\n",
      "                                                                               \n",
      "+-----------------------------------------------------------------------------+\n",
      "| Processes:                                                       GPU Memory |\n",
      "|  GPU       PID   Type   Process name                             Usage      |\n",
      "|=============================================================================|\n",
      "|    0     14882      C   python3                                    10909MiB |\n",
      "|    1     14882      C   python3                                      155MiB |\n",
      "|    1     21754      C   ...n/.virtualenvs/segmentation/bin/python3 10115MiB |\n",
      "|    2     14882      C   python3                                      155MiB |\n",
      "|    3     14882      C   python3                                      155MiB |\n",
      "+-----------------------------------------------------------------------------+\n"
     ]
    }
   ],
   "source": [
    "!nvidia-smi"
   ]
  },
  {
   "cell_type": "code",
   "execution_count": 2,
   "metadata": {},
   "outputs": [],
   "source": [
    "import torch\n",
    "torch.cuda.set_device(2)"
   ]
  },
  {
   "cell_type": "code",
   "execution_count": 3,
   "metadata": {},
   "outputs": [],
   "source": [
    "path = Path('datasetPrueba/')\n",
    "trainPath = path/'train'\n",
    "testPath = path/'test'"
   ]
  },
  {
   "cell_type": "code",
   "execution_count": 4,
   "metadata": {},
   "outputs": [],
   "source": [
    "def getDataBlock(presize=512,size=256):\n",
    "    return DataBlock(blocks = (ImageBlock, CategoryBlock),\n",
    "                 get_items=get_image_files, \n",
    "                 splitter=RandomSplitter(valid_pct=0.2,seed=42),\n",
    "                 get_y=parent_label,\n",
    "                 item_tfms = [Resize(presize)],\n",
    "                 batch_tfms=[*aug_transforms(size=size, min_scale=0.75,do_flip=True,flip_vert=True,\n",
    "                      max_rotate=180,pad_mode=PadMode.Zeros), Normalize.from_stats(*imagenet_stats)])"
   ]
  },
  {
   "cell_type": "code",
   "execution_count": 5,
   "metadata": {},
   "outputs": [],
   "source": [
    "db512 = getDataBlock(512,256)\n",
    "dls512 = db512.dataloaders(trainPath,bs=64)"
   ]
  },
  {
   "cell_type": "code",
   "execution_count": 6,
   "metadata": {},
   "outputs": [],
   "source": [
    "from fastai.vision.all import *\n",
    "callbacks = [\n",
    "    ShowGraphCallback(),\n",
    "    EarlyStoppingCallback(patience=3),\n",
    "    SaveModelCallback(fname='efficientnet_b0'),\n",
    "    MixUp(),\n",
    "]"
   ]
  },
  {
   "cell_type": "code",
   "execution_count": 7,
   "metadata": {},
   "outputs": [
    {
     "name": "stderr",
     "output_type": "stream",
     "text": [
      "Downloading: \"https://github.com/rwightman/pytorch-image-models/releases/download/v0.1-weights/efficientnet_b0_ra-3dd342df.pth\" to /home/jonathan/.cache/torch/hub/checkpoints/efficientnet_b0_ra-3dd342df.pth\n"
     ]
    }
   ],
   "source": [
    "learn = timm_learner(dls512, 'efficientnet_b0',cbs = callbacks,metrics=[accuracy,Precision(),Recall()]).to_fp16()"
   ]
  },
  {
   "cell_type": "code",
   "execution_count": 9,
   "metadata": {
    "scrolled": false
   },
   "outputs": [
    {
     "data": {
      "text/html": [],
      "text/plain": [
       "<IPython.core.display.HTML object>"
      ]
     },
     "metadata": {},
     "output_type": "display_data"
    },
    {
     "data": {
      "text/plain": [
       "SuggestedLRs(lr_min=0.2754228591918945, lr_steep=2.290867567062378)"
      ]
     },
     "execution_count": 9,
     "metadata": {},
     "output_type": "execute_result"
    },
    {
     "data": {
      "image/png": "[encoded data removed]",
      "text/plain": [
       "<Figure size 432x288 with 1 Axes>"
      ]
     },
     "metadata": {
      "needs_background": "light"
     },
     "output_type": "display_data"
    }
   ],
   "source": [
    "#learn.lr_find()"
   ]
  },
  {
   "cell_type": "code",
   "execution_count": 8,
   "metadata": {},
   "outputs": [
    {
     "data": {
      "text/html": [
       "<table border=\"1\" class=\"dataframe\">\n",
       "  <thead>\n",
       "    <tr style=\"text-align: left;\">\n",
       "      <th>epoch</th>\n",
       "      <th>train_loss</th>\n",
       "      <th>valid_loss</th>\n",
       "      <th>accuracy</th>\n",
       "      <th>precision_score</th>\n",
       "      <th>recall_score</th>\n",
       "      <th>time</th>\n",
       "    </tr>\n",
       "  </thead>\n",
       "  <tbody>\n",
       "    <tr>\n",
       "      <td>0</td>\n",
       "      <td>1.099123</td>\n",
       "      <td>0.666414</td>\n",
       "      <td>0.682559</td>\n",
       "      <td>0.746289</td>\n",
       "      <td>0.620651</td>\n",
       "      <td>00:22</td>\n",
       "    </tr>\n",
       "  </tbody>\n",
       "</table>"
      ],
      "text/plain": [
       "<IPython.core.display.HTML object>"
      ]
     },
     "metadata": {},
     "output_type": "display_data"
    },
    {
     "name": "stdout",
     "output_type": "stream",
     "text": [
      "Better model found at epoch 0 with valid_loss value: 0.6664136052131653.\n"
     ]
    },
    {
     "data": {
      "image/png": "[encoded data removed]",
      "text/plain": [
       "<Figure size 432x288 with 1 Axes>"
      ]
     },
     "metadata": {},
     "output_type": "display_data"
    },
    {
     "data": {
      "text/html": [
       "<table border=\"1\" class=\"dataframe\">\n",
       "  <thead>\n",
       "    <tr style=\"text-align: left;\">\n",
       "      <th>epoch</th>\n",
       "      <th>train_loss</th>\n",
       "      <th>valid_loss</th>\n",
       "      <th>accuracy</th>\n",
       "      <th>precision_score</th>\n",
       "      <th>recall_score</th>\n",
       "      <th>time</th>\n",
       "    </tr>\n",
       "  </thead>\n",
       "  <tbody>\n",
       "    <tr>\n",
       "      <td>0</td>\n",
       "      <td>0.998667</td>\n",
       "      <td>0.630947</td>\n",
       "      <td>0.695836</td>\n",
       "      <td>0.755614</td>\n",
       "      <td>0.641975</td>\n",
       "      <td>00:26</td>\n",
       "    </tr>\n",
       "    <tr>\n",
       "      <td>1</td>\n",
       "      <td>0.959181</td>\n",
       "      <td>0.617560</td>\n",
       "      <td>0.696439</td>\n",
       "      <td>0.755937</td>\n",
       "      <td>0.643098</td>\n",
       "      <td>00:26</td>\n",
       "    </tr>\n",
       "    <tr>\n",
       "      <td>2</td>\n",
       "      <td>0.937806</td>\n",
       "      <td>0.593854</td>\n",
       "      <td>0.712130</td>\n",
       "      <td>0.773087</td>\n",
       "      <td>0.657688</td>\n",
       "      <td>00:26</td>\n",
       "    </tr>\n",
       "    <tr>\n",
       "      <td>3</td>\n",
       "      <td>0.935098</td>\n",
       "      <td>0.583013</td>\n",
       "      <td>0.712734</td>\n",
       "      <td>0.772668</td>\n",
       "      <td>0.659933</td>\n",
       "      <td>00:26</td>\n",
       "    </tr>\n",
       "    <tr>\n",
       "      <td>4</td>\n",
       "      <td>0.902466</td>\n",
       "      <td>0.574996</td>\n",
       "      <td>0.712130</td>\n",
       "      <td>0.767442</td>\n",
       "      <td>0.666667</td>\n",
       "      <td>00:26</td>\n",
       "    </tr>\n",
       "    <tr>\n",
       "      <td>5</td>\n",
       "      <td>0.901535</td>\n",
       "      <td>0.553281</td>\n",
       "      <td>0.721183</td>\n",
       "      <td>0.770492</td>\n",
       "      <td>0.685746</td>\n",
       "      <td>00:26</td>\n",
       "    </tr>\n",
       "    <tr>\n",
       "      <td>6</td>\n",
       "      <td>0.896160</td>\n",
       "      <td>0.553120</td>\n",
       "      <td>0.720579</td>\n",
       "      <td>0.762899</td>\n",
       "      <td>0.696970</td>\n",
       "      <td>00:26</td>\n",
       "    </tr>\n",
       "    <tr>\n",
       "      <td>7</td>\n",
       "      <td>0.889769</td>\n",
       "      <td>0.546074</td>\n",
       "      <td>0.730839</td>\n",
       "      <td>0.766467</td>\n",
       "      <td>0.718294</td>\n",
       "      <td>00:26</td>\n",
       "    </tr>\n",
       "    <tr>\n",
       "      <td>8</td>\n",
       "      <td>0.907208</td>\n",
       "      <td>0.529679</td>\n",
       "      <td>0.730839</td>\n",
       "      <td>0.767107</td>\n",
       "      <td>0.717172</td>\n",
       "      <td>00:26</td>\n",
       "    </tr>\n",
       "    <tr>\n",
       "      <td>9</td>\n",
       "      <td>0.876704</td>\n",
       "      <td>0.523537</td>\n",
       "      <td>0.736270</td>\n",
       "      <td>0.778870</td>\n",
       "      <td>0.711560</td>\n",
       "      <td>00:26</td>\n",
       "    </tr>\n",
       "    <tr>\n",
       "      <td>10</td>\n",
       "      <td>0.863755</td>\n",
       "      <td>0.522167</td>\n",
       "      <td>0.735063</td>\n",
       "      <td>0.775610</td>\n",
       "      <td>0.713805</td>\n",
       "      <td>00:26</td>\n",
       "    </tr>\n",
       "    <tr>\n",
       "      <td>11</td>\n",
       "      <td>0.847949</td>\n",
       "      <td>0.535996</td>\n",
       "      <td>0.727821</td>\n",
       "      <td>0.790237</td>\n",
       "      <td>0.672278</td>\n",
       "      <td>00:26</td>\n",
       "    </tr>\n",
       "    <tr>\n",
       "      <td>12</td>\n",
       "      <td>0.835192</td>\n",
       "      <td>0.510439</td>\n",
       "      <td>0.745926</td>\n",
       "      <td>0.787286</td>\n",
       "      <td>0.722783</td>\n",
       "      <td>00:26</td>\n",
       "    </tr>\n",
       "    <tr>\n",
       "      <td>13</td>\n",
       "      <td>0.846254</td>\n",
       "      <td>0.504181</td>\n",
       "      <td>0.747737</td>\n",
       "      <td>0.795256</td>\n",
       "      <td>0.714927</td>\n",
       "      <td>00:26</td>\n",
       "    </tr>\n",
       "    <tr>\n",
       "      <td>14</td>\n",
       "      <td>0.807888</td>\n",
       "      <td>0.499596</td>\n",
       "      <td>0.742909</td>\n",
       "      <td>0.785978</td>\n",
       "      <td>0.717172</td>\n",
       "      <td>00:26</td>\n",
       "    </tr>\n",
       "    <tr>\n",
       "      <td>15</td>\n",
       "      <td>0.789580</td>\n",
       "      <td>0.503412</td>\n",
       "      <td>0.744116</td>\n",
       "      <td>0.788628</td>\n",
       "      <td>0.716049</td>\n",
       "      <td>00:26</td>\n",
       "    </tr>\n",
       "    <tr>\n",
       "      <td>16</td>\n",
       "      <td>0.796605</td>\n",
       "      <td>0.484031</td>\n",
       "      <td>0.750151</td>\n",
       "      <td>0.797753</td>\n",
       "      <td>0.717172</td>\n",
       "      <td>00:26</td>\n",
       "    </tr>\n",
       "    <tr>\n",
       "      <td>17</td>\n",
       "      <td>0.790403</td>\n",
       "      <td>0.482621</td>\n",
       "      <td>0.750151</td>\n",
       "      <td>0.780919</td>\n",
       "      <td>0.744108</td>\n",
       "      <td>00:26</td>\n",
       "    </tr>\n",
       "    <tr>\n",
       "      <td>18</td>\n",
       "      <td>0.767608</td>\n",
       "      <td>0.473597</td>\n",
       "      <td>0.754375</td>\n",
       "      <td>0.791566</td>\n",
       "      <td>0.737374</td>\n",
       "      <td>00:26</td>\n",
       "    </tr>\n",
       "    <tr>\n",
       "      <td>19</td>\n",
       "      <td>0.766528</td>\n",
       "      <td>0.462251</td>\n",
       "      <td>0.764635</td>\n",
       "      <td>0.778024</td>\n",
       "      <td>0.786756</td>\n",
       "      <td>00:26</td>\n",
       "    </tr>\n",
       "    <tr>\n",
       "      <td>20</td>\n",
       "      <td>0.757190</td>\n",
       "      <td>0.464135</td>\n",
       "      <td>0.759807</td>\n",
       "      <td>0.769399</td>\n",
       "      <td>0.790123</td>\n",
       "      <td>00:26</td>\n",
       "    </tr>\n",
       "    <tr>\n",
       "      <td>21</td>\n",
       "      <td>0.737332</td>\n",
       "      <td>0.448336</td>\n",
       "      <td>0.770066</td>\n",
       "      <td>0.787162</td>\n",
       "      <td>0.784512</td>\n",
       "      <td>00:26</td>\n",
       "    </tr>\n",
       "    <tr>\n",
       "      <td>22</td>\n",
       "      <td>0.734437</td>\n",
       "      <td>0.446659</td>\n",
       "      <td>0.776101</td>\n",
       "      <td>0.776008</td>\n",
       "      <td>0.820426</td>\n",
       "      <td>00:26</td>\n",
       "    </tr>\n",
       "    <tr>\n",
       "      <td>23</td>\n",
       "      <td>0.718774</td>\n",
       "      <td>0.449255</td>\n",
       "      <td>0.764635</td>\n",
       "      <td>0.800000</td>\n",
       "      <td>0.749719</td>\n",
       "      <td>00:26</td>\n",
       "    </tr>\n",
       "    <tr>\n",
       "      <td>24</td>\n",
       "      <td>0.710472</td>\n",
       "      <td>0.445583</td>\n",
       "      <td>0.772480</td>\n",
       "      <td>0.814181</td>\n",
       "      <td>0.747475</td>\n",
       "      <td>00:26</td>\n",
       "    </tr>\n",
       "    <tr>\n",
       "      <td>25</td>\n",
       "      <td>0.692552</td>\n",
       "      <td>0.453659</td>\n",
       "      <td>0.765842</td>\n",
       "      <td>0.804111</td>\n",
       "      <td>0.746352</td>\n",
       "      <td>00:26</td>\n",
       "    </tr>\n",
       "    <tr>\n",
       "      <td>26</td>\n",
       "      <td>0.694335</td>\n",
       "      <td>0.448200</td>\n",
       "      <td>0.768256</td>\n",
       "      <td>0.814126</td>\n",
       "      <td>0.737374</td>\n",
       "      <td>00:25</td>\n",
       "    </tr>\n",
       "    <tr>\n",
       "      <td>27</td>\n",
       "      <td>0.679724</td>\n",
       "      <td>0.433627</td>\n",
       "      <td>0.773687</td>\n",
       "      <td>0.814634</td>\n",
       "      <td>0.749719</td>\n",
       "      <td>00:26</td>\n",
       "    </tr>\n",
       "    <tr>\n",
       "      <td>28</td>\n",
       "      <td>0.680853</td>\n",
       "      <td>0.435792</td>\n",
       "      <td>0.773687</td>\n",
       "      <td>0.819307</td>\n",
       "      <td>0.742985</td>\n",
       "      <td>00:26</td>\n",
       "    </tr>\n",
       "    <tr>\n",
       "      <td>29</td>\n",
       "      <td>0.655034</td>\n",
       "      <td>0.430108</td>\n",
       "      <td>0.771273</td>\n",
       "      <td>0.793578</td>\n",
       "      <td>0.776655</td>\n",
       "      <td>00:26</td>\n",
       "    </tr>\n",
       "    <tr>\n",
       "      <td>30</td>\n",
       "      <td>0.650642</td>\n",
       "      <td>0.424516</td>\n",
       "      <td>0.771877</td>\n",
       "      <td>0.800703</td>\n",
       "      <td>0.766554</td>\n",
       "      <td>00:26</td>\n",
       "    </tr>\n",
       "    <tr>\n",
       "      <td>31</td>\n",
       "      <td>0.648600</td>\n",
       "      <td>0.432906</td>\n",
       "      <td>0.771877</td>\n",
       "      <td>0.835294</td>\n",
       "      <td>0.717172</td>\n",
       "      <td>00:26</td>\n",
       "    </tr>\n",
       "    <tr>\n",
       "      <td>32</td>\n",
       "      <td>0.646927</td>\n",
       "      <td>0.419910</td>\n",
       "      <td>0.774291</td>\n",
       "      <td>0.803760</td>\n",
       "      <td>0.767677</td>\n",
       "      <td>00:26</td>\n",
       "    </tr>\n",
       "    <tr>\n",
       "      <td>33</td>\n",
       "      <td>0.653467</td>\n",
       "      <td>0.416527</td>\n",
       "      <td>0.774291</td>\n",
       "      <td>0.813333</td>\n",
       "      <td>0.753086</td>\n",
       "      <td>00:26</td>\n",
       "    </tr>\n",
       "    <tr>\n",
       "      <td>34</td>\n",
       "      <td>0.634550</td>\n",
       "      <td>0.415721</td>\n",
       "      <td>0.777308</td>\n",
       "      <td>0.823821</td>\n",
       "      <td>0.745230</td>\n",
       "      <td>00:26</td>\n",
       "    </tr>\n",
       "    <tr>\n",
       "      <td>35</td>\n",
       "      <td>0.621946</td>\n",
       "      <td>0.416902</td>\n",
       "      <td>0.775498</td>\n",
       "      <td>0.806375</td>\n",
       "      <td>0.766554</td>\n",
       "      <td>00:26</td>\n",
       "    </tr>\n",
       "    <tr>\n",
       "      <td>36</td>\n",
       "      <td>0.623862</td>\n",
       "      <td>0.411139</td>\n",
       "      <td>0.776705</td>\n",
       "      <td>0.818071</td>\n",
       "      <td>0.751964</td>\n",
       "      <td>00:26</td>\n",
       "    </tr>\n",
       "    <tr>\n",
       "      <td>37</td>\n",
       "      <td>0.620602</td>\n",
       "      <td>0.406715</td>\n",
       "      <td>0.777912</td>\n",
       "      <td>0.807286</td>\n",
       "      <td>0.771044</td>\n",
       "      <td>00:26</td>\n",
       "    </tr>\n",
       "    <tr>\n",
       "      <td>38</td>\n",
       "      <td>0.606282</td>\n",
       "      <td>0.412137</td>\n",
       "      <td>0.781533</td>\n",
       "      <td>0.826141</td>\n",
       "      <td>0.751964</td>\n",
       "      <td>00:26</td>\n",
       "    </tr>\n",
       "    <tr>\n",
       "      <td>39</td>\n",
       "      <td>0.595287</td>\n",
       "      <td>0.418245</td>\n",
       "      <td>0.771877</td>\n",
       "      <td>0.825095</td>\n",
       "      <td>0.730640</td>\n",
       "      <td>00:26</td>\n",
       "    </tr>\n",
       "    <tr>\n",
       "      <td>40</td>\n",
       "      <td>0.588413</td>\n",
       "      <td>0.415713</td>\n",
       "      <td>0.783343</td>\n",
       "      <td>0.832500</td>\n",
       "      <td>0.747475</td>\n",
       "      <td>00:26</td>\n",
       "    </tr>\n",
       "  </tbody>\n",
       "</table>"
      ],
      "text/plain": [
       "<IPython.core.display.HTML object>"
      ]
     },
     "metadata": {},
     "output_type": "display_data"
    },
    {
     "name": "stdout",
     "output_type": "stream",
     "text": [
      "Better model found at epoch 0 with valid_loss value: 0.6309471130371094.\n"
     ]
    },
    {
     "data": {
      "image/png": "[encoded data removed]",
      "text/plain": [
       "<Figure size 432x288 with 1 Axes>"
      ]
     },
     "metadata": {},
     "output_type": "display_data"
    },
    {
     "name": "stdout",
     "output_type": "stream",
     "text": [
      "Better model found at epoch 1 with valid_loss value: 0.6175596117973328.\n",
      "Better model found at epoch 2 with valid_loss value: 0.5938543677330017.\n",
      "Better model found at epoch 3 with valid_loss value: 0.5830132365226746.\n",
      "Better model found at epoch 4 with valid_loss value: 0.5749955773353577.\n",
      "Better model found at epoch 5 with valid_loss value: 0.553281307220459.\n",
      "Better model found at epoch 6 with valid_loss value: 0.5531203150749207.\n",
      "Better model found at epoch 7 with valid_loss value: 0.5460741519927979.\n",
      "Better model found at epoch 8 with valid_loss value: 0.5296793580055237.\n",
      "Better model found at epoch 9 with valid_loss value: 0.5235369205474854.\n",
      "Better model found at epoch 10 with valid_loss value: 0.5221668481826782.\n",
      "Better model found at epoch 12 with valid_loss value: 0.5104386210441589.\n",
      "Better model found at epoch 13 with valid_loss value: 0.5041806101799011.\n",
      "Better model found at epoch 14 with valid_loss value: 0.49959588050842285.\n",
      "Better model found at epoch 16 with valid_loss value: 0.48403069376945496.\n",
      "Better model found at epoch 17 with valid_loss value: 0.48262131214141846.\n",
      "Better model found at epoch 18 with valid_loss value: 0.47359663248062134.\n",
      "Better model found at epoch 19 with valid_loss value: 0.46225059032440186.\n",
      "Better model found at epoch 21 with valid_loss value: 0.4483363628387451.\n",
      "Better model found at epoch 22 with valid_loss value: 0.4466589093208313.\n",
      "Better model found at epoch 24 with valid_loss value: 0.44558286666870117.\n",
      "Better model found at epoch 27 with valid_loss value: 0.43362727761268616.\n",
      "Better model found at epoch 29 with valid_loss value: 0.4301083981990814.\n",
      "Better model found at epoch 30 with valid_loss value: 0.42451587319374084.\n",
      "Better model found at epoch 32 with valid_loss value: 0.41990989446640015.\n",
      "Better model found at epoch 33 with valid_loss value: 0.41652706265449524.\n",
      "Better model found at epoch 34 with valid_loss value: 0.4157209098339081.\n",
      "Better model found at epoch 36 with valid_loss value: 0.41113904118537903.\n",
      "Better model found at epoch 37 with valid_loss value: 0.40671485662460327.\n",
      "No improvement since epoch 37: early stopping\n"
     ]
    }
   ],
   "source": [
    "learn.fine_tune(100,base_lr=1e-4)"
   ]
  },
  {
   "cell_type": "code",
   "execution_count": 9,
   "metadata": {},
   "outputs": [],
   "source": [
    "path = Path('dataset/')\n",
    "trainPath = path/'train'\n",
    "testPath = path/'test'"
   ]
  },
  {
   "cell_type": "code",
   "execution_count": 10,
   "metadata": {},
   "outputs": [],
   "source": [
    "dbTest = DataBlock(blocks = (ImageBlock, CategoryBlock),\n",
    "                 get_items=get_image_files, \n",
    "                 splitter=GrandparentSplitter(valid_name='test'),\n",
    "                 get_y=parent_label,\n",
    "                 item_tfms = Resize(512),\n",
    "                 batch_tfms=[*aug_transforms(size=256, min_scale=0.75), Normalize.from_stats(*imagenet_stats)])\n",
    "dlsTest = dbTest.dataloaders(path,bs=32)"
   ]
  },
  {
   "cell_type": "code",
   "execution_count": 11,
   "metadata": {},
   "outputs": [],
   "source": [
    "db512 = getDataBlock(512,256)\n",
    "dls512 = db512.dataloaders(trainPath,bs=64)"
   ]
  },
  {
   "cell_type": "code",
   "execution_count": 12,
   "metadata": {},
   "outputs": [],
   "source": [
    "learn.freeze()"
   ]
  },
  {
   "cell_type": "code",
   "execution_count": 13,
   "metadata": {},
   "outputs": [],
   "source": [
    "learn.dls=dls512"
   ]
  },
  {
   "cell_type": "code",
   "execution_count": 14,
   "metadata": {},
   "outputs": [],
   "source": [
    "#learn.load('hrnet')"
   ]
  },
  {
   "cell_type": "code",
   "execution_count": 16,
   "metadata": {},
   "outputs": [
    {
     "data": {
      "text/html": [],
      "text/plain": [
       "<IPython.core.display.HTML object>"
      ]
     },
     "metadata": {},
     "output_type": "display_data"
    },
    {
     "data": {
      "text/plain": [
       "SuggestedLRs(lr_min=0.07585775852203369, lr_steep=0.6309573650360107)"
      ]
     },
     "execution_count": 16,
     "metadata": {},
     "output_type": "execute_result"
    },
    {
     "data": {
      "image/png": "[encoded data removed]",
      "text/plain": [
       "<Figure size 432x288 with 1 Axes>"
      ]
     },
     "metadata": {
      "needs_background": "light"
     },
     "output_type": "display_data"
    }
   ],
   "source": [
    "#learn.lr_find()"
   ]
  },
  {
   "cell_type": "code",
   "execution_count": 15,
   "metadata": {},
   "outputs": [
    {
     "data": {
      "text/html": [
       "<table border=\"1\" class=\"dataframe\">\n",
       "  <thead>\n",
       "    <tr style=\"text-align: left;\">\n",
       "      <th>epoch</th>\n",
       "      <th>train_loss</th>\n",
       "      <th>valid_loss</th>\n",
       "      <th>accuracy</th>\n",
       "      <th>precision_score</th>\n",
       "      <th>recall_score</th>\n",
       "      <th>time</th>\n",
       "    </tr>\n",
       "  </thead>\n",
       "  <tbody>\n",
       "    <tr>\n",
       "      <td>0</td>\n",
       "      <td>0.930878</td>\n",
       "      <td>0.735524</td>\n",
       "      <td>0.593272</td>\n",
       "      <td>0.569149</td>\n",
       "      <td>0.672956</td>\n",
       "      <td>00:11</td>\n",
       "    </tr>\n",
       "  </tbody>\n",
       "</table>"
      ],
      "text/plain": [
       "<IPython.core.display.HTML object>"
      ]
     },
     "metadata": {},
     "output_type": "display_data"
    },
    {
     "name": "stdout",
     "output_type": "stream",
     "text": [
      "Better model found at epoch 0 with valid_loss value: 0.7355242371559143.\n"
     ]
    },
    {
     "data": {
      "image/png": "[encoded data removed]",
      "text/plain": [
       "<Figure size 432x288 with 1 Axes>"
      ]
     },
     "metadata": {},
     "output_type": "display_data"
    },
    {
     "data": {
      "text/html": [
       "<table border=\"1\" class=\"dataframe\">\n",
       "  <thead>\n",
       "    <tr style=\"text-align: left;\">\n",
       "      <th>epoch</th>\n",
       "      <th>train_loss</th>\n",
       "      <th>valid_loss</th>\n",
       "      <th>accuracy</th>\n",
       "      <th>precision_score</th>\n",
       "      <th>recall_score</th>\n",
       "      <th>time</th>\n",
       "    </tr>\n",
       "  </thead>\n",
       "  <tbody>\n",
       "    <tr>\n",
       "      <td>0</td>\n",
       "      <td>0.912121</td>\n",
       "      <td>0.731630</td>\n",
       "      <td>0.590214</td>\n",
       "      <td>0.569444</td>\n",
       "      <td>0.644654</td>\n",
       "      <td>00:12</td>\n",
       "    </tr>\n",
       "    <tr>\n",
       "      <td>1</td>\n",
       "      <td>0.919933</td>\n",
       "      <td>0.733792</td>\n",
       "      <td>0.587156</td>\n",
       "      <td>0.565574</td>\n",
       "      <td>0.650943</td>\n",
       "      <td>00:12</td>\n",
       "    </tr>\n",
       "    <tr>\n",
       "      <td>2</td>\n",
       "      <td>0.926353</td>\n",
       "      <td>0.733450</td>\n",
       "      <td>0.588685</td>\n",
       "      <td>0.567493</td>\n",
       "      <td>0.647799</td>\n",
       "      <td>00:12</td>\n",
       "    </tr>\n",
       "    <tr>\n",
       "      <td>3</td>\n",
       "      <td>0.908174</td>\n",
       "      <td>0.730545</td>\n",
       "      <td>0.584098</td>\n",
       "      <td>0.564972</td>\n",
       "      <td>0.628931</td>\n",
       "      <td>00:12</td>\n",
       "    </tr>\n",
       "    <tr>\n",
       "      <td>4</td>\n",
       "      <td>0.913505</td>\n",
       "      <td>0.738021</td>\n",
       "      <td>0.577982</td>\n",
       "      <td>0.558333</td>\n",
       "      <td>0.632075</td>\n",
       "      <td>00:12</td>\n",
       "    </tr>\n",
       "    <tr>\n",
       "      <td>5</td>\n",
       "      <td>0.904684</td>\n",
       "      <td>0.719748</td>\n",
       "      <td>0.594801</td>\n",
       "      <td>0.573003</td>\n",
       "      <td>0.654088</td>\n",
       "      <td>00:12</td>\n",
       "    </tr>\n",
       "    <tr>\n",
       "      <td>6</td>\n",
       "      <td>0.891529</td>\n",
       "      <td>0.713165</td>\n",
       "      <td>0.599388</td>\n",
       "      <td>0.580925</td>\n",
       "      <td>0.632075</td>\n",
       "      <td>00:12</td>\n",
       "    </tr>\n",
       "    <tr>\n",
       "      <td>7</td>\n",
       "      <td>0.902291</td>\n",
       "      <td>0.706315</td>\n",
       "      <td>0.596330</td>\n",
       "      <td>0.572973</td>\n",
       "      <td>0.666667</td>\n",
       "      <td>00:12</td>\n",
       "    </tr>\n",
       "    <tr>\n",
       "      <td>8</td>\n",
       "      <td>0.895516</td>\n",
       "      <td>0.719939</td>\n",
       "      <td>0.599388</td>\n",
       "      <td>0.574468</td>\n",
       "      <td>0.679245</td>\n",
       "      <td>00:12</td>\n",
       "    </tr>\n",
       "    <tr>\n",
       "      <td>9</td>\n",
       "      <td>0.910337</td>\n",
       "      <td>0.704482</td>\n",
       "      <td>0.607034</td>\n",
       "      <td>0.585434</td>\n",
       "      <td>0.657233</td>\n",
       "      <td>00:12</td>\n",
       "    </tr>\n",
       "    <tr>\n",
       "      <td>10</td>\n",
       "      <td>0.901556</td>\n",
       "      <td>0.696329</td>\n",
       "      <td>0.599388</td>\n",
       "      <td>0.575676</td>\n",
       "      <td>0.669811</td>\n",
       "      <td>00:12</td>\n",
       "    </tr>\n",
       "    <tr>\n",
       "      <td>11</td>\n",
       "      <td>0.898889</td>\n",
       "      <td>0.703758</td>\n",
       "      <td>0.603976</td>\n",
       "      <td>0.584046</td>\n",
       "      <td>0.644654</td>\n",
       "      <td>00:12</td>\n",
       "    </tr>\n",
       "    <tr>\n",
       "      <td>12</td>\n",
       "      <td>0.886170</td>\n",
       "      <td>0.701211</td>\n",
       "      <td>0.602446</td>\n",
       "      <td>0.582386</td>\n",
       "      <td>0.644654</td>\n",
       "      <td>00:12</td>\n",
       "    </tr>\n",
       "    <tr>\n",
       "      <td>13</td>\n",
       "      <td>0.882608</td>\n",
       "      <td>0.700890</td>\n",
       "      <td>0.603976</td>\n",
       "      <td>0.586006</td>\n",
       "      <td>0.632075</td>\n",
       "      <td>00:12</td>\n",
       "    </tr>\n",
       "  </tbody>\n",
       "</table>"
      ],
      "text/plain": [
       "<IPython.core.display.HTML object>"
      ]
     },
     "metadata": {},
     "output_type": "display_data"
    },
    {
     "name": "stdout",
     "output_type": "stream",
     "text": [
      "Better model found at epoch 0 with valid_loss value: 0.7316299676895142.\n"
     ]
    },
    {
     "data": {
      "image/png": "[encoded data removed]",
      "text/plain": [
       "<Figure size 432x288 with 1 Axes>"
      ]
     },
     "metadata": {},
     "output_type": "display_data"
    },
    {
     "name": "stdout",
     "output_type": "stream",
     "text": [
      "Better model found at epoch 3 with valid_loss value: 0.7305447459220886.\n",
      "Better model found at epoch 5 with valid_loss value: 0.7197482585906982.\n",
      "Better model found at epoch 6 with valid_loss value: 0.7131653428077698.\n",
      "Better model found at epoch 7 with valid_loss value: 0.7063149809837341.\n",
      "Better model found at epoch 9 with valid_loss value: 0.7044824957847595.\n",
      "Better model found at epoch 10 with valid_loss value: 0.6963286995887756.\n",
      "No improvement since epoch 10: early stopping\n"
     ]
    }
   ],
   "source": [
    "learn.fine_tune(50,base_lr=1e-5)"
   ]
  },
  {
   "cell_type": "code",
   "execution_count": 16,
   "metadata": {},
   "outputs": [],
   "source": [
    "learn.dls = dlsTest"
   ]
  },
  {
   "cell_type": "code",
   "execution_count": 17,
   "metadata": {},
   "outputs": [
    {
     "data": {
      "text/html": [],
      "text/plain": [
       "<IPython.core.display.HTML object>"
      ]
     },
     "metadata": {},
     "output_type": "display_data"
    },
    {
     "name": "stdout",
     "output_type": "stream",
     "text": [
      "Better model found at epoch 0 with valid_loss value: 0.5745721459388733.\n"
     ]
    },
    {
     "data": {
      "text/plain": [
       "(#4) [0.7053244113922119,0.5745721459388733,0.5857988165680473,0.6827586206896552]"
      ]
     },
     "execution_count": 17,
     "metadata": {},
     "output_type": "execute_result"
    }
   ],
   "source": [
    "learn.validate()"
   ]
  },
  {
   "cell_type": "code",
   "execution_count": null,
   "metadata": {},
   "outputs": [],
   "source": []
  }
 ],
 "metadata": {
  "kernelspec": {
   "display_name": "Python 3",
   "language": "python",
   "name": "python3"
  },
  "language_info": {
   "codemirror_mode": {
    "name": "ipython",
    "version": 3
   },
   "file_extension": ".py",
   "mimetype": "text/x-python",
   "name": "python",
   "nbconvert_exporter": "python",
   "pygments_lexer": "ipython3",
   "version": "3.6.7"
  }
 },
 "nbformat": 4,
 "nbformat_minor": 4
}
