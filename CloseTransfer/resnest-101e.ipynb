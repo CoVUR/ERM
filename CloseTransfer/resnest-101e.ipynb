{
 "cells": [
  {
   "cell_type": "code",
   "execution_count": 1,
   "metadata": {},
   "outputs": [],
   "source": [
    "from fastai.vision.all import *\n",
    "import fastai\n",
    "from wwf.vision.timm import *\n",
    "import timm"
   ]
  },
  {
   "cell_type": "code",
   "execution_count": 2,
   "metadata": {},
   "outputs": [
    {
     "name": "stdout",
     "output_type": "stream",
     "text": [
      "Thu Mar  4 10:46:38 2021       \n",
      "+-----------------------------------------------------------------------------+\n",
      "| NVIDIA-SMI 418.67       Driver Version: 418.67       CUDA Version: 10.1     |\n",
      "|-------------------------------+----------------------+----------------------+\n",
      "| GPU  Name        Persistence-M| Bus-Id        Disp.A | Volatile Uncorr. ECC |\n",
      "| Fan  Temp  Perf  Pwr:Usage/Cap|         Memory-Usage | GPU-Util  Compute M. |\n",
      "|===============================+======================+======================|\n",
      "|   0  GeForce RTX 208...  Off  | 00000000:19:00.0 Off |                  N/A |\n",
      "| 45%   83C    P2   152W / 250W |  10919MiB / 10989MiB |     60%      Default |\n",
      "+-------------------------------+----------------------+----------------------+\n",
      "|   1  GeForce RTX 208...  Off  | 00000000:1A:00.0 Off |                  N/A |\n",
      "| 31%   45C    P8    15W / 250W |    165MiB / 10989MiB |      0%      Default |\n",
      "+-------------------------------+----------------------+----------------------+\n",
      "|   2  GeForce RTX 208...  Off  | 00000000:67:00.0 Off |                  N/A |\n",
      "| 32%   46C    P8     7W / 250W |   1176MiB / 10989MiB |      0%      Default |\n",
      "+-------------------------------+----------------------+----------------------+\n",
      "|   3  GeForce RTX 208...  Off  | 00000000:68:00.0 Off |                  N/A |\n",
      "| 29%   40C    P8    26W / 250W |    165MiB / 10986MiB |      0%      Default |\n",
      "+-------------------------------+----------------------+----------------------+\n",
      "                                                                               \n",
      "+-----------------------------------------------------------------------------+\n",
      "| Processes:                                                       GPU Memory |\n",
      "|  GPU       PID   Type   Process name                             Usage      |\n",
      "|=============================================================================|\n",
      "|    0      3055      C   python3                                    10909MiB |\n",
      "|    1      3055      C   python3                                      155MiB |\n",
      "|    2      3055      C   python3                                      155MiB |\n",
      "|    2     12531      C   ...n/.virtualenvs/segmentation/bin/python3  1011MiB |\n",
      "|    3      3055      C   python3                                      155MiB |\n",
      "+-----------------------------------------------------------------------------+\n"
     ]
    }
   ],
   "source": [
    "!nvidia-smi"
   ]
  },
  {
   "cell_type": "code",
   "execution_count": 3,
   "metadata": {},
   "outputs": [],
   "source": [
    "import torch\n",
    "torch.cuda.set_device(1)"
   ]
  },
  {
   "cell_type": "code",
   "execution_count": 4,
   "metadata": {},
   "outputs": [],
   "source": [
    "path = Path('datasetPrueba/')\n",
    "trainPath = path/'train'\n",
    "testPath = path/'test'"
   ]
  },
  {
   "cell_type": "code",
   "execution_count": 5,
   "metadata": {},
   "outputs": [],
   "source": [
    "def getDataBlock(presize=512,size=256):\n",
    "    return DataBlock(blocks = (ImageBlock, CategoryBlock),\n",
    "                 get_items=get_image_files, \n",
    "                 splitter=RandomSplitter(valid_pct=0.2,seed=42),\n",
    "                 get_y=parent_label,\n",
    "                 item_tfms = [Resize(presize)],\n",
    "                 batch_tfms=[*aug_transforms(size=size, min_scale=0.75,do_flip=True,flip_vert=True,\n",
    "                      max_rotate=180,pad_mode=PadMode.Zeros), Normalize.from_stats(*imagenet_stats)])"
   ]
  },
  {
   "cell_type": "code",
   "execution_count": 6,
   "metadata": {},
   "outputs": [],
   "source": [
    "db512 = getDataBlock(512,256)\n",
    "dls512 = db512.dataloaders(trainPath,bs=64)"
   ]
  },
  {
   "cell_type": "code",
   "execution_count": 7,
   "metadata": {},
   "outputs": [],
   "source": [
    "from fastai.vision.all import *\n",
    "callbacks = [\n",
    "    ShowGraphCallback(),\n",
    "    EarlyStoppingCallback(patience=3),\n",
    "    SaveModelCallback(fname='resnest101e'),\n",
    "    MixUp(),\n",
    "]"
   ]
  },
  {
   "cell_type": "code",
   "execution_count": 8,
   "metadata": {},
   "outputs": [],
   "source": [
    "learn = timm_learner(dls512, 'resnest101e',cbs = callbacks,metrics=[accuracy,Precision(),Recall()],loss_func=LabelSmoothingCrossEntropy()).to_fp16()"
   ]
  },
  {
   "cell_type": "code",
   "execution_count": 11,
   "metadata": {
    "scrolled": false
   },
   "outputs": [],
   "source": [
    "#learn.lr_find()"
   ]
  },
  {
   "cell_type": "code",
   "execution_count": 9,
   "metadata": {},
   "outputs": [
    {
     "data": {
      "text/html": [
       "<table border=\"1\" class=\"dataframe\">\n",
       "  <thead>\n",
       "    <tr style=\"text-align: left;\">\n",
       "      <th>epoch</th>\n",
       "      <th>train_loss</th>\n",
       "      <th>valid_loss</th>\n",
       "      <th>accuracy</th>\n",
       "      <th>precision_score</th>\n",
       "      <th>recall_score</th>\n",
       "      <th>time</th>\n",
       "    </tr>\n",
       "  </thead>\n",
       "  <tbody>\n",
       "    <tr>\n",
       "      <td>0</td>\n",
       "      <td>1.101348</td>\n",
       "      <td>0.716550</td>\n",
       "      <td>0.672299</td>\n",
       "      <td>0.717500</td>\n",
       "      <td>0.644220</td>\n",
       "      <td>01:01</td>\n",
       "    </tr>\n",
       "  </tbody>\n",
       "</table>"
      ],
      "text/plain": [
       "<IPython.core.display.HTML object>"
      ]
     },
     "metadata": {},
     "output_type": "display_data"
    },
    {
     "name": "stdout",
     "output_type": "stream",
     "text": [
      "Better model found at epoch 0 with valid_loss value: 0.7165501117706299.\n"
     ]
    },
    {
     "data": {
      "image/png": "[encoded data removed]",
      "text/plain": [
       "<Figure size 432x288 with 1 Axes>"
      ]
     },
     "metadata": {},
     "output_type": "display_data"
    },
    {
     "data": {
      "text/html": [
       "<table border=\"1\" class=\"dataframe\">\n",
       "  <thead>\n",
       "    <tr style=\"text-align: left;\">\n",
       "      <th>epoch</th>\n",
       "      <th>train_loss</th>\n",
       "      <th>valid_loss</th>\n",
       "      <th>accuracy</th>\n",
       "      <th>precision_score</th>\n",
       "      <th>recall_score</th>\n",
       "      <th>time</th>\n",
       "    </tr>\n",
       "  </thead>\n",
       "  <tbody>\n",
       "    <tr>\n",
       "      <td>0</td>\n",
       "      <td>0.992521</td>\n",
       "      <td>0.686741</td>\n",
       "      <td>0.668678</td>\n",
       "      <td>0.746398</td>\n",
       "      <td>0.581369</td>\n",
       "      <td>01:17</td>\n",
       "    </tr>\n",
       "    <tr>\n",
       "      <td>1</td>\n",
       "      <td>0.980489</td>\n",
       "      <td>0.684019</td>\n",
       "      <td>0.678938</td>\n",
       "      <td>0.766716</td>\n",
       "      <td>0.579125</td>\n",
       "      <td>01:15</td>\n",
       "    </tr>\n",
       "    <tr>\n",
       "      <td>2</td>\n",
       "      <td>0.970242</td>\n",
       "      <td>0.674937</td>\n",
       "      <td>0.679541</td>\n",
       "      <td>0.768657</td>\n",
       "      <td>0.578002</td>\n",
       "      <td>01:16</td>\n",
       "    </tr>\n",
       "    <tr>\n",
       "      <td>3</td>\n",
       "      <td>0.953555</td>\n",
       "      <td>0.685609</td>\n",
       "      <td>0.676524</td>\n",
       "      <td>0.772657</td>\n",
       "      <td>0.564534</td>\n",
       "      <td>01:15</td>\n",
       "    </tr>\n",
       "    <tr>\n",
       "      <td>4</td>\n",
       "      <td>0.946885</td>\n",
       "      <td>0.653343</td>\n",
       "      <td>0.695836</td>\n",
       "      <td>0.775249</td>\n",
       "      <td>0.611672</td>\n",
       "      <td>01:16</td>\n",
       "    </tr>\n",
       "    <tr>\n",
       "      <td>5</td>\n",
       "      <td>0.937621</td>\n",
       "      <td>0.660678</td>\n",
       "      <td>0.691611</td>\n",
       "      <td>0.785285</td>\n",
       "      <td>0.586981</td>\n",
       "      <td>01:16</td>\n",
       "    </tr>\n",
       "    <tr>\n",
       "      <td>6</td>\n",
       "      <td>0.909040</td>\n",
       "      <td>0.676417</td>\n",
       "      <td>0.678938</td>\n",
       "      <td>0.788122</td>\n",
       "      <td>0.551066</td>\n",
       "      <td>01:15</td>\n",
       "    </tr>\n",
       "    <tr>\n",
       "      <td>7</td>\n",
       "      <td>0.914384</td>\n",
       "      <td>0.645955</td>\n",
       "      <td>0.705492</td>\n",
       "      <td>0.798519</td>\n",
       "      <td>0.604938</td>\n",
       "      <td>01:16</td>\n",
       "    </tr>\n",
       "    <tr>\n",
       "      <td>8</td>\n",
       "      <td>0.911877</td>\n",
       "      <td>0.617745</td>\n",
       "      <td>0.712734</td>\n",
       "      <td>0.796853</td>\n",
       "      <td>0.625140</td>\n",
       "      <td>01:16</td>\n",
       "    </tr>\n",
       "    <tr>\n",
       "      <td>9</td>\n",
       "      <td>0.904268</td>\n",
       "      <td>0.609935</td>\n",
       "      <td>0.707906</td>\n",
       "      <td>0.769536</td>\n",
       "      <td>0.652076</td>\n",
       "      <td>01:16</td>\n",
       "    </tr>\n",
       "    <tr>\n",
       "      <td>10</td>\n",
       "      <td>0.868884</td>\n",
       "      <td>0.600202</td>\n",
       "      <td>0.716355</td>\n",
       "      <td>0.794406</td>\n",
       "      <td>0.637486</td>\n",
       "      <td>01:16</td>\n",
       "    </tr>\n",
       "    <tr>\n",
       "      <td>11</td>\n",
       "      <td>0.876904</td>\n",
       "      <td>0.594137</td>\n",
       "      <td>0.723597</td>\n",
       "      <td>0.787517</td>\n",
       "      <td>0.665544</td>\n",
       "      <td>01:16</td>\n",
       "    </tr>\n",
       "    <tr>\n",
       "      <td>12</td>\n",
       "      <td>0.886070</td>\n",
       "      <td>0.587149</td>\n",
       "      <td>0.726614</td>\n",
       "      <td>0.786649</td>\n",
       "      <td>0.674523</td>\n",
       "      <td>01:16</td>\n",
       "    </tr>\n",
       "    <tr>\n",
       "      <td>13</td>\n",
       "      <td>0.873900</td>\n",
       "      <td>0.611002</td>\n",
       "      <td>0.707302</td>\n",
       "      <td>0.795058</td>\n",
       "      <td>0.613917</td>\n",
       "      <td>01:15</td>\n",
       "    </tr>\n",
       "    <tr>\n",
       "      <td>14</td>\n",
       "      <td>0.862492</td>\n",
       "      <td>0.593637</td>\n",
       "      <td>0.713941</td>\n",
       "      <td>0.803493</td>\n",
       "      <td>0.619529</td>\n",
       "      <td>01:17</td>\n",
       "    </tr>\n",
       "    <tr>\n",
       "      <td>15</td>\n",
       "      <td>0.834428</td>\n",
       "      <td>0.568610</td>\n",
       "      <td>0.726614</td>\n",
       "      <td>0.757042</td>\n",
       "      <td>0.723906</td>\n",
       "      <td>01:16</td>\n",
       "    </tr>\n",
       "    <tr>\n",
       "      <td>16</td>\n",
       "      <td>0.837692</td>\n",
       "      <td>0.573252</td>\n",
       "      <td>0.731442</td>\n",
       "      <td>0.804645</td>\n",
       "      <td>0.661055</td>\n",
       "      <td>01:16</td>\n",
       "    </tr>\n",
       "    <tr>\n",
       "      <td>17</td>\n",
       "      <td>0.788835</td>\n",
       "      <td>0.559743</td>\n",
       "      <td>0.744116</td>\n",
       "      <td>0.792240</td>\n",
       "      <td>0.710438</td>\n",
       "      <td>01:17</td>\n",
       "    </tr>\n",
       "    <tr>\n",
       "      <td>18</td>\n",
       "      <td>0.802366</td>\n",
       "      <td>0.545093</td>\n",
       "      <td>0.740495</td>\n",
       "      <td>0.783518</td>\n",
       "      <td>0.714927</td>\n",
       "      <td>01:16</td>\n",
       "    </tr>\n",
       "    <tr>\n",
       "      <td>19</td>\n",
       "      <td>0.798419</td>\n",
       "      <td>0.558310</td>\n",
       "      <td>0.745323</td>\n",
       "      <td>0.816464</td>\n",
       "      <td>0.679012</td>\n",
       "      <td>01:16</td>\n",
       "    </tr>\n",
       "    <tr>\n",
       "      <td>20</td>\n",
       "      <td>0.787458</td>\n",
       "      <td>0.552635</td>\n",
       "      <td>0.740495</td>\n",
       "      <td>0.794381</td>\n",
       "      <td>0.698092</td>\n",
       "      <td>01:15</td>\n",
       "    </tr>\n",
       "    <tr>\n",
       "      <td>21</td>\n",
       "      <td>0.785213</td>\n",
       "      <td>0.536666</td>\n",
       "      <td>0.751358</td>\n",
       "      <td>0.788207</td>\n",
       "      <td>0.735129</td>\n",
       "      <td>01:14</td>\n",
       "    </tr>\n",
       "    <tr>\n",
       "      <td>22</td>\n",
       "      <td>0.762021</td>\n",
       "      <td>0.538700</td>\n",
       "      <td>0.748340</td>\n",
       "      <td>0.818548</td>\n",
       "      <td>0.683502</td>\n",
       "      <td>01:14</td>\n",
       "    </tr>\n",
       "    <tr>\n",
       "      <td>23</td>\n",
       "      <td>0.741054</td>\n",
       "      <td>0.539910</td>\n",
       "      <td>0.751358</td>\n",
       "      <td>0.785459</td>\n",
       "      <td>0.739618</td>\n",
       "      <td>01:14</td>\n",
       "    </tr>\n",
       "    <tr>\n",
       "      <td>24</td>\n",
       "      <td>0.734821</td>\n",
       "      <td>0.545770</td>\n",
       "      <td>0.750754</td>\n",
       "      <td>0.773455</td>\n",
       "      <td>0.758698</td>\n",
       "      <td>01:14</td>\n",
       "    </tr>\n",
       "  </tbody>\n",
       "</table>"
      ],
      "text/plain": [
       "<IPython.core.display.HTML object>"
      ]
     },
     "metadata": {},
     "output_type": "display_data"
    },
    {
     "name": "stdout",
     "output_type": "stream",
     "text": [
      "Better model found at epoch 0 with valid_loss value: 0.686740517616272.\n"
     ]
    },
    {
     "data": {
      "image/png": "[encoded data removed]",
      "text/plain": [
       "<Figure size 432x288 with 1 Axes>"
      ]
     },
     "metadata": {},
     "output_type": "display_data"
    },
    {
     "name": "stdout",
     "output_type": "stream",
     "text": [
      "Better model found at epoch 1 with valid_loss value: 0.684018611907959.\n",
      "Better model found at epoch 2 with valid_loss value: 0.6749372482299805.\n",
      "Better model found at epoch 4 with valid_loss value: 0.6533432006835938.\n",
      "Better model found at epoch 7 with valid_loss value: 0.6459553837776184.\n",
      "Better model found at epoch 8 with valid_loss value: 0.6177445650100708.\n",
      "Better model found at epoch 9 with valid_loss value: 0.6099352240562439.\n",
      "Better model found at epoch 10 with valid_loss value: 0.6002019643783569.\n",
      "Better model found at epoch 11 with valid_loss value: 0.5941367745399475.\n",
      "Better model found at epoch 12 with valid_loss value: 0.5871490240097046.\n",
      "Better model found at epoch 15 with valid_loss value: 0.5686101317405701.\n",
      "Better model found at epoch 17 with valid_loss value: 0.5597429275512695.\n",
      "Better model found at epoch 18 with valid_loss value: 0.545093297958374.\n",
      "Better model found at epoch 21 with valid_loss value: 0.5366658568382263.\n",
      "No improvement since epoch 21: early stopping\n"
     ]
    }
   ],
   "source": [
    "learn.fine_tune(100,base_lr=1e-4)"
   ]
  },
  {
   "cell_type": "code",
   "execution_count": 10,
   "metadata": {},
   "outputs": [],
   "source": [
    "path = Path('datasetCorregido/')\n",
    "trainPath = path/'train'\n",
    "testPath = path/'test'"
   ]
  },
  {
   "cell_type": "code",
   "execution_count": 11,
   "metadata": {},
   "outputs": [],
   "source": [
    "dbTest = DataBlock(blocks = (ImageBlock, CategoryBlock),\n",
    "                 get_items=get_image_files, \n",
    "                 splitter=GrandparentSplitter(valid_name='test'),\n",
    "                 get_y=parent_label,\n",
    "                 item_tfms = Resize(512),\n",
    "                 batch_tfms=[*aug_transforms(size=256, min_scale=0.75), Normalize.from_stats(*imagenet_stats)])\n",
    "dlsTest = dbTest.dataloaders(path,bs=32)"
   ]
  },
  {
   "cell_type": "code",
   "execution_count": 12,
   "metadata": {},
   "outputs": [],
   "source": [
    "db512 = getDataBlock(512,256)\n",
    "dls512 = db512.dataloaders(trainPath,bs=64)"
   ]
  },
  {
   "cell_type": "code",
   "execution_count": 13,
   "metadata": {},
   "outputs": [],
   "source": [
    "learn.freeze()"
   ]
  },
  {
   "cell_type": "code",
   "execution_count": 14,
   "metadata": {},
   "outputs": [],
   "source": [
    "learn.dls=dls512"
   ]
  },
  {
   "cell_type": "code",
   "execution_count": 18,
   "metadata": {},
   "outputs": [],
   "source": [
    "#learn.load('hrnet')"
   ]
  },
  {
   "cell_type": "code",
   "execution_count": 19,
   "metadata": {},
   "outputs": [],
   "source": [
    "#learn.lr_find()"
   ]
  },
  {
   "cell_type": "code",
   "execution_count": 15,
   "metadata": {},
   "outputs": [
    {
     "data": {
      "text/html": [
       "<table border=\"1\" class=\"dataframe\">\n",
       "  <thead>\n",
       "    <tr style=\"text-align: left;\">\n",
       "      <th>epoch</th>\n",
       "      <th>train_loss</th>\n",
       "      <th>valid_loss</th>\n",
       "      <th>accuracy</th>\n",
       "      <th>precision_score</th>\n",
       "      <th>recall_score</th>\n",
       "      <th>time</th>\n",
       "    </tr>\n",
       "  </thead>\n",
       "  <tbody>\n",
       "    <tr>\n",
       "      <td>0</td>\n",
       "      <td>1.010861</td>\n",
       "      <td>0.765203</td>\n",
       "      <td>0.564220</td>\n",
       "      <td>0.553398</td>\n",
       "      <td>0.537736</td>\n",
       "      <td>00:27</td>\n",
       "    </tr>\n",
       "  </tbody>\n",
       "</table>"
      ],
      "text/plain": [
       "<IPython.core.display.HTML object>"
      ]
     },
     "metadata": {},
     "output_type": "display_data"
    },
    {
     "name": "stdout",
     "output_type": "stream",
     "text": [
      "Better model found at epoch 0 with valid_loss value: 0.7652029991149902.\n"
     ]
    },
    {
     "data": {
      "image/png": "[encoded data removed]",
      "text/plain": [
       "<Figure size 432x288 with 1 Axes>"
      ]
     },
     "metadata": {},
     "output_type": "display_data"
    },
    {
     "data": {
      "text/html": [
       "<table border=\"1\" class=\"dataframe\">\n",
       "  <thead>\n",
       "    <tr style=\"text-align: left;\">\n",
       "      <th>epoch</th>\n",
       "      <th>train_loss</th>\n",
       "      <th>valid_loss</th>\n",
       "      <th>accuracy</th>\n",
       "      <th>precision_score</th>\n",
       "      <th>recall_score</th>\n",
       "      <th>time</th>\n",
       "    </tr>\n",
       "  </thead>\n",
       "  <tbody>\n",
       "    <tr>\n",
       "      <td>0</td>\n",
       "      <td>1.010216</td>\n",
       "      <td>0.765307</td>\n",
       "      <td>0.564220</td>\n",
       "      <td>0.554098</td>\n",
       "      <td>0.531447</td>\n",
       "      <td>00:30</td>\n",
       "    </tr>\n",
       "    <tr>\n",
       "      <td>1</td>\n",
       "      <td>1.018164</td>\n",
       "      <td>0.765882</td>\n",
       "      <td>0.559633</td>\n",
       "      <td>0.547468</td>\n",
       "      <td>0.544025</td>\n",
       "      <td>00:30</td>\n",
       "    </tr>\n",
       "    <tr>\n",
       "      <td>2</td>\n",
       "      <td>1.024262</td>\n",
       "      <td>0.755322</td>\n",
       "      <td>0.584098</td>\n",
       "      <td>0.573718</td>\n",
       "      <td>0.562893</td>\n",
       "      <td>00:30</td>\n",
       "    </tr>\n",
       "    <tr>\n",
       "      <td>3</td>\n",
       "      <td>1.005483</td>\n",
       "      <td>0.760708</td>\n",
       "      <td>0.573394</td>\n",
       "      <td>0.568421</td>\n",
       "      <td>0.509434</td>\n",
       "      <td>00:30</td>\n",
       "    </tr>\n",
       "    <tr>\n",
       "      <td>4</td>\n",
       "      <td>0.991092</td>\n",
       "      <td>0.756445</td>\n",
       "      <td>0.579511</td>\n",
       "      <td>0.573883</td>\n",
       "      <td>0.525157</td>\n",
       "      <td>00:30</td>\n",
       "    </tr>\n",
       "    <tr>\n",
       "      <td>5</td>\n",
       "      <td>1.008712</td>\n",
       "      <td>0.747534</td>\n",
       "      <td>0.574924</td>\n",
       "      <td>0.568027</td>\n",
       "      <td>0.525157</td>\n",
       "      <td>00:31</td>\n",
       "    </tr>\n",
       "    <tr>\n",
       "      <td>6</td>\n",
       "      <td>1.006181</td>\n",
       "      <td>0.745413</td>\n",
       "      <td>0.559633</td>\n",
       "      <td>0.548077</td>\n",
       "      <td>0.537736</td>\n",
       "      <td>00:30</td>\n",
       "    </tr>\n",
       "    <tr>\n",
       "      <td>7</td>\n",
       "      <td>0.991536</td>\n",
       "      <td>0.744569</td>\n",
       "      <td>0.570336</td>\n",
       "      <td>0.561873</td>\n",
       "      <td>0.528302</td>\n",
       "      <td>00:30</td>\n",
       "    </tr>\n",
       "    <tr>\n",
       "      <td>8</td>\n",
       "      <td>0.998076</td>\n",
       "      <td>0.742583</td>\n",
       "      <td>0.576453</td>\n",
       "      <td>0.568562</td>\n",
       "      <td>0.534591</td>\n",
       "      <td>00:30</td>\n",
       "    </tr>\n",
       "    <tr>\n",
       "      <td>9</td>\n",
       "      <td>0.995844</td>\n",
       "      <td>0.738408</td>\n",
       "      <td>0.576453</td>\n",
       "      <td>0.566343</td>\n",
       "      <td>0.550314</td>\n",
       "      <td>00:30</td>\n",
       "    </tr>\n",
       "    <tr>\n",
       "      <td>10</td>\n",
       "      <td>0.970678</td>\n",
       "      <td>0.734759</td>\n",
       "      <td>0.570336</td>\n",
       "      <td>0.559871</td>\n",
       "      <td>0.544025</td>\n",
       "      <td>00:30</td>\n",
       "    </tr>\n",
       "    <tr>\n",
       "      <td>11</td>\n",
       "      <td>0.990200</td>\n",
       "      <td>0.733478</td>\n",
       "      <td>0.576453</td>\n",
       "      <td>0.565495</td>\n",
       "      <td>0.556604</td>\n",
       "      <td>00:31</td>\n",
       "    </tr>\n",
       "    <tr>\n",
       "      <td>12</td>\n",
       "      <td>0.982503</td>\n",
       "      <td>0.730511</td>\n",
       "      <td>0.571865</td>\n",
       "      <td>0.564189</td>\n",
       "      <td>0.525157</td>\n",
       "      <td>00:30</td>\n",
       "    </tr>\n",
       "    <tr>\n",
       "      <td>13</td>\n",
       "      <td>0.973123</td>\n",
       "      <td>0.725063</td>\n",
       "      <td>0.584098</td>\n",
       "      <td>0.577181</td>\n",
       "      <td>0.540881</td>\n",
       "      <td>00:31</td>\n",
       "    </tr>\n",
       "    <tr>\n",
       "      <td>14</td>\n",
       "      <td>0.951465</td>\n",
       "      <td>0.732532</td>\n",
       "      <td>0.585627</td>\n",
       "      <td>0.577558</td>\n",
       "      <td>0.550314</td>\n",
       "      <td>00:30</td>\n",
       "    </tr>\n",
       "    <tr>\n",
       "      <td>15</td>\n",
       "      <td>0.955445</td>\n",
       "      <td>0.717409</td>\n",
       "      <td>0.591743</td>\n",
       "      <td>0.584718</td>\n",
       "      <td>0.553459</td>\n",
       "      <td>00:31</td>\n",
       "    </tr>\n",
       "    <tr>\n",
       "      <td>16</td>\n",
       "      <td>0.957985</td>\n",
       "      <td>0.721446</td>\n",
       "      <td>0.607034</td>\n",
       "      <td>0.605536</td>\n",
       "      <td>0.550314</td>\n",
       "      <td>00:30</td>\n",
       "    </tr>\n",
       "    <tr>\n",
       "      <td>17</td>\n",
       "      <td>0.956820</td>\n",
       "      <td>0.720965</td>\n",
       "      <td>0.596330</td>\n",
       "      <td>0.592466</td>\n",
       "      <td>0.544025</td>\n",
       "      <td>00:30</td>\n",
       "    </tr>\n",
       "    <tr>\n",
       "      <td>18</td>\n",
       "      <td>0.981851</td>\n",
       "      <td>0.718101</td>\n",
       "      <td>0.587156</td>\n",
       "      <td>0.583916</td>\n",
       "      <td>0.525157</td>\n",
       "      <td>00:30</td>\n",
       "    </tr>\n",
       "  </tbody>\n",
       "</table>"
      ],
      "text/plain": [
       "<IPython.core.display.HTML object>"
      ]
     },
     "metadata": {},
     "output_type": "display_data"
    },
    {
     "name": "stdout",
     "output_type": "stream",
     "text": [
      "Better model found at epoch 0 with valid_loss value: 0.7653067708015442.\n"
     ]
    },
    {
     "data": {
      "image/png": "[encoded data removed]",
      "text/plain": [
       "<Figure size 432x288 with 1 Axes>"
      ]
     },
     "metadata": {},
     "output_type": "display_data"
    },
    {
     "name": "stdout",
     "output_type": "stream",
     "text": [
      "Better model found at epoch 2 with valid_loss value: 0.7553218007087708.\n",
      "Better model found at epoch 5 with valid_loss value: 0.7475337982177734.\n",
      "Better model found at epoch 6 with valid_loss value: 0.7454130053520203.\n",
      "Better model found at epoch 7 with valid_loss value: 0.7445688247680664.\n",
      "Better model found at epoch 8 with valid_loss value: 0.7425832152366638.\n",
      "Better model found at epoch 9 with valid_loss value: 0.7384077906608582.\n",
      "Better model found at epoch 10 with valid_loss value: 0.7347592115402222.\n",
      "Better model found at epoch 11 with valid_loss value: 0.7334780693054199.\n",
      "Better model found at epoch 12 with valid_loss value: 0.7305111289024353.\n",
      "Better model found at epoch 13 with valid_loss value: 0.7250627279281616.\n",
      "Better model found at epoch 15 with valid_loss value: 0.7174088358879089.\n",
      "No improvement since epoch 15: early stopping\n"
     ]
    }
   ],
   "source": [
    "learn.fine_tune(50,base_lr=1e-5)"
   ]
  },
  {
   "cell_type": "code",
   "execution_count": 16,
   "metadata": {},
   "outputs": [],
   "source": [
    "learn.dls = dlsTest"
   ]
  },
  {
   "cell_type": "code",
   "execution_count": 17,
   "metadata": {},
   "outputs": [
    {
     "data": {
      "text/html": [],
      "text/plain": [
       "<IPython.core.display.HTML object>"
      ]
     },
     "metadata": {},
     "output_type": "display_data"
    },
    {
     "name": "stdout",
     "output_type": "stream",
     "text": [
      "Better model found at epoch 0 with valid_loss value: 0.5873606204986572.\n"
     ]
    },
    {
     "data": {
      "text/plain": [
       "(#4) [0.7141298055648804,0.5873606204986572,0.6614173228346457,0.5526315789473685]"
      ]
     },
     "execution_count": 17,
     "metadata": {},
     "output_type": "execute_result"
    }
   ],
   "source": [
    "learn.validate()"
   ]
  },
  {
   "cell_type": "code",
   "execution_count": null,
   "metadata": {},
   "outputs": [],
   "source": []
  }
 ],
 "metadata": {
  "kernelspec": {
   "display_name": "Python 3",
   "language": "python",
   "name": "python3"
  },
  "language_info": {
   "codemirror_mode": {
    "name": "ipython",
    "version": 3
   },
   "file_extension": ".py",
   "mimetype": "text/x-python",
   "name": "python",
   "nbconvert_exporter": "python",
   "pygments_lexer": "ipython3",
   "version": "3.6.7"
  }
 },
 "nbformat": 4,
 "nbformat_minor": 4
}
