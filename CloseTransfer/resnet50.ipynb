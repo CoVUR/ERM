{
 "cells": [
  {
   "cell_type": "code",
   "execution_count": 1,
   "metadata": {},
   "outputs": [],
   "source": [
    "from fastai.vision.all import *\n",
    "import fastai\n",
    "from wwf.vision.timm import *\n",
    "import timm"
   ]
  },
  {
   "cell_type": "code",
   "execution_count": 2,
   "metadata": {},
   "outputs": [
    {
     "name": "stdout",
     "output_type": "stream",
     "text": [
      "Tue Mar  9 09:54:59 2021       \n",
      "+-----------------------------------------------------------------------------+\n",
      "| NVIDIA-SMI 418.67       Driver Version: 418.67       CUDA Version: 10.1     |\n",
      "|-------------------------------+----------------------+----------------------+\n",
      "| GPU  Name        Persistence-M| Bus-Id        Disp.A | Volatile Uncorr. ECC |\n",
      "| Fan  Temp  Perf  Pwr:Usage/Cap|         Memory-Usage | GPU-Util  Compute M. |\n",
      "|===============================+======================+======================|\n",
      "|   0  GeForce RTX 208...  Off  | 00000000:19:00.0 Off |                  N/A |\n",
      "| 28%   36C    P8    23W / 250W |     10MiB / 10989MiB |      0%      Default |\n",
      "+-------------------------------+----------------------+----------------------+\n",
      "|   1  GeForce RTX 208...  Off  | 00000000:1A:00.0 Off |                  N/A |\n",
      "| 42%   78C    P2   102W / 250W |  10855MiB / 10989MiB |     55%      Default |\n",
      "+-------------------------------+----------------------+----------------------+\n",
      "|   2  GeForce RTX 208...  Off  | 00000000:67:00.0 Off |                  N/A |\n",
      "| 38%   59C    P8    10W / 250W |   4675MiB / 10989MiB |      0%      Default |\n",
      "+-------------------------------+----------------------+----------------------+\n",
      "|   3  GeForce RTX 208...  Off  | 00000000:68:00.0 Off |                  N/A |\n",
      "| 30%   42C    P8    26W / 250W |     10MiB / 10986MiB |      0%      Default |\n",
      "+-------------------------------+----------------------+----------------------+\n",
      "                                                                               \n",
      "+-----------------------------------------------------------------------------+\n",
      "| Processes:                                                       GPU Memory |\n",
      "|  GPU       PID   Type   Process name                             Usage      |\n",
      "|=============================================================================|\n",
      "|    1     12839      C   python                                     10845MiB |\n",
      "|    2     13737      C   ...n/.virtualenvs/segmentation/bin/python3  4665MiB |\n",
      "+-----------------------------------------------------------------------------+\n"
     ]
    }
   ],
   "source": [
    "!nvidia-smi"
   ]
  },
  {
   "cell_type": "code",
   "execution_count": 8,
   "metadata": {},
   "outputs": [],
   "source": [
    "import torch\n",
    "torch.cuda.set_device(3)"
   ]
  },
  {
   "cell_type": "code",
   "execution_count": 9,
   "metadata": {},
   "outputs": [],
   "source": [
    "path = Path('datasetPrueba/')\n",
    "trainPath = path/'train'\n",
    "testPath = path/'test'"
   ]
  },
  {
   "cell_type": "code",
   "execution_count": 10,
   "metadata": {},
   "outputs": [],
   "source": [
    "def getDataBlock(presize=512,size=256):\n",
    "    return DataBlock(blocks = (ImageBlock, CategoryBlock),\n",
    "                 get_items=get_image_files, \n",
    "                 splitter=RandomSplitter(valid_pct=0.2,seed=42),\n",
    "                 get_y=parent_label,\n",
    "                 item_tfms = [Resize(presize)],\n",
    "                 batch_tfms=[*aug_transforms(size=size, min_scale=0.75,do_flip=True,flip_vert=True,\n",
    "                      max_rotate=180,pad_mode=PadMode.Zeros), Normalize.from_stats(*imagenet_stats)])"
   ]
  },
  {
   "cell_type": "code",
   "execution_count": 11,
   "metadata": {},
   "outputs": [],
   "source": [
    "db512 = getDataBlock(512,256)\n",
    "dls512 = db512.dataloaders(trainPath,bs=64)"
   ]
  },
  {
   "cell_type": "code",
   "execution_count": 12,
   "metadata": {},
   "outputs": [],
   "source": [
    "from fastai.vision.all import *\n",
    "callbacks = [\n",
    "    ShowGraphCallback(),\n",
    "    EarlyStoppingCallback(patience=3),\n",
    "    SaveModelCallback(fname='resnet50'),\n",
    "    MixUp(),\n",
    "]"
   ]
  },
  {
   "cell_type": "code",
   "execution_count": 13,
   "metadata": {},
   "outputs": [],
   "source": [
    "learn = timm_learner(dls512, 'resnet50d',cbs = callbacks,metrics=[accuracy,Precision(),Recall()]).to_fp16()"
   ]
  },
  {
   "cell_type": "code",
   "execution_count": 14,
   "metadata": {
    "scrolled": false
   },
   "outputs": [],
   "source": [
    "#learn.lr_find()"
   ]
  },
  {
   "cell_type": "code",
   "execution_count": 15,
   "metadata": {},
   "outputs": [
    {
     "data": {
      "text/html": [
       "<table border=\"1\" class=\"dataframe\">\n",
       "  <thead>\n",
       "    <tr style=\"text-align: left;\">\n",
       "      <th>epoch</th>\n",
       "      <th>train_loss</th>\n",
       "      <th>valid_loss</th>\n",
       "      <th>accuracy</th>\n",
       "      <th>precision_score</th>\n",
       "      <th>recall_score</th>\n",
       "      <th>time</th>\n",
       "    </tr>\n",
       "  </thead>\n",
       "  <tbody>\n",
       "    <tr>\n",
       "      <td>0</td>\n",
       "      <td>1.095686</td>\n",
       "      <td>0.699729</td>\n",
       "      <td>0.677127</td>\n",
       "      <td>0.775542</td>\n",
       "      <td>0.562290</td>\n",
       "      <td>00:38</td>\n",
       "    </tr>\n",
       "  </tbody>\n",
       "</table>"
      ],
      "text/plain": [
       "<IPython.core.display.HTML object>"
      ]
     },
     "metadata": {},
     "output_type": "display_data"
    },
    {
     "name": "stdout",
     "output_type": "stream",
     "text": [
      "Better model found at epoch 0 with valid_loss value: 0.6997289657592773.\n"
     ]
    },
    {
     "data": {
      "image/png": "[encoded data removed]",
      "text/plain": [
       "<Figure size 432x288 with 1 Axes>"
      ]
     },
     "metadata": {},
     "output_type": "display_data"
    },
    {
     "data": {
      "text/html": [
       "<table border=\"1\" class=\"dataframe\">\n",
       "  <thead>\n",
       "    <tr style=\"text-align: left;\">\n",
       "      <th>epoch</th>\n",
       "      <th>train_loss</th>\n",
       "      <th>valid_loss</th>\n",
       "      <th>accuracy</th>\n",
       "      <th>precision_score</th>\n",
       "      <th>recall_score</th>\n",
       "      <th>time</th>\n",
       "    </tr>\n",
       "  </thead>\n",
       "  <tbody>\n",
       "    <tr>\n",
       "      <td>0</td>\n",
       "      <td>0.966380</td>\n",
       "      <td>0.657739</td>\n",
       "      <td>0.696439</td>\n",
       "      <td>0.795732</td>\n",
       "      <td>0.585859</td>\n",
       "      <td>00:42</td>\n",
       "    </tr>\n",
       "    <tr>\n",
       "      <td>1</td>\n",
       "      <td>0.946003</td>\n",
       "      <td>0.619581</td>\n",
       "      <td>0.704888</td>\n",
       "      <td>0.779944</td>\n",
       "      <td>0.628507</td>\n",
       "      <td>00:34</td>\n",
       "    </tr>\n",
       "    <tr>\n",
       "      <td>2</td>\n",
       "      <td>0.942586</td>\n",
       "      <td>0.633382</td>\n",
       "      <td>0.709716</td>\n",
       "      <td>0.800587</td>\n",
       "      <td>0.612795</td>\n",
       "      <td>00:34</td>\n",
       "    </tr>\n",
       "    <tr>\n",
       "      <td>3</td>\n",
       "      <td>0.913743</td>\n",
       "      <td>0.610860</td>\n",
       "      <td>0.710320</td>\n",
       "      <td>0.802651</td>\n",
       "      <td>0.611672</td>\n",
       "      <td>00:34</td>\n",
       "    </tr>\n",
       "    <tr>\n",
       "      <td>4</td>\n",
       "      <td>0.898414</td>\n",
       "      <td>0.625144</td>\n",
       "      <td>0.713941</td>\n",
       "      <td>0.811659</td>\n",
       "      <td>0.609428</td>\n",
       "      <td>00:34</td>\n",
       "    </tr>\n",
       "    <tr>\n",
       "      <td>5</td>\n",
       "      <td>0.902779</td>\n",
       "      <td>0.585040</td>\n",
       "      <td>0.726011</td>\n",
       "      <td>0.803051</td>\n",
       "      <td>0.649832</td>\n",
       "      <td>00:34</td>\n",
       "    </tr>\n",
       "    <tr>\n",
       "      <td>6</td>\n",
       "      <td>0.887181</td>\n",
       "      <td>0.578766</td>\n",
       "      <td>0.720579</td>\n",
       "      <td>0.801408</td>\n",
       "      <td>0.638608</td>\n",
       "      <td>00:34</td>\n",
       "    </tr>\n",
       "    <tr>\n",
       "      <td>7</td>\n",
       "      <td>0.894646</td>\n",
       "      <td>0.567711</td>\n",
       "      <td>0.719976</td>\n",
       "      <td>0.795297</td>\n",
       "      <td>0.645342</td>\n",
       "      <td>00:34</td>\n",
       "    </tr>\n",
       "    <tr>\n",
       "      <td>8</td>\n",
       "      <td>0.877533</td>\n",
       "      <td>0.539156</td>\n",
       "      <td>0.726011</td>\n",
       "      <td>0.790173</td>\n",
       "      <td>0.667789</td>\n",
       "      <td>00:34</td>\n",
       "    </tr>\n",
       "    <tr>\n",
       "      <td>9</td>\n",
       "      <td>0.862920</td>\n",
       "      <td>0.557625</td>\n",
       "      <td>0.729028</td>\n",
       "      <td>0.806944</td>\n",
       "      <td>0.652076</td>\n",
       "      <td>00:34</td>\n",
       "    </tr>\n",
       "    <tr>\n",
       "      <td>10</td>\n",
       "      <td>0.842099</td>\n",
       "      <td>0.560199</td>\n",
       "      <td>0.724200</td>\n",
       "      <td>0.806497</td>\n",
       "      <td>0.640853</td>\n",
       "      <td>00:34</td>\n",
       "    </tr>\n",
       "    <tr>\n",
       "      <td>11</td>\n",
       "      <td>0.857131</td>\n",
       "      <td>0.527040</td>\n",
       "      <td>0.737477</td>\n",
       "      <td>0.802387</td>\n",
       "      <td>0.679012</td>\n",
       "      <td>00:34</td>\n",
       "    </tr>\n",
       "    <tr>\n",
       "      <td>12</td>\n",
       "      <td>0.827421</td>\n",
       "      <td>0.496003</td>\n",
       "      <td>0.741098</td>\n",
       "      <td>0.775000</td>\n",
       "      <td>0.730640</td>\n",
       "      <td>00:34</td>\n",
       "    </tr>\n",
       "    <tr>\n",
       "      <td>13</td>\n",
       "      <td>0.829778</td>\n",
       "      <td>0.538165</td>\n",
       "      <td>0.733856</td>\n",
       "      <td>0.807377</td>\n",
       "      <td>0.663300</td>\n",
       "      <td>00:34</td>\n",
       "    </tr>\n",
       "    <tr>\n",
       "      <td>14</td>\n",
       "      <td>0.798736</td>\n",
       "      <td>0.497918</td>\n",
       "      <td>0.746530</td>\n",
       "      <td>0.813582</td>\n",
       "      <td>0.685746</td>\n",
       "      <td>00:34</td>\n",
       "    </tr>\n",
       "    <tr>\n",
       "      <td>15</td>\n",
       "      <td>0.799589</td>\n",
       "      <td>0.500229</td>\n",
       "      <td>0.747133</td>\n",
       "      <td>0.831461</td>\n",
       "      <td>0.664422</td>\n",
       "      <td>00:34</td>\n",
       "    </tr>\n",
       "  </tbody>\n",
       "</table>"
      ],
      "text/plain": [
       "<IPython.core.display.HTML object>"
      ]
     },
     "metadata": {},
     "output_type": "display_data"
    },
    {
     "name": "stdout",
     "output_type": "stream",
     "text": [
      "Better model found at epoch 0 with valid_loss value: 0.6577385067939758.\n"
     ]
    },
    {
     "data": {
      "image/png": "[encoded data removed]",
      "text/plain": [
       "<Figure size 432x288 with 1 Axes>"
      ]
     },
     "metadata": {},
     "output_type": "display_data"
    },
    {
     "name": "stdout",
     "output_type": "stream",
     "text": [
      "Better model found at epoch 1 with valid_loss value: 0.6195808053016663.\n",
      "Better model found at epoch 3 with valid_loss value: 0.6108603477478027.\n",
      "Better model found at epoch 5 with valid_loss value: 0.5850404500961304.\n",
      "Better model found at epoch 6 with valid_loss value: 0.5787661075592041.\n",
      "Better model found at epoch 7 with valid_loss value: 0.567710816860199.\n",
      "Better model found at epoch 8 with valid_loss value: 0.5391561388969421.\n",
      "Better model found at epoch 11 with valid_loss value: 0.5270404815673828.\n",
      "Better model found at epoch 12 with valid_loss value: 0.496002733707428.\n",
      "No improvement since epoch 12: early stopping\n"
     ]
    }
   ],
   "source": [
    "learn.fine_tune(100,base_lr=1e-4)"
   ]
  },
  {
   "cell_type": "code",
   "execution_count": 16,
   "metadata": {},
   "outputs": [],
   "source": [
    "path = Path('dataset/')\n",
    "trainPath = path/'train'\n",
    "testPath = path/'test'"
   ]
  },
  {
   "cell_type": "code",
   "execution_count": 17,
   "metadata": {},
   "outputs": [],
   "source": [
    "dbTest = DataBlock(blocks = (ImageBlock, CategoryBlock),\n",
    "                 get_items=get_image_files, \n",
    "                 splitter=GrandparentSplitter(valid_name='test'),\n",
    "                 get_y=parent_label,\n",
    "                 item_tfms = Resize(512),\n",
    "                 batch_tfms=[*aug_transforms(size=256, min_scale=0.75), Normalize.from_stats(*imagenet_stats)])\n",
    "dlsTest = dbTest.dataloaders(path,bs=32)"
   ]
  },
  {
   "cell_type": "code",
   "execution_count": 18,
   "metadata": {},
   "outputs": [],
   "source": [
    "db512 = getDataBlock(512,256)\n",
    "dls512 = db512.dataloaders(trainPath,bs=64)"
   ]
  },
  {
   "cell_type": "code",
   "execution_count": 19,
   "metadata": {},
   "outputs": [],
   "source": [
    "learn.freeze()"
   ]
  },
  {
   "cell_type": "code",
   "execution_count": 20,
   "metadata": {},
   "outputs": [],
   "source": [
    "learn.dls=dls512"
   ]
  },
  {
   "cell_type": "code",
   "execution_count": 21,
   "metadata": {},
   "outputs": [],
   "source": [
    "#learn.load('hrnet')"
   ]
  },
  {
   "cell_type": "code",
   "execution_count": 22,
   "metadata": {},
   "outputs": [],
   "source": [
    "#learn.lr_find()"
   ]
  },
  {
   "cell_type": "code",
   "execution_count": 23,
   "metadata": {},
   "outputs": [
    {
     "data": {
      "text/html": [
       "<table border=\"1\" class=\"dataframe\">\n",
       "  <thead>\n",
       "    <tr style=\"text-align: left;\">\n",
       "      <th>epoch</th>\n",
       "      <th>train_loss</th>\n",
       "      <th>valid_loss</th>\n",
       "      <th>accuracy</th>\n",
       "      <th>precision_score</th>\n",
       "      <th>recall_score</th>\n",
       "      <th>time</th>\n",
       "    </tr>\n",
       "  </thead>\n",
       "  <tbody>\n",
       "    <tr>\n",
       "      <td>0</td>\n",
       "      <td>1.217861</td>\n",
       "      <td>0.852927</td>\n",
       "      <td>0.550459</td>\n",
       "      <td>0.536585</td>\n",
       "      <td>0.553459</td>\n",
       "      <td>00:13</td>\n",
       "    </tr>\n",
       "  </tbody>\n",
       "</table>"
      ],
      "text/plain": [
       "<IPython.core.display.HTML object>"
      ]
     },
     "metadata": {},
     "output_type": "display_data"
    },
    {
     "name": "stdout",
     "output_type": "stream",
     "text": [
      "Better model found at epoch 0 with valid_loss value: 0.8529265522956848.\n"
     ]
    },
    {
     "data": {
      "image/png": "[encoded data removed]",
      "text/plain": [
       "<Figure size 432x288 with 1 Axes>"
      ]
     },
     "metadata": {},
     "output_type": "display_data"
    },
    {
     "data": {
      "text/html": [
       "<table border=\"1\" class=\"dataframe\">\n",
       "  <thead>\n",
       "    <tr style=\"text-align: left;\">\n",
       "      <th>epoch</th>\n",
       "      <th>train_loss</th>\n",
       "      <th>valid_loss</th>\n",
       "      <th>accuracy</th>\n",
       "      <th>precision_score</th>\n",
       "      <th>recall_score</th>\n",
       "      <th>time</th>\n",
       "    </tr>\n",
       "  </thead>\n",
       "  <tbody>\n",
       "    <tr>\n",
       "      <td>0</td>\n",
       "      <td>1.165616</td>\n",
       "      <td>0.846943</td>\n",
       "      <td>0.559633</td>\n",
       "      <td>0.545181</td>\n",
       "      <td>0.569182</td>\n",
       "      <td>00:14</td>\n",
       "    </tr>\n",
       "    <tr>\n",
       "      <td>1</td>\n",
       "      <td>1.176389</td>\n",
       "      <td>0.845543</td>\n",
       "      <td>0.571865</td>\n",
       "      <td>0.558282</td>\n",
       "      <td>0.572327</td>\n",
       "      <td>00:15</td>\n",
       "    </tr>\n",
       "    <tr>\n",
       "      <td>2</td>\n",
       "      <td>1.193061</td>\n",
       "      <td>0.841304</td>\n",
       "      <td>0.558104</td>\n",
       "      <td>0.542029</td>\n",
       "      <td>0.588050</td>\n",
       "      <td>00:14</td>\n",
       "    </tr>\n",
       "    <tr>\n",
       "      <td>3</td>\n",
       "      <td>1.196849</td>\n",
       "      <td>0.838187</td>\n",
       "      <td>0.577982</td>\n",
       "      <td>0.566879</td>\n",
       "      <td>0.559748</td>\n",
       "      <td>00:15</td>\n",
       "    </tr>\n",
       "    <tr>\n",
       "      <td>4</td>\n",
       "      <td>1.187704</td>\n",
       "      <td>0.828027</td>\n",
       "      <td>0.564220</td>\n",
       "      <td>0.549254</td>\n",
       "      <td>0.578616</td>\n",
       "      <td>00:14</td>\n",
       "    </tr>\n",
       "    <tr>\n",
       "      <td>5</td>\n",
       "      <td>1.172567</td>\n",
       "      <td>0.818162</td>\n",
       "      <td>0.579511</td>\n",
       "      <td>0.565749</td>\n",
       "      <td>0.581761</td>\n",
       "      <td>00:15</td>\n",
       "    </tr>\n",
       "    <tr>\n",
       "      <td>6</td>\n",
       "      <td>1.188056</td>\n",
       "      <td>0.829835</td>\n",
       "      <td>0.571865</td>\n",
       "      <td>0.564189</td>\n",
       "      <td>0.525157</td>\n",
       "      <td>00:15</td>\n",
       "    </tr>\n",
       "    <tr>\n",
       "      <td>7</td>\n",
       "      <td>1.168236</td>\n",
       "      <td>0.817567</td>\n",
       "      <td>0.571865</td>\n",
       "      <td>0.559375</td>\n",
       "      <td>0.562893</td>\n",
       "      <td>00:14</td>\n",
       "    </tr>\n",
       "    <tr>\n",
       "      <td>8</td>\n",
       "      <td>1.179995</td>\n",
       "      <td>0.801634</td>\n",
       "      <td>0.581040</td>\n",
       "      <td>0.565476</td>\n",
       "      <td>0.597484</td>\n",
       "      <td>00:15</td>\n",
       "    </tr>\n",
       "    <tr>\n",
       "      <td>9</td>\n",
       "      <td>1.155379</td>\n",
       "      <td>0.796320</td>\n",
       "      <td>0.581040</td>\n",
       "      <td>0.561453</td>\n",
       "      <td>0.632075</td>\n",
       "      <td>00:14</td>\n",
       "    </tr>\n",
       "    <tr>\n",
       "      <td>10</td>\n",
       "      <td>1.147779</td>\n",
       "      <td>0.793628</td>\n",
       "      <td>0.576453</td>\n",
       "      <td>0.560117</td>\n",
       "      <td>0.600629</td>\n",
       "      <td>00:15</td>\n",
       "    </tr>\n",
       "    <tr>\n",
       "      <td>11</td>\n",
       "      <td>1.150741</td>\n",
       "      <td>0.788476</td>\n",
       "      <td>0.573394</td>\n",
       "      <td>0.556851</td>\n",
       "      <td>0.600629</td>\n",
       "      <td>00:15</td>\n",
       "    </tr>\n",
       "    <tr>\n",
       "      <td>12</td>\n",
       "      <td>1.184988</td>\n",
       "      <td>0.782630</td>\n",
       "      <td>0.581040</td>\n",
       "      <td>0.563584</td>\n",
       "      <td>0.613208</td>\n",
       "      <td>00:14</td>\n",
       "    </tr>\n",
       "    <tr>\n",
       "      <td>13</td>\n",
       "      <td>1.148026</td>\n",
       "      <td>0.773122</td>\n",
       "      <td>0.590214</td>\n",
       "      <td>0.569832</td>\n",
       "      <td>0.641509</td>\n",
       "      <td>00:14</td>\n",
       "    </tr>\n",
       "    <tr>\n",
       "      <td>14</td>\n",
       "      <td>1.155100</td>\n",
       "      <td>0.770407</td>\n",
       "      <td>0.582569</td>\n",
       "      <td>0.560000</td>\n",
       "      <td>0.660377</td>\n",
       "      <td>00:15</td>\n",
       "    </tr>\n",
       "    <tr>\n",
       "      <td>15</td>\n",
       "      <td>1.169356</td>\n",
       "      <td>0.776991</td>\n",
       "      <td>0.593272</td>\n",
       "      <td>0.577381</td>\n",
       "      <td>0.610063</td>\n",
       "      <td>00:14</td>\n",
       "    </tr>\n",
       "    <tr>\n",
       "      <td>16</td>\n",
       "      <td>1.144605</td>\n",
       "      <td>0.768266</td>\n",
       "      <td>0.587156</td>\n",
       "      <td>0.571429</td>\n",
       "      <td>0.603774</td>\n",
       "      <td>00:15</td>\n",
       "    </tr>\n",
       "    <tr>\n",
       "      <td>17</td>\n",
       "      <td>1.128143</td>\n",
       "      <td>0.761332</td>\n",
       "      <td>0.593272</td>\n",
       "      <td>0.573446</td>\n",
       "      <td>0.638365</td>\n",
       "      <td>00:15</td>\n",
       "    </tr>\n",
       "    <tr>\n",
       "      <td>18</td>\n",
       "      <td>1.121787</td>\n",
       "      <td>0.756958</td>\n",
       "      <td>0.596330</td>\n",
       "      <td>0.578035</td>\n",
       "      <td>0.628931</td>\n",
       "      <td>00:15</td>\n",
       "    </tr>\n",
       "    <tr>\n",
       "      <td>19</td>\n",
       "      <td>1.122917</td>\n",
       "      <td>0.758477</td>\n",
       "      <td>0.593272</td>\n",
       "      <td>0.578313</td>\n",
       "      <td>0.603774</td>\n",
       "      <td>00:15</td>\n",
       "    </tr>\n",
       "    <tr>\n",
       "      <td>20</td>\n",
       "      <td>1.136349</td>\n",
       "      <td>0.761304</td>\n",
       "      <td>0.597859</td>\n",
       "      <td>0.576602</td>\n",
       "      <td>0.650943</td>\n",
       "      <td>00:15</td>\n",
       "    </tr>\n",
       "    <tr>\n",
       "      <td>21</td>\n",
       "      <td>1.131029</td>\n",
       "      <td>0.746532</td>\n",
       "      <td>0.594801</td>\n",
       "      <td>0.579104</td>\n",
       "      <td>0.610063</td>\n",
       "      <td>00:15</td>\n",
       "    </tr>\n",
       "    <tr>\n",
       "      <td>22</td>\n",
       "      <td>1.118710</td>\n",
       "      <td>0.745586</td>\n",
       "      <td>0.591743</td>\n",
       "      <td>0.573066</td>\n",
       "      <td>0.628931</td>\n",
       "      <td>00:15</td>\n",
       "    </tr>\n",
       "    <tr>\n",
       "      <td>23</td>\n",
       "      <td>1.127229</td>\n",
       "      <td>0.752321</td>\n",
       "      <td>0.596330</td>\n",
       "      <td>0.577586</td>\n",
       "      <td>0.632075</td>\n",
       "      <td>00:15</td>\n",
       "    </tr>\n",
       "    <tr>\n",
       "      <td>24</td>\n",
       "      <td>1.104952</td>\n",
       "      <td>0.747315</td>\n",
       "      <td>0.587156</td>\n",
       "      <td>0.567416</td>\n",
       "      <td>0.635220</td>\n",
       "      <td>00:14</td>\n",
       "    </tr>\n",
       "    <tr>\n",
       "      <td>25</td>\n",
       "      <td>1.080619</td>\n",
       "      <td>0.747154</td>\n",
       "      <td>0.596330</td>\n",
       "      <td>0.576271</td>\n",
       "      <td>0.641509</td>\n",
       "      <td>00:15</td>\n",
       "    </tr>\n",
       "  </tbody>\n",
       "</table>"
      ],
      "text/plain": [
       "<IPython.core.display.HTML object>"
      ]
     },
     "metadata": {},
     "output_type": "display_data"
    },
    {
     "name": "stdout",
     "output_type": "stream",
     "text": [
      "Better model found at epoch 0 with valid_loss value: 0.8469429612159729.\n"
     ]
    },
    {
     "data": {
      "image/png": "[encoded data removed]",
      "text/plain": [
       "<Figure size 432x288 with 1 Axes>"
      ]
     },
     "metadata": {},
     "output_type": "display_data"
    },
    {
     "name": "stdout",
     "output_type": "stream",
     "text": [
      "Better model found at epoch 1 with valid_loss value: 0.8455430865287781.\n",
      "Better model found at epoch 2 with valid_loss value: 0.8413044214248657.\n",
      "Better model found at epoch 3 with valid_loss value: 0.8381873965263367.\n",
      "Better model found at epoch 4 with valid_loss value: 0.8280271887779236.\n",
      "Better model found at epoch 5 with valid_loss value: 0.8181615471839905.\n",
      "Better model found at epoch 7 with valid_loss value: 0.8175672292709351.\n",
      "Better model found at epoch 8 with valid_loss value: 0.8016337752342224.\n",
      "Better model found at epoch 9 with valid_loss value: 0.7963200807571411.\n",
      "Better model found at epoch 10 with valid_loss value: 0.7936280965805054.\n",
      "Better model found at epoch 11 with valid_loss value: 0.7884758710861206.\n",
      "Better model found at epoch 12 with valid_loss value: 0.782630443572998.\n",
      "Better model found at epoch 13 with valid_loss value: 0.7731224298477173.\n",
      "Better model found at epoch 14 with valid_loss value: 0.7704071402549744.\n",
      "Better model found at epoch 16 with valid_loss value: 0.7682657241821289.\n",
      "Better model found at epoch 17 with valid_loss value: 0.7613324522972107.\n",
      "Better model found at epoch 18 with valid_loss value: 0.7569577097892761.\n",
      "Better model found at epoch 21 with valid_loss value: 0.7465322613716125.\n",
      "Better model found at epoch 22 with valid_loss value: 0.745586097240448.\n",
      "No improvement since epoch 22: early stopping\n"
     ]
    }
   ],
   "source": [
    "learn.fine_tune(50,base_lr=1e-5)"
   ]
  },
  {
   "cell_type": "code",
   "execution_count": 24,
   "metadata": {},
   "outputs": [],
   "source": [
    "learn.dls = dlsTest"
   ]
  },
  {
   "cell_type": "code",
   "execution_count": 25,
   "metadata": {},
   "outputs": [
    {
     "data": {
      "text/html": [],
      "text/plain": [
       "<IPython.core.display.HTML object>"
      ]
     },
     "metadata": {},
     "output_type": "display_data"
    },
    {
     "name": "stdout",
     "output_type": "stream",
     "text": [
      "Better model found at epoch 0 with valid_loss value: 0.5782396197319031.\n"
     ]
    },
    {
     "data": {
      "text/plain": [
       "(#4) [0.7577125430107117,0.5782396197319031,0.6066350710900474,0.5885057471264368]"
      ]
     },
     "execution_count": 25,
     "metadata": {},
     "output_type": "execute_result"
    }
   ],
   "source": [
    "learn.validate()"
   ]
  },
  {
   "cell_type": "code",
   "execution_count": null,
   "metadata": {},
   "outputs": [],
   "source": []
  }
 ],
 "metadata": {
  "kernelspec": {
   "display_name": "Python 3",
   "language": "python",
   "name": "python3"
  },
  "language_info": {
   "codemirror_mode": {
    "name": "ipython",
    "version": 3
   },
   "file_extension": ".py",
   "mimetype": "text/x-python",
   "name": "python",
   "nbconvert_exporter": "python",
   "pygments_lexer": "ipython3",
   "version": "3.6.7"
  }
 },
 "nbformat": 4,
 "nbformat_minor": 4
}
