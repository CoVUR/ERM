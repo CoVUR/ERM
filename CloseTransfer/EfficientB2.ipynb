{
 "cells": [
  {
   "cell_type": "code",
   "execution_count": 3,
   "metadata": {},
   "outputs": [],
   "source": [
    "from fastai.vision.all import *\n",
    "import fastai\n",
    "from wwf.vision.timm import *\n",
    "import timm"
   ]
  },
  {
   "cell_type": "code",
   "execution_count": 2,
   "metadata": {},
   "outputs": [
    {
     "name": "stdout",
     "output_type": "stream",
     "text": [
      "Tue Mar  2 09:13:13 2021       \n",
      "+-----------------------------------------------------------------------------+\n",
      "| NVIDIA-SMI 418.67       Driver Version: 418.67       CUDA Version: 10.1     |\n",
      "|-------------------------------+----------------------+----------------------+\n",
      "| GPU  Name        Persistence-M| Bus-Id        Disp.A | Volatile Uncorr. ECC |\n",
      "| Fan  Temp  Perf  Pwr:Usage/Cap|         Memory-Usage | GPU-Util  Compute M. |\n",
      "|===============================+======================+======================|\n",
      "|   0  GeForce RTX 208...  Off  | 00000000:19:00.0 Off |                  N/A |\n",
      "| 44%   84C    P2   180W / 250W |  10919MiB / 10989MiB |     64%      Default |\n",
      "+-------------------------------+----------------------+----------------------+\n",
      "|   1  GeForce RTX 208...  Off  | 00000000:1A:00.0 Off |                  N/A |\n",
      "| 30%   43C    P8    15W / 250W |    165MiB / 10989MiB |      0%      Default |\n",
      "+-------------------------------+----------------------+----------------------+\n",
      "|   2  GeForce RTX 208...  Off  | 00000000:67:00.0 Off |                  N/A |\n",
      "| 32%   48C    P8     9W / 250W |   2084MiB / 10989MiB |      0%      Default |\n",
      "+-------------------------------+----------------------+----------------------+\n",
      "|   3  GeForce RTX 208...  Off  | 00000000:68:00.0 Off |                  N/A |\n",
      "| 28%   39C    P8    25W / 250W |    165MiB / 10986MiB |      0%      Default |\n",
      "+-------------------------------+----------------------+----------------------+\n",
      "                                                                               \n",
      "+-----------------------------------------------------------------------------+\n",
      "| Processes:                                                       GPU Memory |\n",
      "|  GPU       PID   Type   Process name                             Usage      |\n",
      "|=============================================================================|\n",
      "|    0     14882      C   python3                                    10909MiB |\n",
      "|    1     14882      C   python3                                      155MiB |\n",
      "|    2     14882      C   python3                                      155MiB |\n",
      "|    2     32215      C   ...n/.virtualenvs/segmentation/bin/python3  1919MiB |\n",
      "|    3     14882      C   python3                                      155MiB |\n",
      "+-----------------------------------------------------------------------------+\n"
     ]
    }
   ],
   "source": [
    "!nvidia-smi"
   ]
  },
  {
   "cell_type": "code",
   "execution_count": 4,
   "metadata": {},
   "outputs": [],
   "source": [
    "import torch\n",
    "torch.cuda.set_device(2)"
   ]
  },
  {
   "cell_type": "code",
   "execution_count": 5,
   "metadata": {},
   "outputs": [],
   "source": [
    "path = Path('datasetPrueba/')\n",
    "trainPath = path/'train'\n",
    "testPath = path/'test'"
   ]
  },
  {
   "cell_type": "code",
   "execution_count": 6,
   "metadata": {},
   "outputs": [],
   "source": [
    "def getDataBlock(presize=512,size=256):\n",
    "    return DataBlock(blocks = (ImageBlock, CategoryBlock),\n",
    "                 get_items=get_image_files, \n",
    "                 splitter=RandomSplitter(valid_pct=0.2,seed=42),\n",
    "                 get_y=parent_label,\n",
    "                 item_tfms = [Resize(presize)],\n",
    "                 batch_tfms=[*aug_transforms(size=size, min_scale=0.75,do_flip=True,flip_vert=True,\n",
    "                      max_rotate=180,pad_mode=PadMode.Zeros), Normalize.from_stats(*imagenet_stats)])"
   ]
  },
  {
   "cell_type": "code",
   "execution_count": 7,
   "metadata": {},
   "outputs": [],
   "source": [
    "db512 = getDataBlock(512,256)\n",
    "dls512 = db512.dataloaders(trainPath,bs=64)"
   ]
  },
  {
   "cell_type": "code",
   "execution_count": 8,
   "metadata": {},
   "outputs": [],
   "source": [
    "from fastai.vision.all import *\n",
    "callbacks = [\n",
    "    ShowGraphCallback(),\n",
    "    EarlyStoppingCallback(patience=3),\n",
    "    SaveModelCallback(fname='efficientnet_b2'),\n",
    "    MixUp(),\n",
    "]"
   ]
  },
  {
   "cell_type": "code",
   "execution_count": 9,
   "metadata": {},
   "outputs": [],
   "source": [
    "learn = timm_learner(dls512, 'efficientnet_b2',cbs = callbacks,metrics=[accuracy,Precision(),Recall()]).to_fp16()"
   ]
  },
  {
   "cell_type": "code",
   "execution_count": 10,
   "metadata": {
    "scrolled": false
   },
   "outputs": [],
   "source": [
    "#learn.lr_find()"
   ]
  },
  {
   "cell_type": "code",
   "execution_count": 11,
   "metadata": {},
   "outputs": [
    {
     "data": {
      "text/html": [
       "<table border=\"1\" class=\"dataframe\">\n",
       "  <thead>\n",
       "    <tr style=\"text-align: left;\">\n",
       "      <th>epoch</th>\n",
       "      <th>train_loss</th>\n",
       "      <th>valid_loss</th>\n",
       "      <th>accuracy</th>\n",
       "      <th>precision_score</th>\n",
       "      <th>recall_score</th>\n",
       "      <th>time</th>\n",
       "    </tr>\n",
       "  </thead>\n",
       "  <tbody>\n",
       "    <tr>\n",
       "      <td>0</td>\n",
       "      <td>1.107023</td>\n",
       "      <td>0.652100</td>\n",
       "      <td>0.695836</td>\n",
       "      <td>0.747126</td>\n",
       "      <td>0.656566</td>\n",
       "      <td>00:29</td>\n",
       "    </tr>\n",
       "  </tbody>\n",
       "</table>"
      ],
      "text/plain": [
       "<IPython.core.display.HTML object>"
      ]
     },
     "metadata": {},
     "output_type": "display_data"
    },
    {
     "name": "stdout",
     "output_type": "stream",
     "text": [
      "Better model found at epoch 0 with valid_loss value: 0.6520996689796448.\n"
     ]
    },
    {
     "data": {
      "image/png": "[encoded data removed]",
      "text/plain": [
       "<Figure size 432x288 with 1 Axes>"
      ]
     },
     "metadata": {},
     "output_type": "display_data"
    },
    {
     "data": {
      "text/html": [
       "<table border=\"1\" class=\"dataframe\">\n",
       "  <thead>\n",
       "    <tr style=\"text-align: left;\">\n",
       "      <th>epoch</th>\n",
       "      <th>train_loss</th>\n",
       "      <th>valid_loss</th>\n",
       "      <th>accuracy</th>\n",
       "      <th>precision_score</th>\n",
       "      <th>recall_score</th>\n",
       "      <th>time</th>\n",
       "    </tr>\n",
       "  </thead>\n",
       "  <tbody>\n",
       "    <tr>\n",
       "      <td>0</td>\n",
       "      <td>0.960034</td>\n",
       "      <td>0.636505</td>\n",
       "      <td>0.697043</td>\n",
       "      <td>0.758300</td>\n",
       "      <td>0.640853</td>\n",
       "      <td>00:34</td>\n",
       "    </tr>\n",
       "    <tr>\n",
       "      <td>1</td>\n",
       "      <td>0.928190</td>\n",
       "      <td>0.618291</td>\n",
       "      <td>0.706095</td>\n",
       "      <td>0.765789</td>\n",
       "      <td>0.653199</td>\n",
       "      <td>00:34</td>\n",
       "    </tr>\n",
       "    <tr>\n",
       "      <td>2</td>\n",
       "      <td>0.930145</td>\n",
       "      <td>0.611765</td>\n",
       "      <td>0.712130</td>\n",
       "      <td>0.770942</td>\n",
       "      <td>0.661055</td>\n",
       "      <td>00:34</td>\n",
       "    </tr>\n",
       "    <tr>\n",
       "      <td>3</td>\n",
       "      <td>0.924122</td>\n",
       "      <td>0.602619</td>\n",
       "      <td>0.710320</td>\n",
       "      <td>0.775100</td>\n",
       "      <td>0.649832</td>\n",
       "      <td>00:34</td>\n",
       "    </tr>\n",
       "    <tr>\n",
       "      <td>4</td>\n",
       "      <td>0.918478</td>\n",
       "      <td>0.602189</td>\n",
       "      <td>0.716958</td>\n",
       "      <td>0.783602</td>\n",
       "      <td>0.654321</td>\n",
       "      <td>00:34</td>\n",
       "    </tr>\n",
       "    <tr>\n",
       "      <td>5</td>\n",
       "      <td>0.923975</td>\n",
       "      <td>0.598640</td>\n",
       "      <td>0.717562</td>\n",
       "      <td>0.798307</td>\n",
       "      <td>0.635241</td>\n",
       "      <td>00:34</td>\n",
       "    </tr>\n",
       "    <tr>\n",
       "      <td>6</td>\n",
       "      <td>0.898556</td>\n",
       "      <td>0.575631</td>\n",
       "      <td>0.721183</td>\n",
       "      <td>0.785619</td>\n",
       "      <td>0.662177</td>\n",
       "      <td>00:34</td>\n",
       "    </tr>\n",
       "    <tr>\n",
       "      <td>7</td>\n",
       "      <td>0.867172</td>\n",
       "      <td>0.564758</td>\n",
       "      <td>0.726011</td>\n",
       "      <td>0.792503</td>\n",
       "      <td>0.664422</td>\n",
       "      <td>00:34</td>\n",
       "    </tr>\n",
       "    <tr>\n",
       "      <td>8</td>\n",
       "      <td>0.863191</td>\n",
       "      <td>0.571662</td>\n",
       "      <td>0.716958</td>\n",
       "      <td>0.785908</td>\n",
       "      <td>0.650954</td>\n",
       "      <td>00:34</td>\n",
       "    </tr>\n",
       "    <tr>\n",
       "      <td>9</td>\n",
       "      <td>0.890732</td>\n",
       "      <td>0.559668</td>\n",
       "      <td>0.725407</td>\n",
       "      <td>0.785340</td>\n",
       "      <td>0.673401</td>\n",
       "      <td>00:34</td>\n",
       "    </tr>\n",
       "    <tr>\n",
       "      <td>10</td>\n",
       "      <td>0.870845</td>\n",
       "      <td>0.552861</td>\n",
       "      <td>0.726614</td>\n",
       "      <td>0.789683</td>\n",
       "      <td>0.670034</td>\n",
       "      <td>00:34</td>\n",
       "    </tr>\n",
       "    <tr>\n",
       "      <td>11</td>\n",
       "      <td>0.848918</td>\n",
       "      <td>0.543312</td>\n",
       "      <td>0.726614</td>\n",
       "      <td>0.795148</td>\n",
       "      <td>0.662177</td>\n",
       "      <td>00:48</td>\n",
       "    </tr>\n",
       "    <tr>\n",
       "      <td>12</td>\n",
       "      <td>0.849414</td>\n",
       "      <td>0.538266</td>\n",
       "      <td>0.738081</td>\n",
       "      <td>0.798693</td>\n",
       "      <td>0.685746</td>\n",
       "      <td>00:35</td>\n",
       "    </tr>\n",
       "    <tr>\n",
       "      <td>13</td>\n",
       "      <td>0.855947</td>\n",
       "      <td>0.531128</td>\n",
       "      <td>0.746530</td>\n",
       "      <td>0.802311</td>\n",
       "      <td>0.701459</td>\n",
       "      <td>00:34</td>\n",
       "    </tr>\n",
       "    <tr>\n",
       "      <td>14</td>\n",
       "      <td>0.802855</td>\n",
       "      <td>0.522614</td>\n",
       "      <td>0.751961</td>\n",
       "      <td>0.810078</td>\n",
       "      <td>0.703704</td>\n",
       "      <td>00:34</td>\n",
       "    </tr>\n",
       "    <tr>\n",
       "      <td>15</td>\n",
       "      <td>0.815186</td>\n",
       "      <td>0.526151</td>\n",
       "      <td>0.740495</td>\n",
       "      <td>0.807744</td>\n",
       "      <td>0.679012</td>\n",
       "      <td>00:34</td>\n",
       "    </tr>\n",
       "    <tr>\n",
       "      <td>16</td>\n",
       "      <td>0.808014</td>\n",
       "      <td>0.513281</td>\n",
       "      <td>0.747133</td>\n",
       "      <td>0.819783</td>\n",
       "      <td>0.679012</td>\n",
       "      <td>00:34</td>\n",
       "    </tr>\n",
       "    <tr>\n",
       "      <td>17</td>\n",
       "      <td>0.787992</td>\n",
       "      <td>0.517266</td>\n",
       "      <td>0.744116</td>\n",
       "      <td>0.812584</td>\n",
       "      <td>0.681257</td>\n",
       "      <td>00:34</td>\n",
       "    </tr>\n",
       "    <tr>\n",
       "      <td>18</td>\n",
       "      <td>0.770311</td>\n",
       "      <td>0.504850</td>\n",
       "      <td>0.749547</td>\n",
       "      <td>0.812336</td>\n",
       "      <td>0.694725</td>\n",
       "      <td>00:34</td>\n",
       "    </tr>\n",
       "    <tr>\n",
       "      <td>19</td>\n",
       "      <td>0.769439</td>\n",
       "      <td>0.483367</td>\n",
       "      <td>0.751358</td>\n",
       "      <td>0.799001</td>\n",
       "      <td>0.718294</td>\n",
       "      <td>00:34</td>\n",
       "    </tr>\n",
       "    <tr>\n",
       "      <td>20</td>\n",
       "      <td>0.738503</td>\n",
       "      <td>0.505684</td>\n",
       "      <td>0.745323</td>\n",
       "      <td>0.808959</td>\n",
       "      <td>0.689113</td>\n",
       "      <td>00:34</td>\n",
       "    </tr>\n",
       "    <tr>\n",
       "      <td>21</td>\n",
       "      <td>0.764915</td>\n",
       "      <td>0.481909</td>\n",
       "      <td>0.759203</td>\n",
       "      <td>0.806733</td>\n",
       "      <td>0.726150</td>\n",
       "      <td>00:34</td>\n",
       "    </tr>\n",
       "    <tr>\n",
       "      <td>22</td>\n",
       "      <td>0.738410</td>\n",
       "      <td>0.477110</td>\n",
       "      <td>0.756186</td>\n",
       "      <td>0.809403</td>\n",
       "      <td>0.714927</td>\n",
       "      <td>00:34</td>\n",
       "    </tr>\n",
       "    <tr>\n",
       "      <td>23</td>\n",
       "      <td>0.733402</td>\n",
       "      <td>0.475627</td>\n",
       "      <td>0.764031</td>\n",
       "      <td>0.800481</td>\n",
       "      <td>0.747475</td>\n",
       "      <td>00:34</td>\n",
       "    </tr>\n",
       "    <tr>\n",
       "      <td>24</td>\n",
       "      <td>0.731103</td>\n",
       "      <td>0.486468</td>\n",
       "      <td>0.744719</td>\n",
       "      <td>0.812000</td>\n",
       "      <td>0.683502</td>\n",
       "      <td>00:34</td>\n",
       "    </tr>\n",
       "    <tr>\n",
       "      <td>25</td>\n",
       "      <td>0.693542</td>\n",
       "      <td>0.479973</td>\n",
       "      <td>0.759807</td>\n",
       "      <td>0.827357</td>\n",
       "      <td>0.699214</td>\n",
       "      <td>00:34</td>\n",
       "    </tr>\n",
       "    <tr>\n",
       "      <td>26</td>\n",
       "      <td>0.696386</td>\n",
       "      <td>0.459573</td>\n",
       "      <td>0.763428</td>\n",
       "      <td>0.799520</td>\n",
       "      <td>0.747475</td>\n",
       "      <td>00:34</td>\n",
       "    </tr>\n",
       "    <tr>\n",
       "      <td>27</td>\n",
       "      <td>0.685959</td>\n",
       "      <td>0.455652</td>\n",
       "      <td>0.759203</td>\n",
       "      <td>0.792857</td>\n",
       "      <td>0.747475</td>\n",
       "      <td>00:34</td>\n",
       "    </tr>\n",
       "    <tr>\n",
       "      <td>28</td>\n",
       "      <td>0.683594</td>\n",
       "      <td>0.458652</td>\n",
       "      <td>0.768859</td>\n",
       "      <td>0.825641</td>\n",
       "      <td>0.722783</td>\n",
       "      <td>00:34</td>\n",
       "    </tr>\n",
       "    <tr>\n",
       "      <td>29</td>\n",
       "      <td>0.653437</td>\n",
       "      <td>0.466473</td>\n",
       "      <td>0.765238</td>\n",
       "      <td>0.819338</td>\n",
       "      <td>0.722783</td>\n",
       "      <td>00:34</td>\n",
       "    </tr>\n",
       "    <tr>\n",
       "      <td>30</td>\n",
       "      <td>0.663310</td>\n",
       "      <td>0.447113</td>\n",
       "      <td>0.773687</td>\n",
       "      <td>0.821696</td>\n",
       "      <td>0.739618</td>\n",
       "      <td>00:34</td>\n",
       "    </tr>\n",
       "    <tr>\n",
       "      <td>31</td>\n",
       "      <td>0.658098</td>\n",
       "      <td>0.449088</td>\n",
       "      <td>0.767652</td>\n",
       "      <td>0.808537</td>\n",
       "      <td>0.744108</td>\n",
       "      <td>00:34</td>\n",
       "    </tr>\n",
       "    <tr>\n",
       "      <td>32</td>\n",
       "      <td>0.666697</td>\n",
       "      <td>0.454035</td>\n",
       "      <td>0.767049</td>\n",
       "      <td>0.830931</td>\n",
       "      <td>0.711560</td>\n",
       "      <td>00:34</td>\n",
       "    </tr>\n",
       "    <tr>\n",
       "      <td>33</td>\n",
       "      <td>0.646062</td>\n",
       "      <td>0.443621</td>\n",
       "      <td>0.773084</td>\n",
       "      <td>0.818294</td>\n",
       "      <td>0.742985</td>\n",
       "      <td>00:43</td>\n",
       "    </tr>\n",
       "    <tr>\n",
       "      <td>34</td>\n",
       "      <td>0.655895</td>\n",
       "      <td>0.442282</td>\n",
       "      <td>0.775498</td>\n",
       "      <td>0.818405</td>\n",
       "      <td>0.748597</td>\n",
       "      <td>00:41</td>\n",
       "    </tr>\n",
       "    <tr>\n",
       "      <td>35</td>\n",
       "      <td>0.629584</td>\n",
       "      <td>0.448328</td>\n",
       "      <td>0.765238</td>\n",
       "      <td>0.830263</td>\n",
       "      <td>0.708193</td>\n",
       "      <td>00:34</td>\n",
       "    </tr>\n",
       "    <tr>\n",
       "      <td>36</td>\n",
       "      <td>0.622615</td>\n",
       "      <td>0.437184</td>\n",
       "      <td>0.774291</td>\n",
       "      <td>0.818742</td>\n",
       "      <td>0.745230</td>\n",
       "      <td>00:34</td>\n",
       "    </tr>\n",
       "    <tr>\n",
       "      <td>37</td>\n",
       "      <td>0.619317</td>\n",
       "      <td>0.434905</td>\n",
       "      <td>0.776705</td>\n",
       "      <td>0.819632</td>\n",
       "      <td>0.749719</td>\n",
       "      <td>00:34</td>\n",
       "    </tr>\n",
       "    <tr>\n",
       "      <td>38</td>\n",
       "      <td>0.596876</td>\n",
       "      <td>0.438367</td>\n",
       "      <td>0.764031</td>\n",
       "      <td>0.810174</td>\n",
       "      <td>0.732884</td>\n",
       "      <td>00:34</td>\n",
       "    </tr>\n",
       "    <tr>\n",
       "      <td>39</td>\n",
       "      <td>0.598467</td>\n",
       "      <td>0.432157</td>\n",
       "      <td>0.777308</td>\n",
       "      <td>0.831218</td>\n",
       "      <td>0.735129</td>\n",
       "      <td>00:34</td>\n",
       "    </tr>\n",
       "    <tr>\n",
       "      <td>40</td>\n",
       "      <td>0.612163</td>\n",
       "      <td>0.438690</td>\n",
       "      <td>0.772480</td>\n",
       "      <td>0.837270</td>\n",
       "      <td>0.716049</td>\n",
       "      <td>00:34</td>\n",
       "    </tr>\n",
       "    <tr>\n",
       "      <td>41</td>\n",
       "      <td>0.595370</td>\n",
       "      <td>0.428835</td>\n",
       "      <td>0.767652</td>\n",
       "      <td>0.808537</td>\n",
       "      <td>0.744108</td>\n",
       "      <td>00:34</td>\n",
       "    </tr>\n",
       "    <tr>\n",
       "      <td>42</td>\n",
       "      <td>0.595188</td>\n",
       "      <td>0.428270</td>\n",
       "      <td>0.775498</td>\n",
       "      <td>0.827238</td>\n",
       "      <td>0.736251</td>\n",
       "      <td>00:34</td>\n",
       "    </tr>\n",
       "    <tr>\n",
       "      <td>43</td>\n",
       "      <td>0.586766</td>\n",
       "      <td>0.418299</td>\n",
       "      <td>0.782136</td>\n",
       "      <td>0.813981</td>\n",
       "      <td>0.771044</td>\n",
       "      <td>00:35</td>\n",
       "    </tr>\n",
       "    <tr>\n",
       "      <td>44</td>\n",
       "      <td>0.573663</td>\n",
       "      <td>0.424272</td>\n",
       "      <td>0.782740</td>\n",
       "      <td>0.834805</td>\n",
       "      <td>0.742985</td>\n",
       "      <td>00:38</td>\n",
       "    </tr>\n",
       "    <tr>\n",
       "      <td>45</td>\n",
       "      <td>0.574782</td>\n",
       "      <td>0.420982</td>\n",
       "      <td>0.779722</td>\n",
       "      <td>0.825495</td>\n",
       "      <td>0.748597</td>\n",
       "      <td>00:47</td>\n",
       "    </tr>\n",
       "    <tr>\n",
       "      <td>46</td>\n",
       "      <td>0.570776</td>\n",
       "      <td>0.419251</td>\n",
       "      <td>0.783343</td>\n",
       "      <td>0.816667</td>\n",
       "      <td>0.769921</td>\n",
       "      <td>00:35</td>\n",
       "    </tr>\n",
       "  </tbody>\n",
       "</table>"
      ],
      "text/plain": [
       "<IPython.core.display.HTML object>"
      ]
     },
     "metadata": {},
     "output_type": "display_data"
    },
    {
     "name": "stdout",
     "output_type": "stream",
     "text": [
      "Better model found at epoch 0 with valid_loss value: 0.6365048289299011.\n"
     ]
    },
    {
     "data": {
      "image/png": "[encoded data removed]",
      "text/plain": [
       "<Figure size 432x288 with 1 Axes>"
      ]
     },
     "metadata": {},
     "output_type": "display_data"
    },
    {
     "name": "stdout",
     "output_type": "stream",
     "text": [
      "Better model found at epoch 1 with valid_loss value: 0.618291437625885.\n",
      "Better model found at epoch 2 with valid_loss value: 0.6117652058601379.\n",
      "Better model found at epoch 3 with valid_loss value: 0.6026194095611572.\n",
      "Better model found at epoch 4 with valid_loss value: 0.6021891832351685.\n",
      "Better model found at epoch 5 with valid_loss value: 0.5986401438713074.\n",
      "Better model found at epoch 6 with valid_loss value: 0.5756314992904663.\n",
      "Better model found at epoch 7 with valid_loss value: 0.5647580623626709.\n",
      "Better model found at epoch 9 with valid_loss value: 0.5596675872802734.\n",
      "Better model found at epoch 10 with valid_loss value: 0.5528610944747925.\n",
      "Better model found at epoch 11 with valid_loss value: 0.5433116555213928.\n",
      "Better model found at epoch 12 with valid_loss value: 0.5382656455039978.\n",
      "Better model found at epoch 13 with valid_loss value: 0.5311278104782104.\n",
      "Better model found at epoch 14 with valid_loss value: 0.5226140022277832.\n",
      "Better model found at epoch 16 with valid_loss value: 0.5132811069488525.\n",
      "Better model found at epoch 18 with valid_loss value: 0.5048499703407288.\n",
      "Better model found at epoch 19 with valid_loss value: 0.4833672344684601.\n",
      "Better model found at epoch 21 with valid_loss value: 0.4819090962409973.\n",
      "Better model found at epoch 22 with valid_loss value: 0.4771100580692291.\n",
      "Better model found at epoch 23 with valid_loss value: 0.4756268262863159.\n",
      "Better model found at epoch 26 with valid_loss value: 0.4595731794834137.\n",
      "Better model found at epoch 27 with valid_loss value: 0.4556523859500885.\n",
      "Better model found at epoch 30 with valid_loss value: 0.4471130967140198.\n",
      "Better model found at epoch 33 with valid_loss value: 0.443620890378952.\n",
      "Better model found at epoch 34 with valid_loss value: 0.44228240847587585.\n",
      "Better model found at epoch 36 with valid_loss value: 0.437183678150177.\n",
      "Better model found at epoch 37 with valid_loss value: 0.43490472435951233.\n",
      "Better model found at epoch 39 with valid_loss value: 0.43215668201446533.\n",
      "Better model found at epoch 41 with valid_loss value: 0.4288350045681.\n",
      "Better model found at epoch 42 with valid_loss value: 0.4282699227333069.\n",
      "Better model found at epoch 43 with valid_loss value: 0.4182986319065094.\n",
      "No improvement since epoch 43: early stopping\n"
     ]
    }
   ],
   "source": [
    "learn.fine_tune(100,base_lr=1e-4)"
   ]
  },
  {
   "cell_type": "code",
   "execution_count": null,
   "metadata": {},
   "outputs": [],
   "source": [
    "path = Path('dataset/')\n",
    "trainPath = path/'train'\n",
    "testPath = path/'test'"
   ]
  },
  {
   "cell_type": "code",
   "execution_count": null,
   "metadata": {},
   "outputs": [],
   "source": [
    "dbTest = DataBlock(blocks = (ImageBlock, CategoryBlock),\n",
    "                 get_items=get_image_files, \n",
    "                 splitter=GrandparentSplitter(valid_name='test'),\n",
    "                 get_y=parent_label,\n",
    "                 item_tfms = Resize(512),\n",
    "                 batch_tfms=[*aug_transforms(size=256, min_scale=0.75), Normalize.from_stats(*imagenet_stats)])\n",
    "dlsTest = dbTest.dataloaders(path,bs=32)"
   ]
  },
  {
   "cell_type": "code",
   "execution_count": 10,
   "metadata": {},
   "outputs": [
    {
     "name": "stdout",
     "output_type": "stream",
     "text": [
      "Could not do one pass in your dataloader, there is something wrong in it\n"
     ]
    }
   ],
   "source": [
    "db512 = getDataBlock(512,256)\n",
    "dls512 = db512.dataloaders(trainPath,bs=64)"
   ]
  },
  {
   "cell_type": "code",
   "execution_count": 11,
   "metadata": {},
   "outputs": [],
   "source": [
    "learn.freeze()"
   ]
  },
  {
   "cell_type": "code",
   "execution_count": 12,
   "metadata": {},
   "outputs": [],
   "source": [
    "learn.dls=dls512"
   ]
  },
  {
   "cell_type": "code",
   "execution_count": 14,
   "metadata": {},
   "outputs": [],
   "source": [
    "#learn.load('hrnet')"
   ]
  },
  {
   "cell_type": "code",
   "execution_count": 16,
   "metadata": {},
   "outputs": [
    {
     "data": {
      "text/html": [],
      "text/plain": [
       "<IPython.core.display.HTML object>"
      ]
     },
     "metadata": {},
     "output_type": "display_data"
    },
    {
     "data": {
      "text/plain": [
       "SuggestedLRs(lr_min=0.07585775852203369, lr_steep=0.6309573650360107)"
      ]
     },
     "execution_count": 16,
     "metadata": {},
     "output_type": "execute_result"
    },
    {
     "data": {
      "image/png": "[encoded data removed]",
      "text/plain": [
       "<Figure size 432x288 with 1 Axes>"
      ]
     },
     "metadata": {
      "needs_background": "light"
     },
     "output_type": "display_data"
    }
   ],
   "source": [
    "#learn.lr_find()"
   ]
  },
  {
   "cell_type": "code",
   "execution_count": 12,
   "metadata": {},
   "outputs": [
    {
     "data": {
      "text/html": [
       "<table border=\"1\" class=\"dataframe\">\n",
       "  <thead>\n",
       "    <tr style=\"text-align: left;\">\n",
       "      <th>epoch</th>\n",
       "      <th>train_loss</th>\n",
       "      <th>valid_loss</th>\n",
       "      <th>accuracy</th>\n",
       "      <th>precision_score</th>\n",
       "      <th>recall_score</th>\n",
       "      <th>time</th>\n",
       "    </tr>\n",
       "  </thead>\n",
       "  <tbody>\n",
       "    <tr>\n",
       "      <td>0</td>\n",
       "      <td>0.575477</td>\n",
       "      <td>0.424273</td>\n",
       "      <td>0.780326</td>\n",
       "      <td>0.834816</td>\n",
       "      <td>0.737374</td>\n",
       "      <td>00:29</td>\n",
       "    </tr>\n",
       "  </tbody>\n",
       "</table>"
      ],
      "text/plain": [
       "<IPython.core.display.HTML object>"
      ]
     },
     "metadata": {},
     "output_type": "display_data"
    },
    {
     "name": "stdout",
     "output_type": "stream",
     "text": [
      "Better model found at epoch 0 with valid_loss value: 0.42427289485931396.\n"
     ]
    },
    {
     "data": {
      "image/png": "[encoded data removed]",
      "text/plain": [
       "<Figure size 432x288 with 1 Axes>"
      ]
     },
     "metadata": {},
     "output_type": "display_data"
    },
    {
     "data": {
      "text/html": [
       "<table border=\"1\" class=\"dataframe\">\n",
       "  <thead>\n",
       "    <tr style=\"text-align: left;\">\n",
       "      <th>epoch</th>\n",
       "      <th>train_loss</th>\n",
       "      <th>valid_loss</th>\n",
       "      <th>accuracy</th>\n",
       "      <th>precision_score</th>\n",
       "      <th>recall_score</th>\n",
       "      <th>time</th>\n",
       "    </tr>\n",
       "  </thead>\n",
       "  <tbody>\n",
       "    <tr>\n",
       "      <td>0</td>\n",
       "      <td>0.584525</td>\n",
       "      <td>0.421412</td>\n",
       "      <td>0.782136</td>\n",
       "      <td>0.824755</td>\n",
       "      <td>0.755331</td>\n",
       "      <td>00:34</td>\n",
       "    </tr>\n",
       "    <tr>\n",
       "      <td>1</td>\n",
       "      <td>0.595300</td>\n",
       "      <td>0.422667</td>\n",
       "      <td>0.774894</td>\n",
       "      <td>0.823750</td>\n",
       "      <td>0.739618</td>\n",
       "      <td>00:34</td>\n",
       "    </tr>\n",
       "    <tr>\n",
       "      <td>2</td>\n",
       "      <td>0.581222</td>\n",
       "      <td>0.428742</td>\n",
       "      <td>0.781533</td>\n",
       "      <td>0.843061</td>\n",
       "      <td>0.729517</td>\n",
       "      <td>00:35</td>\n",
       "    </tr>\n",
       "    <tr>\n",
       "      <td>3</td>\n",
       "      <td>0.579361</td>\n",
       "      <td>0.424893</td>\n",
       "      <td>0.773687</td>\n",
       "      <td>0.824937</td>\n",
       "      <td>0.735129</td>\n",
       "      <td>00:35</td>\n",
       "    </tr>\n",
       "  </tbody>\n",
       "</table>"
      ],
      "text/plain": [
       "<IPython.core.display.HTML object>"
      ]
     },
     "metadata": {},
     "output_type": "display_data"
    },
    {
     "name": "stdout",
     "output_type": "stream",
     "text": [
      "Better model found at epoch 0 with valid_loss value: 0.4214116930961609.\n"
     ]
    },
    {
     "data": {
      "image/png": "[encoded data removed]",
      "text/plain": [
       "<Figure size 432x288 with 1 Axes>"
      ]
     },
     "metadata": {},
     "output_type": "display_data"
    },
    {
     "name": "stdout",
     "output_type": "stream",
     "text": [
      "No improvement since epoch 0: early stopping\n"
     ]
    }
   ],
   "source": [
    "learn.fine_tune(50,base_lr=1e-5)"
   ]
  },
  {
   "cell_type": "code",
   "execution_count": 16,
   "metadata": {},
   "outputs": [],
   "source": [
    "learn.dls = dlsTest"
   ]
  },
  {
   "cell_type": "code",
   "execution_count": 17,
   "metadata": {},
   "outputs": [
    {
     "data": {
      "text/html": [],
      "text/plain": [
       "<IPython.core.display.HTML object>"
      ]
     },
     "metadata": {},
     "output_type": "display_data"
    },
    {
     "name": "stdout",
     "output_type": "stream",
     "text": [
      "Better model found at epoch 0 with valid_loss value: 0.5843520760536194.\n"
     ]
    },
    {
     "data": {
      "text/plain": [
       "(#4) [0.7186765670776367,0.5843520760536194,0.59958071278826,0.6574712643678161]"
      ]
     },
     "execution_count": 17,
     "metadata": {},
     "output_type": "execute_result"
    }
   ],
   "source": [
    "learn.validate()"
   ]
  },
  {
   "cell_type": "code",
   "execution_count": null,
   "metadata": {},
   "outputs": [],
   "source": []
  }
 ],
 "metadata": {
  "kernelspec": {
   "display_name": "Python 3",
   "language": "python",
   "name": "python3"
  },
  "language_info": {
   "codemirror_mode": {
    "name": "ipython",
    "version": 3
   },
   "file_extension": ".py",
   "mimetype": "text/x-python",
   "name": "python",
   "nbconvert_exporter": "python",
   "pygments_lexer": "ipython3",
   "version": "3.6.7"
  }
 },
 "nbformat": 4,
 "nbformat_minor": 4
}
