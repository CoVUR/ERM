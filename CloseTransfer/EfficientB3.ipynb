{
 "cells": [
  {
   "cell_type": "code",
   "execution_count": 1,
   "metadata": {},
   "outputs": [],
   "source": [
    "from fastai.vision.all import *\n",
    "import fastai\n",
    "from wwf.vision.timm import *\n",
    "import timm"
   ]
  },
  {
   "cell_type": "code",
   "execution_count": 2,
   "metadata": {},
   "outputs": [
    {
     "name": "stdout",
     "output_type": "stream",
     "text": [
      "Tue Mar  2 10:10:48 2021       \n",
      "+-----------------------------------------------------------------------------+\n",
      "| NVIDIA-SMI 418.67       Driver Version: 418.67       CUDA Version: 10.1     |\n",
      "|-------------------------------+----------------------+----------------------+\n",
      "| GPU  Name        Persistence-M| Bus-Id        Disp.A | Volatile Uncorr. ECC |\n",
      "| Fan  Temp  Perf  Pwr:Usage/Cap|         Memory-Usage | GPU-Util  Compute M. |\n",
      "|===============================+======================+======================|\n",
      "|   0  GeForce RTX 208...  Off  | 00000000:19:00.0 Off |                  N/A |\n",
      "| 45%   83C    P2   160W / 250W |  10919MiB / 10989MiB |     53%      Default |\n",
      "+-------------------------------+----------------------+----------------------+\n",
      "|   1  GeForce RTX 208...  Off  | 00000000:1A:00.0 Off |                  N/A |\n",
      "| 30%   45C    P8    15W / 250W |    165MiB / 10989MiB |      0%      Default |\n",
      "+-------------------------------+----------------------+----------------------+\n",
      "|   2  GeForce RTX 208...  Off  | 00000000:67:00.0 Off |                  N/A |\n",
      "| 33%   48C    P8     8W / 250W |   2106MiB / 10989MiB |      0%      Default |\n",
      "+-------------------------------+----------------------+----------------------+\n",
      "|   3  GeForce RTX 208...  Off  | 00000000:68:00.0 Off |                  N/A |\n",
      "| 32%   43C    P8    26W / 250W |    165MiB / 10986MiB |      0%      Default |\n",
      "+-------------------------------+----------------------+----------------------+\n",
      "                                                                               \n",
      "+-----------------------------------------------------------------------------+\n",
      "| Processes:                                                       GPU Memory |\n",
      "|  GPU       PID   Type   Process name                             Usage      |\n",
      "|=============================================================================|\n",
      "|    0     14882      C   python3                                    10909MiB |\n",
      "|    1     14882      C   python3                                      155MiB |\n",
      "|    2     14882      C   python3                                      155MiB |\n",
      "|    2     32215      C   ...n/.virtualenvs/segmentation/bin/python3  1941MiB |\n",
      "|    3     14882      C   python3                                      155MiB |\n",
      "+-----------------------------------------------------------------------------+\n"
     ]
    }
   ],
   "source": [
    "!nvidia-smi"
   ]
  },
  {
   "cell_type": "code",
   "execution_count": 3,
   "metadata": {},
   "outputs": [],
   "source": [
    "import torch\n",
    "torch.cuda.set_device(2)"
   ]
  },
  {
   "cell_type": "code",
   "execution_count": 4,
   "metadata": {},
   "outputs": [],
   "source": [
    "path = Path('datasetPrueba/')\n",
    "trainPath = path/'train'\n",
    "testPath = path/'test'"
   ]
  },
  {
   "cell_type": "code",
   "execution_count": 5,
   "metadata": {},
   "outputs": [],
   "source": [
    "def getDataBlock(presize=512,size=256):\n",
    "    return DataBlock(blocks = (ImageBlock, CategoryBlock),\n",
    "                 get_items=get_image_files, \n",
    "                 splitter=RandomSplitter(valid_pct=0.2,seed=42),\n",
    "                 get_y=parent_label,\n",
    "                 item_tfms = [Resize(presize)],\n",
    "                 batch_tfms=[*aug_transforms(size=size, min_scale=0.75,do_flip=True,flip_vert=True,\n",
    "                      max_rotate=180,pad_mode=PadMode.Zeros), Normalize.from_stats(*imagenet_stats)])"
   ]
  },
  {
   "cell_type": "code",
   "execution_count": 6,
   "metadata": {},
   "outputs": [],
   "source": [
    "db512 = getDataBlock(512,256)\n",
    "dls512 = db512.dataloaders(trainPath,bs=64)"
   ]
  },
  {
   "cell_type": "code",
   "execution_count": 7,
   "metadata": {},
   "outputs": [],
   "source": [
    "from fastai.vision.all import *\n",
    "callbacks = [\n",
    "    ShowGraphCallback(),\n",
    "    EarlyStoppingCallback(patience=3),\n",
    "    SaveModelCallback(fname='efficientnet_b3'),\n",
    "    MixUp(),\n",
    "]"
   ]
  },
  {
   "cell_type": "code",
   "execution_count": 8,
   "metadata": {},
   "outputs": [],
   "source": [
    "learn = timm_learner(dls512, 'efficientnet_b3',cbs = callbacks,metrics=[accuracy,Precision(),Recall()]).to_fp16()"
   ]
  },
  {
   "cell_type": "code",
   "execution_count": 9,
   "metadata": {
    "scrolled": false
   },
   "outputs": [],
   "source": [
    "#learn.lr_find()"
   ]
  },
  {
   "cell_type": "code",
   "execution_count": 10,
   "metadata": {},
   "outputs": [
    {
     "data": {
      "text/html": [
       "<table border=\"1\" class=\"dataframe\">\n",
       "  <thead>\n",
       "    <tr style=\"text-align: left;\">\n",
       "      <th>epoch</th>\n",
       "      <th>train_loss</th>\n",
       "      <th>valid_loss</th>\n",
       "      <th>accuracy</th>\n",
       "      <th>precision_score</th>\n",
       "      <th>recall_score</th>\n",
       "      <th>time</th>\n",
       "    </tr>\n",
       "  </thead>\n",
       "  <tbody>\n",
       "    <tr>\n",
       "      <td>0</td>\n",
       "      <td>1.109158</td>\n",
       "      <td>0.632770</td>\n",
       "      <td>0.704285</td>\n",
       "      <td>0.775791</td>\n",
       "      <td>0.632997</td>\n",
       "      <td>00:34</td>\n",
       "    </tr>\n",
       "  </tbody>\n",
       "</table>"
      ],
      "text/plain": [
       "<IPython.core.display.HTML object>"
      ]
     },
     "metadata": {},
     "output_type": "display_data"
    },
    {
     "name": "stdout",
     "output_type": "stream",
     "text": [
      "Better model found at epoch 0 with valid_loss value: 0.6327701210975647.\n"
     ]
    },
    {
     "data": {
      "image/png": "[encoded data removed]",
      "text/plain": [
       "<Figure size 432x288 with 1 Axes>"
      ]
     },
     "metadata": {},
     "output_type": "display_data"
    },
    {
     "data": {
      "text/html": [
       "<table border=\"1\" class=\"dataframe\">\n",
       "  <thead>\n",
       "    <tr style=\"text-align: left;\">\n",
       "      <th>epoch</th>\n",
       "      <th>train_loss</th>\n",
       "      <th>valid_loss</th>\n",
       "      <th>accuracy</th>\n",
       "      <th>precision_score</th>\n",
       "      <th>recall_score</th>\n",
       "      <th>time</th>\n",
       "    </tr>\n",
       "  </thead>\n",
       "  <tbody>\n",
       "    <tr>\n",
       "      <td>0</td>\n",
       "      <td>1.014431</td>\n",
       "      <td>0.597245</td>\n",
       "      <td>0.719372</td>\n",
       "      <td>0.770305</td>\n",
       "      <td>0.681257</td>\n",
       "      <td>00:41</td>\n",
       "    </tr>\n",
       "    <tr>\n",
       "      <td>1</td>\n",
       "      <td>1.011338</td>\n",
       "      <td>0.592155</td>\n",
       "      <td>0.725407</td>\n",
       "      <td>0.771820</td>\n",
       "      <td>0.694725</td>\n",
       "      <td>00:57</td>\n",
       "    </tr>\n",
       "    <tr>\n",
       "      <td>2</td>\n",
       "      <td>0.988868</td>\n",
       "      <td>0.576175</td>\n",
       "      <td>0.719372</td>\n",
       "      <td>0.760391</td>\n",
       "      <td>0.698092</td>\n",
       "      <td>00:41</td>\n",
       "    </tr>\n",
       "    <tr>\n",
       "      <td>3</td>\n",
       "      <td>0.945807</td>\n",
       "      <td>0.582236</td>\n",
       "      <td>0.733253</td>\n",
       "      <td>0.795007</td>\n",
       "      <td>0.679012</td>\n",
       "      <td>00:41</td>\n",
       "    </tr>\n",
       "    <tr>\n",
       "      <td>4</td>\n",
       "      <td>0.962906</td>\n",
       "      <td>0.583935</td>\n",
       "      <td>0.726011</td>\n",
       "      <td>0.801379</td>\n",
       "      <td>0.652076</td>\n",
       "      <td>00:52</td>\n",
       "    </tr>\n",
       "    <tr>\n",
       "      <td>5</td>\n",
       "      <td>0.951871</td>\n",
       "      <td>0.550770</td>\n",
       "      <td>0.741098</td>\n",
       "      <td>0.774347</td>\n",
       "      <td>0.731762</td>\n",
       "      <td>00:45</td>\n",
       "    </tr>\n",
       "    <tr>\n",
       "      <td>6</td>\n",
       "      <td>0.934545</td>\n",
       "      <td>0.558987</td>\n",
       "      <td>0.719372</td>\n",
       "      <td>0.775907</td>\n",
       "      <td>0.672278</td>\n",
       "      <td>00:41</td>\n",
       "    </tr>\n",
       "    <tr>\n",
       "      <td>7</td>\n",
       "      <td>0.907387</td>\n",
       "      <td>0.540324</td>\n",
       "      <td>0.743512</td>\n",
       "      <td>0.790524</td>\n",
       "      <td>0.711560</td>\n",
       "      <td>00:41</td>\n",
       "    </tr>\n",
       "    <tr>\n",
       "      <td>8</td>\n",
       "      <td>0.893749</td>\n",
       "      <td>0.542361</td>\n",
       "      <td>0.735063</td>\n",
       "      <td>0.789744</td>\n",
       "      <td>0.691358</td>\n",
       "      <td>00:41</td>\n",
       "    </tr>\n",
       "    <tr>\n",
       "      <td>9</td>\n",
       "      <td>0.884794</td>\n",
       "      <td>0.541687</td>\n",
       "      <td>0.738081</td>\n",
       "      <td>0.784558</td>\n",
       "      <td>0.707071</td>\n",
       "      <td>00:42</td>\n",
       "    </tr>\n",
       "    <tr>\n",
       "      <td>10</td>\n",
       "      <td>0.886578</td>\n",
       "      <td>0.524884</td>\n",
       "      <td>0.745323</td>\n",
       "      <td>0.797212</td>\n",
       "      <td>0.705948</td>\n",
       "      <td>00:41</td>\n",
       "    </tr>\n",
       "    <tr>\n",
       "      <td>11</td>\n",
       "      <td>0.905919</td>\n",
       "      <td>0.527002</td>\n",
       "      <td>0.744719</td>\n",
       "      <td>0.799233</td>\n",
       "      <td>0.701459</td>\n",
       "      <td>00:42</td>\n",
       "    </tr>\n",
       "    <tr>\n",
       "      <td>12</td>\n",
       "      <td>0.867695</td>\n",
       "      <td>0.502875</td>\n",
       "      <td>0.770066</td>\n",
       "      <td>0.801418</td>\n",
       "      <td>0.760943</td>\n",
       "      <td>00:42</td>\n",
       "    </tr>\n",
       "    <tr>\n",
       "      <td>13</td>\n",
       "      <td>0.857119</td>\n",
       "      <td>0.501268</td>\n",
       "      <td>0.761014</td>\n",
       "      <td>0.805933</td>\n",
       "      <td>0.731762</td>\n",
       "      <td>00:41</td>\n",
       "    </tr>\n",
       "    <tr>\n",
       "      <td>14</td>\n",
       "      <td>0.861219</td>\n",
       "      <td>0.510771</td>\n",
       "      <td>0.751358</td>\n",
       "      <td>0.808237</td>\n",
       "      <td>0.704826</td>\n",
       "      <td>00:41</td>\n",
       "    </tr>\n",
       "    <tr>\n",
       "      <td>15</td>\n",
       "      <td>0.833522</td>\n",
       "      <td>0.496699</td>\n",
       "      <td>0.762221</td>\n",
       "      <td>0.794083</td>\n",
       "      <td>0.753086</td>\n",
       "      <td>00:42</td>\n",
       "    </tr>\n",
       "    <tr>\n",
       "      <td>16</td>\n",
       "      <td>0.804440</td>\n",
       "      <td>0.477255</td>\n",
       "      <td>0.770670</td>\n",
       "      <td>0.792669</td>\n",
       "      <td>0.776655</td>\n",
       "      <td>00:41</td>\n",
       "    </tr>\n",
       "    <tr>\n",
       "      <td>17</td>\n",
       "      <td>0.817041</td>\n",
       "      <td>0.491992</td>\n",
       "      <td>0.754375</td>\n",
       "      <td>0.803258</td>\n",
       "      <td>0.719416</td>\n",
       "      <td>00:41</td>\n",
       "    </tr>\n",
       "    <tr>\n",
       "      <td>18</td>\n",
       "      <td>0.809373</td>\n",
       "      <td>0.498983</td>\n",
       "      <td>0.751961</td>\n",
       "      <td>0.826975</td>\n",
       "      <td>0.681257</td>\n",
       "      <td>00:41</td>\n",
       "    </tr>\n",
       "    <tr>\n",
       "      <td>19</td>\n",
       "      <td>0.814123</td>\n",
       "      <td>0.475274</td>\n",
       "      <td>0.768256</td>\n",
       "      <td>0.812577</td>\n",
       "      <td>0.739618</td>\n",
       "      <td>00:41</td>\n",
       "    </tr>\n",
       "    <tr>\n",
       "      <td>20</td>\n",
       "      <td>0.773355</td>\n",
       "      <td>0.478613</td>\n",
       "      <td>0.762221</td>\n",
       "      <td>0.810237</td>\n",
       "      <td>0.728395</td>\n",
       "      <td>00:41</td>\n",
       "    </tr>\n",
       "    <tr>\n",
       "      <td>21</td>\n",
       "      <td>0.763470</td>\n",
       "      <td>0.464299</td>\n",
       "      <td>0.776705</td>\n",
       "      <td>0.804678</td>\n",
       "      <td>0.772166</td>\n",
       "      <td>00:42</td>\n",
       "    </tr>\n",
       "    <tr>\n",
       "      <td>22</td>\n",
       "      <td>0.775163</td>\n",
       "      <td>0.460721</td>\n",
       "      <td>0.779722</td>\n",
       "      <td>0.787746</td>\n",
       "      <td>0.808081</td>\n",
       "      <td>00:42</td>\n",
       "    </tr>\n",
       "    <tr>\n",
       "      <td>23</td>\n",
       "      <td>0.759116</td>\n",
       "      <td>0.449839</td>\n",
       "      <td>0.784550</td>\n",
       "      <td>0.815603</td>\n",
       "      <td>0.774411</td>\n",
       "      <td>00:42</td>\n",
       "    </tr>\n",
       "    <tr>\n",
       "      <td>24</td>\n",
       "      <td>0.733795</td>\n",
       "      <td>0.452228</td>\n",
       "      <td>0.782136</td>\n",
       "      <td>0.802511</td>\n",
       "      <td>0.789001</td>\n",
       "      <td>00:42</td>\n",
       "    </tr>\n",
       "    <tr>\n",
       "      <td>25</td>\n",
       "      <td>0.734079</td>\n",
       "      <td>0.452290</td>\n",
       "      <td>0.779722</td>\n",
       "      <td>0.800228</td>\n",
       "      <td>0.786756</td>\n",
       "      <td>00:41</td>\n",
       "    </tr>\n",
       "    <tr>\n",
       "      <td>26</td>\n",
       "      <td>0.725974</td>\n",
       "      <td>0.453694</td>\n",
       "      <td>0.767049</td>\n",
       "      <td>0.781494</td>\n",
       "      <td>0.786756</td>\n",
       "      <td>00:42</td>\n",
       "    </tr>\n",
       "  </tbody>\n",
       "</table>"
      ],
      "text/plain": [
       "<IPython.core.display.HTML object>"
      ]
     },
     "metadata": {},
     "output_type": "display_data"
    },
    {
     "name": "stdout",
     "output_type": "stream",
     "text": [
      "Better model found at epoch 0 with valid_loss value: 0.5972447991371155.\n"
     ]
    },
    {
     "data": {
      "image/png": "[encoded data removed]",
      "text/plain": [
       "<Figure size 432x288 with 1 Axes>"
      ]
     },
     "metadata": {},
     "output_type": "display_data"
    },
    {
     "name": "stdout",
     "output_type": "stream",
     "text": [
      "Better model found at epoch 1 with valid_loss value: 0.5921551585197449.\n",
      "Better model found at epoch 2 with valid_loss value: 0.5761750936508179.\n",
      "Better model found at epoch 5 with valid_loss value: 0.5507698059082031.\n",
      "Better model found at epoch 7 with valid_loss value: 0.5403236150741577.\n",
      "Better model found at epoch 10 with valid_loss value: 0.5248842835426331.\n",
      "Better model found at epoch 12 with valid_loss value: 0.5028746724128723.\n",
      "Better model found at epoch 13 with valid_loss value: 0.5012679696083069.\n",
      "Better model found at epoch 15 with valid_loss value: 0.49669867753982544.\n",
      "Better model found at epoch 16 with valid_loss value: 0.4772552251815796.\n",
      "Better model found at epoch 19 with valid_loss value: 0.4752741754055023.\n",
      "Better model found at epoch 21 with valid_loss value: 0.4642987847328186.\n",
      "Better model found at epoch 22 with valid_loss value: 0.4607212543487549.\n",
      "Better model found at epoch 23 with valid_loss value: 0.44983941316604614.\n",
      "No improvement since epoch 23: early stopping\n"
     ]
    }
   ],
   "source": [
    "learn.fine_tune(100,base_lr=1e-4)"
   ]
  },
  {
   "cell_type": "code",
   "execution_count": 11,
   "metadata": {},
   "outputs": [],
   "source": [
    "path = Path('dataset/')\n",
    "trainPath = path/'train'\n",
    "testPath = path/'test'"
   ]
  },
  {
   "cell_type": "code",
   "execution_count": 12,
   "metadata": {},
   "outputs": [],
   "source": [
    "dbTest = DataBlock(blocks = (ImageBlock, CategoryBlock),\n",
    "                 get_items=get_image_files, \n",
    "                 splitter=GrandparentSplitter(valid_name='test'),\n",
    "                 get_y=parent_label,\n",
    "                 item_tfms = Resize(512),\n",
    "                 batch_tfms=[*aug_transforms(size=256, min_scale=0.75), Normalize.from_stats(*imagenet_stats)])\n",
    "dlsTest = dbTest.dataloaders(path,bs=32)"
   ]
  },
  {
   "cell_type": "code",
   "execution_count": 13,
   "metadata": {},
   "outputs": [],
   "source": [
    "db512 = getDataBlock(512,256)\n",
    "dls512 = db512.dataloaders(trainPath,bs=64)"
   ]
  },
  {
   "cell_type": "code",
   "execution_count": 14,
   "metadata": {},
   "outputs": [],
   "source": [
    "learn.freeze()"
   ]
  },
  {
   "cell_type": "code",
   "execution_count": 15,
   "metadata": {},
   "outputs": [],
   "source": [
    "learn.dls=dls512"
   ]
  },
  {
   "cell_type": "code",
   "execution_count": 14,
   "metadata": {},
   "outputs": [],
   "source": [
    "#learn.load('hrnet')"
   ]
  },
  {
   "cell_type": "code",
   "execution_count": 16,
   "metadata": {},
   "outputs": [
    {
     "data": {
      "text/html": [],
      "text/plain": [
       "<IPython.core.display.HTML object>"
      ]
     },
     "metadata": {},
     "output_type": "display_data"
    },
    {
     "data": {
      "text/plain": [
       "SuggestedLRs(lr_min=0.07585775852203369, lr_steep=0.6309573650360107)"
      ]
     },
     "execution_count": 16,
     "metadata": {},
     "output_type": "execute_result"
    },
    {
     "data": {
      "image/png": "[encoded data removed]",
      "text/plain": [
       "<Figure size 432x288 with 1 Axes>"
      ]
     },
     "metadata": {
      "needs_background": "light"
     },
     "output_type": "display_data"
    }
   ],
   "source": [
    "#learn.lr_find()"
   ]
  },
  {
   "cell_type": "code",
   "execution_count": 16,
   "metadata": {},
   "outputs": [
    {
     "data": {
      "text/html": [
       "<table border=\"1\" class=\"dataframe\">\n",
       "  <thead>\n",
       "    <tr style=\"text-align: left;\">\n",
       "      <th>epoch</th>\n",
       "      <th>train_loss</th>\n",
       "      <th>valid_loss</th>\n",
       "      <th>accuracy</th>\n",
       "      <th>precision_score</th>\n",
       "      <th>recall_score</th>\n",
       "      <th>time</th>\n",
       "    </tr>\n",
       "  </thead>\n",
       "  <tbody>\n",
       "    <tr>\n",
       "      <td>0</td>\n",
       "      <td>1.080475</td>\n",
       "      <td>0.808601</td>\n",
       "      <td>0.539755</td>\n",
       "      <td>0.523288</td>\n",
       "      <td>0.600629</td>\n",
       "      <td>00:15</td>\n",
       "    </tr>\n",
       "  </tbody>\n",
       "</table>"
      ],
      "text/plain": [
       "<IPython.core.display.HTML object>"
      ]
     },
     "metadata": {},
     "output_type": "display_data"
    },
    {
     "name": "stdout",
     "output_type": "stream",
     "text": [
      "Better model found at epoch 0 with valid_loss value: 0.8086010217666626.\n"
     ]
    },
    {
     "data": {
      "image/png": "[encoded data removed]",
      "text/plain": [
       "<Figure size 432x288 with 1 Axes>"
      ]
     },
     "metadata": {},
     "output_type": "display_data"
    },
    {
     "data": {
      "text/html": [
       "<table border=\"1\" class=\"dataframe\">\n",
       "  <thead>\n",
       "    <tr style=\"text-align: left;\">\n",
       "      <th>epoch</th>\n",
       "      <th>train_loss</th>\n",
       "      <th>valid_loss</th>\n",
       "      <th>accuracy</th>\n",
       "      <th>precision_score</th>\n",
       "      <th>recall_score</th>\n",
       "      <th>time</th>\n",
       "    </tr>\n",
       "  </thead>\n",
       "  <tbody>\n",
       "    <tr>\n",
       "      <td>0</td>\n",
       "      <td>1.055502</td>\n",
       "      <td>0.813830</td>\n",
       "      <td>0.536697</td>\n",
       "      <td>0.520776</td>\n",
       "      <td>0.591195</td>\n",
       "      <td>00:18</td>\n",
       "    </tr>\n",
       "    <tr>\n",
       "      <td>1</td>\n",
       "      <td>1.063841</td>\n",
       "      <td>0.803244</td>\n",
       "      <td>0.555046</td>\n",
       "      <td>0.535620</td>\n",
       "      <td>0.638365</td>\n",
       "      <td>00:18</td>\n",
       "    </tr>\n",
       "    <tr>\n",
       "      <td>2</td>\n",
       "      <td>1.046348</td>\n",
       "      <td>0.799745</td>\n",
       "      <td>0.567278</td>\n",
       "      <td>0.547425</td>\n",
       "      <td>0.635220</td>\n",
       "      <td>00:18</td>\n",
       "    </tr>\n",
       "    <tr>\n",
       "      <td>3</td>\n",
       "      <td>1.042014</td>\n",
       "      <td>0.788791</td>\n",
       "      <td>0.565749</td>\n",
       "      <td>0.548571</td>\n",
       "      <td>0.603774</td>\n",
       "      <td>00:18</td>\n",
       "    </tr>\n",
       "    <tr>\n",
       "      <td>4</td>\n",
       "      <td>1.052007</td>\n",
       "      <td>0.805798</td>\n",
       "      <td>0.548930</td>\n",
       "      <td>0.531856</td>\n",
       "      <td>0.603774</td>\n",
       "      <td>00:18</td>\n",
       "    </tr>\n",
       "    <tr>\n",
       "      <td>5</td>\n",
       "      <td>1.051255</td>\n",
       "      <td>0.801178</td>\n",
       "      <td>0.551988</td>\n",
       "      <td>0.533333</td>\n",
       "      <td>0.628931</td>\n",
       "      <td>00:18</td>\n",
       "    </tr>\n",
       "    <tr>\n",
       "      <td>6</td>\n",
       "      <td>1.028272</td>\n",
       "      <td>0.786318</td>\n",
       "      <td>0.551988</td>\n",
       "      <td>0.532300</td>\n",
       "      <td>0.647799</td>\n",
       "      <td>00:18</td>\n",
       "    </tr>\n",
       "    <tr>\n",
       "      <td>7</td>\n",
       "      <td>1.038930</td>\n",
       "      <td>0.784583</td>\n",
       "      <td>0.547401</td>\n",
       "      <td>0.529891</td>\n",
       "      <td>0.613208</td>\n",
       "      <td>00:18</td>\n",
       "    </tr>\n",
       "    <tr>\n",
       "      <td>8</td>\n",
       "      <td>1.037248</td>\n",
       "      <td>0.781221</td>\n",
       "      <td>0.548930</td>\n",
       "      <td>0.529716</td>\n",
       "      <td>0.644654</td>\n",
       "      <td>00:18</td>\n",
       "    </tr>\n",
       "    <tr>\n",
       "      <td>9</td>\n",
       "      <td>1.030166</td>\n",
       "      <td>0.763456</td>\n",
       "      <td>0.565749</td>\n",
       "      <td>0.545699</td>\n",
       "      <td>0.638365</td>\n",
       "      <td>00:18</td>\n",
       "    </tr>\n",
       "    <tr>\n",
       "      <td>10</td>\n",
       "      <td>1.023567</td>\n",
       "      <td>0.780236</td>\n",
       "      <td>0.565749</td>\n",
       "      <td>0.543147</td>\n",
       "      <td>0.672956</td>\n",
       "      <td>00:18</td>\n",
       "    </tr>\n",
       "    <tr>\n",
       "      <td>11</td>\n",
       "      <td>1.021644</td>\n",
       "      <td>0.768970</td>\n",
       "      <td>0.567278</td>\n",
       "      <td>0.545455</td>\n",
       "      <td>0.660377</td>\n",
       "      <td>00:18</td>\n",
       "    </tr>\n",
       "    <tr>\n",
       "      <td>12</td>\n",
       "      <td>1.009535</td>\n",
       "      <td>0.759939</td>\n",
       "      <td>0.591743</td>\n",
       "      <td>0.565217</td>\n",
       "      <td>0.694969</td>\n",
       "      <td>00:18</td>\n",
       "    </tr>\n",
       "    <tr>\n",
       "      <td>13</td>\n",
       "      <td>1.034813</td>\n",
       "      <td>0.755314</td>\n",
       "      <td>0.565749</td>\n",
       "      <td>0.544271</td>\n",
       "      <td>0.657233</td>\n",
       "      <td>00:18</td>\n",
       "    </tr>\n",
       "    <tr>\n",
       "      <td>14</td>\n",
       "      <td>1.004114</td>\n",
       "      <td>0.750926</td>\n",
       "      <td>0.570336</td>\n",
       "      <td>0.546366</td>\n",
       "      <td>0.685535</td>\n",
       "      <td>00:18</td>\n",
       "    </tr>\n",
       "    <tr>\n",
       "      <td>15</td>\n",
       "      <td>1.000727</td>\n",
       "      <td>0.751985</td>\n",
       "      <td>0.577982</td>\n",
       "      <td>0.556150</td>\n",
       "      <td>0.654088</td>\n",
       "      <td>00:18</td>\n",
       "    </tr>\n",
       "    <tr>\n",
       "      <td>16</td>\n",
       "      <td>0.988001</td>\n",
       "      <td>0.751579</td>\n",
       "      <td>0.570336</td>\n",
       "      <td>0.547804</td>\n",
       "      <td>0.666667</td>\n",
       "      <td>00:18</td>\n",
       "    </tr>\n",
       "    <tr>\n",
       "      <td>17</td>\n",
       "      <td>0.978234</td>\n",
       "      <td>0.748784</td>\n",
       "      <td>0.567278</td>\n",
       "      <td>0.545692</td>\n",
       "      <td>0.657233</td>\n",
       "      <td>00:18</td>\n",
       "    </tr>\n",
       "    <tr>\n",
       "      <td>18</td>\n",
       "      <td>0.993762</td>\n",
       "      <td>0.741175</td>\n",
       "      <td>0.596330</td>\n",
       "      <td>0.568878</td>\n",
       "      <td>0.701258</td>\n",
       "      <td>00:18</td>\n",
       "    </tr>\n",
       "    <tr>\n",
       "      <td>19</td>\n",
       "      <td>0.998431</td>\n",
       "      <td>0.737558</td>\n",
       "      <td>0.559633</td>\n",
       "      <td>0.540541</td>\n",
       "      <td>0.628931</td>\n",
       "      <td>00:18</td>\n",
       "    </tr>\n",
       "    <tr>\n",
       "      <td>20</td>\n",
       "      <td>0.984077</td>\n",
       "      <td>0.734930</td>\n",
       "      <td>0.574924</td>\n",
       "      <td>0.552356</td>\n",
       "      <td>0.663522</td>\n",
       "      <td>00:18</td>\n",
       "    </tr>\n",
       "    <tr>\n",
       "      <td>21</td>\n",
       "      <td>0.986468</td>\n",
       "      <td>0.736621</td>\n",
       "      <td>0.568807</td>\n",
       "      <td>0.545685</td>\n",
       "      <td>0.676101</td>\n",
       "      <td>00:18</td>\n",
       "    </tr>\n",
       "    <tr>\n",
       "      <td>22</td>\n",
       "      <td>0.979729</td>\n",
       "      <td>0.732440</td>\n",
       "      <td>0.577982</td>\n",
       "      <td>0.554124</td>\n",
       "      <td>0.676101</td>\n",
       "      <td>00:18</td>\n",
       "    </tr>\n",
       "    <tr>\n",
       "      <td>23</td>\n",
       "      <td>0.984659</td>\n",
       "      <td>0.738035</td>\n",
       "      <td>0.579511</td>\n",
       "      <td>0.553350</td>\n",
       "      <td>0.701258</td>\n",
       "      <td>00:18</td>\n",
       "    </tr>\n",
       "    <tr>\n",
       "      <td>24</td>\n",
       "      <td>0.993458</td>\n",
       "      <td>0.740440</td>\n",
       "      <td>0.590214</td>\n",
       "      <td>0.564433</td>\n",
       "      <td>0.688679</td>\n",
       "      <td>00:18</td>\n",
       "    </tr>\n",
       "    <tr>\n",
       "      <td>25</td>\n",
       "      <td>0.977613</td>\n",
       "      <td>0.737614</td>\n",
       "      <td>0.565749</td>\n",
       "      <td>0.543814</td>\n",
       "      <td>0.663522</td>\n",
       "      <td>00:18</td>\n",
       "    </tr>\n",
       "  </tbody>\n",
       "</table>"
      ],
      "text/plain": [
       "<IPython.core.display.HTML object>"
      ]
     },
     "metadata": {},
     "output_type": "display_data"
    },
    {
     "name": "stdout",
     "output_type": "stream",
     "text": [
      "Better model found at epoch 0 with valid_loss value: 0.8138300776481628.\n"
     ]
    },
    {
     "data": {
      "image/png": "[encoded data removed]",
      "text/plain": [
       "<Figure size 432x288 with 1 Axes>"
      ]
     },
     "metadata": {},
     "output_type": "display_data"
    },
    {
     "name": "stdout",
     "output_type": "stream",
     "text": [
      "Better model found at epoch 1 with valid_loss value: 0.8032444715499878.\n",
      "Better model found at epoch 2 with valid_loss value: 0.7997452616691589.\n",
      "Better model found at epoch 3 with valid_loss value: 0.7887909412384033.\n",
      "Better model found at epoch 6 with valid_loss value: 0.7863180637359619.\n",
      "Better model found at epoch 7 with valid_loss value: 0.7845825552940369.\n",
      "Better model found at epoch 8 with valid_loss value: 0.7812208533287048.\n",
      "Better model found at epoch 9 with valid_loss value: 0.7634559869766235.\n",
      "Better model found at epoch 12 with valid_loss value: 0.7599389553070068.\n",
      "Better model found at epoch 13 with valid_loss value: 0.7553139925003052.\n",
      "Better model found at epoch 14 with valid_loss value: 0.7509260773658752.\n",
      "Better model found at epoch 17 with valid_loss value: 0.7487835884094238.\n",
      "Better model found at epoch 18 with valid_loss value: 0.7411753535270691.\n",
      "Better model found at epoch 19 with valid_loss value: 0.7375583052635193.\n",
      "Better model found at epoch 20 with valid_loss value: 0.7349304556846619.\n",
      "Better model found at epoch 22 with valid_loss value: 0.7324397563934326.\n",
      "No improvement since epoch 22: early stopping\n"
     ]
    }
   ],
   "source": [
    "learn.fine_tune(50,base_lr=1e-5)"
   ]
  },
  {
   "cell_type": "code",
   "execution_count": 17,
   "metadata": {},
   "outputs": [],
   "source": [
    "learn.dls = dlsTest"
   ]
  },
  {
   "cell_type": "code",
   "execution_count": 18,
   "metadata": {},
   "outputs": [
    {
     "data": {
      "text/html": [],
      "text/plain": [
       "<IPython.core.display.HTML object>"
      ]
     },
     "metadata": {},
     "output_type": "display_data"
    },
    {
     "name": "stdout",
     "output_type": "stream",
     "text": [
      "Better model found at epoch 0 with valid_loss value: 0.6075794696807861.\n"
     ]
    },
    {
     "data": {
      "text/plain": [
       "(#4) [nan,0.6075794696807861,0.6244541484716157,0.6574712643678161]"
      ]
     },
     "execution_count": 18,
     "metadata": {},
     "output_type": "execute_result"
    }
   ],
   "source": [
    "learn.validate()"
   ]
  },
  {
   "cell_type": "code",
   "execution_count": null,
   "metadata": {},
   "outputs": [],
   "source": []
  }
 ],
 "metadata": {
  "kernelspec": {
   "display_name": "Python 3",
   "language": "python",
   "name": "python3"
  },
  "language_info": {
   "codemirror_mode": {
    "name": "ipython",
    "version": 3
   },
   "file_extension": ".py",
   "mimetype": "text/x-python",
   "name": "python",
   "nbconvert_exporter": "python",
   "pygments_lexer": "ipython3",
   "version": "3.6.7"
  }
 },
 "nbformat": 4,
 "nbformat_minor": 4
}
