{
 "cells": [
  {
   "cell_type": "code",
   "execution_count": null,
   "metadata": {
    "colab": {
     "base_uri": "https://localhost:8080/"
    },
    "executionInfo": {
     "elapsed": 169430,
     "status": "ok",
     "timestamp": 1615227165906,
     "user": {
      "displayName": "Adrián Inés",
      "photoUrl": "",
      "userId": "05591729960422855292"
     },
     "user_tz": -60
    },
    "id": "imCErW8rFW6h",
    "outputId": "0eaf0450-5a78-40d6-d7d8-acfbed3708b4"
   },
   "outputs": [
    {
     "name": "stdout",
     "output_type": "stream",
     "text": [
      "Collecting fastai\n",
      "\u001b[?25l  Downloading https://files.pythonhosted.org/packages/79/50/0b81742909d433ef5b67b4417597b41cd37b38a073714bc83dc150c81b2f/fastai-2.2.7-py3-none-any.whl (193kB)\n",
      "\r",
      "\u001b[K     |█▊                              | 10kB 19.8MB/s eta 0:00:01\r",
      "\u001b[K     |███▍                            | 20kB 14.7MB/s eta 0:00:01\r",
      "\u001b[K     |█████                           | 30kB 12.9MB/s eta 0:00:01\r",
      "\u001b[K     |██████▉                         | 40kB 12.0MB/s eta 0:00:01\r",
      "\u001b[K     |████████▌                       | 51kB 8.5MB/s eta 0:00:01\r",
      "\u001b[K     |██████████▏                     | 61kB 7.6MB/s eta 0:00:01\r",
      "\u001b[K     |███████████▉                    | 71kB 8.6MB/s eta 0:00:01\r",
      "\u001b[K     |█████████████▋                  | 81kB 9.6MB/s eta 0:00:01\r",
      "\u001b[K     |███████████████▎                | 92kB 10.0MB/s eta 0:00:01\r",
      "\u001b[K     |█████████████████               | 102kB 7.9MB/s eta 0:00:01\r",
      "\u001b[K     |██████████████████▋             | 112kB 7.9MB/s eta 0:00:01\r",
      "\u001b[K     |████████████████████▍           | 122kB 7.9MB/s eta 0:00:01\r",
      "\u001b[K     |██████████████████████          | 133kB 7.9MB/s eta 0:00:01\r",
      "\u001b[K     |███████████████████████▊        | 143kB 7.9MB/s eta 0:00:01\r",
      "\u001b[K     |█████████████████████████▍      | 153kB 7.9MB/s eta 0:00:01\r",
      "\u001b[K     |███████████████████████████▏    | 163kB 7.9MB/s eta 0:00:01\r",
      "\u001b[K     |████████████████████████████▉   | 174kB 7.9MB/s eta 0:00:01\r",
      "\u001b[K     |██████████████████████████████▌ | 184kB 7.9MB/s eta 0:00:01\r",
      "\u001b[K     |████████████████████████████████| 194kB 7.9MB/s \n",
      "\u001b[?25hRequirement already satisfied, skipping upgrade: pyyaml in /usr/local/lib/python3.7/dist-packages (from fastai) (3.13)\n",
      "Requirement already satisfied, skipping upgrade: pandas in /usr/local/lib/python3.7/dist-packages (from fastai) (1.1.5)\n",
      "Requirement already satisfied, skipping upgrade: fastprogress>=0.2.4 in /usr/local/lib/python3.7/dist-packages (from fastai) (1.0.0)\n",
      "Collecting fastcore<1.4,>=1.3.8\n",
      "\u001b[?25l  Downloading https://files.pythonhosted.org/packages/0c/98/60404e2817cff113a6ae4023bc1772e23179408fdf7857fa410551758dfe/fastcore-1.3.19-py3-none-any.whl (53kB)\n",
      "\u001b[K     |████████████████████████████████| 61kB 6.8MB/s \n",
      "\u001b[?25hCollecting torchvision<0.9,>=0.8\n",
      "\u001b[?25l  Downloading https://files.pythonhosted.org/packages/94/df/969e69a94cff1c8911acb0688117f95e1915becc1e01c73e7960a2c76ec8/torchvision-0.8.2-cp37-cp37m-manylinux1_x86_64.whl (12.8MB)\n",
      "\u001b[K     |████████████████████████████████| 12.8MB 220kB/s \n",
      "\u001b[?25hRequirement already satisfied, skipping upgrade: matplotlib in /usr/local/lib/python3.7/dist-packages (from fastai) (3.2.2)\n",
      "Requirement already satisfied, skipping upgrade: pillow>6.0.0 in /usr/local/lib/python3.7/dist-packages (from fastai) (7.0.0)\n",
      "Requirement already satisfied, skipping upgrade: scikit-learn in /usr/local/lib/python3.7/dist-packages (from fastai) (0.22.2.post1)\n",
      "Requirement already satisfied, skipping upgrade: scipy in /usr/local/lib/python3.7/dist-packages (from fastai) (1.4.1)\n",
      "Collecting torch<1.8,>=1.7.0\n",
      "\u001b[?25l  Downloading https://files.pythonhosted.org/packages/90/5d/095ddddc91c8a769a68c791c019c5793f9c4456a688ddd235d6670924ecb/torch-1.7.1-cp37-cp37m-manylinux1_x86_64.whl (776.8MB)\n",
      "\u001b[K     |████████████████████████████████| 776.8MB 23kB/s \n",
      "\u001b[?25hRequirement already satisfied, skipping upgrade: spacy<3 in /usr/local/lib/python3.7/dist-packages (from fastai) (2.2.4)\n",
      "Requirement already satisfied, skipping upgrade: requests in /usr/local/lib/python3.7/dist-packages (from fastai) (2.23.0)\n",
      "Requirement already satisfied, skipping upgrade: pip in /usr/local/lib/python3.7/dist-packages (from fastai) (19.3.1)\n",
      "Requirement already satisfied, skipping upgrade: packaging in /usr/local/lib/python3.7/dist-packages (from fastai) (20.9)\n",
      "Requirement already satisfied, skipping upgrade: numpy>=1.15.4 in /usr/local/lib/python3.7/dist-packages (from pandas->fastai) (1.19.5)\n",
      "Requirement already satisfied, skipping upgrade: python-dateutil>=2.7.3 in /usr/local/lib/python3.7/dist-packages (from pandas->fastai) (2.8.1)\n",
      "Requirement already satisfied, skipping upgrade: pytz>=2017.2 in /usr/local/lib/python3.7/dist-packages (from pandas->fastai) (2018.9)\n",
      "Requirement already satisfied, skipping upgrade: pyparsing!=2.0.4,!=2.1.2,!=2.1.6,>=2.0.1 in /usr/local/lib/python3.7/dist-packages (from matplotlib->fastai) (2.4.7)\n",
      "Requirement already satisfied, skipping upgrade: kiwisolver>=1.0.1 in /usr/local/lib/python3.7/dist-packages (from matplotlib->fastai) (1.3.1)\n",
      "Requirement already satisfied, skipping upgrade: cycler>=0.10 in /usr/local/lib/python3.7/dist-packages (from matplotlib->fastai) (0.10.0)\n",
      "Requirement already satisfied, skipping upgrade: joblib>=0.11 in /usr/local/lib/python3.7/dist-packages (from scikit-learn->fastai) (1.0.1)\n",
      "Requirement already satisfied, skipping upgrade: typing-extensions in /usr/local/lib/python3.7/dist-packages (from torch<1.8,>=1.7.0->fastai) (3.7.4.3)\n",
      "Requirement already satisfied, skipping upgrade: murmurhash<1.1.0,>=0.28.0 in /usr/local/lib/python3.7/dist-packages (from spacy<3->fastai) (1.0.5)\n",
      "Requirement already satisfied, skipping upgrade: setuptools in /usr/local/lib/python3.7/dist-packages (from spacy<3->fastai) (54.0.0)\n",
      "Requirement already satisfied, skipping upgrade: srsly<1.1.0,>=1.0.2 in /usr/local/lib/python3.7/dist-packages (from spacy<3->fastai) (1.0.5)\n",
      "Requirement already satisfied, skipping upgrade: cymem<2.1.0,>=2.0.2 in /usr/local/lib/python3.7/dist-packages (from spacy<3->fastai) (2.0.5)\n",
      "Requirement already satisfied, skipping upgrade: blis<0.5.0,>=0.4.0 in /usr/local/lib/python3.7/dist-packages (from spacy<3->fastai) (0.4.1)\n",
      "Requirement already satisfied, skipping upgrade: catalogue<1.1.0,>=0.0.7 in /usr/local/lib/python3.7/dist-packages (from spacy<3->fastai) (1.0.0)\n",
      "Requirement already satisfied, skipping upgrade: plac<1.2.0,>=0.9.6 in /usr/local/lib/python3.7/dist-packages (from spacy<3->fastai) (1.1.3)\n",
      "Requirement already satisfied, skipping upgrade: thinc==7.4.0 in /usr/local/lib/python3.7/dist-packages (from spacy<3->fastai) (7.4.0)\n",
      "Requirement already satisfied, skipping upgrade: wasabi<1.1.0,>=0.4.0 in /usr/local/lib/python3.7/dist-packages (from spacy<3->fastai) (0.8.2)\n",
      "Requirement already satisfied, skipping upgrade: preshed<3.1.0,>=3.0.2 in /usr/local/lib/python3.7/dist-packages (from spacy<3->fastai) (3.0.5)\n",
      "Requirement already satisfied, skipping upgrade: tqdm<5.0.0,>=4.38.0 in /usr/local/lib/python3.7/dist-packages (from spacy<3->fastai) (4.41.1)\n",
      "Requirement already satisfied, skipping upgrade: chardet<4,>=3.0.2 in /usr/local/lib/python3.7/dist-packages (from requests->fastai) (3.0.4)\n",
      "Requirement already satisfied, skipping upgrade: certifi>=2017.4.17 in /usr/local/lib/python3.7/dist-packages (from requests->fastai) (2020.12.5)\n",
      "Requirement already satisfied, skipping upgrade: urllib3!=1.25.0,!=1.25.1,<1.26,>=1.21.1 in /usr/local/lib/python3.7/dist-packages (from requests->fastai) (1.24.3)\n",
      "Requirement already satisfied, skipping upgrade: idna<3,>=2.5 in /usr/local/lib/python3.7/dist-packages (from requests->fastai) (2.10)\n",
      "Requirement already satisfied, skipping upgrade: six>=1.5 in /usr/local/lib/python3.7/dist-packages (from python-dateutil>=2.7.3->pandas->fastai) (1.15.0)\n",
      "Requirement already satisfied, skipping upgrade: importlib-metadata>=0.20; python_version < \"3.8\" in /usr/local/lib/python3.7/dist-packages (from catalogue<1.1.0,>=0.0.7->spacy<3->fastai) (3.7.0)\n",
      "Requirement already satisfied, skipping upgrade: zipp>=0.5 in /usr/local/lib/python3.7/dist-packages (from importlib-metadata>=0.20; python_version < \"3.8\"->catalogue<1.1.0,>=0.0.7->spacy<3->fastai) (3.4.1)\n",
      "\u001b[31mERROR: torchtext 0.9.0 has requirement torch==1.8.0, but you'll have torch 1.7.1 which is incompatible.\u001b[0m\n",
      "Installing collected packages: fastcore, torch, torchvision, fastai\n",
      "  Found existing installation: torch 1.8.0+cu101\n",
      "    Uninstalling torch-1.8.0+cu101:\n",
      "      Successfully uninstalled torch-1.8.0+cu101\n",
      "  Found existing installation: torchvision 0.9.0+cu101\n",
      "    Uninstalling torchvision-0.9.0+cu101:\n",
      "      Successfully uninstalled torchvision-0.9.0+cu101\n",
      "  Found existing installation: fastai 1.0.61\n",
      "    Uninstalling fastai-1.0.61:\n",
      "      Successfully uninstalled fastai-1.0.61\n",
      "Successfully installed fastai-2.2.7 fastcore-1.3.19 torch-1.7.1 torchvision-0.8.2\n",
      "Collecting timm\n",
      "\u001b[?25l  Downloading https://files.pythonhosted.org/packages/9e/89/d94f59780b5dd973154bf506d8ce598f6bfe7cc44dd445d644d6d3be8c39/timm-0.4.5-py3-none-any.whl (287kB)\n",
      "\u001b[K     |████████████████████████████████| 296kB 7.5MB/s \n",
      "\u001b[?25hCollecting wwf\n",
      "  Downloading https://files.pythonhosted.org/packages/ba/be/97ea893a061675865a5bb4ccd75b74942104574e3770636b31837a23c7b6/wwf-0.0.13-py3-none-any.whl\n",
      "Requirement already satisfied: torch>=1.4 in /usr/local/lib/python3.7/dist-packages (from timm) (1.7.1)\n",
      "Requirement already satisfied: torchvision in /usr/local/lib/python3.7/dist-packages (from timm) (0.8.2)\n",
      "Requirement already satisfied: fastcore>=1.0.0 in /usr/local/lib/python3.7/dist-packages (from wwf) (1.3.19)\n",
      "Requirement already satisfied: fastai>=2.0.0 in /usr/local/lib/python3.7/dist-packages (from wwf) (2.2.7)\n",
      "Requirement already satisfied: numpy in /usr/local/lib/python3.7/dist-packages (from torch>=1.4->timm) (1.19.5)\n",
      "Requirement already satisfied: typing-extensions in /usr/local/lib/python3.7/dist-packages (from torch>=1.4->timm) (3.7.4.3)\n",
      "Requirement already satisfied: pillow>=4.1.1 in /usr/local/lib/python3.7/dist-packages (from torchvision->timm) (7.0.0)\n",
      "Requirement already satisfied: packaging in /usr/local/lib/python3.7/dist-packages (from fastcore>=1.0.0->wwf) (20.9)\n",
      "Requirement already satisfied: pip in /usr/local/lib/python3.7/dist-packages (from fastcore>=1.0.0->wwf) (19.3.1)\n",
      "Requirement already satisfied: spacy<3 in /usr/local/lib/python3.7/dist-packages (from fastai>=2.0.0->wwf) (2.2.4)\n",
      "Requirement already satisfied: scikit-learn in /usr/local/lib/python3.7/dist-packages (from fastai>=2.0.0->wwf) (0.22.2.post1)\n",
      "Requirement already satisfied: pandas in /usr/local/lib/python3.7/dist-packages (from fastai>=2.0.0->wwf) (1.1.5)\n",
      "Requirement already satisfied: requests in /usr/local/lib/python3.7/dist-packages (from fastai>=2.0.0->wwf) (2.23.0)\n",
      "Requirement already satisfied: fastprogress>=0.2.4 in /usr/local/lib/python3.7/dist-packages (from fastai>=2.0.0->wwf) (1.0.0)\n",
      "Requirement already satisfied: pyyaml in /usr/local/lib/python3.7/dist-packages (from fastai>=2.0.0->wwf) (3.13)\n",
      "Requirement already satisfied: matplotlib in /usr/local/lib/python3.7/dist-packages (from fastai>=2.0.0->wwf) (3.2.2)\n",
      "Requirement already satisfied: scipy in /usr/local/lib/python3.7/dist-packages (from fastai>=2.0.0->wwf) (1.4.1)\n",
      "Requirement already satisfied: pyparsing>=2.0.2 in /usr/local/lib/python3.7/dist-packages (from packaging->fastcore>=1.0.0->wwf) (2.4.7)\n",
      "Requirement already satisfied: thinc==7.4.0 in /usr/local/lib/python3.7/dist-packages (from spacy<3->fastai>=2.0.0->wwf) (7.4.0)\n",
      "Requirement already satisfied: plac<1.2.0,>=0.9.6 in /usr/local/lib/python3.7/dist-packages (from spacy<3->fastai>=2.0.0->wwf) (1.1.3)\n",
      "Requirement already satisfied: tqdm<5.0.0,>=4.38.0 in /usr/local/lib/python3.7/dist-packages (from spacy<3->fastai>=2.0.0->wwf) (4.41.1)\n",
      "Requirement already satisfied: blis<0.5.0,>=0.4.0 in /usr/local/lib/python3.7/dist-packages (from spacy<3->fastai>=2.0.0->wwf) (0.4.1)\n",
      "Requirement already satisfied: setuptools in /usr/local/lib/python3.7/dist-packages (from spacy<3->fastai>=2.0.0->wwf) (54.0.0)\n",
      "Requirement already satisfied: murmurhash<1.1.0,>=0.28.0 in /usr/local/lib/python3.7/dist-packages (from spacy<3->fastai>=2.0.0->wwf) (1.0.5)\n",
      "Requirement already satisfied: preshed<3.1.0,>=3.0.2 in /usr/local/lib/python3.7/dist-packages (from spacy<3->fastai>=2.0.0->wwf) (3.0.5)\n",
      "Requirement already satisfied: catalogue<1.1.0,>=0.0.7 in /usr/local/lib/python3.7/dist-packages (from spacy<3->fastai>=2.0.0->wwf) (1.0.0)\n",
      "Requirement already satisfied: wasabi<1.1.0,>=0.4.0 in /usr/local/lib/python3.7/dist-packages (from spacy<3->fastai>=2.0.0->wwf) (0.8.2)\n",
      "Requirement already satisfied: srsly<1.1.0,>=1.0.2 in /usr/local/lib/python3.7/dist-packages (from spacy<3->fastai>=2.0.0->wwf) (1.0.5)\n",
      "Requirement already satisfied: cymem<2.1.0,>=2.0.2 in /usr/local/lib/python3.7/dist-packages (from spacy<3->fastai>=2.0.0->wwf) (2.0.5)\n",
      "Requirement already satisfied: joblib>=0.11 in /usr/local/lib/python3.7/dist-packages (from scikit-learn->fastai>=2.0.0->wwf) (1.0.1)\n",
      "Requirement already satisfied: python-dateutil>=2.7.3 in /usr/local/lib/python3.7/dist-packages (from pandas->fastai>=2.0.0->wwf) (2.8.1)\n",
      "Requirement already satisfied: pytz>=2017.2 in /usr/local/lib/python3.7/dist-packages (from pandas->fastai>=2.0.0->wwf) (2018.9)\n",
      "Requirement already satisfied: urllib3!=1.25.0,!=1.25.1,<1.26,>=1.21.1 in /usr/local/lib/python3.7/dist-packages (from requests->fastai>=2.0.0->wwf) (1.24.3)\n",
      "Requirement already satisfied: chardet<4,>=3.0.2 in /usr/local/lib/python3.7/dist-packages (from requests->fastai>=2.0.0->wwf) (3.0.4)\n",
      "Requirement already satisfied: idna<3,>=2.5 in /usr/local/lib/python3.7/dist-packages (from requests->fastai>=2.0.0->wwf) (2.10)\n",
      "Requirement already satisfied: certifi>=2017.4.17 in /usr/local/lib/python3.7/dist-packages (from requests->fastai>=2.0.0->wwf) (2020.12.5)\n",
      "Requirement already satisfied: cycler>=0.10 in /usr/local/lib/python3.7/dist-packages (from matplotlib->fastai>=2.0.0->wwf) (0.10.0)\n",
      "Requirement already satisfied: kiwisolver>=1.0.1 in /usr/local/lib/python3.7/dist-packages (from matplotlib->fastai>=2.0.0->wwf) (1.3.1)\n",
      "Requirement already satisfied: importlib-metadata>=0.20; python_version < \"3.8\" in /usr/local/lib/python3.7/dist-packages (from catalogue<1.1.0,>=0.0.7->spacy<3->fastai>=2.0.0->wwf) (3.7.0)\n",
      "Requirement already satisfied: six>=1.5 in /usr/local/lib/python3.7/dist-packages (from python-dateutil>=2.7.3->pandas->fastai>=2.0.0->wwf) (1.15.0)\n",
      "Requirement already satisfied: zipp>=0.5 in /usr/local/lib/python3.7/dist-packages (from importlib-metadata>=0.20; python_version < \"3.8\"->catalogue<1.1.0,>=0.0.7->spacy<3->fastai>=2.0.0->wwf) (3.4.1)\n",
      "Installing collected packages: timm, wwf\n",
      "Successfully installed timm-0.4.5 wwf-0.0.13\n"
     ]
    }
   ],
   "source": [
    "!pip install fastai --upgrade\n",
    "!pip install timm wwf"
   ]
  },
  {
   "cell_type": "code",
   "execution_count": null,
   "metadata": {
    "colab": {
     "base_uri": "https://localhost:8080/"
    },
    "executionInfo": {
     "elapsed": 170960,
     "status": "ok",
     "timestamp": 1615227167448,
     "user": {
      "displayName": "Adrián Inés",
      "photoUrl": "",
      "userId": "05591729960422855292"
     },
     "user_tz": -60
    },
    "id": "dQJMzylPFi6-",
    "outputId": "91434f50-dff7-4da9-a96d-a496a9e3d11e"
   },
   "outputs": [
    {
     "name": "stdout",
     "output_type": "stream",
     "text": [
      "--2021-03-08 18:12:45--  https://www.dropbox.com/s/qrdswgzv63o3opg/datasetCorregido.zip?dl=1\n",
      "Resolving www.dropbox.com (www.dropbox.com)... 162.125.1.18, 2620:100:601a:18::a27d:712\n",
      "Connecting to www.dropbox.com (www.dropbox.com)|162.125.1.18|:443... connected.\n",
      "HTTP request sent, awaiting response... 301 Moved Permanently\n",
      "Location: /s/dl/qrdswgzv63o3opg/datasetCorregido.zip [following]\n",
      "--2021-03-08 18:12:45--  https://www.dropbox.com/s/dl/qrdswgzv63o3opg/datasetCorregido.zip\n",
      "Reusing existing connection to www.dropbox.com:443.\n",
      "HTTP request sent, awaiting response... 302 Found\n",
      "Location: https://uc8e3651dab839988019cfb8fe35.dl.dropboxusercontent.com/cd/0/get/BKSoEDwrL1BoDTBhfqk7DohaXcIQtjG6SKDo6kOPjxL4-hz2XpzNvVEIv7aN8t1aXU-dJMi4kqy97CnSq5NV5WBx_s1h-NRys1S4q3ohsUtCkDoH8S7MpeGSTCuHRSVzZZCZ8MiweW4kkX93opzzpMKT/file?dl=1# [following]\n",
      "--2021-03-08 18:12:46--  https://uc8e3651dab839988019cfb8fe35.dl.dropboxusercontent.com/cd/0/get/BKSoEDwrL1BoDTBhfqk7DohaXcIQtjG6SKDo6kOPjxL4-hz2XpzNvVEIv7aN8t1aXU-dJMi4kqy97CnSq5NV5WBx_s1h-NRys1S4q3ohsUtCkDoH8S7MpeGSTCuHRSVzZZCZ8MiweW4kkX93opzzpMKT/file?dl=1\n",
      "Resolving uc8e3651dab839988019cfb8fe35.dl.dropboxusercontent.com (uc8e3651dab839988019cfb8fe35.dl.dropboxusercontent.com)... 162.125.1.15, 2620:100:601a:15::a27d:70f\n",
      "Connecting to uc8e3651dab839988019cfb8fe35.dl.dropboxusercontent.com (uc8e3651dab839988019cfb8fe35.dl.dropboxusercontent.com)|162.125.1.15|:443... connected.\n",
      "HTTP request sent, awaiting response... 200 OK\n",
      "Length: 39827534 (38M) [application/binary]\n",
      "Saving to: ‘erm.zip’\n",
      "\n",
      "erm.zip             100%[===================>]  37.98M  61.3MB/s    in 0.6s    \n",
      "\n",
      "2021-03-08 18:12:47 (61.3 MB/s) - ‘erm.zip’ saved [39827534/39827534]\n",
      "\n"
     ]
    }
   ],
   "source": [
    "!wget https://www.dropbox.com/s/qrdswgzv63o3opg/datasetCorregido.zip?dl=1 -O erm.zip"
   ]
  },
  {
   "cell_type": "code",
   "execution_count": null,
   "metadata": {
    "colab": {
     "base_uri": "https://localhost:8080/"
    },
    "executionInfo": {
     "elapsed": 172740,
     "status": "ok",
     "timestamp": 1615227169242,
     "user": {
      "displayName": "Adrián Inés",
      "photoUrl": "",
      "userId": "05591729960422855292"
     },
     "user_tz": -60
    },
    "id": "ZM35Bx_0Fn4_",
    "outputId": "2b294ec4-2b96-40e5-f7da-d754340d67c9"
   },
   "outputs": [
    {
     "name": "stdout",
     "output_type": "stream",
     "text": [
      "Archive:  erm.zip\n",
      "   creating: datasetCorregido/\n",
      "   creating: datasetCorregido/train/\n",
      "   creating: datasetCorregido/train/no/\n",
      "  inflating: datasetCorregido/train/no/anonymized_482127.jpg  \n",
      "  inflating: datasetCorregido/train/no/anonymized_174749.jpg  \n",
      "  inflating: datasetCorregido/train/no/anonymized_734047.jpg  \n",
      "  inflating: datasetCorregido/train/no/anonymized_581767.jpg  \n",
      "  inflating: datasetCorregido/train/no/anonymized_1400777.jpg  \n",
      "  inflating: datasetCorregido/train/no/anonymized_347431.jpg  \n",
      "  inflating: datasetCorregido/train/no/anonymized_626433.jpg  \n",
      "  inflating: datasetCorregido/train/no/anonymized_1372303.jpg  \n",
      "  inflating: datasetCorregido/train/no/anonymized_1324599.jpg  \n",
      "  inflating: datasetCorregido/train/no/anonymized_196853.jpg  \n",
      "  inflating: datasetCorregido/train/no/anonymized_687000.jpg  \n",
      "  inflating: datasetCorregido/train/no/anonymized_504041.jpg  \n",
      "  inflating: datasetCorregido/train/no/anonymized_1414333.jpg  \n",
      "  inflating: datasetCorregido/train/no/anonymized_300747.jpg  \n",
      "  inflating: datasetCorregido/train/no/anonymized_533770.jpg  \n",
      "  inflating: datasetCorregido/train/no/anonymized_821200.jpg  \n",
      "  inflating: datasetCorregido/train/no/anonymized_352726.jpg  \n",
      "  inflating: datasetCorregido/train/no/anonymized_257315.jpg  \n",
      "  inflating: datasetCorregido/train/no/anonymized_592613.jpg  \n",
      "  inflating: datasetCorregido/train/no/anonymized_442241.jpg  \n",
      "  inflating: datasetCorregido/train/no/anonymized_1042976.jpg  \n",
      "  inflating: datasetCorregido/train/no/anonymized_696554.jpg  \n",
      "  inflating: datasetCorregido/train/no/anonymized_321105.jpg  \n",
      "  inflating: datasetCorregido/train/no/anonymized_1265117.jpg  \n",
      "  inflating: datasetCorregido/train/no/anonymized_288538.jpg  \n",
      "  inflating: datasetCorregido/train/no/anonymized_466679.jpg  \n",
      "  inflating: datasetCorregido/train/no/anonymized_338854.jpg  \n",
      "  inflating: datasetCorregido/train/no/anonymized_688660.jpg  \n",
      "  inflating: datasetCorregido/train/no/anonymized_678180.jpg  \n",
      "  inflating: datasetCorregido/train/no/anonymized_240283.jpg  \n",
      "  inflating: datasetCorregido/train/no/anonymized_305760.jpg  \n",
      "  inflating: datasetCorregido/train/no/anonymized_217110.jpg  \n",
      "  inflating: datasetCorregido/train/no/anonymized_1393877.jpg  \n",
      "  inflating: datasetCorregido/train/no/anonymized_371995.jpg  \n",
      "  inflating: datasetCorregido/train/no/anonymized_609769.jpg  \n",
      "  inflating: datasetCorregido/train/no/anonymized_1378065.jpg  \n",
      "  inflating: datasetCorregido/train/no/anonymized_809479.jpg  \n",
      "  inflating: datasetCorregido/train/no/anonymized_1322967.jpg  \n",
      "  inflating: datasetCorregido/train/no/anonymized_288161.jpg  \n",
      "  inflating: datasetCorregido/train/no/anonymized_983440.jpg  \n",
      "  inflating: datasetCorregido/train/no/anonymized_605639.jpg  \n",
      "  inflating: datasetCorregido/train/no/anonymized_257519.jpg  \n",
      "  inflating: datasetCorregido/train/no/anonymized_429685.jpg  \n",
      "  inflating: datasetCorregido/train/no/anonymized_658902.jpg  \n",
      "  inflating: datasetCorregido/train/no/anonymized_1188356.jpg  \n",
      "  inflating: datasetCorregido/train/no/anonymized_817549.jpg  \n",
      "  inflating: datasetCorregido/train/no/anonymized_1309785.jpg  \n",
      "  inflating: datasetCorregido/train/no/anonymized_894655.jpg  \n",
      "  inflating: datasetCorregido/train/no/anonymized_248090.jpg  \n",
      "  inflating: datasetCorregido/train/no/anonymized_407440.jpg  \n",
      "  inflating: datasetCorregido/train/no/anonymized_437942.jpg  \n",
      "  inflating: datasetCorregido/train/no/anonymized_862070.jpg  \n",
      "  inflating: datasetCorregido/train/no/anonymized_946930.jpg  \n",
      "  inflating: datasetCorregido/train/no/anonymized_477476.jpg  \n",
      "  inflating: datasetCorregido/train/no/anonymized_216850.jpg  \n",
      "  inflating: datasetCorregido/train/no/anonymized_747060.jpg  \n",
      "  inflating: datasetCorregido/train/no/anonymized_1282016.jpg  \n",
      "  inflating: datasetCorregido/train/no/anonymized_904426.jpg  \n",
      "  inflating: datasetCorregido/train/no/anonymized_1198135.jpg  \n",
      "  inflating: datasetCorregido/train/no/anonymized_414768.jpg  \n",
      "  inflating: datasetCorregido/train/no/anonymized_409898.jpg  \n",
      "  inflating: datasetCorregido/train/no/anonymized_1215943.jpg  \n",
      "  inflating: datasetCorregido/train/no/anonymized_261143.jpg  \n",
      "  inflating: datasetCorregido/train/no/anonymized_1414011.jpg  \n",
      "  inflating: datasetCorregido/train/no/anonymized_605939.jpg  \n",
      "  inflating: datasetCorregido/train/no/anonymized_292406.jpg  \n",
      "  inflating: datasetCorregido/train/no/anonymized_192311.jpg  \n",
      "  inflating: datasetCorregido/train/no/anonymized_511182.jpg  \n",
      "  inflating: datasetCorregido/train/no/anonymized_341413.jpg  \n",
      "  inflating: datasetCorregido/train/no/anonymized_1274316.jpg  \n",
      "  inflating: datasetCorregido/train/no/anonymized_707846.jpg  \n",
      "  inflating: datasetCorregido/train/no/anonymized_446692.jpg  \n",
      "  inflating: datasetCorregido/train/no/anonymized_591525.jpg  \n",
      "  inflating: datasetCorregido/train/no/anonymized_298005.jpg  \n",
      "  inflating: datasetCorregido/train/no/anonymized_261109.jpg  \n",
      "  inflating: datasetCorregido/train/no/anonymized_279636.jpg  \n",
      "  inflating: datasetCorregido/train/no/anonymized_1880878.jpg  \n",
      "  inflating: datasetCorregido/train/no/anonymized_810247.jpg  \n",
      "  inflating: datasetCorregido/train/no/anonymized_341063.jpg  \n",
      "  inflating: datasetCorregido/train/no/anonymized_275462.jpg  \n",
      "  inflating: datasetCorregido/train/no/anonymized_133895.jpg  \n",
      "  inflating: datasetCorregido/train/no/anonymized_718444.jpg  \n",
      "  inflating: datasetCorregido/train/no/anonymized_876763.jpg  \n",
      "  inflating: datasetCorregido/train/no/anonymized_443296.jpg  \n",
      "  inflating: datasetCorregido/train/no/anonymized_316460.jpg  \n",
      "  inflating: datasetCorregido/train/no/anonymized_240175.jpg  \n",
      "  inflating: datasetCorregido/train/no/anonymized_1240531.jpg  \n",
      "  inflating: datasetCorregido/train/no/anonymized_153049.jpg  \n",
      "  inflating: datasetCorregido/train/no/anonymized_1315229.jpg  \n",
      "  inflating: datasetCorregido/train/no/anonymized_456305.jpg  \n",
      "  inflating: datasetCorregido/train/no/anonymized_239988.jpg  \n",
      "  inflating: datasetCorregido/train/no/anonymized_611329.jpg  \n",
      "  inflating: datasetCorregido/train/no/anonymized_957062.jpg  \n",
      "  inflating: datasetCorregido/train/no/anonymized_33562.jpg  \n",
      "  inflating: datasetCorregido/train/no/anonymized_377001.jpg  \n",
      "  inflating: datasetCorregido/train/no/anonymized_626180.jpg  \n",
      "  inflating: datasetCorregido/train/no/anonymized_155720.jpg  \n",
      "  inflating: datasetCorregido/train/no/anonymized_280202.jpg  \n",
      "  inflating: datasetCorregido/train/no/anonymized_419149.jpg  \n",
      "  inflating: datasetCorregido/train/no/anonymized_239030.jpg  \n",
      "  inflating: datasetCorregido/train/no/anonymized_553090.jpg  \n",
      "  inflating: datasetCorregido/train/no/anonymized_895481.jpg  \n",
      "  inflating: datasetCorregido/train/no/anonymized_631321.jpg  \n",
      "  inflating: datasetCorregido/train/no/anonymized_758780.jpg  \n",
      "  inflating: datasetCorregido/train/no/anonymized_1258083.jpg  \n",
      "  inflating: datasetCorregido/train/no/anonymized_507064.jpg  \n",
      "  inflating: datasetCorregido/train/no/anonymized_243283.jpg  \n",
      "  inflating: datasetCorregido/train/no/anonymized_1374104.jpg  \n",
      "  inflating: datasetCorregido/train/no/anonymized_445116.jpg  \n",
      "  inflating: datasetCorregido/train/no/anonymized_551400.jpg  \n",
      "  inflating: datasetCorregido/train/no/anonymized_237509.jpg  \n",
      "  inflating: datasetCorregido/train/no/anonymized_749185.jpg  \n",
      "  inflating: datasetCorregido/train/no/anonymized_927844.jpg  \n",
      "  inflating: datasetCorregido/train/no/anonymized_884603.jpg  \n",
      "  inflating: datasetCorregido/train/no/anonymized_1191712.jpg  \n",
      "  inflating: datasetCorregido/train/no/anonymized_601623.jpg  \n",
      "  inflating: datasetCorregido/train/no/anonymized_482509.jpg  \n",
      "  inflating: datasetCorregido/train/no/anonymized_454547.jpg  \n",
      "  inflating: datasetCorregido/train/no/anonymized_855835.jpg  \n",
      "  inflating: datasetCorregido/train/no/anonymized_1605336.jpg  \n",
      "  inflating: datasetCorregido/train/no/anonymized_288125.jpg  \n",
      "  inflating: datasetCorregido/train/no/anonymized_816221.jpg  \n",
      "  inflating: datasetCorregido/train/no/anonymized_1364737.jpg  \n",
      "  inflating: datasetCorregido/train/no/anonymized_567772.jpg  \n",
      "  inflating: datasetCorregido/train/no/anonymized_275587.jpg  \n",
      "  inflating: datasetCorregido/train/no/anonymized_440999.jpg  \n",
      "  inflating: datasetCorregido/train/no/anonymized_638723.jpg  \n",
      "  inflating: datasetCorregido/train/no/anonymized_221613.jpg  \n",
      "  inflating: datasetCorregido/train/no/anonymized_1892155.jpg  \n",
      "  inflating: datasetCorregido/train/no/anonymized_377413.jpg  \n",
      "  inflating: datasetCorregido/train/no/anonymized_1244397.jpg  \n",
      "  inflating: datasetCorregido/train/no/anonymized_913522.jpg  \n",
      "  inflating: datasetCorregido/train/no/anonymized_1676285.jpg  \n",
      "  inflating: datasetCorregido/train/no/anonymized_228496.jpg  \n",
      "  inflating: datasetCorregido/train/no/anonymized_1624363.jpg  \n",
      "  inflating: datasetCorregido/train/no/anonymized_611299.jpg  \n",
      "  inflating: datasetCorregido/train/no/anonymized_307695.jpg  \n",
      "  inflating: datasetCorregido/train/no/anonymized_884915.jpg  \n",
      "  inflating: datasetCorregido/train/no/anonymized_349505.jpg  \n",
      "  inflating: datasetCorregido/train/no/anonymized_827412.jpg  \n",
      "  inflating: datasetCorregido/train/no/anonymized_492147.jpg  \n",
      "  inflating: datasetCorregido/train/no/anonymized_652197.jpg  \n",
      "  inflating: datasetCorregido/train/no/anonymized_551897.jpg  \n",
      "  inflating: datasetCorregido/train/no/anonymized_398374.jpg  \n",
      "  inflating: datasetCorregido/train/no/anonymized_211421.jpg  \n",
      "  inflating: datasetCorregido/train/no/anonymized_479830.jpg  \n",
      "  inflating: datasetCorregido/train/no/anonymized_622123.jpg  \n",
      "  inflating: datasetCorregido/train/no/anonymized_441307.jpg  \n",
      "  inflating: datasetCorregido/train/no/anonymized_399035.jpg  \n",
      "  inflating: datasetCorregido/train/no/anonymized_256787.jpg  \n",
      "  inflating: datasetCorregido/train/no/anonymized_728439.jpg  \n",
      "  inflating: datasetCorregido/train/no/anonymized_349597.jpg  \n",
      "  inflating: datasetCorregido/train/no/anonymized_468880.jpg  \n",
      "  inflating: datasetCorregido/train/no/anonymized_269134.jpg  \n",
      "  inflating: datasetCorregido/train/no/anonymized_196703.jpg  \n",
      "  inflating: datasetCorregido/train/no/anonymized_394354.jpg  \n",
      "  inflating: datasetCorregido/train/no/anonymized_675904.jpg  \n",
      "  inflating: datasetCorregido/train/no/anonymized_669895.jpg  \n",
      "  inflating: datasetCorregido/train/no/anonymized_337596.jpg  \n",
      "  inflating: datasetCorregido/train/no/anonymized_207246.jpg  \n",
      "  inflating: datasetCorregido/train/no/anonymized_474833.jpg  \n",
      "  inflating: datasetCorregido/train/no/anonymized_756835.jpg  \n",
      "  inflating: datasetCorregido/train/no/anonymized_555865.jpg  \n",
      "  inflating: datasetCorregido/train/no/anonymized_213679.jpg  \n",
      "  inflating: datasetCorregido/train/no/anonymized_462102.jpg  \n",
      "  inflating: datasetCorregido/train/no/anonymized_275589.jpg  \n",
      "  inflating: datasetCorregido/train/no/anonymized_256786.jpg  \n",
      "  inflating: datasetCorregido/train/no/anonymized_263465.jpg  \n",
      "  inflating: datasetCorregido/train/no/anonymized_767769.jpg  \n",
      "  inflating: datasetCorregido/train/no/anonymized_300217.jpg  \n",
      "  inflating: datasetCorregido/train/no/anonymized_174750.jpg  \n",
      "  inflating: datasetCorregido/train/no/anonymized_860248.jpg  \n",
      "  inflating: datasetCorregido/train/no/anonymized_850128.jpg  \n",
      "  inflating: datasetCorregido/train/no/anonymized_838523.jpg  \n",
      "  inflating: datasetCorregido/train/no/anonymized_537851.jpg  \n",
      "  inflating: datasetCorregido/train/no/anonymized_581141.jpg  \n",
      "  inflating: datasetCorregido/train/no/anonymized_1336955.jpg  \n",
      "  inflating: datasetCorregido/train/no/anonymized_1198948.jpg  \n",
      "  inflating: datasetCorregido/train/no/anonymized_763831.jpg  \n",
      "  inflating: datasetCorregido/train/no/anonymized_325729.jpg  \n",
      "  inflating: datasetCorregido/train/no/anonymized_192787.jpg  \n",
      "  inflating: datasetCorregido/train/no/anonymized_764358.jpg  \n",
      "  inflating: datasetCorregido/train/no/anonymized_234241.jpg  \n",
      "  inflating: datasetCorregido/train/no/anonymized_395971.jpg  \n",
      "  inflating: datasetCorregido/train/no/anonymized_174133.jpg  \n",
      "  inflating: datasetCorregido/train/no/anonymized_242256.jpg  \n",
      "  inflating: datasetCorregido/train/no/anonymized_260888.jpg  \n",
      "  inflating: datasetCorregido/train/no/anonymized_426299.jpg  \n",
      "  inflating: datasetCorregido/train/no/anonymized_717618.jpg  \n",
      "  inflating: datasetCorregido/train/no/anonymized_261446.jpg  \n",
      "  inflating: datasetCorregido/train/no/anonymized_662994.jpg  \n",
      "  inflating: datasetCorregido/train/no/anonymized_245270.jpg  \n",
      "  inflating: datasetCorregido/train/no/anonymized_612257.jpg  \n",
      "  inflating: datasetCorregido/train/no/anonymized_1327477.jpg  \n",
      "  inflating: datasetCorregido/train/no/anonymized_853747.jpg  \n",
      "  inflating: datasetCorregido/train/no/anonymized_848802.jpg  \n",
      "  inflating: datasetCorregido/train/no/anonymized_714820.jpg  \n",
      "  inflating: datasetCorregido/train/no/anonymized_196868.jpg  \n",
      "  inflating: datasetCorregido/train/no/anonymized_405720.jpg  \n",
      "  inflating: datasetCorregido/train/no/anonymized_534859.jpg  \n",
      "  inflating: datasetCorregido/train/no/anonymized_1210293.jpg  \n",
      "  inflating: datasetCorregido/train/no/anonymized_491591.jpg  \n",
      "  inflating: datasetCorregido/train/no/anonymized_325537.jpg  \n",
      "  inflating: datasetCorregido/train/no/anonymized_1195426.jpg  \n",
      "  inflating: datasetCorregido/train/no/anonymized_1898605.jpg  \n",
      "  inflating: datasetCorregido/train/no/anonymized_200302.jpg  \n",
      "  inflating: datasetCorregido/train/no/anonymized_978201.jpg  \n",
      "  inflating: datasetCorregido/train/no/anonymized_1238603.jpg  \n",
      "  inflating: datasetCorregido/train/no/anonymized_498722.jpg  \n",
      "  inflating: datasetCorregido/train/no/anonymized_880479.jpg  \n",
      "  inflating: datasetCorregido/train/no/anonymized_651961.jpg  \n",
      "  inflating: datasetCorregido/train/no/anonymized_1180609.jpg  \n",
      "  inflating: datasetCorregido/train/no/anonymized_1884994.jpg  \n",
      "  inflating: datasetCorregido/train/no/anonymized_1324590.jpg  \n",
      "  inflating: datasetCorregido/train/no/anonymized_1249613.jpg  \n",
      "  inflating: datasetCorregido/train/no/anonymized_266741.jpg  \n",
      "  inflating: datasetCorregido/train/no/anonymized_151528.jpg  \n",
      "  inflating: datasetCorregido/train/no/anonymized_1894771.jpg  \n",
      "  inflating: datasetCorregido/train/no/anonymized_436763.jpg  \n",
      "  inflating: datasetCorregido/train/no/anonymized_393467.jpg  \n",
      "  inflating: datasetCorregido/train/no/anonymized_326114.jpg  \n",
      "  inflating: datasetCorregido/train/no/anonymized_1261526.jpg  \n",
      "  inflating: datasetCorregido/train/no/anonymized_1356673.jpg  \n",
      "  inflating: datasetCorregido/train/no/anonymized_334008.jpg  \n",
      "  inflating: datasetCorregido/train/no/anonymized_1327118.jpg  \n",
      "  inflating: datasetCorregido/train/no/anonymized_197018.jpg  \n",
      "  inflating: datasetCorregido/train/no/anonymized_455268.jpg  \n",
      "  inflating: datasetCorregido/train/no/anonymized_832172.jpg  \n",
      "  inflating: datasetCorregido/train/no/anonymized_623326.jpg  \n",
      "  inflating: datasetCorregido/train/no/anonymized_766663.jpg  \n",
      "  inflating: datasetCorregido/train/no/anonymized_138198.jpg  \n",
      "  inflating: datasetCorregido/train/no/anonymized_1878408.jpg  \n",
      "  inflating: datasetCorregido/train/no/anonymized_442681.jpg  \n",
      "  inflating: datasetCorregido/train/no/anonymized_947195.jpg  \n",
      "  inflating: datasetCorregido/train/no/anonymized_329176.jpg  \n",
      "  inflating: datasetCorregido/train/no/anonymized_249878.jpg  \n",
      "  inflating: datasetCorregido/train/no/anonymized_501880.jpg  \n",
      "  inflating: datasetCorregido/train/no/anonymized_717804.jpg  \n",
      "  inflating: datasetCorregido/train/no/anonymized_1252033.jpg  \n",
      "  inflating: datasetCorregido/train/no/anonymized_721658.jpg  \n",
      "  inflating: datasetCorregido/train/no/anonymized_307697.jpg  \n",
      "  inflating: datasetCorregido/train/no/anonymized_240279.jpg  \n",
      "  inflating: datasetCorregido/train/no/anonymized_142857.jpg  \n",
      "  inflating: datasetCorregido/train/no/anonymized_276579.jpg  \n",
      "  inflating: datasetCorregido/train/no/anonymized_1484546.jpg  \n",
      "  inflating: datasetCorregido/train/no/anonymized_911828.jpg  \n",
      "  inflating: datasetCorregido/train/no/anonymized_568006.jpg  \n",
      "  inflating: datasetCorregido/train/no/anonymized_1422560.jpg  \n",
      "  inflating: datasetCorregido/train/no/anonymized_801132.jpg  \n",
      "  inflating: datasetCorregido/train/no/anonymized_980132.jpg  \n",
      "  inflating: datasetCorregido/train/no/anonymized_196869.jpg  \n",
      "  inflating: datasetCorregido/train/no/anonymized_268839.jpg  \n",
      "  inflating: datasetCorregido/train/no/anonymized_187574.jpg  \n",
      "  inflating: datasetCorregido/train/no/anonymized_567771.jpg  \n",
      "  inflating: datasetCorregido/train/no/anonymized_703880.jpg  \n",
      "  inflating: datasetCorregido/train/no/anonymized_270712.jpg  \n",
      "  inflating: datasetCorregido/train/no/anonymized_644143.jpg  \n",
      "  inflating: datasetCorregido/train/no/anonymized_1211061.jpg  \n",
      "  inflating: datasetCorregido/train/no/anonymized_873819.jpg  \n",
      "  inflating: datasetCorregido/train/no/anonymized_364490.jpg  \n",
      "  inflating: datasetCorregido/train/no/anonymized_883466.jpg  \n",
      "  inflating: datasetCorregido/train/no/anonymized_605133.jpg  \n",
      "  inflating: datasetCorregido/train/no/anonymized_233706.jpg  \n",
      "  inflating: datasetCorregido/train/no/anonymized_675903.jpg  \n",
      "  inflating: datasetCorregido/train/no/anonymized_128401.jpg  \n",
      "  inflating: datasetCorregido/train/no/anonymized_513939.jpg  \n",
      "  inflating: datasetCorregido/train/no/anonymized_237010.jpg  \n",
      "  inflating: datasetCorregido/train/no/anonymized_1239660.jpg  \n",
      "  inflating: datasetCorregido/train/no/anonymized_568215.jpg  \n",
      "  inflating: datasetCorregido/train/no/anonymized_357679.jpg  \n",
      "  inflating: datasetCorregido/train/no/anonymized_427509.jpg  \n",
      "  inflating: datasetCorregido/train/no/anonymized_465890.jpg  \n",
      "  inflating: datasetCorregido/train/no/anonymized_387358.jpg  \n",
      "  inflating: datasetCorregido/train/no/anonymized_699952.jpg  \n",
      "  inflating: datasetCorregido/train/no/anonymized_356733.jpg  \n",
      "  inflating: datasetCorregido/train/no/anonymized_1232244.jpg  \n",
      "  inflating: datasetCorregido/train/no/anonymized_351262.jpg  \n",
      "  inflating: datasetCorregido/train/no/anonymized_291544.jpg  \n",
      "  inflating: datasetCorregido/train/no/anonymized_333659.jpg  \n",
      "  inflating: datasetCorregido/train/no/anonymized_456291.jpg  \n",
      "  inflating: datasetCorregido/train/no/anonymized_680363.jpg  \n",
      "  inflating: datasetCorregido/train/no/anonymized_754328.jpg  \n",
      "  inflating: datasetCorregido/train/no/anonymized_601793.jpg  \n",
      "  inflating: datasetCorregido/train/no/anonymized_611334.jpg  \n",
      "  inflating: datasetCorregido/train/no/anonymized_957050.jpg  \n",
      "  inflating: datasetCorregido/train/no/anonymized_538533.jpg  \n",
      "  inflating: datasetCorregido/train/no/anonymized_355286.jpg  \n",
      "  inflating: datasetCorregido/train/no/anonymized_437186.jpg  \n",
      "  inflating: datasetCorregido/train/no/anonymized_683932.jpg  \n",
      "  inflating: datasetCorregido/train/no/anonymized_894651.jpg  \n",
      "  inflating: datasetCorregido/train/no/anonymized_1231626.jpg  \n",
      "  inflating: datasetCorregido/train/no/anonymized_292385.jpg  \n",
      "  inflating: datasetCorregido/train/no/anonymized_334063.jpg  \n",
      "  inflating: datasetCorregido/train/no/anonymized_560595.jpg  \n",
      "  inflating: datasetCorregido/train/no/anonymized_852248.jpg  \n",
      "  inflating: datasetCorregido/train/no/anonymized_727710.jpg  \n",
      "  inflating: datasetCorregido/train/no/anonymized_529097.jpg  \n",
      "  inflating: datasetCorregido/train/no/anonymized_850838.jpg  \n",
      "  inflating: datasetCorregido/train/no/anonymized_1373799.jpg  \n",
      "  inflating: datasetCorregido/train/no/anonymized_336225.jpg  \n",
      "  inflating: datasetCorregido/train/no/anonymized_693827.jpg  \n",
      "  inflating: datasetCorregido/train/no/anonymized_329794.jpg  \n",
      "  inflating: datasetCorregido/train/no/anonymized_307698.jpg  \n",
      "  inflating: datasetCorregido/train/no/anonymized_359866.jpg  \n",
      "  inflating: datasetCorregido/train/no/anonymized_1172617.jpg  \n",
      "  inflating: datasetCorregido/train/no/anonymized_611300.jpg  \n",
      "  inflating: datasetCorregido/train/no/anonymized_415840.jpg  \n",
      "  inflating: datasetCorregido/train/no/anonymized_276899.jpg  \n",
      "  inflating: datasetCorregido/train/no/anonymized_591135.jpg  \n",
      "  inflating: datasetCorregido/train/no/anonymized_245580.jpg  \n",
      "  inflating: datasetCorregido/train/no/anonymized_482126.jpg  \n",
      "  inflating: datasetCorregido/train/no/anonymized_705104.jpg  \n",
      "  inflating: datasetCorregido/train/no/anonymized_771603.jpg  \n",
      "  inflating: datasetCorregido/train/no/anonymized_1899935.jpg  \n",
      "  inflating: datasetCorregido/train/no/anonymized_470977.jpg  \n",
      "  inflating: datasetCorregido/train/no/anonymized_159139.jpg  \n",
      "  inflating: datasetCorregido/train/no/anonymized_656399.jpg  \n",
      "  inflating: datasetCorregido/train/no/anonymized_877260.jpg  \n",
      "  inflating: datasetCorregido/train/no/anonymized_1002748.jpg  \n",
      "  inflating: datasetCorregido/train/no/anonymized_749435.jpg  \n",
      "  inflating: datasetCorregido/train/no/anonymized_1220260.jpg  \n",
      "  inflating: datasetCorregido/train/no/anonymized_562208.jpg  \n",
      "  inflating: datasetCorregido/train/no/anonymized_370991.jpg  \n",
      "  inflating: datasetCorregido/train/no/anonymized_601622.jpg  \n",
      "  inflating: datasetCorregido/train/no/anonymized_663805.jpg  \n",
      "  inflating: datasetCorregido/train/no/anonymized_387361.jpg  \n",
      "  inflating: datasetCorregido/train/no/anonymized_1107261.jpg  \n",
      "  inflating: datasetCorregido/train/no/anonymized_732314.jpg  \n",
      "  inflating: datasetCorregido/train/no/anonymized_1273819.jpg  \n",
      "  inflating: datasetCorregido/train/no/anonymized_330609.jpg  \n",
      "  inflating: datasetCorregido/train/no/anonymized_466715.jpg  \n",
      "  inflating: datasetCorregido/train/no/anonymized_654250.jpg  \n",
      "  inflating: datasetCorregido/train/no/anonymized_207437.jpg  \n",
      "  inflating: datasetCorregido/train/no/anonymized_648056.jpg  \n",
      "  inflating: datasetCorregido/train/no/anonymized_780010.jpg  \n",
      "  inflating: datasetCorregido/train/no/anonymized_421178.jpg  \n",
      "  inflating: datasetCorregido/train/no/anonymized_581964.jpg  \n",
      "  inflating: datasetCorregido/train/no/anonymized_366049.jpg  \n",
      "  inflating: datasetCorregido/train/no/anonymized_614393.jpg  \n",
      "  inflating: datasetCorregido/train/no/anonymized_1880247.jpg  \n",
      "  inflating: datasetCorregido/train/no/anonymized_814376.jpg  \n",
      "  inflating: datasetCorregido/train/no/anonymized_568210.jpg  \n",
      "  inflating: datasetCorregido/train/no/anonymized_951446.jpg  \n",
      "  inflating: datasetCorregido/train/no/anonymized_261144.jpg  \n",
      "  inflating: datasetCorregido/train/no/anonymized_588913.jpg  \n",
      "  inflating: datasetCorregido/train/no/anonymized_1388286.jpg  \n",
      "  inflating: datasetCorregido/train/no/anonymized_377236.jpg  \n",
      "  inflating: datasetCorregido/train/no/anonymized_500785.jpg  \n",
      "  inflating: datasetCorregido/train/no/anonymized_1385335.jpg  \n",
      "  inflating: datasetCorregido/train/no/anonymized_702654.jpg  \n",
      "  inflating: datasetCorregido/train/no/anonymized_748506.jpg  \n",
      "  inflating: datasetCorregido/train/no/anonymized_561847.jpg  \n",
      "  inflating: datasetCorregido/train/no/anonymized_781363.jpg  \n",
      "  inflating: datasetCorregido/train/no/anonymized_1414331.jpg  \n",
      "  inflating: datasetCorregido/train/no/anonymized_532911.jpg  \n",
      "  inflating: datasetCorregido/train/no/anonymized_781699.jpg  \n",
      "  inflating: datasetCorregido/train/no/anonymized_367427.jpg  \n",
      "  inflating: datasetCorregido/train/no/anonymized_912640.jpg  \n",
      "  inflating: datasetCorregido/train/no/anonymized_704033.jpg  \n",
      "  inflating: datasetCorregido/train/no/anonymized_394488.jpg  \n",
      "  inflating: datasetCorregido/train/no/anonymized_1194365.jpg  \n",
      "  inflating: datasetCorregido/train/no/anonymized_320951.jpg  \n",
      "  inflating: datasetCorregido/train/no/anonymized_586402.jpg  \n",
      "  inflating: datasetCorregido/train/no/anonymized_989447.jpg  \n",
      "  inflating: datasetCorregido/train/no/anonymized_936615.jpg  \n",
      "  inflating: datasetCorregido/train/no/anonymized_568013.jpg  \n",
      "  inflating: datasetCorregido/train/no/anonymized_338164.jpg  \n",
      "  inflating: datasetCorregido/train/no/anonymized_270855.jpg  \n",
      "  inflating: datasetCorregido/train/no/anonymized_282303.jpg  \n",
      "  inflating: datasetCorregido/train/no/anonymized_818539.jpg  \n",
      "  inflating: datasetCorregido/train/no/anonymized_1894014.jpg  \n",
      "  inflating: datasetCorregido/train/no/anonymized_459406.jpg  \n",
      "  inflating: datasetCorregido/train/no/anonymized_1894975.jpg  \n",
      "  inflating: datasetCorregido/train/no/anonymized_1283225.jpg  \n",
      "  inflating: datasetCorregido/train/no/anonymized_1189773.jpg  \n",
      "  inflating: datasetCorregido/train/no/anonymized_668147.jpg  \n",
      "  inflating: datasetCorregido/train/no/anonymized_835491.jpg  \n",
      "  inflating: datasetCorregido/train/no/anonymized_441898.jpg  \n",
      "  inflating: datasetCorregido/train/no/anonymized_716514.jpg  \n",
      "  inflating: datasetCorregido/train/no/anonymized_285031.jpg  \n",
      "  inflating: datasetCorregido/train/no/anonymized_355293.jpg  \n",
      "  inflating: datasetCorregido/train/no/anonymized_854761.jpg  \n",
      "  inflating: datasetCorregido/train/no/anonymized_553872.jpg  \n",
      "  inflating: datasetCorregido/train/no/anonymized_452402.jpg  \n",
      "  inflating: datasetCorregido/train/no/anonymized_519230.jpg  \n",
      "  inflating: datasetCorregido/train/no/anonymized_623654.jpg  \n",
      "  inflating: datasetCorregido/train/no/anonymized_505339.jpg  \n",
      "  inflating: datasetCorregido/train/no/anonymized_641781.jpg  \n",
      "  inflating: datasetCorregido/train/no/anonymized_448600.jpg  \n",
      "  inflating: datasetCorregido/train/no/anonymized_573704.jpg  \n",
      "  inflating: datasetCorregido/train/no/anonymized_794885.jpg  \n",
      "  inflating: datasetCorregido/train/no/anonymized_318108.jpg  \n",
      "  inflating: datasetCorregido/train/no/anonymized_355962.jpg  \n",
      "  inflating: datasetCorregido/train/no/anonymized_276802.jpg  \n",
      "  inflating: datasetCorregido/train/no/anonymized_730291.jpg  \n",
      "  inflating: datasetCorregido/train/no/anonymized_1412357.jpg  \n",
      "  inflating: datasetCorregido/train/no/anonymized_208819.jpg  \n",
      "  inflating: datasetCorregido/train/no/anonymized_184052.jpg  \n",
      "  inflating: datasetCorregido/train/no/anonymized_223694.jpg  \n",
      "  inflating: datasetCorregido/train/no/anonymized_259827.jpg  \n",
      "  inflating: datasetCorregido/train/no/anonymized_218470.jpg  \n",
      "  inflating: datasetCorregido/train/no/anonymized_772256.jpg  \n",
      "  inflating: datasetCorregido/train/no/anonymized_1042035.jpg  \n",
      "  inflating: datasetCorregido/train/no/anonymized_1391222.jpg  \n",
      "  inflating: datasetCorregido/train/no/anonymized_742874.jpg  \n",
      "  inflating: datasetCorregido/train/no/anonymized_288166.jpg  \n",
      "  inflating: datasetCorregido/train/no/anonymized_752310.jpg  \n",
      "  inflating: datasetCorregido/train/no/anonymized_261033.jpg  \n",
      "  inflating: datasetCorregido/train/no/anonymized_166666.jpg  \n",
      "  inflating: datasetCorregido/train/no/anonymized_1886058.jpg  \n",
      "  inflating: datasetCorregido/train/no/anonymized_1212866.jpg  \n",
      "  inflating: datasetCorregido/train/no/anonymized_1345522.jpg  \n",
      "  inflating: datasetCorregido/train/no/anonymized_563962.jpg  \n",
      "  inflating: datasetCorregido/train/no/anonymized_226068.jpg  \n",
      "  inflating: datasetCorregido/train/no/anonymized_744905.jpg  \n",
      "  inflating: datasetCorregido/train/no/anonymized_853112.jpg  \n",
      "  inflating: datasetCorregido/train/no/anonymized_1605963.jpg  \n",
      "  inflating: datasetCorregido/train/no/anonymized_302930.jpg  \n",
      "  inflating: datasetCorregido/train/no/anonymized_500777.jpg  \n",
      "  inflating: datasetCorregido/train/no/anonymized_577805.jpg  \n",
      "  inflating: datasetCorregido/train/no/anonymized_978136.jpg  \n",
      "  inflating: datasetCorregido/train/no/anonymized_257550.jpg  \n",
      "  inflating: datasetCorregido/train/no/anonymized_355300.jpg  \n",
      "  inflating: datasetCorregido/train/no/anonymized_627251.jpg  \n",
      "  inflating: datasetCorregido/train/no/anonymized_908585.jpg  \n",
      "  inflating: datasetCorregido/train/no/anonymized_753925.jpg  \n",
      "  inflating: datasetCorregido/train/no/anonymized_1202383.jpg  \n",
      "  inflating: datasetCorregido/train/no/anonymized_1282351.jpg  \n",
      "  inflating: datasetCorregido/train/no/anonymized_309206.jpg  \n",
      "  inflating: datasetCorregido/train/no/anonymized_419939.jpg  \n",
      "  inflating: datasetCorregido/train/no/anonymized_673597.jpg  \n",
      "  inflating: datasetCorregido/train/no/anonymized_1186832.jpg  \n",
      "  inflating: datasetCorregido/train/no/anonymized_944304.jpg  \n",
      "  inflating: datasetCorregido/train/no/anonymized_592826.jpg  \n",
      "  inflating: datasetCorregido/train/no/anonymized_1102185.jpg  \n",
      "  inflating: datasetCorregido/train/no/anonymized_401118.jpg  \n",
      "  inflating: datasetCorregido/train/no/anonymized_341411.jpg  \n",
      "  inflating: datasetCorregido/train/no/anonymized_240284.jpg  \n",
      "  inflating: datasetCorregido/train/no/anonymized_807259.jpg  \n",
      "  inflating: datasetCorregido/train/no/anonymized_804668.jpg  \n",
      "  inflating: datasetCorregido/train/no/anonymized_581139.jpg  \n",
      "  inflating: datasetCorregido/train/no/anonymized_167039.jpg  \n",
      "  inflating: datasetCorregido/train/no/anonymized_475717.jpg  \n",
      "  inflating: datasetCorregido/train/no/anonymized_273766.jpg  \n",
      "  inflating: datasetCorregido/train/no/anonymized_1550572.jpg  \n",
      "  inflating: datasetCorregido/train/no/anonymized_1313406.jpg  \n",
      "  inflating: datasetCorregido/train/no/anonymized_1891186.jpg  \n",
      "  inflating: datasetCorregido/train/no/anonymized_412663.jpg  \n",
      "  inflating: datasetCorregido/train/no/anonymized_269611.jpg  \n",
      "  inflating: datasetCorregido/train/no/anonymized_794061.jpg  \n",
      "  inflating: datasetCorregido/train/no/anonymized_345109.jpg  \n",
      "  inflating: datasetCorregido/train/no/anonymized_740065.jpg  \n",
      "  inflating: datasetCorregido/train/no/anonymized_866613.jpg  \n",
      "  inflating: datasetCorregido/train/no/anonymized_248089.jpg  \n",
      "  inflating: datasetCorregido/train/no/anonymized_864383.jpg  \n",
      "  inflating: datasetCorregido/train/no/anonymized_638227.jpg  \n",
      "  inflating: datasetCorregido/train/no/anonymized_246863.jpg  \n",
      "  inflating: datasetCorregido/train/no/anonymized_786234.jpg  \n",
      "  inflating: datasetCorregido/train/no/anonymized_1292797.jpg  \n",
      "  inflating: datasetCorregido/train/no/anonymized_71175.jpg  \n",
      "  inflating: datasetCorregido/train/no/anonymized_159151.jpg  \n",
      "  inflating: datasetCorregido/train/no/anonymized_369043.jpg  \n",
      "  inflating: datasetCorregido/train/no/anonymized_916154.jpg  \n",
      "  inflating: datasetCorregido/train/no/anonymized_1486699.jpg  \n",
      "  inflating: datasetCorregido/train/no/anonymized_1676286.jpg  \n",
      "  inflating: datasetCorregido/train/no/anonymized_265727.jpg  \n",
      "  inflating: datasetCorregido/train/no/anonymized_290575.jpg  \n",
      "  inflating: datasetCorregido/train/no/anonymized_1204732.jpg  \n",
      "  inflating: datasetCorregido/train/no/anonymized_441313.jpg  \n",
      "  inflating: datasetCorregido/train/no/anonymized_154895.jpg  \n",
      "  inflating: datasetCorregido/train/no/anonymized_520974.jpg  \n",
      "  inflating: datasetCorregido/train/no/anonymized_199855.jpg  \n",
      "  inflating: datasetCorregido/train/no/anonymized_287037.jpg  \n",
      "  inflating: datasetCorregido/train/no/anonymized_1105231.jpg  \n",
      "  inflating: datasetCorregido/train/no/anonymized_1256541.jpg  \n",
      "  inflating: datasetCorregido/train/no/anonymized_144097.jpg  \n",
      "  inflating: datasetCorregido/train/no/anonymized_555235.jpg  \n",
      "  inflating: datasetCorregido/train/no/anonymized_261104.jpg  \n",
      "  inflating: datasetCorregido/train/no/anonymized_446021.jpg  \n",
      "  inflating: datasetCorregido/train/no/anonymized_234034.jpg  \n",
      "  inflating: datasetCorregido/train/no/anonymized_419147.jpg  \n",
      "  inflating: datasetCorregido/train/no/anonymized_300180.jpg  \n",
      "  inflating: datasetCorregido/train/no/anonymized_440285.jpg  \n",
      "  inflating: datasetCorregido/train/no/anonymized_157290.jpg  \n",
      "  inflating: datasetCorregido/train/no/anonymized_407769.jpg  \n",
      "  inflating: datasetCorregido/train/no/anonymized_235520.jpg  \n",
      "  inflating: datasetCorregido/train/no/anonymized_291847.jpg  \n",
      "  inflating: datasetCorregido/train/no/anonymized_614228.jpg  \n",
      "  inflating: datasetCorregido/train/no/anonymized_992932.jpg  \n",
      "  inflating: datasetCorregido/train/no/anonymized_290452.jpg  \n",
      "  inflating: datasetCorregido/train/no/anonymized_223779.jpg  \n",
      "  inflating: datasetCorregido/train/no/anonymized_1365245.jpg  \n",
      "  inflating: datasetCorregido/train/no/anonymized_619817.jpg  \n",
      "  inflating: datasetCorregido/train/no/anonymized_249891.jpg  \n",
      "  inflating: datasetCorregido/train/no/anonymized_324551.jpg  \n",
      "  inflating: datasetCorregido/train/no/anonymized_793727.jpg  \n",
      "  inflating: datasetCorregido/train/no/anonymized_303271.jpg  \n",
      "  inflating: datasetCorregido/train/no/anonymized_328113.jpg  \n",
      "  inflating: datasetCorregido/train/no/anonymized_1185737.jpg  \n",
      "  inflating: datasetCorregido/train/no/anonymized_374058.jpg  \n",
      "  inflating: datasetCorregido/train/no/anonymized_581768.jpg  \n",
      "  inflating: datasetCorregido/train/no/anonymized_634926.jpg  \n",
      "  inflating: datasetCorregido/train/no/anonymized_188648.jpg  \n",
      "  inflating: datasetCorregido/train/no/anonymized_291800.jpg  \n",
      "  inflating: datasetCorregido/train/no/anonymized_218936.jpg  \n",
      "  inflating: datasetCorregido/train/no/anonymized_599923.jpg  \n",
      "  inflating: datasetCorregido/train/no/anonymized_486486.jpg  \n",
      "  inflating: datasetCorregido/train/no/anonymized_819368.jpg  \n",
      "  inflating: datasetCorregido/train/no/anonymized_347433.jpg  \n",
      "  inflating: datasetCorregido/train/no/anonymized_1422669.jpg  \n",
      "  inflating: datasetCorregido/train/no/anonymized_227415.jpg  \n",
      "  inflating: datasetCorregido/train/no/anonymized_286186.jpg  \n",
      "  inflating: datasetCorregido/train/no/anonymized_1387410.jpg  \n",
      "  inflating: datasetCorregido/train/no/anonymized_811649.jpg  \n",
      "  inflating: datasetCorregido/train/no/anonymized_159683.jpg  \n",
      "  inflating: datasetCorregido/train/no/anonymized_346506.jpg  \n",
      "  inflating: datasetCorregido/train/no/anonymized_658177.jpg  \n",
      "  inflating: datasetCorregido/train/no/anonymized_327898.jpg  \n",
      "  inflating: datasetCorregido/train/no/anonymized_451465.jpg  \n",
      "  inflating: datasetCorregido/train/no/anonymized_730732.jpg  \n",
      "  inflating: datasetCorregido/train/no/anonymized_561497.jpg  \n",
      "  inflating: datasetCorregido/train/no/anonymized_820723.jpg  \n",
      "  inflating: datasetCorregido/train/no/anonymized_834775.jpg  \n",
      "  inflating: datasetCorregido/train/no/anonymized_331797.jpg  \n",
      "  inflating: datasetCorregido/train/no/anonymized_531437.jpg  \n",
      "  inflating: datasetCorregido/train/no/anonymized_626194.jpg  \n",
      "  inflating: datasetCorregido/train/no/anonymized_1230041.jpg  \n",
      "  inflating: datasetCorregido/train/no/anonymized_341503.jpg  \n",
      "  inflating: datasetCorregido/train/no/anonymized_377027.jpg  \n",
      "  inflating: datasetCorregido/train/no/anonymized_576315.jpg  \n",
      "  inflating: datasetCorregido/train/no/anonymized_1258174.jpg  \n",
      "  inflating: datasetCorregido/train/no/anonymized_992930.jpg  \n",
      "  inflating: datasetCorregido/train/no/anonymized_600060.jpg  \n",
      "  inflating: datasetCorregido/train/no/anonymized_462101.jpg  \n",
      "  inflating: datasetCorregido/train/no/anonymized_305478.jpg  \n",
      "  inflating: datasetCorregido/train/no/anonymized_579015.jpg  \n",
      "  inflating: datasetCorregido/train/no/anonymized_663785.jpg  \n",
      "  inflating: datasetCorregido/train/no/anonymized_934651.jpg  \n",
      "  inflating: datasetCorregido/train/no/anonymized_352532.jpg  \n",
      "  inflating: datasetCorregido/train/no/anonymized_1221181.jpg  \n",
      "  inflating: datasetCorregido/train/no/anonymized_144094.jpg  \n",
      "  inflating: datasetCorregido/train/no/anonymized_919865.jpg  \n",
      "  inflating: datasetCorregido/train/no/anonymized_462646.jpg  \n",
      "  inflating: datasetCorregido/train/no/anonymized_154410.jpg  \n",
      "  inflating: datasetCorregido/train/no/anonymized_192843.jpg  \n",
      "  inflating: datasetCorregido/train/no/anonymized_636991.jpg  \n",
      "  inflating: datasetCorregido/train/no/anonymized_815399.jpg  \n",
      "  inflating: datasetCorregido/train/no/anonymized_522450.jpg  \n",
      "  inflating: datasetCorregido/train/no/anonymized_1336027.jpg  \n",
      "  inflating: datasetCorregido/train/no/anonymized_39931.jpg  \n",
      "  inflating: datasetCorregido/train/no/anonymized_501198.jpg  \n",
      "  inflating: datasetCorregido/train/no/anonymized_794777.jpg  \n",
      "  inflating: datasetCorregido/train/no/anonymized_151075.jpg  \n",
      "  inflating: datasetCorregido/train/no/anonymized_293084.jpg  \n",
      "  inflating: datasetCorregido/train/no/anonymized_828967.jpg  \n",
      "  inflating: datasetCorregido/train/no/anonymized_774599.jpg  \n",
      "  inflating: datasetCorregido/train/no/anonymized_588609.jpg  \n",
      "  inflating: datasetCorregido/train/no/anonymized_496524.jpg  \n",
      "  inflating: datasetCorregido/train/no/anonymized_371672.jpg  \n",
      "  inflating: datasetCorregido/train/no/anonymized_501197.jpg  \n",
      "  inflating: datasetCorregido/train/no/anonymized_464022.jpg  \n",
      "  inflating: datasetCorregido/train/no/anonymized_749475.jpg  \n",
      "  inflating: datasetCorregido/train/no/anonymized_638224.jpg  \n",
      "  inflating: datasetCorregido/train/no/anonymized_211422.jpg  \n",
      "  inflating: datasetCorregido/train/no/anonymized_188757.jpg  \n",
      "  inflating: datasetCorregido/train/no/anonymized_372405.jpg  \n",
      "  inflating: datasetCorregido/train/no/anonymized_487816.jpg  \n",
      "  inflating: datasetCorregido/train/no/anonymized_586361.jpg  \n",
      "  inflating: datasetCorregido/train/no/anonymized_233082.jpg  \n",
      "  inflating: datasetCorregido/train/no/anonymized_200528.jpg  \n",
      "  inflating: datasetCorregido/train/no/anonymized_1283595.jpg  \n",
      "  inflating: datasetCorregido/train/no/anonymized_1372435.jpg  \n",
      "  inflating: datasetCorregido/train/no/anonymized_434879.jpg  \n",
      "  inflating: datasetCorregido/train/no/anonymized_588996.jpg  \n",
      "  inflating: datasetCorregido/train/no/anonymized_592945.jpg  \n",
      "  inflating: datasetCorregido/train/no/anonymized_49987.jpg  \n",
      "  inflating: datasetCorregido/train/no/anonymized_1267079.jpg  \n",
      "  inflating: datasetCorregido/train/no/anonymized_985526.jpg  \n",
      "  inflating: datasetCorregido/train/no/anonymized_214638.jpg  \n",
      "  inflating: datasetCorregido/train/no/anonymized_1873271.jpg  \n",
      "  inflating: datasetCorregido/train/no/anonymized_369960.jpg  \n",
      "  inflating: datasetCorregido/train/no/anonymized_296102.jpg  \n",
      "  inflating: datasetCorregido/train/no/anonymized_589131.jpg  \n",
      "  inflating: datasetCorregido/train/no/anonymized_908584.jpg  \n",
      "  inflating: datasetCorregido/train/no/anonymized_1596777.jpg  \n",
      "  inflating: datasetCorregido/train/no/anonymized_127774.jpg  \n",
      "  inflating: datasetCorregido/train/no/anonymized_493240.jpg  \n",
      "  inflating: datasetCorregido/train/no/anonymized_745939.jpg  \n",
      "  inflating: datasetCorregido/train/no/anonymized_657050.jpg  \n",
      "  inflating: datasetCorregido/train/no/anonymized_289209.jpg  \n",
      "  inflating: datasetCorregido/train/no/anonymized_686485.jpg  \n",
      "  inflating: datasetCorregido/train/no/anonymized_666452.jpg  \n",
      "  inflating: datasetCorregido/train/no/anonymized_234277.jpg  \n",
      "  inflating: datasetCorregido/train/no/anonymized_658756.jpg  \n",
      "  inflating: datasetCorregido/train/no/anonymized_530364.jpg  \n",
      "  inflating: datasetCorregido/train/no/anonymized_573112.jpg  \n",
      "  inflating: datasetCorregido/train/no/anonymized_1180607.jpg  \n",
      "  inflating: datasetCorregido/train/no/anonymized_1406941.jpg  \n",
      "  inflating: datasetCorregido/train/no/anonymized_308885.jpg  \n",
      "  inflating: datasetCorregido/train/no/anonymized_1278904.jpg  \n",
      "  inflating: datasetCorregido/train/no/anonymized_670928.jpg  \n",
      "  inflating: datasetCorregido/train/no/anonymized_446609.jpg  \n",
      "  inflating: datasetCorregido/train/no/anonymized_257553.jpg  \n",
      "  inflating: datasetCorregido/train/no/anonymized_1875765.jpg  \n",
      "  inflating: datasetCorregido/train/no/anonymized_816096.jpg  \n",
      "  inflating: datasetCorregido/train/no/anonymized_421151.jpg  \n",
      "  inflating: datasetCorregido/train/no/anonymized_741909.jpg  \n",
      "  inflating: datasetCorregido/train/no/anonymized_657019.jpg  \n",
      "  inflating: datasetCorregido/train/no/anonymized_578102.jpg  \n",
      "  inflating: datasetCorregido/train/no/anonymized_369951.jpg  \n",
      "  inflating: datasetCorregido/train/no/anonymized_1606518.jpg  \n",
      "  inflating: datasetCorregido/train/no/anonymized_389395.jpg  \n",
      "  inflating: datasetCorregido/train/no/anonymized_875631.jpg  \n",
      "  inflating: datasetCorregido/train/no/anonymized_833044.jpg  \n",
      "  inflating: datasetCorregido/train/no/anonymized_302147.jpg  \n",
      "  inflating: datasetCorregido/train/no/anonymized_356312.jpg  \n",
      "  inflating: datasetCorregido/train/no/anonymized_794766.jpg  \n",
      "  inflating: datasetCorregido/train/no/anonymized_528909.jpg  \n",
      "  inflating: datasetCorregido/train/no/anonymized_192849.jpg  \n",
      "  inflating: datasetCorregido/train/no/anonymized_617484.jpg  \n",
      "  inflating: datasetCorregido/train/no/anonymized_1258730.jpg  \n",
      "  inflating: datasetCorregido/train/no/anonymized_232157.jpg  \n",
      "  inflating: datasetCorregido/train/no/anonymized_1418185.jpg  \n",
      "  inflating: datasetCorregido/train/no/anonymized_684701.jpg  \n",
      "  inflating: datasetCorregido/train/no/anonymized_852600.jpg  \n",
      "  inflating: datasetCorregido/train/no/anonymized_275565.jpg  \n",
      "  inflating: datasetCorregido/train/no/anonymized_225745.jpg  \n",
      "  inflating: datasetCorregido/train/no/anonymized_539815.jpg  \n",
      "  inflating: datasetCorregido/train/no/anonymized_781691.jpg  \n",
      "  inflating: datasetCorregido/train/no/anonymized_1210994.jpg  \n",
      "  inflating: datasetCorregido/train/no/anonymized_808191.jpg  \n",
      "  inflating: datasetCorregido/train/no/anonymized_1007445.jpg  \n",
      "  inflating: datasetCorregido/train/no/anonymized_485718.jpg  \n",
      "  inflating: datasetCorregido/train/no/anonymized_1361964.jpg  \n",
      "  inflating: datasetCorregido/train/no/anonymized_188795.jpg  \n",
      "  inflating: datasetCorregido/train/no/anonymized_216835.jpg  \n",
      "  inflating: datasetCorregido/train/no/anonymized_1203098.jpg  \n",
      "  inflating: datasetCorregido/train/no/anonymized_194843.jpg  \n",
      "  inflating: datasetCorregido/train/no/anonymized_1348531.jpg  \n",
      "  inflating: datasetCorregido/train/no/anonymized_804670.jpg  \n",
      "  inflating: datasetCorregido/train/no/anonymized_457240.jpg  \n",
      "  inflating: datasetCorregido/train/no/anonymized_765184.jpg  \n",
      "  inflating: datasetCorregido/train/no/anonymized_339625.jpg  \n",
      "  inflating: datasetCorregido/train/no/anonymized_1265857.jpg  \n",
      "  inflating: datasetCorregido/train/no/anonymized_1242602.jpg  \n",
      "  inflating: datasetCorregido/train/no/anonymized_941017.jpg  \n",
      "  inflating: datasetCorregido/train/no/anonymized_451464.jpg  \n",
      "  inflating: datasetCorregido/train/no/anonymized_630103.jpg  \n",
      "  inflating: datasetCorregido/train/no/anonymized_1368324.jpg  \n",
      "  inflating: datasetCorregido/train/no/anonymized_698805.jpg  \n",
      "  inflating: datasetCorregido/train/no/anonymized_857156.jpg  \n",
      "  inflating: datasetCorregido/train/no/anonymized_553871.jpg  \n",
      "  inflating: datasetCorregido/train/no/anonymized_1878757.jpg  \n",
      "  inflating: datasetCorregido/train/no/anonymized_794052.jpg  \n",
      "  inflating: datasetCorregido/train/no/anonymized_366027.jpg  \n",
      "  inflating: datasetCorregido/train/no/anonymized_224012.jpg  \n",
      "  inflating: datasetCorregido/train/no/anonymized_679202.jpg  \n",
      "  inflating: datasetCorregido/train/no/anonymized_136792.jpg  \n",
      "  inflating: datasetCorregido/train/no/anonymized_175405.jpg  \n",
      "  inflating: datasetCorregido/train/no/anonymized_651902.jpg  \n",
      "  inflating: datasetCorregido/train/no/anonymized_581142.jpg  \n",
      "  inflating: datasetCorregido/train/no/anonymized_772825.jpg  \n",
      "  inflating: datasetCorregido/train/no/anonymized_223818.jpg  \n",
      "  inflating: datasetCorregido/train/no/anonymized_359864.jpg  \n",
      "  inflating: datasetCorregido/train/no/anonymized_72511.jpg  \n",
      "  inflating: datasetCorregido/train/no/anonymized_838537.jpg  \n",
      "  inflating: datasetCorregido/train/no/anonymized_786196.jpg  \n",
      "  inflating: datasetCorregido/train/no/anonymized_770491.jpg  \n",
      "  inflating: datasetCorregido/train/no/anonymized_1373464.jpg  \n",
      "  inflating: datasetCorregido/train/no/anonymized_326668.jpg  \n",
      "  inflating: datasetCorregido/train/no/anonymized_47460.jpg  \n",
      "  inflating: datasetCorregido/train/no/anonymized_164626.jpg  \n",
      "  inflating: datasetCorregido/train/no/anonymized_581140.jpg  \n",
      "  inflating: datasetCorregido/train/no/anonymized_1257479.jpg  \n",
      "  inflating: datasetCorregido/train/no/anonymized_1202911.jpg  \n",
      "  inflating: datasetCorregido/train/no/anonymized_1210993.jpg  \n",
      "  inflating: datasetCorregido/train/no/anonymized_320113.jpg  \n",
      "  inflating: datasetCorregido/train/no/anonymized_312879.jpg  \n",
      "  inflating: datasetCorregido/train/no/anonymized_208185.jpg  \n",
      "  inflating: datasetCorregido/train/no/anonymized_472538.jpg  \n",
      "  inflating: datasetCorregido/train/no/anonymized_496579.jpg  \n",
      "  inflating: datasetCorregido/train/no/anonymized_718535.jpg  \n",
      "  inflating: datasetCorregido/train/no/anonymized_430173.jpg  \n",
      "  inflating: datasetCorregido/train/no/anonymized_1211524.jpg  \n",
      "  inflating: datasetCorregido/train/no/anonymized_1351236.jpg  \n",
      "  inflating: datasetCorregido/train/no/anonymized_1184523.jpg  \n",
      "  inflating: datasetCorregido/train/no/anonymized_1220916.jpg  \n",
      "  inflating: datasetCorregido/train/no/anonymized_721688.jpg  \n",
      "  inflating: datasetCorregido/train/no/anonymized_1217578.jpg  \n",
      "  inflating: datasetCorregido/train/no/anonymized_367436.jpg  \n",
      "  inflating: datasetCorregido/train/no/anonymized_603593.jpg  \n",
      "  inflating: datasetCorregido/train/no/anonymized_338855.jpg  \n",
      "  inflating: datasetCorregido/train/no/anonymized_474552.jpg  \n",
      "  inflating: datasetCorregido/train/no/anonymized_627247.jpg  \n",
      "  inflating: datasetCorregido/train/no/anonymized_278670.jpg  \n",
      "  inflating: datasetCorregido/train/no/anonymized_271700.jpg  \n",
      "  inflating: datasetCorregido/train/no/anonymized_1283593.jpg  \n",
      "  inflating: datasetCorregido/train/no/anonymized_559926.jpg  \n",
      "  inflating: datasetCorregido/train/no/anonymized_48127.jpg  \n",
      "  inflating: datasetCorregido/train/no/anonymized_1214111.jpg  \n",
      "  inflating: datasetCorregido/train/no/anonymized_1879620.jpg  \n",
      "  inflating: datasetCorregido/train/no/anonymized_309225.jpg  \n",
      "  inflating: datasetCorregido/train/no/anonymized_1247750.jpg  \n",
      "  inflating: datasetCorregido/train/no/anonymized_688092.jpg  \n",
      "  inflating: datasetCorregido/train/no/anonymized_1249620.jpg  \n",
      "  inflating: datasetCorregido/train/no/anonymized_1385687.jpg  \n",
      "  inflating: datasetCorregido/train/no/anonymized_1365747.jpg  \n",
      "  inflating: datasetCorregido/train/no/anonymized_239031.jpg  \n",
      "  inflating: datasetCorregido/train/no/anonymized_1199850.jpg  \n",
      "  inflating: datasetCorregido/train/no/anonymized_1385686.jpg  \n",
      "  inflating: datasetCorregido/train/no/anonymized_247872.jpg  \n",
      "  inflating: datasetCorregido/train/no/anonymized_441315.jpg  \n",
      "  inflating: datasetCorregido/train/no/anonymized_772070.jpg  \n",
      "  inflating: datasetCorregido/train/no/anonymized_1381869.jpg  \n",
      "  inflating: datasetCorregido/train/no/anonymized_325246.jpg  \n",
      "  inflating: datasetCorregido/train/no/anonymized_1309396.jpg  \n",
      "  inflating: datasetCorregido/train/no/anonymized_769473.jpg  \n",
      "  inflating: datasetCorregido/train/no/anonymized_469011.jpg  \n",
      "  inflating: datasetCorregido/train/no/anonymized_740064.jpg  \n",
      "  inflating: datasetCorregido/train/no/anonymized_369401.jpg  \n",
      "  inflating: datasetCorregido/train/no/anonymized_1285228.jpg  \n",
      "  inflating: datasetCorregido/train/no/anonymized_1006457.jpg  \n",
      "  inflating: datasetCorregido/train/no/anonymized_1217966.jpg  \n",
      "  inflating: datasetCorregido/train/no/anonymized_366025.jpg  \n",
      "  inflating: datasetCorregido/train/no/anonymized_466262.jpg  \n",
      "  inflating: datasetCorregido/train/no/anonymized_584492.jpg  \n",
      "  inflating: datasetCorregido/train/no/anonymized_325247.jpg  \n",
      "  inflating: datasetCorregido/train/no/anonymized_579014.jpg  \n",
      "  inflating: datasetCorregido/train/no/anonymized_246824.jpg  \n",
      "  inflating: datasetCorregido/train/no/anonymized_217005.jpg  \n",
      "  inflating: datasetCorregido/train/no/anonymized_470634.jpg  \n",
      "  inflating: datasetCorregido/train/no/anonymized_538160.jpg  \n",
      "  inflating: datasetCorregido/train/no/anonymized_1309400.jpg  \n",
      "  inflating: datasetCorregido/train/no/anonymized_300675.jpg  \n",
      "  inflating: datasetCorregido/train/no/anonymized_540664.jpg  \n",
      "  inflating: datasetCorregido/train/no/anonymized_876141.jpg  \n",
      "  inflating: datasetCorregido/train/no/anonymized_180026.jpg  \n",
      "  inflating: datasetCorregido/train/no/anonymized_345853.jpg  \n",
      "  inflating: datasetCorregido/train/no/anonymized_399686.jpg  \n",
      "  inflating: datasetCorregido/train/no/anonymized_1261009.jpg  \n",
      "  inflating: datasetCorregido/train/no/anonymized_1211289.jpg  \n",
      "  inflating: datasetCorregido/train/no/anonymized_360002.jpg  \n",
      "  inflating: datasetCorregido/train/no/anonymized_1300472.jpg  \n",
      "  inflating: datasetCorregido/train/no/anonymized_902810.jpg  \n",
      "  inflating: datasetCorregido/train/no/anonymized_209417.jpg  \n",
      "  inflating: datasetCorregido/train/no/anonymized_501879.jpg  \n",
      "  inflating: datasetCorregido/train/no/anonymized_741746.jpg  \n",
      "  inflating: datasetCorregido/train/no/anonymized_784854.jpg  \n",
      "  inflating: datasetCorregido/train/no/anonymized_705419.jpg  \n",
      "  inflating: datasetCorregido/train/no/anonymized_1196859.jpg  \n",
      "  inflating: datasetCorregido/train/no/anonymized_445905.jpg  \n",
      "  inflating: datasetCorregido/train/no/anonymized_1201145.jpg  \n",
      "  inflating: datasetCorregido/train/no/anonymized_321788.jpg  \n",
      "  inflating: datasetCorregido/train/no/anonymized_261453.jpg  \n",
      "  inflating: datasetCorregido/train/no/anonymized_485309.jpg  \n",
      "  inflating: datasetCorregido/train/no/anonymized_376666.jpg  \n",
      "  inflating: datasetCorregido/train/no/anonymized_1190106.jpg  \n",
      "  inflating: datasetCorregido/train/no/anonymized_761468.jpg  \n",
      "  inflating: datasetCorregido/train/no/anonymized_377006.jpg  \n",
      "  inflating: datasetCorregido/train/no/anonymized_990016.jpg  \n",
      "  inflating: datasetCorregido/train/no/anonymized_491298.jpg  \n",
      "  inflating: datasetCorregido/train/no/anonymized_261139.jpg  \n",
      "  inflating: datasetCorregido/train/no/anonymized_151644.jpg  \n",
      "  inflating: datasetCorregido/train/no/anonymized_331169.jpg  \n",
      "  inflating: datasetCorregido/train/no/anonymized_505649.jpg  \n",
      "  inflating: datasetCorregido/train/no/anonymized_531907.jpg  \n",
      "  inflating: datasetCorregido/train/no/anonymized_707094.jpg  \n",
      "  inflating: datasetCorregido/train/no/anonymized_450413.jpg  \n",
      "  inflating: datasetCorregido/train/no/anonymized_171490.jpg  \n",
      "  inflating: datasetCorregido/train/no/anonymized_845593.jpg  \n",
      "  inflating: datasetCorregido/train/no/anonymized_326667.jpg  \n",
      "  inflating: datasetCorregido/train/no/anonymized_1309300.jpg  \n",
      "  inflating: datasetCorregido/train/no/anonymized_261135.jpg  \n",
      "  inflating: datasetCorregido/train/no/anonymized_921412.jpg  \n",
      "  inflating: datasetCorregido/train/no/anonymized_1414795.jpg  \n",
      "  inflating: datasetCorregido/train/no/anonymized_185373.jpg  \n",
      "  inflating: datasetCorregido/train/no/anonymized_876762.jpg  \n",
      "  inflating: datasetCorregido/train/no/anonymized_522191.jpg  \n",
      "  inflating: datasetCorregido/train/no/anonymized_581697.jpg  \n",
      "  inflating: datasetCorregido/train/no/anonymized_127319.jpg  \n",
      "  inflating: datasetCorregido/train/no/anonymized_466270.jpg  \n",
      "  inflating: datasetCorregido/train/no/anonymized_772097.jpg  \n",
      "  inflating: datasetCorregido/train/no/anonymized_140736.jpg  \n",
      "  inflating: datasetCorregido/train/no/anonymized_1302215.jpg  \n",
      "  inflating: datasetCorregido/train/no/anonymized_650887.jpg  \n",
      "  inflating: datasetCorregido/train/no/anonymized_668146.jpg  \n",
      "  inflating: datasetCorregido/train/no/anonymized_1370668.jpg  \n",
      "  inflating: datasetCorregido/train/no/anonymized_226077.jpg  \n",
      "  inflating: datasetCorregido/train/no/anonymized_1349081.jpg  \n",
      "  inflating: datasetCorregido/train/no/anonymized_806241.jpg  \n",
      "  inflating: datasetCorregido/train/no/anonymized_857683.jpg  \n",
      "  inflating: datasetCorregido/train/no/anonymized_1328326.jpg  \n",
      "  inflating: datasetCorregido/train/no/anonymized_825061.jpg  \n",
      "  inflating: datasetCorregido/train/no/anonymized_221517.jpg  \n",
      "  inflating: datasetCorregido/train/no/anonymized_154894.jpg  \n",
      "  inflating: datasetCorregido/train/no/anonymized_218711.jpg  \n",
      "  inflating: datasetCorregido/train/no/anonymized_1392256.jpg  \n",
      "  inflating: datasetCorregido/train/no/anonymized_1859516.jpg  \n",
      "  inflating: datasetCorregido/train/no/anonymized_503984.jpg  \n",
      "  inflating: datasetCorregido/train/no/anonymized_1420016.jpg  \n",
      "  inflating: datasetCorregido/train/no/anonymized_321794.jpg  \n",
      "  inflating: datasetCorregido/train/no/anonymized_857020.jpg  \n",
      "  inflating: datasetCorregido/train/no/anonymized_1265817.jpg  \n",
      "  inflating: datasetCorregido/train/no/anonymized_261160.jpg  \n",
      "  inflating: datasetCorregido/train/no/anonymized_214515.jpg  \n",
      "  inflating: datasetCorregido/train/no/anonymized_336511.jpg  \n",
      "  inflating: datasetCorregido/train/no/anonymized_361859.jpg  \n",
      "  inflating: datasetCorregido/train/no/anonymized_581247.jpg  \n",
      "  inflating: datasetCorregido/train/no/anonymized_1285414.jpg  \n",
      "  inflating: datasetCorregido/train/no/anonymized_1303527.jpg  \n",
      "  inflating: datasetCorregido/train/no/anonymized_272650.jpg  \n",
      "  inflating: datasetCorregido/train/no/anonymized_307705.jpg  \n",
      "  inflating: datasetCorregido/train/no/anonymized_785482.jpg  \n",
      "  inflating: datasetCorregido/train/no/anonymized_1265060.jpg  \n",
      "  inflating: datasetCorregido/train/no/anonymized_257391.jpg  \n",
      "  inflating: datasetCorregido/train/no/anonymized_155412.jpg  \n",
      "  inflating: datasetCorregido/train/no/anonymized_1284816.jpg  \n",
      "  inflating: datasetCorregido/train/no/anonymized_261048.jpg  \n",
      "  inflating: datasetCorregido/train/no/anonymized_276027.jpg  \n",
      "  inflating: datasetCorregido/train/no/anonymized_612241.jpg  \n",
      "  inflating: datasetCorregido/train/no/anonymized_946356.jpg  \n",
      "  inflating: datasetCorregido/train/no/anonymized_469761.jpg  \n",
      "  inflating: datasetCorregido/train/no/anonymized_815035.jpg  \n",
      "  inflating: datasetCorregido/train/no/anonymized_266756.jpg  \n",
      "  inflating: datasetCorregido/train/no/anonymized_1300473.jpg  \n",
      "  inflating: datasetCorregido/train/no/anonymized_321789.jpg  \n",
      "  inflating: datasetCorregido/train/no/anonymized_830440.jpg  \n",
      "  inflating: datasetCorregido/train/no/anonymized_387944.jpg  \n",
      "  inflating: datasetCorregido/train/no/anonymized_601791.jpg  \n",
      "  inflating: datasetCorregido/train/no/anonymized_363617.jpg  \n",
      "  inflating: datasetCorregido/train/no/anonymized_1313405.jpg  \n",
      "  inflating: datasetCorregido/train/no/anonymized_534860.jpg  \n",
      "  inflating: datasetCorregido/train/no/anonymized_1596503.jpg  \n",
      "  inflating: datasetCorregido/train/no/anonymized_300216.jpg  \n",
      "  inflating: datasetCorregido/train/no/anonymized_1335548.jpg  \n",
      "  inflating: datasetCorregido/train/no/anonymized_533772.jpg  \n",
      "  inflating: datasetCorregido/train/no/anonymized_852598.jpg  \n",
      "  inflating: datasetCorregido/train/no/anonymized_502535.jpg  \n",
      "  inflating: datasetCorregido/train/no/anonymized_402195.jpg  \n",
      "  inflating: datasetCorregido/train/no/anonymized_1269013.jpg  \n",
      "  inflating: datasetCorregido/train/no/anonymized_596705.jpg  \n",
      "  inflating: datasetCorregido/train/no/anonymized_448682.jpg  \n",
      "  inflating: datasetCorregido/train/no/anonymized_464028.jpg  \n",
      "  inflating: datasetCorregido/train/no/anonymized_1364735.jpg  \n",
      "  inflating: datasetCorregido/train/no/anonymized_825785.jpg  \n",
      "  inflating: datasetCorregido/train/no/anonymized_339902.jpg  \n",
      "  inflating: datasetCorregido/train/no/anonymized_292999.jpg  \n",
      "  inflating: datasetCorregido/train/no/anonymized_331170.jpg  \n",
      "  inflating: datasetCorregido/train/no/anonymized_304449.jpg  \n",
      "  inflating: datasetCorregido/train/no/anonymized_751779.jpg  \n",
      "  inflating: datasetCorregido/train/no/anonymized_452801.jpg  \n",
      "  inflating: datasetCorregido/train/no/anonymized_1008555.jpg  \n",
      "  inflating: datasetCorregido/train/no/anonymized_601266.jpg  \n",
      "  inflating: datasetCorregido/train/no/anonymized_454373.jpg  \n",
      "  inflating: datasetCorregido/train/no/anonymized_942120.jpg  \n",
      "  inflating: datasetCorregido/train/no/anonymized_1269944.jpg  \n",
      "  inflating: datasetCorregido/train/no/anonymized_408047.jpg  \n",
      "  inflating: datasetCorregido/train/no/anonymized_224131.jpg  \n",
      "  inflating: datasetCorregido/train/no/anonymized_261448.jpg  \n",
      "  inflating: datasetCorregido/train/no/anonymized_1376600.jpg  \n",
      "  inflating: datasetCorregido/train/no/anonymized_1314001.jpg  \n",
      "  inflating: datasetCorregido/train/no/anonymized_1356827.jpg  \n",
      "  inflating: datasetCorregido/train/no/anonymized_837571.jpg  \n",
      "  inflating: datasetCorregido/train/no/anonymized_1391860.jpg  \n",
      "  inflating: datasetCorregido/train/no/anonymized_1188309.jpg  \n",
      "  inflating: datasetCorregido/train/no/anonymized_633146.jpg  \n",
      "  inflating: datasetCorregido/train/no/anonymized_262102.jpg  \n",
      "  inflating: datasetCorregido/train/no/anonymized_505650.jpg  \n",
      "  inflating: datasetCorregido/train/no/anonymized_224114.jpg  \n",
      "  inflating: datasetCorregido/train/no/anonymized_241984.jpg  \n",
      "  inflating: datasetCorregido/train/no/anonymized_839220.jpg  \n",
      "  inflating: datasetCorregido/train/no/anonymized_389389.jpg  \n",
      "  inflating: datasetCorregido/train/no/anonymized_820384.jpg  \n",
      "  inflating: datasetCorregido/train/no/anonymized_620485.jpg  \n",
      "  inflating: datasetCorregido/train/no/anonymized_275852.jpg  \n",
      "  inflating: datasetCorregido/train/no/anonymized_664006.jpg  \n",
      "  inflating: datasetCorregido/train/no/anonymized_1408416.jpg  \n",
      "  inflating: datasetCorregido/train/no/anonymized_910772.jpg  \n",
      "  inflating: datasetCorregido/train/no/anonymized_980134.jpg  \n",
      "  inflating: datasetCorregido/train/no/anonymized_899276.jpg  \n",
      "  inflating: datasetCorregido/train/no/anonymized_1417454.jpg  \n",
      "  inflating: datasetCorregido/train/no/anonymized_502928.jpg  \n",
      "  inflating: datasetCorregido/train/no/anonymized_1298884.jpg  \n",
      "  inflating: datasetCorregido/train/no/anonymized_820391.jpg  \n",
      "  inflating: datasetCorregido/train/no/anonymized_235630.jpg  \n",
      "  inflating: datasetCorregido/train/no/anonymized_634825.jpg  \n",
      "  inflating: datasetCorregido/train/no/anonymized_233058.jpg  \n",
      "  inflating: datasetCorregido/train/no/anonymized_374049.jpg  \n",
      "  inflating: datasetCorregido/train/no/anonymized_599897.jpg  \n",
      "  inflating: datasetCorregido/train/no/anonymized_716513.jpg  \n",
      "  inflating: datasetCorregido/train/no/anonymized_270134.jpg  \n",
      "  inflating: datasetCorregido/train/no/anonymized_179141.jpg  \n",
      "  inflating: datasetCorregido/train/no/anonymized_1187939.jpg  \n",
      "  inflating: datasetCorregido/train/no/anonymized_369961.jpg  \n",
      "  inflating: datasetCorregido/train/no/anonymized_1185654.jpg  \n",
      "  inflating: datasetCorregido/train/no/anonymized_978138.jpg  \n",
      "  inflating: datasetCorregido/train/no/anonymized_245870.jpg  \n",
      "  inflating: datasetCorregido/train/no/anonymized_144507.jpg  \n",
      "  inflating: datasetCorregido/train/no/anonymized_285027.jpg  \n",
      "  inflating: datasetCorregido/train/no/anonymized_1326814.jpg  \n",
      "  inflating: datasetCorregido/train/no/anonymized_641782.jpg  \n",
      "  inflating: datasetCorregido/train/no/anonymized_406825.jpg  \n",
      "  inflating: datasetCorregido/train/no/anonymized_252853.jpg  \n",
      "  inflating: datasetCorregido/train/no/anonymized_631666.jpg  \n",
      "  inflating: datasetCorregido/train/no/anonymized_1250596.jpg  \n",
      "  inflating: datasetCorregido/train/no/anonymized_39481.jpg  \n",
      "  inflating: datasetCorregido/train/no/anonymized_598674.jpg  \n",
      "  inflating: datasetCorregido/train/no/anonymized_315306.jpg  \n",
      "  inflating: datasetCorregido/train/no/anonymized_863267.jpg  \n",
      "  inflating: datasetCorregido/train/no/anonymized_1010195.jpg  \n",
      "  inflating: datasetCorregido/train/no/anonymized_1257969.jpg  \n",
      "  inflating: datasetCorregido/train/no/anonymized_208758.jpg  \n",
      "  inflating: datasetCorregido/train/no/anonymized_434986.jpg  \n",
      "  inflating: datasetCorregido/train/no/anonymized_1047419.jpg  \n",
      "  inflating: datasetCorregido/train/no/anonymized_1292796.jpg  \n",
      "  inflating: datasetCorregido/train/no/anonymized_394914.jpg  \n",
      "  inflating: datasetCorregido/train/no/anonymized_782684.jpg  \n",
      "  inflating: datasetCorregido/train/no/anonymized_857682.jpg  \n",
      "  inflating: datasetCorregido/train/no/anonymized_818161.jpg  \n",
      "  inflating: datasetCorregido/train/no/anonymized_471824.jpg  \n",
      "  inflating: datasetCorregido/train/no/anonymized_221279.jpg  \n",
      "  inflating: datasetCorregido/train/no/anonymized_182812.jpg  \n",
      "  inflating: datasetCorregido/train/no/anonymized_182268.jpg  \n",
      "  inflating: datasetCorregido/train/no/anonymized_332798.jpg  \n",
      "  inflating: datasetCorregido/train/no/anonymized_996567.jpg  \n",
      "  inflating: datasetCorregido/train/no/anonymized_1106295.jpg  \n",
      "  inflating: datasetCorregido/train/no/anonymized_862607.jpg  \n",
      "  inflating: datasetCorregido/train/no/anonymized_1249416.jpg  \n",
      "  inflating: datasetCorregido/train/no/anonymized_568231.jpg  \n",
      "  inflating: datasetCorregido/train/no/anonymized_193581.jpg  \n",
      "  inflating: datasetCorregido/train/no/anonymized_450500.jpg  \n",
      "  inflating: datasetCorregido/train/no/anonymized_1310957.jpg  \n",
      "  inflating: datasetCorregido/train/no/anonymized_697528.jpg  \n",
      "  inflating: datasetCorregido/train/no/anonymized_278646.jpg  \n",
      "  inflating: datasetCorregido/train/no/anonymized_809624.jpg  \n",
      "  inflating: datasetCorregido/train/no/anonymized_576764.jpg  \n",
      "  inflating: datasetCorregido/train/no/anonymized_505487.jpg  \n",
      "  inflating: datasetCorregido/train/no/anonymized_1356825.jpg  \n",
      "  inflating: datasetCorregido/train/no/anonymized_1875764.jpg  \n",
      "  inflating: datasetCorregido/train/no/anonymized_947203.jpg  \n",
      "  inflating: datasetCorregido/train/no/anonymized_332351.jpg  \n",
      "  inflating: datasetCorregido/train/no/anonymized_1882591.jpg  \n",
      "  inflating: datasetCorregido/train/no/anonymized_846774.jpg  \n",
      "  inflating: datasetCorregido/train/no/anonymized_1363828.jpg  \n",
      "  inflating: datasetCorregido/train/no/anonymized_715624.jpg  \n",
      "  inflating: datasetCorregido/train/no/anonymized_461136.jpg  \n",
      "  inflating: datasetCorregido/train/no/anonymized_1198950.jpg  \n",
      "  inflating: datasetCorregido/train/no/anonymized_1317730.jpg  \n",
      "  inflating: datasetCorregido/train/no/anonymized_219189.jpg  \n",
      "  inflating: datasetCorregido/train/no/anonymized_504031.jpg  \n",
      "  inflating: datasetCorregido/train/no/anonymized_352533.jpg  \n",
      "  inflating: datasetCorregido/train/no/anonymized_1324589.jpg  \n",
      "  inflating: datasetCorregido/train/no/anonymized_716264.jpg  \n",
      "  inflating: datasetCorregido/train/no/anonymized_579007.jpg  \n",
      "  inflating: datasetCorregido/train/no/anonymized_704454.jpg  \n",
      "  inflating: datasetCorregido/train/no/anonymized_850840.jpg  \n",
      "  inflating: datasetCorregido/train/no/anonymized_493247.jpg  \n",
      "  inflating: datasetCorregido/train/no/anonymized_632400.jpg  \n",
      "  inflating: datasetCorregido/train/no/anonymized_262131.jpg  \n",
      "  inflating: datasetCorregido/train/no/anonymized_1199535.jpg  \n",
      "  inflating: datasetCorregido/train/no/anonymized_1346326.jpg  \n",
      "  inflating: datasetCorregido/train/no/anonymized_946288.jpg  \n",
      "  inflating: datasetCorregido/train/no/anonymized_1219533.jpg  \n",
      "  inflating: datasetCorregido/train/no/anonymized_742881.jpg  \n",
      "  inflating: datasetCorregido/train/no/anonymized_1305547.jpg  \n",
      "  inflating: datasetCorregido/train/no/anonymized_226013.jpg  \n",
      "  inflating: datasetCorregido/train/no/anonymized_815503.jpg  \n",
      "  inflating: datasetCorregido/train/no/anonymized_242462.jpg  \n",
      "  inflating: datasetCorregido/train/no/anonymized_713696.jpg  \n",
      "  inflating: datasetCorregido/train/no/anonymized_903333.jpg  \n",
      "  inflating: datasetCorregido/train/no/anonymized_325726.jpg  \n",
      "  inflating: datasetCorregido/train/no/anonymized_1891670.jpg  \n",
      "  inflating: datasetCorregido/train/no/anonymized_888936.jpg  \n",
      "  inflating: datasetCorregido/train/no/anonymized_948861.jpg  \n",
      "  inflating: datasetCorregido/train/no/anonymized_287866.jpg  \n",
      "  inflating: datasetCorregido/train/no/anonymized_361202.jpg  \n",
      "  inflating: datasetCorregido/train/no/anonymized_325727.jpg  \n",
      "  inflating: datasetCorregido/train/no/anonymized_305781.jpg  \n",
      "  inflating: datasetCorregido/train/no/anonymized_436769.jpg  \n",
      "  inflating: datasetCorregido/train/no/anonymized_604336.jpg  \n",
      "  inflating: datasetCorregido/train/no/anonymized_469012.jpg  \n",
      "  inflating: datasetCorregido/train/no/anonymized_1226530.jpg  \n",
      "  inflating: datasetCorregido/train/no/anonymized_503903.jpg  \n",
      "  inflating: datasetCorregido/train/no/anonymized_814798.jpg  \n",
      "  inflating: datasetCorregido/train/no/anonymized_624321.jpg  \n",
      "  inflating: datasetCorregido/train/no/anonymized_452068.jpg  \n",
      "  inflating: datasetCorregido/train/no/anonymized_445904.jpg  \n",
      "  inflating: datasetCorregido/train/no/anonymized_566473.jpg  \n",
      "  inflating: datasetCorregido/train/no/anonymized_626435.jpg  \n",
      "  inflating: datasetCorregido/train/no/anonymized_1352879.jpg  \n",
      "  inflating: datasetCorregido/train/no/anonymized_1220978.jpg  \n",
      "  inflating: datasetCorregido/train/no/anonymized_567334.jpg  \n",
      "  inflating: datasetCorregido/train/no/anonymized_250569.jpg  \n",
      "  inflating: datasetCorregido/train/no/anonymized_498408.jpg  \n",
      "  inflating: datasetCorregido/train/no/anonymized_324553.jpg  \n",
      "  inflating: datasetCorregido/train/no/anonymized_1281744.jpg  \n",
      "  inflating: datasetCorregido/train/no/anonymized_261133.jpg  \n",
      "  inflating: datasetCorregido/train/no/anonymized_540317.jpg  \n",
      "  inflating: datasetCorregido/train/no/anonymized_385729.jpg  \n",
      "  inflating: datasetCorregido/train/no/anonymized_947250.jpg  \n",
      "  inflating: datasetCorregido/train/no/anonymized_471819.jpg  \n",
      "  inflating: datasetCorregido/train/no/anonymized_387355.jpg  \n",
      "  inflating: datasetCorregido/train/no/anonymized_1347478.jpg  \n",
      "  inflating: datasetCorregido/train/no/anonymized_237008.jpg  \n",
      "  inflating: datasetCorregido/train/no/anonymized_283500.jpg  \n",
      "  inflating: datasetCorregido/train/no/anonymized_330127.jpg  \n",
      "  inflating: datasetCorregido/train/no/anonymized_1335658.jpg  \n",
      "  inflating: datasetCorregido/train/no/anonymized_1097365.jpg  \n",
      "  inflating: datasetCorregido/train/no/anonymized_771840.jpg  \n",
      "  inflating: datasetCorregido/train/no/anonymized_731769.jpg  \n",
      "  inflating: datasetCorregido/train/no/anonymized_148456.jpg  \n",
      "  inflating: datasetCorregido/train/no/anonymized_509221.jpg  \n",
      "  inflating: datasetCorregido/train/no/anonymized_536612.jpg  \n",
      "  inflating: datasetCorregido/train/no/anonymized_1189373.jpg  \n",
      "  inflating: datasetCorregido/train/no/anonymized_702656.jpg  \n",
      "  inflating: datasetCorregido/train/no/anonymized_998218.jpg  \n",
      "  inflating: datasetCorregido/train/no/anonymized_950917.jpg  \n",
      "  inflating: datasetCorregido/train/no/anonymized_193583.jpg  \n",
      "  inflating: datasetCorregido/train/no/anonymized_445181.jpg  \n",
      "  inflating: datasetCorregido/train/no/anonymized_452078.jpg  \n",
      "  inflating: datasetCorregido/train/no/anonymized_453729.jpg  \n",
      "  inflating: datasetCorregido/train/no/anonymized_621300.jpg  \n",
      "  inflating: datasetCorregido/train/no/anonymized_355294.jpg  \n",
      "  inflating: datasetCorregido/train/no/anonymized_650261.jpg  \n",
      "  inflating: datasetCorregido/train/no/anonymized_851202.jpg  \n",
      "  inflating: datasetCorregido/train/no/anonymized_1302218.jpg  \n",
      "  inflating: datasetCorregido/train/no/anonymized_1349051.jpg  \n",
      "  inflating: datasetCorregido/train/no/anonymized_329164.jpg  \n",
      "  inflating: datasetCorregido/train/no/anonymized_389398.jpg  \n",
      "  inflating: datasetCorregido/train/no/anonymized_815978.jpg  \n",
      "  inflating: datasetCorregido/train/no/anonymized_274501.jpg  \n",
      "  inflating: datasetCorregido/train/no/anonymized_1195421.jpg  \n",
      "  inflating: datasetCorregido/train/no/anonymized_669911.jpg  \n",
      "  inflating: datasetCorregido/train/no/anonymized_259829.jpg  \n",
      "  inflating: datasetCorregido/train/no/anonymized_314616.jpg  \n",
      "  inflating: datasetCorregido/train/no/anonymized_537670.jpg  \n",
      "  inflating: datasetCorregido/train/no/anonymized_481688.jpg  \n",
      "  inflating: datasetCorregido/train/no/anonymized_716183.jpg  \n",
      "  inflating: datasetCorregido/train/no/anonymized_1890597.jpg  \n",
      "  inflating: datasetCorregido/train/no/anonymized_1213816.jpg  \n",
      "  inflating: datasetCorregido/train/no/anonymized_286188.jpg  \n",
      "  inflating: datasetCorregido/train/no/anonymized_380041.jpg  \n",
      "  inflating: datasetCorregido/train/no/anonymized_197007.jpg  \n",
      "  inflating: datasetCorregido/train/no/anonymized_440942.jpg  \n",
      "  inflating: datasetCorregido/train/no/anonymized_741745.jpg  \n",
      "  inflating: datasetCorregido/train/no/anonymized_611318.jpg  \n",
      "  inflating: datasetCorregido/train/no/anonymized_36544.jpg  \n",
      "  inflating: datasetCorregido/train/no/anonymized_472539.jpg  \n",
      "  inflating: datasetCorregido/train/no/anonymized_449354.jpg  \n",
      "  inflating: datasetCorregido/train/no/anonymized_522448.jpg  \n",
      "  inflating: datasetCorregido/train/no/anonymized_504038.jpg  \n",
      "  inflating: datasetCorregido/train/no/anonymized_352531.jpg  \n",
      "  inflating: datasetCorregido/train/no/anonymized_798225.jpg  \n",
      "  inflating: datasetCorregido/train/no/anonymized_1482307.jpg  \n",
      "  inflating: datasetCorregido/train/no/anonymized_888307.jpg  \n",
      "  inflating: datasetCorregido/train/no/anonymized_206369.jpg  \n",
      "  inflating: datasetCorregido/train/no/anonymized_539492.jpg  \n",
      "  inflating: datasetCorregido/train/no/anonymized_294432.jpg  \n",
      "  inflating: datasetCorregido/train/no/anonymized_187573.jpg  \n",
      "  inflating: datasetCorregido/train/no/anonymized_401386.jpg  \n",
      "  inflating: datasetCorregido/train/no/anonymized_880477.jpg  \n",
      "  inflating: datasetCorregido/train/no/anonymized_1899934.jpg  \n",
      "  inflating: datasetCorregido/train/no/anonymized_218710.jpg  \n",
      "  inflating: datasetCorregido/train/no/anonymized_510811.jpg  \n",
      "  inflating: datasetCorregido/train/no/anonymized_249797.jpg  \n",
      "  inflating: datasetCorregido/train/no/anonymized_1240353.jpg  \n",
      "  inflating: datasetCorregido/train/no/anonymized_1335631.jpg  \n",
      "  inflating: datasetCorregido/train/no/anonymized_260257.jpg  \n",
      "  inflating: datasetCorregido/train/no/anonymized_808045.jpg  \n",
      "  inflating: datasetCorregido/train/no/anonymized_259594.jpg  \n",
      "  inflating: datasetCorregido/train/no/anonymized_1278330.jpg  \n",
      "  inflating: datasetCorregido/train/no/anonymized_357129.jpg  \n",
      "  inflating: datasetCorregido/train/no/anonymized_996564.jpg  \n",
      "  inflating: datasetCorregido/train/no/anonymized_1324588.jpg  \n",
      "  inflating: datasetCorregido/train/no/anonymized_1236616.jpg  \n",
      "  inflating: datasetCorregido/train/no/anonymized_74777.jpg  \n",
      "  inflating: datasetCorregido/train/no/anonymized_290896.jpg  \n",
      "  inflating: datasetCorregido/train/no/anonymized_906860.jpg  \n",
      "  inflating: datasetCorregido/train/no/anonymized_985529.jpg  \n",
      "  inflating: datasetCorregido/train/no/anonymized_284633.jpg  \n",
      "  inflating: datasetCorregido/train/no/anonymized_162084.jpg  \n",
      "  inflating: datasetCorregido/train/no/anonymized_998217.jpg  \n",
      "  inflating: datasetCorregido/train/no/anonymized_921699.jpg  \n",
      "  inflating: datasetCorregido/train/no/anonymized_257552.jpg  \n",
      "  inflating: datasetCorregido/train/no/anonymized_832576.jpg  \n",
      "  inflating: datasetCorregido/train/no/anonymized_796591.jpg  \n",
      "  inflating: datasetCorregido/train/no/anonymized_261110.jpg  \n",
      "  inflating: datasetCorregido/train/no/anonymized_258459.jpg  \n",
      "  inflating: datasetCorregido/train/no/anonymized_311832.jpg  \n",
      "  inflating: datasetCorregido/train/no/anonymized_754951.jpg  \n",
      "  inflating: datasetCorregido/train/no/anonymized_572653.jpg  \n",
      "  inflating: datasetCorregido/train/no/anonymized_455114.jpg  \n",
      "  inflating: datasetCorregido/train/no/anonymized_403081.jpg  \n",
      "  inflating: datasetCorregido/train/no/anonymized_303614.jpg  \n",
      "  inflating: datasetCorregido/train/no/anonymized_1237994.jpg  \n",
      "  inflating: datasetCorregido/train/no/anonymized_1417920.jpg  \n",
      "  inflating: datasetCorregido/train/no/anonymized_1881446.jpg  \n",
      "  inflating: datasetCorregido/train/no/anonymized_1219589.jpg  \n",
      "  inflating: datasetCorregido/train/no/anonymized_1403750.jpg  \n",
      "  inflating: datasetCorregido/train/no/anonymized_756834.jpg  \n",
      "  inflating: datasetCorregido/train/no/anonymized_544188.jpg  \n",
      "  inflating: datasetCorregido/train/no/anonymized_278734.jpg  \n",
      "  inflating: datasetCorregido/train/no/anonymized_403652.jpg  \n",
      "  inflating: datasetCorregido/train/no/anonymized_761438.jpg  \n",
      "  inflating: datasetCorregido/train/no/anonymized_1189378.jpg  \n",
      "  inflating: datasetCorregido/train/no/anonymized_1397313.jpg  \n",
      "  inflating: datasetCorregido/train/no/anonymized_425979.jpg  \n",
      "  inflating: datasetCorregido/train/no/anonymized_161820.jpg  \n",
      "  inflating: datasetCorregido/train/no/anonymized_599419.jpg  \n",
      "  inflating: datasetCorregido/train/no/anonymized_339621.jpg  \n",
      "  inflating: datasetCorregido/train/no/anonymized_1238070.jpg  \n",
      "  inflating: datasetCorregido/train/no/anonymized_359869.jpg  \n",
      "  inflating: datasetCorregido/train/no/anonymized_658223.jpg  \n",
      "  inflating: datasetCorregido/train/no/anonymized_488222.jpg  \n",
      "  inflating: datasetCorregido/train/no/anonymized_487636.jpg  \n",
      "  inflating: datasetCorregido/train/no/anonymized_499652.jpg  \n",
      "  inflating: datasetCorregido/train/no/anonymized_461168.jpg  \n",
      "  inflating: datasetCorregido/train/no/anonymized_667603.jpg  \n",
      "  inflating: datasetCorregido/train/no/anonymized_1363748.jpg  \n",
      "  inflating: datasetCorregido/train/no/anonymized_508394.jpg  \n",
      "  inflating: datasetCorregido/train/no/anonymized_880721.jpg  \n",
      "  inflating: datasetCorregido/train/no/anonymized_1275752.jpg  \n",
      "  inflating: datasetCorregido/train/no/anonymized_1388891.jpg  \n",
      "  inflating: datasetCorregido/train/no/anonymized_1227125.jpg  \n",
      "  inflating: datasetCorregido/train/no/anonymized_381575.jpg  \n",
      "  inflating: datasetCorregido/train/no/anonymized_162934.jpg  \n",
      "  inflating: datasetCorregido/train/no/anonymized_472939.jpg  \n",
      "  inflating: datasetCorregido/train/no/anonymized_671773.jpg  \n",
      "  inflating: datasetCorregido/train/no/anonymized_768136.jpg  \n",
      "  inflating: datasetCorregido/train/no/anonymized_448789.jpg  \n",
      "  inflating: datasetCorregido/train/no/anonymized_1417688.jpg  \n",
      "  inflating: datasetCorregido/train/no/anonymized_311972.jpg  \n",
      "  inflating: datasetCorregido/train/no/anonymized_814390.jpg  \n",
      "  inflating: datasetCorregido/train/no/anonymized_493886.jpg  \n",
      "  inflating: datasetCorregido/train/no/anonymized_533776.jpg  \n",
      "  inflating: datasetCorregido/train/no/anonymized_507977.jpg  \n",
      "  inflating: datasetCorregido/train/no/anonymized_819441.jpg  \n",
      "  inflating: datasetCorregido/train/no/anonymized_1894978.jpg  \n",
      "  inflating: datasetCorregido/train/no/anonymized_1590175.jpg  \n",
      "  inflating: datasetCorregido/train/no/anonymized_1401417.jpg  \n",
      "  inflating: datasetCorregido/train/no/anonymized_454376.jpg  \n",
      "  inflating: datasetCorregido/train/no/anonymized_1605857.jpg  \n",
      "  inflating: datasetCorregido/train/no/anonymized_804206.jpg  \n",
      "  inflating: datasetCorregido/train/no/anonymized_323473.jpg  \n",
      "  inflating: datasetCorregido/train/no/anonymized_185523.jpg  \n",
      "  inflating: datasetCorregido/train/no/anonymized_536565.jpg  \n",
      "  inflating: datasetCorregido/train/no/anonymized_742868.jpg  \n",
      "  inflating: datasetCorregido/train/no/anonymized_1335621.jpg  \n",
      "  inflating: datasetCorregido/train/no/anonymized_1318490.jpg  \n",
      "  inflating: datasetCorregido/train/no/anonymized_1200092.jpg  \n",
      "  inflating: datasetCorregido/train/no/anonymized_245593.jpg  \n",
      "  inflating: datasetCorregido/train/no/anonymized_279649.jpg  \n",
      "  inflating: datasetCorregido/train/no/anonymized_1324476.jpg  \n",
      "  inflating: datasetCorregido/train/no/anonymized_239991.jpg  \n",
      "  inflating: datasetCorregido/train/no/anonymized_557109.jpg  \n",
      "  inflating: datasetCorregido/train/no/anonymized_1309398.jpg  \n",
      "  inflating: datasetCorregido/train/no/anonymized_344082.jpg  \n",
      "  inflating: datasetCorregido/train/no/anonymized_349194.jpg  \n",
      "  inflating: datasetCorregido/train/no/anonymized_233972.jpg  \n",
      "  inflating: datasetCorregido/train/no/anonymized_493242.jpg  \n",
      "  inflating: datasetCorregido/train/no/anonymized_838526.jpg  \n",
      "  inflating: datasetCorregido/train/no/anonymized_713072.jpg  \n",
      "  inflating: datasetCorregido/train/no/anonymized_1233457.jpg  \n",
      "  inflating: datasetCorregido/train/no/anonymized_349195.jpg  \n",
      "  inflating: datasetCorregido/train/no/anonymized_419964.jpg  \n",
      "  inflating: datasetCorregido/train/no/anonymized_1891187.jpg  \n",
      "  inflating: datasetCorregido/train/no/anonymized_253816.jpg  \n",
      "  inflating: datasetCorregido/train/no/anonymized_250571.jpg  \n",
      "  inflating: datasetCorregido/train/no/anonymized_367406.jpg  \n",
      "  inflating: datasetCorregido/train/no/anonymized_1179739.jpg  \n",
      "  inflating: datasetCorregido/train/no/anonymized_272356.jpg  \n",
      "  inflating: datasetCorregido/train/no/anonymized_437944.jpg  \n",
      "  inflating: datasetCorregido/train/no/anonymized_374420.jpg  \n",
      "  inflating: datasetCorregido/train/no/anonymized_689842.jpg  \n",
      "  inflating: datasetCorregido/train/no/anonymized_360000.jpg  \n",
      "  inflating: datasetCorregido/train/no/anonymized_941458.jpg  \n",
      "  inflating: datasetCorregido/train/no/anonymized_288100.jpg  \n",
      "  inflating: datasetCorregido/train/no/anonymized_208817.jpg  \n",
      "  inflating: datasetCorregido/train/no/anonymized_454072.jpg  \n",
      "  inflating: datasetCorregido/train/no/anonymized_861994.jpg  \n",
      "  inflating: datasetCorregido/train/no/anonymized_258042.jpg  \n",
      "  inflating: datasetCorregido/train/no/anonymized_539895.jpg  \n",
      "  inflating: datasetCorregido/train/no/anonymized_746923.jpg  \n",
      "  inflating: datasetCorregido/train/no/anonymized_245595.jpg  \n",
      "  inflating: datasetCorregido/train/no/anonymized_921408.jpg  \n",
      "  inflating: datasetCorregido/train/no/anonymized_1272466.jpg  \n",
      "  inflating: datasetCorregido/train/no/anonymized_1259433.jpg  \n",
      "  inflating: datasetCorregido/train/no/anonymized_341501.jpg  \n",
      "  inflating: datasetCorregido/train/no/anonymized_558044.jpg  \n",
      "  inflating: datasetCorregido/train/no/anonymized_199539.jpg  \n",
      "  inflating: datasetCorregido/train/no/anonymized_706220.jpg  \n",
      "  inflating: datasetCorregido/train/no/anonymized_453394.jpg  \n",
      "  inflating: datasetCorregido/train/no/anonymized_257456.jpg  \n",
      "  inflating: datasetCorregido/train/no/anonymized_257340.jpg  \n",
      "  inflating: datasetCorregido/train/no/anonymized_745321.jpg  \n",
      "  inflating: datasetCorregido/train/no/anonymized_196888.jpg  \n",
      "  inflating: datasetCorregido/train/no/anonymized_256580.jpg  \n",
      "  inflating: datasetCorregido/train/no/anonymized_1196034.jpg  \n",
      "  inflating: datasetCorregido/train/no/anonymized_332987.jpg  \n",
      "  inflating: datasetCorregido/train/no/anonymized_1042041.jpg  \n",
      "  inflating: datasetCorregido/train/no/anonymized_857340.jpg  \n",
      "  inflating: datasetCorregido/train/no/anonymized_622124.jpg  \n",
      "  inflating: datasetCorregido/train/no/anonymized_1875762.jpg  \n",
      "  inflating: datasetCorregido/train/no/anonymized_947201.jpg  \n",
      "  inflating: datasetCorregido/train/no/anonymized_644264.jpg  \n",
      "  inflating: datasetCorregido/train/no/anonymized_582971.jpg  \n",
      "  inflating: datasetCorregido/train/no/anonymized_225973.jpg  \n",
      "  inflating: datasetCorregido/train/no/anonymized_259826.jpg  \n",
      "  inflating: datasetCorregido/train/no/anonymized_194841.jpg  \n",
      "  inflating: datasetCorregido/train/no/anonymized_261029.jpg  \n",
      "  inflating: datasetCorregido/train/no/anonymized_283875.jpg  \n",
      "  inflating: datasetCorregido/train/no/anonymized_444368.jpg  \n",
      "  inflating: datasetCorregido/train/no/anonymized_999704.jpg  \n",
      "  inflating: datasetCorregido/train/no/anonymized_249860.jpg  \n",
      "  inflating: datasetCorregido/train/no/anonymized_858646.jpg  \n",
      "  inflating: datasetCorregido/train/no/anonymized_346810.jpg  \n",
      "  inflating: datasetCorregido/train/no/anonymized_1372304.jpg  \n",
      "  inflating: datasetCorregido/train/no/anonymized_241985.jpg  \n",
      "  inflating: datasetCorregido/train/no/anonymized_199821.jpg  \n",
      "  inflating: datasetCorregido/train/no/anonymized_897348.jpg  \n",
      "  inflating: datasetCorregido/train/no/anonymized_490849.jpg  \n",
      "  inflating: datasetCorregido/train/no/anonymized_904715.jpg  \n",
      "  inflating: datasetCorregido/train/no/anonymized_1179174.jpg  \n",
      "  inflating: datasetCorregido/train/no/anonymized_806515.jpg  \n",
      "  inflating: datasetCorregido/train/no/anonymized_413394.jpg  \n",
      "  inflating: datasetCorregido/train/no/anonymized_210866.jpg  \n",
      "  inflating: datasetCorregido/train/no/anonymized_1337185.jpg  \n",
      "  inflating: datasetCorregido/train/no/anonymized_504039.jpg  \n",
      "  inflating: datasetCorregido/train/no/anonymized_394355.jpg  \n",
      "  inflating: datasetCorregido/train/no/anonymized_138311.jpg  \n",
      "  inflating: datasetCorregido/train/no/anonymized_702234.jpg  \n",
      "  inflating: datasetCorregido/train/no/anonymized_236220.jpg  \n",
      "  inflating: datasetCorregido/train/no/anonymized_347430.jpg  \n",
      "  inflating: datasetCorregido/train/no/anonymized_1197144.jpg  \n",
      "  inflating: datasetCorregido/train/no/anonymized_557088.jpg  \n",
      "  inflating: datasetCorregido/train/no/anonymized_303626.jpg  \n",
      "  inflating: datasetCorregido/train/no/anonymized_265418.jpg  \n",
      "  inflating: datasetCorregido/train/no/anonymized_236218.jpg  \n",
      "  inflating: datasetCorregido/train/no/anonymized_669256.jpg  \n",
      "  inflating: datasetCorregido/train/no/anonymized_305487.jpg  \n",
      "  inflating: datasetCorregido/train/no/anonymized_1225597.jpg  \n",
      "  inflating: datasetCorregido/train/no/anonymized_256867.jpg  \n",
      "  inflating: datasetCorregido/train/no/anonymized_245155.jpg  \n",
      "  inflating: datasetCorregido/train/no/anonymized_415511.jpg  \n",
      "  inflating: datasetCorregido/train/no/anonymized_1605964.jpg  \n",
      "  inflating: datasetCorregido/train/no/anonymized_917613.jpg  \n",
      "  inflating: datasetCorregido/train/no/anonymized_1234042.jpg  \n",
      "  inflating: datasetCorregido/train/no/anonymized_820467.jpg  \n",
      "  inflating: datasetCorregido/train/no/anonymized_505491.jpg  \n",
      "  inflating: datasetCorregido/train/no/anonymized_1348283.jpg  \n",
      "  inflating: datasetCorregido/train/no/anonymized_256429.jpg  \n",
      "  inflating: datasetCorregido/train/no/anonymized_1348529.jpg  \n",
      "  inflating: datasetCorregido/train/no/anonymized_1292730.jpg  \n",
      "  inflating: datasetCorregido/train/no/anonymized_31650.jpg  \n",
      "  inflating: datasetCorregido/train/no/anonymized_912639.jpg  \n",
      "  inflating: datasetCorregido/train/no/anonymized_445624.jpg  \n",
      "  inflating: datasetCorregido/train/no/anonymized_1899860.jpg  \n",
      "  inflating: datasetCorregido/train/no/anonymized_467152.jpg  \n",
      "  inflating: datasetCorregido/train/no/anonymized_1216773.jpg  \n",
      "  inflating: datasetCorregido/train/no/anonymized_603596.jpg  \n",
      "  inflating: datasetCorregido/train/no/anonymized_724289.jpg  \n",
      "  inflating: datasetCorregido/train/no/anonymized_330128.jpg  \n",
      "  inflating: datasetCorregido/train/no/anonymized_932553.jpg  \n",
      "  inflating: datasetCorregido/train/no/anonymized_1255001.jpg  \n",
      "  inflating: datasetCorregido/train/no/anonymized_155721.jpg  \n",
      "  inflating: datasetCorregido/train/no/anonymized_437943.jpg  \n",
      "  inflating: datasetCorregido/train/no/anonymized_364948.jpg  \n",
      "  inflating: datasetCorregido/train/no/anonymized_1590180.jpg  \n",
      "  inflating: datasetCorregido/train/no/anonymized_715460.jpg  \n",
      "  inflating: datasetCorregido/train/no/anonymized_1173539.jpg  \n",
      "  inflating: datasetCorregido/train/no/anonymized_797569.jpg  \n",
      "  inflating: datasetCorregido/train/no/anonymized_407841.jpg  \n",
      "  inflating: datasetCorregido/train/no/anonymized_851450.jpg  \n",
      "  inflating: datasetCorregido/train/no/anonymized_989353.jpg  \n",
      "  inflating: datasetCorregido/train/no/anonymized_1240530.jpg  \n",
      "  inflating: datasetCorregido/train/no/anonymized_721271.jpg  \n",
      "  inflating: datasetCorregido/train/no/anonymized_1178312.jpg  \n",
      "  inflating: datasetCorregido/train/no/anonymized_240011.jpg  \n",
      "  inflating: datasetCorregido/train/no/anonymized_141663.jpg  \n",
      "  inflating: datasetCorregido/train/no/anonymized_1008857.jpg  \n",
      "  inflating: datasetCorregido/train/no/anonymized_557134.jpg  \n",
      "  inflating: datasetCorregido/train/no/anonymized_1421028.jpg  \n",
      "  inflating: datasetCorregido/train/no/anonymized_1874344.jpg  \n",
      "  inflating: datasetCorregido/train/no/anonymized_1249621.jpg  \n",
      "  inflating: datasetCorregido/train/no/anonymized_1369699.jpg  \n",
      "  inflating: datasetCorregido/train/no/anonymized_1606519.jpg  \n",
      "  inflating: datasetCorregido/train/no/anonymized_337289.jpg  \n",
      "  inflating: datasetCorregido/train/no/anonymized_451106.jpg  \n",
      "  inflating: datasetCorregido/train/no/anonymized_361209.jpg  \n",
      "  inflating: datasetCorregido/train/no/anonymized_1426091.jpg  \n",
      "  inflating: datasetCorregido/train/no/anonymized_223772.jpg  \n",
      "  inflating: datasetCorregido/train/no/anonymized_1248165.jpg  \n",
      "  inflating: datasetCorregido/train/no/anonymized_513524.jpg  \n",
      "  inflating: datasetCorregido/train/no/anonymized_747008.jpg  \n",
      "  inflating: datasetCorregido/train/no/anonymized_648061.jpg  \n",
      "  inflating: datasetCorregido/train/no/anonymized_1199071.jpg  \n",
      "  inflating: datasetCorregido/train/no/anonymized_828968.jpg  \n",
      "  inflating: datasetCorregido/train/no/anonymized_468877.jpg  \n",
      "  inflating: datasetCorregido/train/no/anonymized_471440.jpg  \n",
      "  inflating: datasetCorregido/train/no/anonymized_440988.jpg  \n",
      "  inflating: datasetCorregido/train/no/anonymized_621301.jpg  \n",
      "  inflating: datasetCorregido/train/no/anonymized_718442.jpg  \n",
      "  inflating: datasetCorregido/train/no/anonymized_438315.jpg  \n",
      "  inflating: datasetCorregido/train/no/anonymized_697069.jpg  \n",
      "  inflating: datasetCorregido/train/no/anonymized_506532.jpg  \n",
      "  inflating: datasetCorregido/train/no/anonymized_715044.jpg  \n",
      "  inflating: datasetCorregido/train/no/anonymized_533604.jpg  \n",
      "  inflating: datasetCorregido/train/no/anonymized_151527.jpg  \n",
      "  inflating: datasetCorregido/train/no/anonymized_1215725.jpg  \n",
      "  inflating: datasetCorregido/train/no/anonymized_288562.jpg  \n",
      "  inflating: datasetCorregido/train/no/anonymized_1209966.jpg  \n",
      "  inflating: datasetCorregido/train/no/anonymized_1004965.jpg  \n",
      "  inflating: datasetCorregido/train/no/anonymized_730136.jpg  \n",
      "  inflating: datasetCorregido/train/no/anonymized_804672.jpg  \n",
      "  inflating: datasetCorregido/train/no/anonymized_37096.jpg  \n",
      "  inflating: datasetCorregido/train/no/anonymized_363618.jpg  \n",
      "  inflating: datasetCorregido/train/no/anonymized_513938.jpg  \n",
      "  inflating: datasetCorregido/train/no/anonymized_377234.jpg  \n",
      "  inflating: datasetCorregido/train/no/anonymized_307694.jpg  \n",
      "  inflating: datasetCorregido/train/no/anonymized_760656.jpg  \n",
      "  inflating: datasetCorregido/train/no/anonymized_667607.jpg  \n",
      "  inflating: datasetCorregido/train/no/anonymized_515491.jpg  \n",
      "  inflating: datasetCorregido/train/no/anonymized_398046.jpg  \n",
      "  inflating: datasetCorregido/train/no/anonymized_711868.jpg  \n",
      "  inflating: datasetCorregido/train/no/anonymized_1204141.jpg  \n",
      "  inflating: datasetCorregido/train/no/anonymized_1395197.jpg  \n",
      "  inflating: datasetCorregido/train/no/anonymized_376095.jpg  \n",
      "  inflating: datasetCorregido/train/no/anonymized_261505.jpg  \n",
      "  inflating: datasetCorregido/train/no/anonymized_498723.jpg  \n",
      "  inflating: datasetCorregido/train/no/anonymized_1342454.jpg  \n",
      "  inflating: datasetCorregido/train/no/anonymized_210775.jpg  \n",
      "  inflating: datasetCorregido/train/no/anonymized_1176952.jpg  \n",
      "  inflating: datasetCorregido/train/no/anonymized_371003.jpg  \n",
      "  inflating: datasetCorregido/train/no/anonymized_406909.jpg  \n",
      "  inflating: datasetCorregido/train/no/anonymized_196857.jpg  \n",
      "  inflating: datasetCorregido/train/no/anonymized_330488.jpg  \n",
      "  inflating: datasetCorregido/train/no/anonymized_573055.jpg  \n",
      "  inflating: datasetCorregido/train/no/anonymized_1191595.jpg  \n",
      "  inflating: datasetCorregido/train/no/anonymized_1422561.jpg  \n",
      "  inflating: datasetCorregido/train/no/anonymized_1107262.jpg  \n",
      "  inflating: datasetCorregido/train/no/anonymized_261136.jpg  \n",
      "  inflating: datasetCorregido/train/no/anonymized_1047036.jpg  \n",
      "  inflating: datasetCorregido/train/no/anonymized_946935.jpg  \n",
      "  inflating: datasetCorregido/train/no/anonymized_222704.jpg  \n",
      "  inflating: datasetCorregido/train/no/anonymized_429571.jpg  \n",
      "  inflating: datasetCorregido/train/no/anonymized_1240356.jpg  \n",
      "  inflating: datasetCorregido/train/no/anonymized_1295720.jpg  \n",
      "  inflating: datasetCorregido/train/no/anonymized_1317829.jpg  \n",
      "  inflating: datasetCorregido/train/no/anonymized_532049.jpg  \n",
      "  inflating: datasetCorregido/train/no/anonymized_256886.jpg  \n",
      "  inflating: datasetCorregido/train/no/anonymized_446610.jpg  \n",
      "  inflating: datasetCorregido/train/no/anonymized_731830.jpg  \n",
      "  inflating: datasetCorregido/train/no/anonymized_382312.jpg  \n",
      "  inflating: datasetCorregido/train/no/anonymized_1197765.jpg  \n",
      "  inflating: datasetCorregido/train/no/anonymized_361552.jpg  \n",
      "  inflating: datasetCorregido/train/no/anonymized_1007928.jpg  \n",
      "  inflating: datasetCorregido/train/no/anonymized_1336294.jpg  \n",
      "  inflating: datasetCorregido/train/no/anonymized_289208.jpg  \n",
      "  inflating: datasetCorregido/train/no/anonymized_224107.jpg  \n",
      "  inflating: datasetCorregido/train/no/anonymized_364031.jpg  \n",
      "  inflating: datasetCorregido/train/no/anonymized_1370527.jpg  \n",
      "  inflating: datasetCorregido/train/no/anonymized_815231.jpg  \n",
      "  inflating: datasetCorregido/train/no/anonymized_1174134.jpg  \n",
      "  inflating: datasetCorregido/train/no/anonymized_413390.jpg  \n",
      "  inflating: datasetCorregido/train/no/anonymized_575656.jpg  \n",
      "  inflating: datasetCorregido/train/no/anonymized_326399.jpg  \n",
      "  inflating: datasetCorregido/train/no/anonymized_390112.jpg  \n",
      "  inflating: datasetCorregido/train/no/anonymized_468876.jpg  \n",
      "  inflating: datasetCorregido/train/no/anonymized_770905.jpg  \n",
      "  inflating: datasetCorregido/train/no/anonymized_439748.jpg  \n",
      "  inflating: datasetCorregido/train/no/anonymized_1228739.jpg  \n",
      "  inflating: datasetCorregido/train/no/anonymized_1097370.jpg  \n",
      "  inflating: datasetCorregido/train/no/anonymized_450633.jpg  \n",
      "  inflating: datasetCorregido/train/no/anonymized_468883.jpg  \n",
      "  inflating: datasetCorregido/train/no/anonymized_194845.jpg  \n",
      "  inflating: datasetCorregido/train/no/anonymized_242461.jpg  \n",
      "  inflating: datasetCorregido/train/no/anonymized_257554.jpg  \n",
      "  inflating: datasetCorregido/train/no/anonymized_646624.jpg  \n",
      "  inflating: datasetCorregido/train/no/anonymized_244396.jpg  \n",
      "  inflating: datasetCorregido/train/no/anonymized_911091.jpg  \n",
      "  inflating: datasetCorregido/train/no/anonymized_499592.jpg  \n",
      "  inflating: datasetCorregido/train/no/anonymized_590750.jpg  \n",
      "  inflating: datasetCorregido/train/no/anonymized_1174135.jpg  \n",
      "  inflating: datasetCorregido/train/no/anonymized_934044.jpg  \n",
      "  inflating: datasetCorregido/train/no/anonymized_1132613.jpg  \n",
      "  inflating: datasetCorregido/train/no/anonymized_161123.jpg  \n",
      "  inflating: datasetCorregido/train/no/anonymized_246201.jpg  \n",
      "  inflating: datasetCorregido/train/no/anonymized_240014.jpg  \n",
      "  inflating: datasetCorregido/train/no/anonymized_261140.jpg  \n",
      "  inflating: datasetCorregido/train/no/anonymized_261438.jpg  \n",
      "  inflating: datasetCorregido/train/no/anonymized_465273.jpg  \n",
      "  inflating: datasetCorregido/train/no/anonymized_463446.jpg  \n",
      "  inflating: datasetCorregido/train/no/anonymized_545366.jpg  \n",
      "  inflating: datasetCorregido/train/no/anonymized_1879767.jpg  \n",
      "  inflating: datasetCorregido/train/no/anonymized_1270660.jpg  \n",
      "  inflating: datasetCorregido/train/no/anonymized_150187.jpg  \n",
      "  inflating: datasetCorregido/train/no/anonymized_324559.jpg  \n",
      "  inflating: datasetCorregido/train/no/anonymized_1186157.jpg  \n",
      "  inflating: datasetCorregido/train/no/anonymized_323461.jpg  \n",
      "  inflating: datasetCorregido/train/no/anonymized_371994.jpg  \n",
      "  inflating: datasetCorregido/train/no/anonymized_936903.jpg  \n",
      "  inflating: datasetCorregido/train/no/anonymized_726507.jpg  \n",
      "  inflating: datasetCorregido/train/no/anonymized_706124.jpg  \n",
      "  inflating: datasetCorregido/train/no/anonymized_454878.jpg  \n",
      "  inflating: datasetCorregido/train/no/anonymized_568225.jpg  \n",
      "  inflating: datasetCorregido/train/no/anonymized_1398016.jpg  \n",
      "  inflating: datasetCorregido/train/no/anonymized_707844.jpg  \n",
      "  inflating: datasetCorregido/train/no/anonymized_634933.jpg  \n",
      "  inflating: datasetCorregido/train/no/anonymized_238281.jpg  \n",
      "  inflating: datasetCorregido/train/no/anonymized_197026.jpg  \n",
      "  inflating: datasetCorregido/train/no/anonymized_1197763.jpg  \n",
      "  inflating: datasetCorregido/train/no/anonymized_1382677.jpg  \n",
      "  inflating: datasetCorregido/train/no/anonymized_214321.jpg  \n",
      "  inflating: datasetCorregido/train/no/anonymized_947193.jpg  \n",
      "  inflating: datasetCorregido/train/no/anonymized_207249.jpg  \n",
      "  inflating: datasetCorregido/train/no/anonymized_817552.jpg  \n",
      "  inflating: datasetCorregido/train/no/anonymized_726787.jpg  \n",
      "  inflating: datasetCorregido/train/no/anonymized_747013.jpg  \n",
      "  inflating: datasetCorregido/train/no/anonymized_200359.jpg  \n",
      "  inflating: datasetCorregido/train/no/anonymized_443999.jpg  \n",
      "  inflating: datasetCorregido/train/no/anonymized_502927.jpg  \n",
      "  inflating: datasetCorregido/train/no/anonymized_794337.jpg  \n",
      "  inflating: datasetCorregido/train/no/anonymized_1335551.jpg  \n",
      "  inflating: datasetCorregido/train/no/anonymized_196862.jpg  \n",
      "  inflating: datasetCorregido/train/no/anonymized_269884.jpg  \n",
      "  inflating: datasetCorregido/train/no/anonymized_407142.jpg  \n",
      "  inflating: datasetCorregido/train/no/anonymized_1284391.jpg  \n",
      "  inflating: datasetCorregido/train/no/anonymized_434853.jpg  \n",
      "  inflating: datasetCorregido/train/no/anonymized_233181.jpg  \n",
      "  inflating: datasetCorregido/train/no/anonymized_325287.jpg  \n",
      "  inflating: datasetCorregido/train/no/anonymized_1348286.jpg  \n",
      "  inflating: datasetCorregido/train/no/anonymized_824334.jpg  \n",
      "  inflating: datasetCorregido/train/no/anonymized_949621.jpg  \n",
      "  inflating: datasetCorregido/train/no/anonymized_703873.jpg  \n",
      "  inflating: datasetCorregido/train/no/anonymized_424798.jpg  \n",
      "  inflating: datasetCorregido/train/no/anonymized_784853.jpg  \n",
      "  inflating: datasetCorregido/train/no/anonymized_276022.jpg  \n",
      "  inflating: datasetCorregido/train/no/anonymized_851137.jpg  \n",
      "  inflating: datasetCorregido/train/no/anonymized_362332.jpg  \n",
      "  inflating: datasetCorregido/train/no/anonymized_159153.jpg  \n",
      "  inflating: datasetCorregido/train/no/anonymized_441306.jpg  \n",
      "  inflating: datasetCorregido/train/no/anonymized_1392218.jpg  \n",
      "  inflating: datasetCorregido/train/no/anonymized_586368.jpg  \n",
      "  inflating: datasetCorregido/train/no/anonymized_473525.jpg  \n",
      "  inflating: datasetCorregido/train/no/anonymized_348231.jpg  \n",
      "  inflating: datasetCorregido/train/no/anonymized_813130.jpg  \n",
      "  inflating: datasetCorregido/train/no/anonymized_646606.jpg  \n",
      "  inflating: datasetCorregido/train/no/anonymized_803665.jpg  \n",
      "  inflating: datasetCorregido/train/no/anonymized_311752.jpg  \n",
      "  inflating: datasetCorregido/train/no/anonymized_761169.jpg  \n",
      "  inflating: datasetCorregido/train/no/anonymized_324581.jpg  \n",
      "  inflating: datasetCorregido/train/no/anonymized_333660.jpg  \n",
      "  inflating: datasetCorregido/train/no/anonymized_599924.jpg  \n",
      "  inflating: datasetCorregido/train/no/anonymized_303909.jpg  \n",
      "  inflating: datasetCorregido/train/no/anonymized_369201.jpg  \n",
      "  inflating: datasetCorregido/train/no/anonymized_257162.jpg  \n",
      "  inflating: datasetCorregido/train/no/anonymized_282461.jpg  \n",
      "  inflating: datasetCorregido/train/no/anonymized_334177.jpg  \n",
      "  inflating: datasetCorregido/train/no/anonymized_469586.jpg  \n",
      "  inflating: datasetCorregido/train/no/anonymized_438343.jpg  \n",
      "  inflating: datasetCorregido/train/no/anonymized_1897607.jpg  \n",
      "  inflating: datasetCorregido/train/no/anonymized_319980.jpg  \n",
      "  inflating: datasetCorregido/train/no/anonymized_836707.jpg  \n",
      "  inflating: datasetCorregido/train/no/anonymized_1251837.jpg  \n",
      "  inflating: datasetCorregido/train/no/anonymized_1334815.jpg  \n",
      "  inflating: datasetCorregido/train/no/anonymized_324958.jpg  \n",
      "  inflating: datasetCorregido/train/no/anonymized_616312.jpg  \n",
      "  inflating: datasetCorregido/train/no/anonymized_237105.jpg  \n",
      "  inflating: datasetCorregido/train/no/anonymized_779911.jpg  \n",
      "  inflating: datasetCorregido/train/no/anonymized_225594.jpg  \n",
      "  inflating: datasetCorregido/train/no/anonymized_856563.jpg  \n",
      "  inflating: datasetCorregido/train/no/anonymized_704357.jpg  \n",
      "  inflating: datasetCorregido/train/no/anonymized_1891681.jpg  \n",
      "  inflating: datasetCorregido/train/no/anonymized_1309402.jpg  \n",
      "  inflating: datasetCorregido/train/no/anonymized_367425.jpg  \n",
      "  inflating: datasetCorregido/train/no/anonymized_591153.jpg  \n",
      "  inflating: datasetCorregido/train/no/anonymized_240278.jpg  \n",
      "  inflating: datasetCorregido/train/no/anonymized_443708.jpg  \n",
      "  inflating: datasetCorregido/train/no/anonymized_878685.jpg  \n",
      "  inflating: datasetCorregido/train/no/anonymized_656414.jpg  \n",
      "  inflating: datasetCorregido/train/no/anonymized_50680.jpg  \n",
      "  inflating: datasetCorregido/train/no/anonymized_710460.jpg  \n",
      "  inflating: datasetCorregido/train/no/anonymized_359771.jpg  \n",
      "  inflating: datasetCorregido/train/no/anonymized_526082.jpg  \n",
      "  inflating: datasetCorregido/train/no/anonymized_500149.jpg  \n",
      "  inflating: datasetCorregido/train/no/anonymized_413395.jpg  \n",
      "  inflating: datasetCorregido/train/no/anonymized_658226.jpg  \n",
      "  inflating: datasetCorregido/train/no/anonymized_1483849.jpg  \n",
      "  inflating: datasetCorregido/train/no/anonymized_1414873.jpg  \n",
      "  inflating: datasetCorregido/train/no/anonymized_1209958.jpg  \n",
      "  inflating: datasetCorregido/train/no/anonymized_1318130.jpg  \n",
      "  inflating: datasetCorregido/train/no/anonymized_717102.jpg  \n",
      "  inflating: datasetCorregido/train/no/anonymized_742084.jpg  \n",
      "  inflating: datasetCorregido/train/no/anonymized_376093.jpg  \n",
      "  inflating: datasetCorregido/train/no/anonymized_847444.jpg  \n",
      "  inflating: datasetCorregido/train/no/anonymized_303267.jpg  \n",
      "  inflating: datasetCorregido/train/no/anonymized_821199.jpg  \n",
      "  inflating: datasetCorregido/train/no/anonymized_160258.jpg  \n",
      "  inflating: datasetCorregido/train/no/anonymized_774597.jpg  \n",
      "  inflating: datasetCorregido/train/no/anonymized_689844.jpg  \n",
      "  inflating: datasetCorregido/train/no/anonymized_247732.jpg  \n",
      "  inflating: datasetCorregido/train/no/anonymized_1018340.jpg  \n",
      "  inflating: datasetCorregido/train/no/anonymized_742877.jpg  \n",
      "  inflating: datasetCorregido/train/no/anonymized_467690.jpg  \n",
      "  inflating: datasetCorregido/train/no/anonymized_797226.jpg  \n",
      "  inflating: datasetCorregido/train/no/anonymized_159149.jpg  \n",
      "  inflating: datasetCorregido/train/no/anonymized_272036.jpg  \n",
      "  inflating: datasetCorregido/train/no/anonymized_1408211.jpg  \n",
      "  inflating: datasetCorregido/train/no/anonymized_207254.jpg  \n",
      "  inflating: datasetCorregido/train/no/anonymized_559927.jpg  \n",
      "  inflating: datasetCorregido/train/no/anonymized_762563.jpg  \n",
      "  inflating: datasetCorregido/train/no/anonymized_822151.jpg  \n",
      "  inflating: datasetCorregido/train/no/anonymized_499530.jpg  \n",
      "  inflating: datasetCorregido/train/no/anonymized_596219.jpg  \n",
      "  inflating: datasetCorregido/train/no/anonymized_261112.jpg  \n",
      "  inflating: datasetCorregido/train/no/anonymized_990230.jpg  \n",
      "  inflating: datasetCorregido/train/no/anonymized_1879868.jpg  \n",
      "  inflating: datasetCorregido/train/no/anonymized_239954.jpg  \n",
      "  inflating: datasetCorregido/train/no/anonymized_279589.jpg  \n",
      "  inflating: datasetCorregido/train/no/anonymized_554744.jpg  \n",
      "  inflating: datasetCorregido/train/no/anonymized_204797.jpg  \n",
      "  inflating: datasetCorregido/train/no/anonymized_1102341.jpg  \n",
      "  inflating: datasetCorregido/train/no/anonymized_781700.jpg  \n",
      "  inflating: datasetCorregido/train/no/anonymized_1245399.jpg  \n",
      "  inflating: datasetCorregido/train/no/anonymized_857687.jpg  \n",
      "  inflating: datasetCorregido/train/no/anonymized_863760.jpg  \n",
      "  inflating: datasetCorregido/train/no/anonymized_199719.jpg  \n",
      "  inflating: datasetCorregido/train/no/anonymized_644720.jpg  \n",
      "  inflating: datasetCorregido/train/no/anonymized_1891181.jpg  \n",
      "  inflating: datasetCorregido/train/no/anonymized_990002.jpg  \n",
      "  inflating: datasetCorregido/train/no/anonymized_423012.jpg  \n",
      "  inflating: datasetCorregido/train/no/anonymized_312472.jpg  \n",
      "  inflating: datasetCorregido/train/no/anonymized_405376.jpg  \n",
      "  inflating: datasetCorregido/train/no/anonymized_782425.jpg  \n",
      "  inflating: datasetCorregido/train/no/anonymized_851150.jpg  \n",
      "  inflating: datasetCorregido/train/no/anonymized_234451.jpg  \n",
      "  inflating: datasetCorregido/train/no/anonymized_552658.jpg  \n",
      "  inflating: datasetCorregido/train/no/anonymized_569346.jpg  \n",
      "  inflating: datasetCorregido/train/no/anonymized_667491.jpg  \n",
      "  inflating: datasetCorregido/train/no/anonymized_1008859.jpg  \n",
      "  inflating: datasetCorregido/train/no/anonymized_461576.jpg  \n",
      "  inflating: datasetCorregido/train/no/anonymized_313098.jpg  \n",
      "  inflating: datasetCorregido/train/no/anonymized_533771.jpg  \n",
      "  inflating: datasetCorregido/train/no/anonymized_491303.jpg  \n",
      "  inflating: datasetCorregido/train/no/anonymized_245271.jpg  \n",
      "  inflating: datasetCorregido/train/no/anonymized_1102102.jpg  \n",
      "  inflating: datasetCorregido/train/no/anonymized_181333.jpg  \n",
      "  inflating: datasetCorregido/train/no/anonymized_1676295.jpg  \n",
      "  inflating: datasetCorregido/train/no/anonymized_795733.jpg  \n",
      "  inflating: datasetCorregido/train/no/anonymized_256968.jpg  \n",
      "  inflating: datasetCorregido/train/no/anonymized_930481.jpg  \n",
      "  inflating: datasetCorregido/train/no/anonymized_434877.jpg  \n",
      "  inflating: datasetCorregido/train/no/anonymized_1340642.jpg  \n",
      "  inflating: datasetCorregido/train/no/anonymized_1210074.jpg  \n",
      "  inflating: datasetCorregido/train/no/anonymized_1315230.jpg  \n",
      "  inflating: datasetCorregido/train/no/anonymized_957068.jpg  \n",
      "  inflating: datasetCorregido/train/no/anonymized_139285.jpg  \n",
      "  inflating: datasetCorregido/train/no/anonymized_408982.jpg  \n",
      "  inflating: datasetCorregido/train/no/anonymized_478342.jpg  \n",
      "  inflating: datasetCorregido/train/no/anonymized_32628.jpg  \n",
      "  inflating: datasetCorregido/train/no/anonymized_185376.jpg  \n",
      "  inflating: datasetCorregido/train/no/anonymized_614100.jpg  \n",
      "  inflating: datasetCorregido/train/no/anonymized_1419763.jpg  \n",
      "  inflating: datasetCorregido/train/no/anonymized_127728.jpg  \n",
      "  inflating: datasetCorregido/train/no/anonymized_197607.jpg  \n",
      "  inflating: datasetCorregido/train/no/anonymized_1227487.jpg  \n",
      "  inflating: datasetCorregido/train/no/anonymized_550300.jpg  \n",
      "  inflating: datasetCorregido/train/no/anonymized_666449.jpg  \n",
      "  inflating: datasetCorregido/train/no/anonymized_260360.jpg  \n",
      "  inflating: datasetCorregido/train/no/anonymized_360003.jpg  \n",
      "  inflating: datasetCorregido/train/no/anonymized_632530.jpg  \n",
      "  inflating: datasetCorregido/train/no/anonymized_1483853.jpg  \n",
      "  inflating: datasetCorregido/train/no/anonymized_192486.jpg  \n",
      "  inflating: datasetCorregido/train/no/anonymized_688664.jpg  \n",
      "  inflating: datasetCorregido/train/no/anonymized_479649.jpg  \n",
      "  inflating: datasetCorregido/train/no/anonymized_728448.jpg  \n",
      "  inflating: datasetCorregido/train/no/anonymized_1365244.jpg  \n",
      "  inflating: datasetCorregido/train/no/anonymized_1403107.jpg  \n",
      "  inflating: datasetCorregido/train/no/anonymized_684961.jpg  \n",
      "  inflating: datasetCorregido/train/no/anonymized_599623.jpg  \n",
      "  inflating: datasetCorregido/train/no/anonymized_1485909.jpg  \n",
      "  inflating: datasetCorregido/train/no/anonymized_290453.jpg  \n",
      "  inflating: datasetCorregido/train/no/anonymized_533769.jpg  \n",
      "  inflating: datasetCorregido/train/no/anonymized_493541.jpg  \n",
      "  inflating: datasetCorregido/train/no/anonymized_799256.jpg  \n",
      "  inflating: datasetCorregido/train/no/anonymized_499593.jpg  \n",
      "  inflating: datasetCorregido/train/no/anonymized_1188230.jpg  \n",
      "  inflating: datasetCorregido/train/no/anonymized_257158.jpg  \n",
      "  inflating: datasetCorregido/train/no/anonymized_233154.jpg  \n",
      "  inflating: datasetCorregido/train/no/anonymized_300749.jpg  \n",
      "  inflating: datasetCorregido/train/no/anonymized_1350093.jpg  \n",
      "  inflating: datasetCorregido/train/no/anonymized_745318.jpg  \n",
      "  inflating: datasetCorregido/train/no/anonymized_167304.jpg  \n",
      "  inflating: datasetCorregido/train/no/anonymized_1210996.jpg  \n",
      "  inflating: datasetCorregido/train/no/anonymized_256792.jpg  \n",
      "  inflating: datasetCorregido/train/no/anonymized_496118.jpg  \n",
      "  inflating: datasetCorregido/train/no/anonymized_523955.jpg  \n",
      "  inflating: datasetCorregido/train/no/anonymized_225196.jpg  \n",
      "  inflating: datasetCorregido/train/no/anonymized_397275.jpg  \n",
      "  inflating: datasetCorregido/train/no/anonymized_1378066.jpg  \n",
      "  inflating: datasetCorregido/train/no/anonymized_261409.jpg  \n",
      "  inflating: datasetCorregido/train/no/anonymized_656027.jpg  \n",
      "  inflating: datasetCorregido/train/no/anonymized_247871.jpg  \n",
      "  inflating: datasetCorregido/train/no/anonymized_941014.jpg  \n",
      "  inflating: datasetCorregido/train/no/anonymized_1187941.jpg  \n",
      "  inflating: datasetCorregido/train/no/anonymized_134079.jpg  \n",
      "  inflating: datasetCorregido/train/no/anonymized_1384075.jpg  \n",
      "  inflating: datasetCorregido/train/no/anonymized_532815.jpg  \n",
      "  inflating: datasetCorregido/train/no/anonymized_1248585.jpg  \n",
      "  inflating: datasetCorregido/train/no/anonymized_517613.jpg  \n",
      "  inflating: datasetCorregido/train/no/anonymized_207265.jpg  \n",
      "  inflating: datasetCorregido/train/no/anonymized_309205.jpg  \n",
      "  inflating: datasetCorregido/train/no/anonymized_754330.jpg  \n",
      "  inflating: datasetCorregido/train/no/anonymized_909929.jpg  \n",
      "  inflating: datasetCorregido/train/no/anonymized_614136.jpg  \n",
      "  inflating: datasetCorregido/train/no/anonymized_281686.jpg  \n",
      "  inflating: datasetCorregido/train/no/anonymized_573374.jpg  \n",
      "  inflating: datasetCorregido/train/no/anonymized_342319.jpg  \n",
      "  inflating: datasetCorregido/train/no/anonymized_257316.jpg  \n",
      "  inflating: datasetCorregido/train/no/anonymized_625948.jpg  \n",
      "  inflating: datasetCorregido/train/no/anonymized_223795.jpg  \n",
      "  inflating: datasetCorregido/train/no/anonymized_1222420.jpg  \n",
      "   creating: datasetCorregido/train/yes/\n",
      "  inflating: datasetCorregido/train/yes/anonymized_157214.jpg  \n",
      "  inflating: datasetCorregido/train/yes/anonymized_1104716.jpg  \n",
      "  inflating: datasetCorregido/train/yes/anonymized_631537.jpg  \n",
      "  inflating: datasetCorregido/train/yes/anonymized_808647.jpg  \n",
      "  inflating: datasetCorregido/train/yes/anonymized_407456.jpg  \n",
      "  inflating: datasetCorregido/train/yes/anonymized_913391.jpg  \n",
      "  inflating: datasetCorregido/train/yes/anonymized_230356.jpg  \n",
      "  inflating: datasetCorregido/train/yes/anonymized_803518.jpg  \n",
      "  inflating: datasetCorregido/train/yes/anonymized_822414.jpg  \n",
      "  inflating: datasetCorregido/train/yes/anonymized_561749.jpg  \n",
      "  inflating: datasetCorregido/train/yes/anonymized_1365272.jpg  \n",
      "  inflating: datasetCorregido/train/yes/anonymized_309092.jpg  \n",
      "  inflating: datasetCorregido/train/yes/anonymized_528123.jpg  \n",
      "  inflating: datasetCorregido/train/yes/anonymized_503901.jpg  \n",
      "  inflating: datasetCorregido/train/yes/anonymized_556685.jpg  \n",
      "  inflating: datasetCorregido/train/yes/anonymized_243156.jpg  \n",
      "  inflating: datasetCorregido/train/yes/anonymized_526695.jpg  \n",
      "  inflating: datasetCorregido/train/yes/anonymized_499801.jpg  \n",
      "  inflating: datasetCorregido/train/yes/anonymized_1224171.jpg  \n",
      "  inflating: datasetCorregido/train/yes/anonymized_1366440.jpg  \n",
      "  inflating: datasetCorregido/train/yes/anonymized_678621.jpg  \n",
      "  inflating: datasetCorregido/train/yes/anonymized_861769.jpg  \n",
      "  inflating: datasetCorregido/train/yes/anonymized_189275.jpg  \n",
      "  inflating: datasetCorregido/train/yes/anonymized_760306.jpg  \n",
      "  inflating: datasetCorregido/train/yes/anonymized_566057.jpg  \n",
      "  inflating: datasetCorregido/train/yes/anonymized_1196909.jpg  \n",
      "  inflating: datasetCorregido/train/yes/anonymized_1244842.jpg  \n",
      "  inflating: datasetCorregido/train/yes/anonymized_498461.jpg  \n",
      "  inflating: datasetCorregido/train/yes/anonymized_216293.jpg  \n",
      "  inflating: datasetCorregido/train/yes/anonymized_426403.jpg  \n",
      "  inflating: datasetCorregido/train/yes/anonymized_856556.jpg  \n",
      "  inflating: datasetCorregido/train/yes/anonymized_890912.jpg  \n",
      "  inflating: datasetCorregido/train/yes/anonymized_872541.jpg  \n",
      "  inflating: datasetCorregido/train/yes/anonymized_952445.jpg  \n",
      "  inflating: datasetCorregido/train/yes/anonymized_718174.jpg  \n",
      "  inflating: datasetCorregido/train/yes/anonymized_522349.jpg  \n",
      "  inflating: datasetCorregido/train/yes/anonymized_849685.jpg  \n",
      "  inflating: datasetCorregido/train/yes/anonymized_461027.jpg  \n",
      "  inflating: datasetCorregido/train/yes/anonymized_1893775.jpg  \n",
      "  inflating: datasetCorregido/train/yes/anonymized_285028.jpg  \n",
      "  inflating: datasetCorregido/train/yes/anonymized_206961.jpg  \n",
      "  inflating: datasetCorregido/train/yes/anonymized_851483.jpg  \n",
      "  inflating: datasetCorregido/train/yes/anonymized_1097364.jpg  \n",
      "  inflating: datasetCorregido/train/yes/anonymized_1873543.jpg  \n",
      "  inflating: datasetCorregido/train/yes/anonymized_1273264.jpg  \n",
      "  inflating: datasetCorregido/train/yes/anonymized_423689.jpg  \n",
      "  inflating: datasetCorregido/train/yes/anonymized_353500.jpg  \n",
      "  inflating: datasetCorregido/train/yes/anonymized_1196218.jpg  \n",
      "  inflating: datasetCorregido/train/yes/anonymized_546863.jpg  \n",
      "  inflating: datasetCorregido/train/yes/anonymized_861392.jpg  \n",
      "  inflating: datasetCorregido/train/yes/anonymized_585628.jpg  \n",
      "  inflating: datasetCorregido/train/yes/anonymized_324102.jpg  \n",
      "  inflating: datasetCorregido/train/yes/anonymized_1296848.jpg  \n",
      "  inflating: datasetCorregido/train/yes/anonymized_319028.jpg  \n",
      "  inflating: datasetCorregido/train/yes/anonymized_239065.jpg  \n",
      "  inflating: datasetCorregido/train/yes/anonymized_507689.jpg  \n",
      "  inflating: datasetCorregido/train/yes/anonymized_1008546.jpg  \n",
      "  inflating: datasetCorregido/train/yes/anonymized_372053.jpg  \n",
      "  inflating: datasetCorregido/train/yes/anonymized_435501.jpg  \n",
      "  inflating: datasetCorregido/train/yes/anonymized_559216.jpg  \n",
      "  inflating: datasetCorregido/train/yes/anonymized_1877960.jpg  \n",
      "  inflating: datasetCorregido/train/yes/anonymized_546862.jpg  \n",
      "  inflating: datasetCorregido/train/yes/anonymized_1152037.jpg  \n",
      "  inflating: datasetCorregido/train/yes/anonymized_832641.jpg  \n",
      "  inflating: datasetCorregido/train/yes/anonymized_912182.jpg  \n",
      "  inflating: datasetCorregido/train/yes/anonymized_772096.jpg  \n",
      "  inflating: datasetCorregido/train/yes/anonymized_887532.jpg  \n",
      "  inflating: datasetCorregido/train/yes/anonymized_469760.jpg  \n",
      "  inflating: datasetCorregido/train/yes/anonymized_173392.jpg  \n",
      "  inflating: datasetCorregido/train/yes/anonymized_550555.jpg  \n",
      "  inflating: datasetCorregido/train/yes/anonymized_600369.jpg  \n",
      "  inflating: datasetCorregido/train/yes/anonymized_1258175.jpg  \n",
      "  inflating: datasetCorregido/train/yes/anonymized_700909.jpg  \n",
      "  inflating: datasetCorregido/train/yes/anonymized_735934.jpg  \n",
      "  inflating: datasetCorregido/train/yes/anonymized_780009.jpg  \n",
      "  inflating: datasetCorregido/train/yes/anonymized_744806.jpg  \n",
      "  inflating: datasetCorregido/train/yes/anonymized_1515168.jpg  \n",
      "  inflating: datasetCorregido/train/yes/anonymized_284635.jpg  \n",
      "  inflating: datasetCorregido/train/yes/anonymized_1179186.jpg  \n",
      "  inflating: datasetCorregido/train/yes/anonymized_352685.jpg  \n",
      "  inflating: datasetCorregido/train/yes/anonymized_839234.jpg  \n",
      "  inflating: datasetCorregido/train/yes/anonymized_396337.jpg  \n",
      "  inflating: datasetCorregido/train/yes/anonymized_357988.jpg  \n",
      "  inflating: datasetCorregido/train/yes/anonymized_1326815.jpg  \n",
      "  inflating: datasetCorregido/train/yes/anonymized_445521.jpg  \n",
      "  inflating: datasetCorregido/train/yes/anonymized_224379.jpg  \n",
      "  inflating: datasetCorregido/train/yes/anonymized_1212752.jpg  \n",
      "  inflating: datasetCorregido/train/yes/anonymized_996667.jpg  \n",
      "  inflating: datasetCorregido/train/yes/anonymized_674036.jpg  \n",
      "  inflating: datasetCorregido/train/yes/anonymized_897918.jpg  \n",
      "  inflating: datasetCorregido/train/yes/anonymized_50255.jpg  \n",
      "  inflating: datasetCorregido/train/yes/anonymized_428315.jpg  \n",
      "  inflating: datasetCorregido/train/yes/anonymized_1290055.jpg  \n",
      "  inflating: datasetCorregido/train/yes/anonymized_1205619.jpg  \n",
      "  inflating: datasetCorregido/train/yes/anonymized_220856.jpg  \n",
      "  inflating: datasetCorregido/train/yes/anonymized_801104.jpg  \n",
      "  inflating: datasetCorregido/train/yes/anonymized_785201.jpg  \n",
      "  inflating: datasetCorregido/train/yes/anonymized_289344.jpg  \n",
      "  inflating: datasetCorregido/train/yes/anonymized_308054.jpg  \n",
      "  inflating: datasetCorregido/train/yes/anonymized_600760.jpg  \n",
      "  inflating: datasetCorregido/train/yes/anonymized_479530.jpg  \n",
      "  inflating: datasetCorregido/train/yes/anonymized_348136.jpg  \n",
      "  inflating: datasetCorregido/train/yes/anonymized_514462.jpg  \n",
      "  inflating: datasetCorregido/train/yes/anonymized_637632.jpg  \n",
      "  inflating: datasetCorregido/train/yes/anonymized_651653.jpg  \n",
      "  inflating: datasetCorregido/train/yes/anonymized_190327.jpg  \n",
      "  inflating: datasetCorregido/train/yes/anonymized_1224174.jpg  \n",
      "  inflating: datasetCorregido/train/yes/anonymized_397276.jpg  \n",
      "  inflating: datasetCorregido/train/yes/anonymized_178260.jpg  \n",
      "  inflating: datasetCorregido/train/yes/anonymized_849389.jpg  \n",
      "  inflating: datasetCorregido/train/yes/anonymized_1332592.jpg  \n",
      "  inflating: datasetCorregido/train/yes/anonymized_196707.jpg  \n",
      "  inflating: datasetCorregido/train/yes/anonymized_1241121.jpg  \n",
      "  inflating: datasetCorregido/train/yes/anonymized_1286983.jpg  \n",
      "  inflating: datasetCorregido/train/yes/anonymized_174070.jpg  \n",
      "  inflating: datasetCorregido/train/yes/anonymized_352530.jpg  \n",
      "  inflating: datasetCorregido/train/yes/anonymized_320382.jpg  \n",
      "  inflating: datasetCorregido/train/yes/anonymized_1009251.jpg  \n",
      "  inflating: datasetCorregido/train/yes/anonymized_318032.jpg  \n",
      "  inflating: datasetCorregido/train/yes/anonymized_203929.jpg  \n",
      "  inflating: datasetCorregido/train/yes/anonymized_347388.jpg  \n",
      "  inflating: datasetCorregido/train/yes/anonymized_183530.jpg  \n",
      "  inflating: datasetCorregido/train/yes/anonymized_528124.jpg  \n",
      "  inflating: datasetCorregido/train/yes/anonymized_542550.jpg  \n",
      "  inflating: datasetCorregido/train/yes/anonymized_45490.jpg  \n",
      "  inflating: datasetCorregido/train/yes/anonymized_991422.jpg  \n",
      "  inflating: datasetCorregido/train/yes/anonymized_1385777.jpg  \n",
      "  inflating: datasetCorregido/train/yes/anonymized_506849.jpg  \n",
      "  inflating: datasetCorregido/train/yes/anonymized_204633.jpg  \n",
      "  inflating: datasetCorregido/train/yes/anonymized_582940.jpg  \n",
      "  inflating: datasetCorregido/train/yes/anonymized_146185.jpg  \n",
      "  inflating: datasetCorregido/train/yes/anonymized_1121168.jpg  \n",
      "  inflating: datasetCorregido/train/yes/anonymized_148012.jpg  \n",
      "  inflating: datasetCorregido/train/yes/anonymized_426918.jpg  \n",
      "  inflating: datasetCorregido/train/yes/anonymized_723878.jpg  \n",
      "  inflating: datasetCorregido/train/yes/anonymized_760301.jpg  \n",
      "  inflating: datasetCorregido/train/yes/anonymized_746441.jpg  \n",
      "  inflating: datasetCorregido/train/yes/anonymized_697415.jpg  \n",
      "  inflating: datasetCorregido/train/yes/anonymized_443986.jpg  \n",
      "  inflating: datasetCorregido/train/yes/anonymized_296893.jpg  \n",
      "  inflating: datasetCorregido/train/yes/anonymized_461646.jpg  \n",
      "  inflating: datasetCorregido/train/yes/anonymized_1004271.jpg  \n",
      "  inflating: datasetCorregido/train/yes/anonymized_1879882.jpg  \n",
      "  inflating: datasetCorregido/train/yes/anonymized_1891089.jpg  \n",
      "  inflating: datasetCorregido/train/yes/anonymized_1362532.jpg  \n",
      "  inflating: datasetCorregido/train/yes/anonymized_740269.jpg  \n",
      "  inflating: datasetCorregido/train/yes/anonymized_654252.jpg  \n",
      "  inflating: datasetCorregido/train/yes/anonymized_284579.jpg  \n",
      "  inflating: datasetCorregido/train/yes/anonymized_400750.jpg  \n",
      "  inflating: datasetCorregido/train/yes/anonymized_831238.jpg  \n",
      "  inflating: datasetCorregido/train/yes/anonymized_427653.jpg  \n",
      "  inflating: datasetCorregido/train/yes/anonymized_241930.jpg  \n",
      "  inflating: datasetCorregido/train/yes/anonymized_366034.jpg  \n",
      "  inflating: datasetCorregido/train/yes/anonymized_223579.jpg  \n",
      "  inflating: datasetCorregido/train/yes/anonymized_924469.jpg  \n",
      "  inflating: datasetCorregido/train/yes/anonymized_179142.jpg  \n",
      "  inflating: datasetCorregido/train/yes/anonymized_475849.jpg  \n",
      "  inflating: datasetCorregido/train/yes/anonymized_588015.jpg  \n",
      "  inflating: datasetCorregido/train/yes/anonymized_911087.jpg  \n",
      "  inflating: datasetCorregido/train/yes/anonymized_440726.jpg  \n",
      "  inflating: datasetCorregido/train/yes/anonymized_644285.jpg  \n",
      "  inflating: datasetCorregido/train/yes/anonymized_281270.jpg  \n",
      "  inflating: datasetCorregido/train/yes/anonymized_661977.jpg  \n",
      "  inflating: datasetCorregido/train/yes/anonymized_782632.jpg  \n",
      "  inflating: datasetCorregido/train/yes/anonymized_736856.jpg  \n",
      "  inflating: datasetCorregido/train/yes/anonymized_443707.jpg  \n",
      "  inflating: datasetCorregido/train/yes/anonymized_904425.jpg  \n",
      "  inflating: datasetCorregido/train/yes/anonymized_582102.jpg  \n",
      "  inflating: datasetCorregido/train/yes/anonymized_1394191.jpg  \n",
      "  inflating: datasetCorregido/train/yes/anonymized_1225487.jpg  \n",
      "  inflating: datasetCorregido/train/yes/anonymized_1237759.jpg  \n",
      "  inflating: datasetCorregido/train/yes/anonymized_460218.jpg  \n",
      "  inflating: datasetCorregido/train/yes/anonymized_1414332.jpg  \n",
      "  inflating: datasetCorregido/train/yes/anonymized_514578.jpg  \n",
      "  inflating: datasetCorregido/train/yes/anonymized_409102.jpg  \n",
      "  inflating: datasetCorregido/train/yes/anonymized_304578.jpg  \n",
      "  inflating: datasetCorregido/train/yes/anonymized_721266.jpg  \n",
      "  inflating: datasetCorregido/train/yes/anonymized_814293.jpg  \n",
      "  inflating: datasetCorregido/train/yes/anonymized_1006445.jpg  \n",
      "  inflating: datasetCorregido/train/yes/anonymized_204230.jpg  \n",
      "  inflating: datasetCorregido/train/yes/anonymized_713519.jpg  \n",
      "  inflating: datasetCorregido/train/yes/anonymized_683931.jpg  \n",
      "  inflating: datasetCorregido/train/yes/anonymized_1335854.jpg  \n",
      "  inflating: datasetCorregido/train/yes/anonymized_564421.jpg  \n",
      "  inflating: datasetCorregido/train/yes/anonymized_1308235.jpg  \n",
      "  inflating: datasetCorregido/train/yes/anonymized_531841.jpg  \n",
      "  inflating: datasetCorregido/train/yes/anonymized_421800.jpg  \n",
      "  inflating: datasetCorregido/train/yes/anonymized_1880469.jpg  \n",
      "  inflating: datasetCorregido/train/yes/anonymized_210316.jpg  \n",
      "  inflating: datasetCorregido/train/yes/anonymized_406019.jpg  \n",
      "  inflating: datasetCorregido/train/yes/anonymized_457279.jpg  \n",
      "  inflating: datasetCorregido/train/yes/anonymized_543436.jpg  \n",
      "  inflating: datasetCorregido/train/yes/anonymized_501922.jpg  \n",
      "  inflating: datasetCorregido/train/yes/anonymized_1370736.jpg  \n",
      "  inflating: datasetCorregido/train/yes/anonymized_564400.jpg  \n",
      "  inflating: datasetCorregido/train/yes/anonymized_175723.jpg  \n",
      "  inflating: datasetCorregido/train/yes/anonymized_176170.jpg  \n",
      "  inflating: datasetCorregido/train/yes/anonymized_150497.jpg  \n",
      "  inflating: datasetCorregido/train/yes/anonymized_160483.jpg  \n",
      "  inflating: datasetCorregido/train/yes/anonymized_476375.jpg  \n",
      "  inflating: datasetCorregido/train/yes/anonymized_261534.jpg  \n",
      "  inflating: datasetCorregido/train/yes/anonymized_500281.jpg  \n",
      "  inflating: datasetCorregido/train/yes/anonymized_541350.jpg  \n",
      "  inflating: datasetCorregido/train/yes/anonymized_807251.jpg  \n",
      "  inflating: datasetCorregido/train/yes/anonymized_373009.jpg  \n",
      "  inflating: datasetCorregido/train/yes/anonymized_296913.jpg  \n",
      "  inflating: datasetCorregido/train/yes/anonymized_578148.jpg  \n",
      "  inflating: datasetCorregido/train/yes/anonymized_1513852.jpg  \n",
      "  inflating: datasetCorregido/train/yes/anonymized_281560.jpg  \n",
      "  inflating: datasetCorregido/train/yes/anonymized_677228.jpg  \n",
      "  inflating: datasetCorregido/train/yes/anonymized_581631.jpg  \n",
      "  inflating: datasetCorregido/train/yes/anonymized_513901.jpg  \n",
      "  inflating: datasetCorregido/train/yes/anonymized_553873.jpg  \n",
      "  inflating: datasetCorregido/train/yes/anonymized_691859.jpg  \n",
      "  inflating: datasetCorregido/train/yes/anonymized_600368.jpg  \n",
      "  inflating: datasetCorregido/train/yes/anonymized_655407.jpg  \n",
      "  inflating: datasetCorregido/train/yes/anonymized_749986.jpg  \n",
      "  inflating: datasetCorregido/train/yes/anonymized_302286.jpg  \n",
      "  inflating: datasetCorregido/train/yes/anonymized_462649.jpg  \n",
      "  inflating: datasetCorregido/train/yes/anonymized_679139.jpg  \n",
      "  inflating: datasetCorregido/train/yes/anonymized_1874304.jpg  \n",
      "  inflating: datasetCorregido/train/yes/anonymized_223366.jpg  \n",
      "  inflating: datasetCorregido/train/yes/anonymized_717211.jpg  \n",
      "  inflating: datasetCorregido/train/yes/anonymized_1201146.jpg  \n",
      "  inflating: datasetCorregido/train/yes/anonymized_750318.jpg  \n",
      "  inflating: datasetCorregido/train/yes/anonymized_598675.jpg  \n",
      "  inflating: datasetCorregido/train/yes/anonymized_633371.jpg  \n",
      "  inflating: datasetCorregido/train/yes/anonymized_1367729.jpg  \n",
      "  inflating: datasetCorregido/train/yes/anonymized_1419675.jpg  \n",
      "  inflating: datasetCorregido/train/yes/anonymized_453109.jpg  \n",
      "  inflating: datasetCorregido/train/yes/anonymized_257159.jpg  \n",
      "  inflating: datasetCorregido/train/yes/anonymized_596447.jpg  \n",
      "  inflating: datasetCorregido/train/yes/anonymized_1890598.jpg  \n",
      "  inflating: datasetCorregido/train/yes/anonymized_1279501.jpg  \n",
      "  inflating: datasetCorregido/train/yes/anonymized_200217.jpg  \n",
      "  inflating: datasetCorregido/train/yes/anonymized_35708.jpg  \n",
      "  inflating: datasetCorregido/train/yes/anonymized_1293317.jpg  \n",
      "  inflating: datasetCorregido/train/yes/anonymized_808552.jpg  \n",
      "  inflating: datasetCorregido/train/yes/anonymized_796592.jpg  \n",
      "  inflating: datasetCorregido/train/yes/anonymized_1367099.jpg  \n",
      "  inflating: datasetCorregido/train/yes/anonymized_1263794.jpg  \n",
      "  inflating: datasetCorregido/train/yes/anonymized_36545.jpg  \n",
      "  inflating: datasetCorregido/train/yes/anonymized_482335.jpg  \n",
      "  inflating: datasetCorregido/train/yes/anonymized_750941.jpg  \n",
      "  inflating: datasetCorregido/train/yes/anonymized_301246.jpg  \n",
      "  inflating: datasetCorregido/train/yes/anonymized_1417450.jpg  \n",
      "  inflating: datasetCorregido/train/yes/anonymized_532397.jpg  \n",
      "  inflating: datasetCorregido/train/yes/anonymized_774403.jpg  \n",
      "  inflating: datasetCorregido/train/yes/anonymized_903796.jpg  \n",
      "  inflating: datasetCorregido/train/yes/anonymized_1102565.jpg  \n",
      "  inflating: datasetCorregido/train/yes/anonymized_508173.jpg  \n",
      "  inflating: datasetCorregido/train/yes/anonymized_711818.jpg  \n",
      "  inflating: datasetCorregido/train/yes/anonymized_1344112.jpg  \n",
      "  inflating: datasetCorregido/train/yes/anonymized_299349.jpg  \n",
      "  inflating: datasetCorregido/train/yes/anonymized_305484.jpg  \n",
      "  inflating: datasetCorregido/train/yes/anonymized_836674.jpg  \n",
      "  inflating: datasetCorregido/train/yes/anonymized_1406935.jpg  \n",
      "  inflating: datasetCorregido/train/yes/anonymized_1111553.jpg  \n",
      "  inflating: datasetCorregido/train/yes/anonymized_1244843.jpg  \n",
      "  inflating: datasetCorregido/train/yes/anonymized_448679.jpg  \n",
      "  inflating: datasetCorregido/train/yes/anonymized_247235.jpg  \n",
      "  inflating: datasetCorregido/train/yes/anonymized_523507.jpg  \n",
      "  inflating: datasetCorregido/train/yes/anonymized_684473.jpg  \n",
      "  inflating: datasetCorregido/train/yes/anonymized_573666.jpg  \n",
      "  inflating: datasetCorregido/train/yes/anonymized_1360855.jpg  \n",
      "  inflating: datasetCorregido/train/yes/anonymized_666838.jpg  \n",
      "  inflating: datasetCorregido/train/yes/anonymized_1379951.jpg  \n",
      "  inflating: datasetCorregido/train/yes/anonymized_688609.jpg  \n",
      "  inflating: datasetCorregido/train/yes/anonymized_1335147.jpg  \n",
      "  inflating: datasetCorregido/train/yes/anonymized_405518.jpg  \n",
      "  inflating: datasetCorregido/train/yes/anonymized_784722.jpg  \n",
      "  inflating: datasetCorregido/train/yes/anonymized_977583.jpg  \n",
      "  inflating: datasetCorregido/train/yes/anonymized_427796.jpg  \n",
      "  inflating: datasetCorregido/train/yes/anonymized_1255067.jpg  \n",
      "  inflating: datasetCorregido/train/yes/anonymized_409101.jpg  \n",
      "  inflating: datasetCorregido/train/yes/anonymized_176847.jpg  \n",
      "  inflating: datasetCorregido/train/yes/anonymized_1291081.jpg  \n",
      "  inflating: datasetCorregido/train/yes/anonymized_861986.jpg  \n",
      "  inflating: datasetCorregido/train/yes/anonymized_423496.jpg  \n",
      "  inflating: datasetCorregido/train/yes/anonymized_581736.jpg  \n",
      "  inflating: datasetCorregido/train/yes/anonymized_225708.jpg  \n",
      "  inflating: datasetCorregido/train/yes/anonymized_523736.jpg  \n",
      "  inflating: datasetCorregido/train/yes/anonymized_275408.jpg  \n",
      "  inflating: datasetCorregido/train/yes/anonymized_526126.jpg  \n",
      "  inflating: datasetCorregido/train/yes/anonymized_813131.jpg  \n",
      "  inflating: datasetCorregido/train/yes/anonymized_1339699.jpg  \n",
      "  inflating: datasetCorregido/train/yes/anonymized_793885.jpg  \n",
      "  inflating: datasetCorregido/train/yes/anonymized_663224.jpg  \n",
      "  inflating: datasetCorregido/train/yes/anonymized_195916.jpg  \n",
      "  inflating: datasetCorregido/train/yes/anonymized_837302.jpg  \n",
      "  inflating: datasetCorregido/train/yes/anonymized_737660.jpg  \n",
      "  inflating: datasetCorregido/train/yes/anonymized_584929.jpg  \n",
      "  inflating: datasetCorregido/train/yes/anonymized_443979.jpg  \n",
      "  inflating: datasetCorregido/train/yes/anonymized_212328.jpg  \n",
      "  inflating: datasetCorregido/train/yes/anonymized_242654.jpg  \n",
      "  inflating: datasetCorregido/train/yes/anonymized_223136.jpg  \n",
      "  inflating: datasetCorregido/train/yes/anonymized_421626.jpg  \n",
      "  inflating: datasetCorregido/train/yes/anonymized_921237.jpg  \n",
      "  inflating: datasetCorregido/train/yes/anonymized_405721.jpg  \n",
      "  inflating: datasetCorregido/train/yes/anonymized_1255300.jpg  \n",
      "  inflating: datasetCorregido/train/yes/anonymized_1424849.jpg  \n",
      "  inflating: datasetCorregido/train/yes/anonymized_133056.jpg  \n",
      "  inflating: datasetCorregido/train/yes/anonymized_884546.jpg  \n",
      "  inflating: datasetCorregido/train/yes/anonymized_1417911.jpg  \n",
      "  inflating: datasetCorregido/train/yes/anonymized_771316.jpg  \n",
      "  inflating: datasetCorregido/train/yes/anonymized_427811.jpg  \n",
      "  inflating: datasetCorregido/train/yes/anonymized_886205.jpg  \n",
      "  inflating: datasetCorregido/train/yes/anonymized_194472.jpg  \n",
      "  inflating: datasetCorregido/train/yes/anonymized_500550.jpg  \n",
      "  inflating: datasetCorregido/train/yes/anonymized_875630.jpg  \n",
      "  inflating: datasetCorregido/train/yes/anonymized_637687.jpg  \n",
      "  inflating: datasetCorregido/train/yes/anonymized_140730.jpg  \n",
      "  inflating: datasetCorregido/train/yes/anonymized_413694.jpg  \n",
      "  inflating: datasetCorregido/train/yes/anonymized_999574.jpg  \n",
      "  inflating: datasetCorregido/train/yes/anonymized_588957.jpg  \n",
      "  inflating: datasetCorregido/train/yes/anonymized_739300.jpg  \n",
      "  inflating: datasetCorregido/train/yes/anonymized_145691.jpg  \n",
      "  inflating: datasetCorregido/train/yes/anonymized_1898489.jpg  \n",
      "  inflating: datasetCorregido/train/yes/anonymized_705469.jpg  \n",
      "  inflating: datasetCorregido/train/yes/anonymized_1270658.jpg  \n",
      "  inflating: datasetCorregido/train/yes/anonymized_1878272.jpg  \n",
      "  inflating: datasetCorregido/train/yes/anonymized_623653.jpg  \n",
      "  inflating: datasetCorregido/train/yes/anonymized_388837.jpg  \n",
      "  inflating: datasetCorregido/train/yes/anonymized_1386926.jpg  \n",
      "  inflating: datasetCorregido/train/yes/anonymized_585254.jpg  \n",
      "  inflating: datasetCorregido/train/yes/anonymized_289800.jpg  \n",
      "  inflating: datasetCorregido/train/yes/anonymized_395862.jpg  \n",
      "  inflating: datasetCorregido/train/yes/anonymized_866573.jpg  \n",
      "  inflating: datasetCorregido/train/yes/anonymized_211420.jpg  \n",
      "  inflating: datasetCorregido/train/yes/anonymized_1891521.jpg  \n",
      "  inflating: datasetCorregido/train/yes/anonymized_572503.jpg  \n",
      "  inflating: datasetCorregido/train/yes/anonymized_853049.jpg  \n",
      "  inflating: datasetCorregido/train/yes/anonymized_441262.jpg  \n",
      "  inflating: datasetCorregido/train/yes/anonymized_666493.jpg  \n",
      "  inflating: datasetCorregido/train/yes/anonymized_206959.jpg  \n",
      "  inflating: datasetCorregido/train/yes/anonymized_629687.jpg  \n",
      "  inflating: datasetCorregido/train/yes/anonymized_748746.jpg  \n",
      "  inflating: datasetCorregido/train/yes/anonymized_428188.jpg  \n",
      "  inflating: datasetCorregido/train/yes/anonymized_662644.jpg  \n",
      "  inflating: datasetCorregido/train/yes/anonymized_748754.jpg  \n",
      "  inflating: datasetCorregido/train/yes/anonymized_334007.jpg  \n",
      "  inflating: datasetCorregido/train/yes/anonymized_436435.jpg  \n",
      "  inflating: datasetCorregido/train/yes/anonymized_463445.jpg  \n",
      "  inflating: datasetCorregido/train/yes/anonymized_297645.jpg  \n",
      "  inflating: datasetCorregido/train/yes/anonymized_713073.jpg  \n",
      "  inflating: datasetCorregido/train/yes/anonymized_1009249.jpg  \n",
      "  inflating: datasetCorregido/train/yes/anonymized_1595742.jpg  \n",
      "  inflating: datasetCorregido/train/yes/anonymized_1104033.jpg  \n",
      "  inflating: datasetCorregido/train/yes/anonymized_717927.jpg  \n",
      "  inflating: datasetCorregido/train/yes/anonymized_1308219.jpg  \n",
      "  inflating: datasetCorregido/train/yes/anonymized_300668.jpg  \n",
      "  inflating: datasetCorregido/train/yes/anonymized_1231325.jpg  \n",
      "  inflating: datasetCorregido/train/yes/anonymized_940701.jpg  \n",
      "  inflating: datasetCorregido/train/yes/anonymized_407244.jpg  \n",
      "  inflating: datasetCorregido/train/yes/anonymized_276578.jpg  \n",
      "  inflating: datasetCorregido/train/yes/anonymized_1426023.jpg  \n",
      "  inflating: datasetCorregido/train/yes/anonymized_878362.jpg  \n",
      "  inflating: datasetCorregido/train/yes/anonymized_469763.jpg  \n",
      "  inflating: datasetCorregido/train/yes/anonymized_1890134.jpg  \n",
      "  inflating: datasetCorregido/train/yes/anonymized_934152.jpg  \n",
      "  inflating: datasetCorregido/train/yes/anonymized_1405557.jpg  \n",
      "  inflating: datasetCorregido/train/yes/anonymized_1146337.jpg  \n",
      "  inflating: datasetCorregido/train/yes/anonymized_1292121.jpg  \n",
      "  inflating: datasetCorregido/train/yes/anonymized_372513.jpg  \n",
      "  inflating: datasetCorregido/train/yes/anonymized_1363263.jpg  \n",
      "  inflating: datasetCorregido/train/yes/anonymized_809200.jpg  \n",
      "  inflating: datasetCorregido/train/yes/anonymized_152950.jpg  \n",
      "  inflating: datasetCorregido/train/yes/anonymized_204635.jpg  \n",
      "  inflating: datasetCorregido/train/yes/anonymized_1217666.jpg  \n",
      "  inflating: datasetCorregido/train/yes/anonymized_220550.jpg  \n",
      "  inflating: datasetCorregido/train/yes/anonymized_326474.jpg  \n",
      "  inflating: datasetCorregido/train/yes/anonymized_1874923.jpg  \n",
      "  inflating: datasetCorregido/train/yes/anonymized_153115.jpg  \n",
      "  inflating: datasetCorregido/train/yes/anonymized_539814.jpg  \n",
      "  inflating: datasetCorregido/train/yes/anonymized_476253.jpg  \n",
      "  inflating: datasetCorregido/train/yes/anonymized_295881.jpg  \n",
      "  inflating: datasetCorregido/train/yes/anonymized_943376.jpg  \n",
      "  inflating: datasetCorregido/train/yes/anonymized_477899.jpg  \n",
      "  inflating: datasetCorregido/train/yes/anonymized_268838.jpg  \n",
      "  inflating: datasetCorregido/train/yes/anonymized_463641.jpg  \n",
      "  inflating: datasetCorregido/train/yes/anonymized_982047.jpg  \n",
      "  inflating: datasetCorregido/train/yes/anonymized_1343917.jpg  \n",
      "  inflating: datasetCorregido/train/yes/anonymized_445520.jpg  \n",
      "  inflating: datasetCorregido/train/yes/anonymized_781976.jpg  \n",
      "  inflating: datasetCorregido/train/yes/anonymized_997240.jpg  \n",
      "  inflating: datasetCorregido/train/yes/anonymized_427047.jpg  \n",
      "  inflating: datasetCorregido/train/yes/anonymized_531439.jpg  \n",
      "  inflating: datasetCorregido/train/yes/anonymized_656480.jpg  \n",
      "  inflating: datasetCorregido/train/yes/anonymized_449424.jpg  \n",
      "  inflating: datasetCorregido/train/yes/anonymized_236277.jpg  \n",
      "  inflating: datasetCorregido/train/yes/anonymized_282442.jpg  \n",
      "  inflating: datasetCorregido/train/yes/anonymized_27315.jpg  \n",
      "  inflating: datasetCorregido/train/yes/anonymized_462668.jpg  \n",
      "  inflating: datasetCorregido/train/yes/anonymized_405075.jpg  \n",
      "  inflating: datasetCorregido/train/yes/anonymized_772095.jpg  \n",
      "  inflating: datasetCorregido/train/yes/anonymized_155477.jpg  \n",
      "  inflating: datasetCorregido/train/yes/anonymized_730653.jpg  \n",
      "  inflating: datasetCorregido/train/yes/anonymized_568500.jpg  \n",
      "  inflating: datasetCorregido/train/yes/anonymized_446695.jpg  \n",
      "  inflating: datasetCorregido/train/yes/anonymized_1364484.jpg  \n",
      "  inflating: datasetCorregido/train/yes/anonymized_1364739.jpg  \n",
      "  inflating: datasetCorregido/train/yes/anonymized_235094.jpg  \n",
      "  inflating: datasetCorregido/train/yes/anonymized_1388058.jpg  \n",
      "  inflating: datasetCorregido/train/yes/anonymized_560098.jpg  \n",
      "  inflating: datasetCorregido/train/yes/anonymized_918418.jpg  \n",
      "  inflating: datasetCorregido/train/yes/anonymized_406018.jpg  \n",
      "  inflating: datasetCorregido/train/yes/anonymized_550981.jpg  \n",
      "  inflating: datasetCorregido/train/yes/anonymized_581262.jpg  \n",
      "  inflating: datasetCorregido/train/yes/anonymized_708691.jpg  \n",
      "  inflating: datasetCorregido/train/yes/anonymized_644757.jpg  \n",
      "  inflating: datasetCorregido/train/yes/anonymized_928056.jpg  \n",
      "  inflating: datasetCorregido/train/yes/anonymized_1409767.jpg  \n",
      "  inflating: datasetCorregido/train/yes/anonymized_301424.jpg  \n",
      "  inflating: datasetCorregido/train/yes/anonymized_852581.jpg  \n",
      "  inflating: datasetCorregido/train/yes/anonymized_846923.jpg  \n",
      "  inflating: datasetCorregido/train/yes/anonymized_1365274.jpg  \n",
      "  inflating: datasetCorregido/train/yes/anonymized_895749.jpg  \n",
      "  inflating: datasetCorregido/train/yes/anonymized_622058.jpg  \n",
      "  inflating: datasetCorregido/train/yes/anonymized_1187938.jpg  \n",
      "  inflating: datasetCorregido/train/yes/anonymized_282450.jpg  \n",
      "  inflating: datasetCorregido/train/yes/anonymized_871720.jpg  \n",
      "  inflating: datasetCorregido/train/yes/anonymized_677036.jpg  \n",
      "  inflating: datasetCorregido/train/yes/anonymized_947727.jpg  \n",
      "  inflating: datasetCorregido/train/yes/anonymized_840445.jpg  \n",
      "  inflating: datasetCorregido/train/yes/anonymized_44257.jpg  \n",
      "  inflating: datasetCorregido/train/yes/anonymized_617466.jpg  \n",
      "  inflating: datasetCorregido/train/yes/anonymized_1235813.jpg  \n",
      "  inflating: datasetCorregido/train/yes/anonymized_819442.jpg  \n",
      "  inflating: datasetCorregido/train/yes/anonymized_182813.jpg  \n",
      "  inflating: datasetCorregido/train/yes/anonymized_376087.jpg  \n",
      "  inflating: datasetCorregido/train/yes/anonymized_309094.jpg  \n",
      "  inflating: datasetCorregido/train/yes/anonymized_1099277.jpg  \n",
      "  inflating: datasetCorregido/train/yes/anonymized_683727.jpg  \n",
      "  inflating: datasetCorregido/train/yes/anonymized_769243.jpg  \n",
      "  inflating: datasetCorregido/train/yes/anonymized_943146.jpg  \n",
      "  inflating: datasetCorregido/train/yes/anonymized_1111409.jpg  \n",
      "  inflating: datasetCorregido/train/yes/anonymized_852019.jpg  \n",
      "  inflating: datasetCorregido/train/yes/anonymized_1334783.jpg  \n",
      "  inflating: datasetCorregido/train/yes/anonymized_361653.jpg  \n",
      "  inflating: datasetCorregido/train/yes/anonymized_667940.jpg  \n",
      "  inflating: datasetCorregido/train/yes/anonymized_1330797.jpg  \n",
      "  inflating: datasetCorregido/train/yes/anonymized_1250950.jpg  \n",
      "  inflating: datasetCorregido/train/yes/anonymized_600684.jpg  \n",
      "  inflating: datasetCorregido/train/yes/anonymized_772154.jpg  \n",
      "  inflating: datasetCorregido/train/yes/anonymized_192786.jpg  \n",
      "  inflating: datasetCorregido/train/yes/anonymized_406937.jpg  \n",
      "  inflating: datasetCorregido/train/yes/anonymized_913542.jpg  \n",
      "  inflating: datasetCorregido/train/yes/anonymized_1891523.jpg  \n",
      "  inflating: datasetCorregido/train/yes/anonymized_518189.jpg  \n",
      "  inflating: datasetCorregido/train/yes/anonymized_209621.jpg  \n",
      "  inflating: datasetCorregido/train/yes/anonymized_1099515.jpg  \n",
      "  inflating: datasetCorregido/train/yes/anonymized_257245.jpg  \n",
      "  inflating: datasetCorregido/train/yes/anonymized_1187937.jpg  \n",
      "  inflating: datasetCorregido/train/yes/anonymized_1321987.jpg  \n",
      "  inflating: datasetCorregido/train/yes/anonymized_436445.jpg  \n",
      "  inflating: datasetCorregido/train/yes/anonymized_443984.jpg  \n",
      "  inflating: datasetCorregido/train/yes/anonymized_1261751.jpg  \n",
      "  inflating: datasetCorregido/train/yes/anonymized_733717.jpg  \n",
      "  inflating: datasetCorregido/train/yes/anonymized_696750.jpg  \n",
      "  inflating: datasetCorregido/train/yes/anonymized_313385.jpg  \n",
      "  inflating: datasetCorregido/train/yes/anonymized_1305422.jpg  \n",
      "  inflating: datasetCorregido/train/yes/anonymized_275854.jpg  \n",
      "  inflating: datasetCorregido/train/yes/anonymized_185103.jpg  \n",
      "  inflating: datasetCorregido/train/yes/anonymized_389388.jpg  \n",
      "  inflating: datasetCorregido/train/yes/anonymized_1424848.jpg  \n",
      "  inflating: datasetCorregido/train/yes/anonymized_1393763.jpg  \n",
      "  inflating: datasetCorregido/train/yes/anonymized_1236639.jpg  \n",
      "  inflating: datasetCorregido/train/yes/anonymized_658046.jpg  \n",
      "  inflating: datasetCorregido/train/yes/anonymized_1360998.jpg  \n",
      "  inflating: datasetCorregido/train/yes/anonymized_438582.jpg  \n",
      "  inflating: datasetCorregido/train/yes/anonymized_127279.jpg  \n",
      "  inflating: datasetCorregido/train/yes/anonymized_1274553.jpg  \n",
      "  inflating: datasetCorregido/train/yes/anonymized_292731.jpg  \n",
      "  inflating: datasetCorregido/train/yes/anonymized_574327.jpg  \n",
      "  inflating: datasetCorregido/train/yes/anonymized_837411.jpg  \n",
      "  inflating: datasetCorregido/train/yes/anonymized_176174.jpg  \n",
      "  inflating: datasetCorregido/train/yes/anonymized_806701.jpg  \n",
      "  inflating: datasetCorregido/train/yes/anonymized_413044.jpg  \n",
      "  inflating: datasetCorregido/train/yes/anonymized_333663.jpg  \n",
      "  inflating: datasetCorregido/train/yes/anonymized_284655.jpg  \n",
      "  inflating: datasetCorregido/train/yes/anonymized_128410.jpg  \n",
      "  inflating: datasetCorregido/train/yes/anonymized_709048.jpg  \n",
      "  inflating: datasetCorregido/train/yes/anonymized_1415829.jpg  \n",
      "  inflating: datasetCorregido/train/yes/anonymized_477702.jpg  \n",
      "  inflating: datasetCorregido/train/yes/anonymized_149154.jpg  \n",
      "  inflating: datasetCorregido/train/yes/anonymized_862659.jpg  \n",
      "  inflating: datasetCorregido/train/yes/anonymized_466415.jpg  \n",
      "  inflating: datasetCorregido/train/yes/anonymized_1881404.jpg  \n",
      "  inflating: datasetCorregido/train/yes/anonymized_157370.jpg  \n",
      "  inflating: datasetCorregido/train/yes/anonymized_841365.jpg  \n",
      "  inflating: datasetCorregido/train/yes/anonymized_605679.jpg  \n",
      "  inflating: datasetCorregido/train/yes/anonymized_233688.jpg  \n",
      "  inflating: datasetCorregido/train/yes/anonymized_493356.jpg  \n",
      "  inflating: datasetCorregido/train/yes/anonymized_275857.jpg  \n",
      "  inflating: datasetCorregido/train/yes/anonymized_223742.jpg  \n",
      "  inflating: datasetCorregido/train/yes/anonymized_909638.jpg  \n",
      "  inflating: datasetCorregido/train/yes/anonymized_347792.jpg  \n",
      "  inflating: datasetCorregido/train/yes/anonymized_584409.jpg  \n",
      "  inflating: datasetCorregido/train/yes/anonymized_210333.jpg  \n",
      "  inflating: datasetCorregido/train/yes/anonymized_201483.jpg  \n",
      "  inflating: datasetCorregido/train/yes/anonymized_983169.jpg  \n",
      "  inflating: datasetCorregido/train/yes/anonymized_531968.jpg  \n",
      "  inflating: datasetCorregido/train/yes/anonymized_902307.jpg  \n",
      "  inflating: datasetCorregido/train/yes/anonymized_152187.jpg  \n",
      "  inflating: datasetCorregido/train/yes/anonymized_208948.jpg  \n",
      "  inflating: datasetCorregido/train/yes/anonymized_404558.jpg  \n",
      "  inflating: datasetCorregido/train/yes/anonymized_588398.jpg  \n",
      "  inflating: datasetCorregido/train/yes/anonymized_396918.jpg  \n",
      "  inflating: datasetCorregido/train/yes/anonymized_1222434.jpg  \n",
      "  inflating: datasetCorregido/train/yes/anonymized_701117.jpg  \n",
      "  inflating: datasetCorregido/train/yes/anonymized_464160.jpg  \n",
      "  inflating: datasetCorregido/train/yes/anonymized_949907.jpg  \n",
      "  inflating: datasetCorregido/train/yes/anonymized_521073.jpg  \n",
      "  inflating: datasetCorregido/train/yes/anonymized_1179473.jpg  \n",
      "  inflating: datasetCorregido/train/yes/anonymized_483476.jpg  \n",
      "  inflating: datasetCorregido/train/yes/anonymized_592827.jpg  \n",
      "  inflating: datasetCorregido/train/yes/anonymized_919349.jpg  \n",
      "  inflating: datasetCorregido/train/yes/anonymized_453408.jpg  \n",
      "  inflating: datasetCorregido/train/yes/anonymized_779918.jpg  \n",
      "  inflating: datasetCorregido/train/yes/anonymized_1244054.jpg  \n",
      "  inflating: datasetCorregido/train/yes/anonymized_735737.jpg  \n",
      "  inflating: datasetCorregido/train/yes/anonymized_1399415.jpg  \n",
      "  inflating: datasetCorregido/train/yes/anonymized_315438.jpg  \n",
      "  inflating: datasetCorregido/train/yes/anonymized_399914.jpg  \n",
      "  inflating: datasetCorregido/train/yes/anonymized_136631.jpg  \n",
      "  inflating: datasetCorregido/train/yes/anonymized_469762.jpg  \n",
      "  inflating: datasetCorregido/train/yes/anonymized_1073595.jpg  \n",
      "  inflating: datasetCorregido/train/yes/anonymized_1106294.jpg  \n",
      "  inflating: datasetCorregido/train/yes/anonymized_301244.jpg  \n",
      "  inflating: datasetCorregido/train/yes/anonymized_886290.jpg  \n",
      "  inflating: datasetCorregido/train/yes/anonymized_310313.jpg  \n",
      "  inflating: datasetCorregido/train/yes/anonymized_42182.jpg  \n",
      "  inflating: datasetCorregido/train/yes/anonymized_702470.jpg  \n",
      "  inflating: datasetCorregido/train/yes/anonymized_1114616.jpg  \n",
      "  inflating: datasetCorregido/train/yes/anonymized_360534.jpg  \n",
      "  inflating: datasetCorregido/train/yes/anonymized_922640.jpg  \n",
      "  inflating: datasetCorregido/train/yes/anonymized_320438.jpg  \n",
      "  inflating: datasetCorregido/train/yes/anonymized_396488.jpg  \n",
      "  inflating: datasetCorregido/train/yes/anonymized_453826.jpg  \n",
      "  inflating: datasetCorregido/train/yes/anonymized_1874229.jpg  \n",
      "  inflating: datasetCorregido/train/yes/anonymized_934805.jpg  \n",
      "  inflating: datasetCorregido/train/yes/anonymized_1178293.jpg  \n",
      "  inflating: datasetCorregido/train/yes/anonymized_302283.jpg  \n",
      "  inflating: datasetCorregido/train/yes/anonymized_1601659.jpg  \n",
      "  inflating: datasetCorregido/train/yes/anonymized_749968.jpg  \n",
      "  inflating: datasetCorregido/train/yes/anonymized_1419762.jpg  \n",
      "  inflating: datasetCorregido/train/yes/anonymized_253815.jpg  \n",
      "  inflating: datasetCorregido/train/yes/anonymized_933380.jpg  \n",
      "  inflating: datasetCorregido/train/yes/anonymized_1201994.jpg  \n",
      "  inflating: datasetCorregido/train/yes/anonymized_232600.jpg  \n",
      "  inflating: datasetCorregido/train/yes/anonymized_942422.jpg  \n",
      "  inflating: datasetCorregido/train/yes/anonymized_635002.jpg  \n",
      "  inflating: datasetCorregido/train/yes/anonymized_275899.jpg  \n",
      "  inflating: datasetCorregido/train/yes/anonymized_577289.jpg  \n",
      "  inflating: datasetCorregido/train/yes/anonymized_708541.jpg  \n",
      "  inflating: datasetCorregido/train/yes/anonymized_793775.jpg  \n",
      "  inflating: datasetCorregido/train/yes/anonymized_300736.jpg  \n",
      "  inflating: datasetCorregido/train/yes/anonymized_1607128.jpg  \n",
      "  inflating: datasetCorregido/train/yes/anonymized_349139.jpg  \n",
      "  inflating: datasetCorregido/train/yes/anonymized_169973.jpg  \n",
      "  inflating: datasetCorregido/train/yes/anonymized_193418.jpg  \n",
      "  inflating: datasetCorregido/train/yes/anonymized_468416.jpg  \n",
      "  inflating: datasetCorregido/train/yes/anonymized_807253.jpg  \n",
      "  inflating: datasetCorregido/train/yes/anonymized_760029.jpg  \n",
      "  inflating: datasetCorregido/train/yes/anonymized_153281.jpg  \n",
      "  inflating: datasetCorregido/train/yes/anonymized_543041.jpg  \n",
      "  inflating: datasetCorregido/train/yes/anonymized_1550500.jpg  \n",
      "  inflating: datasetCorregido/train/yes/anonymized_415256.jpg  \n",
      "  inflating: datasetCorregido/train/yes/anonymized_531694.jpg  \n",
      "  inflating: datasetCorregido/train/yes/anonymized_1365285.jpg  \n",
      "  inflating: datasetCorregido/train/yes/anonymized_133055.jpg  \n",
      "  inflating: datasetCorregido/train/yes/anonymized_188754.jpg  \n",
      "  inflating: datasetCorregido/train/yes/anonymized_221514.jpg  \n",
      "  inflating: datasetCorregido/train/yes/anonymized_328274.jpg  \n",
      "  inflating: datasetCorregido/train/yes/anonymized_1187802.jpg  \n",
      "  inflating: datasetCorregido/train/yes/anonymized_519639.jpg  \n",
      "  inflating: datasetCorregido/train/yes/anonymized_331303.jpg  \n",
      "  inflating: datasetCorregido/train/yes/anonymized_1873211.jpg  \n",
      "  inflating: datasetCorregido/train/yes/anonymized_1392258.jpg  \n",
      "  inflating: datasetCorregido/train/yes/anonymized_1009772.jpg  \n",
      "  inflating: datasetCorregido/train/yes/anonymized_225198.jpg  \n",
      "  inflating: datasetCorregido/train/yes/anonymized_506504.jpg  \n",
      "  inflating: datasetCorregido/train/yes/anonymized_701116.jpg  \n",
      "  inflating: datasetCorregido/train/yes/anonymized_1233241.jpg  \n",
      "  inflating: datasetCorregido/train/yes/anonymized_261549.jpg  \n",
      "  inflating: datasetCorregido/train/yes/anonymized_680073.jpg  \n",
      "  inflating: datasetCorregido/train/yes/anonymized_502913.jpg  \n",
      "  inflating: datasetCorregido/train/yes/anonymized_288842.jpg  \n",
      "  inflating: datasetCorregido/train/yes/anonymized_278653.jpg  \n",
      "  inflating: datasetCorregido/train/yes/anonymized_946289.jpg  \n",
      "  inflating: datasetCorregido/train/yes/anonymized_579790.jpg  \n",
      "  inflating: datasetCorregido/train/yes/anonymized_246860.jpg  \n",
      "  inflating: datasetCorregido/train/yes/anonymized_561850.jpg  \n",
      "  inflating: datasetCorregido/train/yes/anonymized_1409765.jpg  \n",
      "  inflating: datasetCorregido/train/yes/anonymized_363714.jpg  \n",
      "  inflating: datasetCorregido/train/yes/anonymized_1224850.jpg  \n",
      "  inflating: datasetCorregido/train/yes/anonymized_379175.jpg  \n",
      "  inflating: datasetCorregido/train/yes/anonymized_167898.jpg  \n",
      "  inflating: datasetCorregido/train/yes/anonymized_672267.jpg  \n",
      "  inflating: datasetCorregido/train/yes/anonymized_481120.jpg  \n",
      "  inflating: datasetCorregido/train/yes/anonymized_737524.jpg  \n",
      "  inflating: datasetCorregido/train/yes/anonymized_913797.jpg  \n",
      "  inflating: datasetCorregido/train/yes/anonymized_737746.jpg  \n",
      "  inflating: datasetCorregido/train/yes/anonymized_1284185.jpg  \n",
      "  inflating: datasetCorregido/train/yes/anonymized_1316288.jpg  \n",
      "  inflating: datasetCorregido/train/yes/anonymized_313053.jpg  \n",
      "  inflating: datasetCorregido/train/yes/anonymized_1372744.jpg  \n",
      "  inflating: datasetCorregido/train/yes/anonymized_807847.jpg  \n",
      "  inflating: datasetCorregido/train/yes/anonymized_284583.jpg  \n",
      "  inflating: datasetCorregido/train/yes/anonymized_876681.jpg  \n",
      "  inflating: datasetCorregido/train/yes/anonymized_415179.jpg  \n",
      "  inflating: datasetCorregido/train/yes/anonymized_1366969.jpg  \n",
      "  inflating: datasetCorregido/train/yes/anonymized_285029.jpg  \n",
      "  inflating: datasetCorregido/train/yes/anonymized_242653.jpg  \n",
      "  inflating: datasetCorregido/train/yes/anonymized_1592407.jpg  \n",
      "  inflating: datasetCorregido/train/yes/anonymized_1598694.jpg  \n",
      "  inflating: datasetCorregido/train/yes/anonymized_377054.jpg  \n",
      "  inflating: datasetCorregido/train/yes/anonymized_477087.jpg  \n",
      "  inflating: datasetCorregido/train/yes/anonymized_423497.jpg  \n",
      "  inflating: datasetCorregido/train/yes/anonymized_406431.jpg  \n",
      "  inflating: datasetCorregido/train/yes/anonymized_440353.jpg  \n",
      "  inflating: datasetCorregido/train/yes/anonymized_1691570.jpg  \n",
      "  inflating: datasetCorregido/train/yes/anonymized_571018.jpg  \n",
      "  inflating: datasetCorregido/train/yes/anonymized_807846.jpg  \n",
      "  inflating: datasetCorregido/train/yes/anonymized_515473.jpg  \n",
      "  inflating: datasetCorregido/train/yes/anonymized_916735.jpg  \n",
      "  inflating: datasetCorregido/train/yes/anonymized_760536.jpg  \n",
      "  inflating: datasetCorregido/train/yes/anonymized_1177950.jpg  \n",
      "  inflating: datasetCorregido/train/yes/anonymized_1284815.jpg  \n",
      "  inflating: datasetCorregido/train/yes/anonymized_1324207.jpg  \n",
      "  inflating: datasetCorregido/train/yes/anonymized_329318.jpg  \n",
      "  inflating: datasetCorregido/train/yes/anonymized_751836.jpg  \n",
      "  inflating: datasetCorregido/train/yes/anonymized_1387326.jpg  \n",
      "  inflating: datasetCorregido/train/yes/anonymized_269986.jpg  \n",
      "  inflating: datasetCorregido/train/yes/anonymized_169573.jpg  \n",
      "  inflating: datasetCorregido/train/yes/anonymized_161124.jpg  \n",
      "  inflating: datasetCorregido/train/yes/anonymized_464981.jpg  \n",
      "  inflating: datasetCorregido/train/yes/anonymized_477757.jpg  \n",
      "  inflating: datasetCorregido/train/yes/anonymized_568205.jpg  \n",
      "  inflating: datasetCorregido/train/yes/anonymized_318766.jpg  \n",
      "  inflating: datasetCorregido/train/yes/anonymized_627017.jpg  \n",
      "  inflating: datasetCorregido/train/yes/anonymized_759871.jpg  \n",
      "  inflating: datasetCorregido/train/yes/anonymized_1102343.jpg  \n",
      "  inflating: datasetCorregido/train/yes/anonymized_232466.jpg  \n",
      "  inflating: datasetCorregido/train/yes/anonymized_1406906.jpg  \n",
      "  inflating: datasetCorregido/train/yes/anonymized_514475.jpg  \n",
      "  inflating: datasetCorregido/train/yes/anonymized_396487.jpg  \n",
      "  inflating: datasetCorregido/train/yes/anonymized_1103333.jpg  \n",
      "  inflating: datasetCorregido/train/yes/anonymized_1212753.jpg  \n",
      "  inflating: datasetCorregido/train/yes/anonymized_482833.jpg  \n",
      "  inflating: datasetCorregido/train/yes/anonymized_289163.jpg  \n",
      "  inflating: datasetCorregido/train/yes/anonymized_643980.jpg  \n",
      "  inflating: datasetCorregido/train/yes/anonymized_482687.jpg  \n",
      "  inflating: datasetCorregido/train/yes/anonymized_878217.jpg  \n",
      "  inflating: datasetCorregido/train/yes/anonymized_611298.jpg  \n",
      "  inflating: datasetCorregido/train/yes/anonymized_827731.jpg  \n",
      "  inflating: datasetCorregido/train/yes/anonymized_1317046.jpg  \n",
      "  inflating: datasetCorregido/train/yes/anonymized_416846.jpg  \n",
      "  inflating: datasetCorregido/train/yes/anonymized_681004.jpg  \n",
      "  inflating: datasetCorregido/train/yes/anonymized_1343057.jpg  \n",
      "  inflating: datasetCorregido/train/yes/anonymized_522192.jpg  \n",
      "  inflating: datasetCorregido/train/yes/anonymized_352332.jpg  \n",
      "  inflating: datasetCorregido/train/yes/anonymized_887759.jpg  \n",
      "  inflating: datasetCorregido/train/yes/anonymized_360363.jpg  \n",
      "  inflating: datasetCorregido/train/yes/anonymized_1191455.jpg  \n",
      "  inflating: datasetCorregido/train/yes/anonymized_650840.jpg  \n",
      "  inflating: datasetCorregido/train/yes/anonymized_1260527.jpg  \n",
      "  inflating: datasetCorregido/train/yes/anonymized_1300157.jpg  \n",
      "  inflating: datasetCorregido/train/yes/anonymized_1105660.jpg  \n",
      "  inflating: datasetCorregido/train/yes/anonymized_248156.jpg  \n",
      "  inflating: datasetCorregido/train/yes/anonymized_1102089.jpg  \n",
      "  inflating: datasetCorregido/train/yes/anonymized_632662.jpg  \n",
      "  inflating: datasetCorregido/train/yes/anonymized_1233453.jpg  \n",
      "  inflating: datasetCorregido/train/yes/anonymized_624874.jpg  \n",
      "  inflating: datasetCorregido/train/yes/anonymized_434372.jpg  \n",
      "  inflating: datasetCorregido/train/yes/anonymized_999232.jpg  \n",
      "  inflating: datasetCorregido/train/yes/anonymized_1216812.jpg  \n",
      "  inflating: datasetCorregido/train/yes/anonymized_847661.jpg  \n",
      "  inflating: datasetCorregido/train/yes/anonymized_308050.jpg  \n",
      "  inflating: datasetCorregido/train/yes/anonymized_296911.jpg  \n",
      "  inflating: datasetCorregido/train/yes/anonymized_894906.jpg  \n",
      "  inflating: datasetCorregido/train/yes/anonymized_1317128.jpg  \n",
      "  inflating: datasetCorregido/train/yes/anonymized_407236.jpg  \n",
      "  inflating: datasetCorregido/train/yes/anonymized_508807.jpg  \n",
      "  inflating: datasetCorregido/train/yes/anonymized_753143.jpg  \n",
      "  inflating: datasetCorregido/train/yes/anonymized_1146987.jpg  \n",
      "  inflating: datasetCorregido/train/yes/anonymized_258087.jpg  \n",
      "  inflating: datasetCorregido/train/yes/anonymized_1210585.jpg  \n",
      "  inflating: datasetCorregido/train/yes/anonymized_534469.jpg  \n",
      "  inflating: datasetCorregido/train/yes/anonymized_352463.jpg  \n",
      "  inflating: datasetCorregido/train/yes/anonymized_405421.jpg  \n",
      "  inflating: datasetCorregido/train/yes/anonymized_137595.jpg  \n",
      "  inflating: datasetCorregido/train/yes/anonymized_624322.jpg  \n",
      "  inflating: datasetCorregido/train/yes/anonymized_775321.jpg  \n",
      "  inflating: datasetCorregido/train/yes/anonymized_240009.jpg  \n",
      "  inflating: datasetCorregido/train/yes/anonymized_478360.jpg  \n",
      "  inflating: datasetCorregido/train/yes/anonymized_1874224.jpg  \n",
      "  inflating: datasetCorregido/train/yes/anonymized_1088049.jpg  \n",
      "  inflating: datasetCorregido/train/yes/anonymized_233685.jpg  \n",
      "  inflating: datasetCorregido/train/yes/anonymized_447608.jpg  \n",
      "  inflating: datasetCorregido/train/yes/anonymized_246635.jpg  \n",
      "  inflating: datasetCorregido/train/yes/anonymized_1250949.jpg  \n",
      "  inflating: datasetCorregido/train/yes/anonymized_856798.jpg  \n",
      "  inflating: datasetCorregido/train/yes/anonymized_1421030.jpg  \n",
      "  inflating: datasetCorregido/train/yes/anonymized_235522.jpg  \n",
      "  inflating: datasetCorregido/train/yes/anonymized_548752.jpg  \n",
      "  inflating: datasetCorregido/train/yes/anonymized_440131.jpg  \n",
      "  inflating: datasetCorregido/train/yes/anonymized_176416.jpg  \n",
      "  inflating: datasetCorregido/train/yes/anonymized_630547.jpg  \n",
      "  inflating: datasetCorregido/train/yes/anonymized_1894122.jpg  \n",
      "  inflating: datasetCorregido/train/yes/anonymized_740271.jpg  \n",
      "  inflating: datasetCorregido/train/yes/anonymized_589059.jpg  \n",
      "  inflating: datasetCorregido/train/yes/anonymized_1334802.jpg  \n",
      "  inflating: datasetCorregido/train/yes/anonymized_460220.jpg  \n",
      "  inflating: datasetCorregido/train/yes/anonymized_324959.jpg  \n",
      "  inflating: datasetCorregido/train/yes/anonymized_235425.jpg  \n",
      "  inflating: datasetCorregido/train/yes/anonymized_644315.jpg  \n",
      "  inflating: datasetCorregido/train/yes/anonymized_368817.jpg  \n",
      "  inflating: datasetCorregido/train/yes/anonymized_481351.jpg  \n",
      "  inflating: datasetCorregido/train/yes/anonymized_449352.jpg  \n",
      "  inflating: datasetCorregido/train/yes/anonymized_543039.jpg  \n",
      "  inflating: datasetCorregido/train/yes/anonymized_372702.jpg  \n",
      "  inflating: datasetCorregido/train/yes/anonymized_1190250.jpg  \n",
      "  inflating: datasetCorregido/train/yes/anonymized_523032.jpg  \n",
      "  inflating: datasetCorregido/train/yes/anonymized_1420035.jpg  \n",
      "  inflating: datasetCorregido/train/yes/anonymized_465231.jpg  \n",
      "  inflating: datasetCorregido/train/yes/anonymized_343129.jpg  \n",
      "  inflating: datasetCorregido/train/yes/anonymized_1873208.jpg  \n",
      "  inflating: datasetCorregido/train/yes/anonymized_402708.jpg  \n",
      "  inflating: datasetCorregido/train/yes/anonymized_601558.jpg  \n",
      "  inflating: datasetCorregido/train/yes/anonymized_584699.jpg  \n",
      "  inflating: datasetCorregido/train/yes/anonymized_339642.jpg  \n",
      "  inflating: datasetCorregido/train/yes/anonymized_1412870.jpg  \n",
      "  inflating: datasetCorregido/train/yes/anonymized_208318.jpg  \n",
      "  inflating: datasetCorregido/train/yes/anonymized_580908.jpg  \n",
      "  inflating: datasetCorregido/train/yes/anonymized_1247356.jpg  \n",
      "  inflating: datasetCorregido/train/yes/anonymized_254548.jpg  \n",
      "  inflating: datasetCorregido/train/yes/anonymized_1889535.jpg  \n",
      "  inflating: datasetCorregido/train/yes/anonymized_1211065.jpg  \n",
      "  inflating: datasetCorregido/train/yes/anonymized_247726.jpg  \n",
      "  inflating: datasetCorregido/train/yes/anonymized_240646.jpg  \n",
      "  inflating: datasetCorregido/train/yes/anonymized_413403.jpg  \n",
      "  inflating: datasetCorregido/train/yes/anonymized_1372785.jpg  \n",
      "  inflating: datasetCorregido/train/yes/anonymized_305488.jpg  \n",
      "  inflating: datasetCorregido/train/yes/anonymized_857122.jpg  \n",
      "  inflating: datasetCorregido/train/yes/anonymized_500388.jpg  \n",
      "  inflating: datasetCorregido/train/yes/anonymized_573702.jpg  \n",
      "  inflating: datasetCorregido/train/yes/anonymized_804785.jpg  \n",
      "  inflating: datasetCorregido/train/yes/anonymized_612278.jpg  \n",
      "  inflating: datasetCorregido/train/yes/anonymized_499830.jpg  \n",
      "  inflating: datasetCorregido/train/yes/anonymized_669074.jpg  \n",
      "  inflating: datasetCorregido/train/yes/anonymized_347689.jpg  \n",
      "  inflating: datasetCorregido/train/yes/anonymized_44828.jpg  \n",
      "  inflating: datasetCorregido/train/yes/anonymized_782889.jpg  \n",
      "  inflating: datasetCorregido/train/yes/anonymized_329067.jpg  \n",
      "  inflating: datasetCorregido/train/yes/anonymized_550980.jpg  \n",
      "  inflating: datasetCorregido/train/yes/anonymized_351937.jpg  \n",
      "  inflating: datasetCorregido/train/yes/anonymized_1189138.jpg  \n",
      "  inflating: datasetCorregido/train/yes/anonymized_727230.jpg  \n",
      "  inflating: datasetCorregido/train/yes/anonymized_662051.jpg  \n",
      "  inflating: datasetCorregido/train/yes/anonymized_576719.jpg  \n",
      "  inflating: datasetCorregido/train/yes/anonymized_804614.jpg  \n",
      "  inflating: datasetCorregido/train/yes/anonymized_988705.jpg  \n",
      "  inflating: datasetCorregido/train/yes/anonymized_760585.jpg  \n",
      "  inflating: datasetCorregido/train/yes/anonymized_661914.jpg  \n",
      "  inflating: datasetCorregido/train/yes/anonymized_478840.jpg  \n",
      "  inflating: datasetCorregido/train/yes/anonymized_232153.jpg  \n",
      "  inflating: datasetCorregido/train/yes/anonymized_688631.jpg  \n",
      "  inflating: datasetCorregido/train/yes/anonymized_781978.jpg  \n",
      "  inflating: datasetCorregido/train/yes/anonymized_1187936.jpg  \n",
      "  inflating: datasetCorregido/train/yes/anonymized_522034.jpg  \n",
      "  inflating: datasetCorregido/train/yes/anonymized_594060.jpg  \n",
      "  inflating: datasetCorregido/train/yes/anonymized_539257.jpg  \n",
      "  inflating: datasetCorregido/train/yes/anonymized_28752.jpg  \n",
      "  inflating: datasetCorregido/train/yes/anonymized_481832.jpg  \n",
      "  inflating: datasetCorregido/train/yes/anonymized_445860.jpg  \n",
      "  inflating: datasetCorregido/train/yes/anonymized_479535.jpg  \n",
      "  inflating: datasetCorregido/train/yes/anonymized_553519.jpg  \n",
      "  inflating: datasetCorregido/train/yes/anonymized_1381285.jpg  \n",
      "  inflating: datasetCorregido/train/yes/anonymized_985497.jpg  \n",
      "  inflating: datasetCorregido/train/yes/anonymized_1879762.jpg  \n",
      "  inflating: datasetCorregido/train/yes/anonymized_684245.jpg  \n",
      "  inflating: datasetCorregido/train/yes/anonymized_413028.jpg  \n",
      "  inflating: datasetCorregido/train/yes/anonymized_1342455.jpg  \n",
      "  inflating: datasetCorregido/train/yes/anonymized_549774.jpg  \n",
      "  inflating: datasetCorregido/train/yes/anonymized_348696.jpg  \n",
      "  inflating: datasetCorregido/train/yes/anonymized_275642.jpg  \n",
      "  inflating: datasetCorregido/train/yes/anonymized_405519.jpg  \n",
      "  inflating: datasetCorregido/train/yes/anonymized_250178.jpg  \n",
      "  inflating: datasetCorregido/train/yes/anonymized_351642.jpg  \n",
      "  inflating: datasetCorregido/train/yes/anonymized_530878.jpg  \n",
      "  inflating: datasetCorregido/train/yes/anonymized_902309.jpg  \n",
      "  inflating: datasetCorregido/train/yes/anonymized_872303.jpg  \n",
      "  inflating: datasetCorregido/train/yes/anonymized_1103332.jpg  \n",
      "  inflating: datasetCorregido/train/yes/anonymized_726149.jpg  \n",
      "  inflating: datasetCorregido/train/yes/anonymized_1102351.jpg  \n",
      "  inflating: datasetCorregido/train/yes/anonymized_419938.jpg  \n",
      "  inflating: datasetCorregido/train/yes/anonymized_1421498.jpg  \n",
      "  inflating: datasetCorregido/train/yes/anonymized_886890.jpg  \n",
      "  inflating: datasetCorregido/train/yes/anonymized_462669.jpg  \n",
      "  inflating: datasetCorregido/train/yes/anonymized_1605614.jpg  \n",
      "  inflating: datasetCorregido/train/yes/anonymized_72513.jpg  \n",
      "  inflating: datasetCorregido/train/yes/anonymized_539279.jpg  \n",
      "  inflating: datasetCorregido/train/yes/anonymized_1417685.jpg  \n",
      "  inflating: datasetCorregido/train/yes/anonymized_544189.jpg  \n",
      "  inflating: datasetCorregido/train/yes/anonymized_755035.jpg  \n",
      "  inflating: datasetCorregido/train/yes/anonymized_331926.jpg  \n",
      "  inflating: datasetCorregido/train/yes/anonymized_338673.jpg  \n",
      "  inflating: datasetCorregido/train/yes/anonymized_1219466.jpg  \n",
      "  inflating: datasetCorregido/train/yes/anonymized_784855.jpg  \n",
      "  inflating: datasetCorregido/train/yes/anonymized_472944.jpg  \n",
      "  inflating: datasetCorregido/train/yes/anonymized_839170.jpg  \n",
      "  inflating: datasetCorregido/train/yes/anonymized_597980.jpg  \n",
      "  inflating: datasetCorregido/train/yes/anonymized_887511.jpg  \n",
      "  inflating: datasetCorregido/train/yes/anonymized_874663.jpg  \n",
      "  inflating: datasetCorregido/train/yes/anonymized_1099509.jpg  \n",
      "  inflating: datasetCorregido/train/yes/anonymized_778410.jpg  \n",
      "  inflating: datasetCorregido/train/yes/anonymized_271458.jpg  \n",
      "  inflating: datasetCorregido/train/yes/anonymized_606996.jpg  \n",
      "  inflating: datasetCorregido/train/yes/anonymized_311323.jpg  \n",
      "  inflating: datasetCorregido/train/yes/anonymized_595964.jpg  \n",
      "  inflating: datasetCorregido/train/yes/anonymized_641946.jpg  \n",
      "  inflating: datasetCorregido/train/yes/anonymized_1328106.jpg  \n",
      "  inflating: datasetCorregido/train/yes/anonymized_329829.jpg  \n",
      "  inflating: datasetCorregido/train/yes/anonymized_393246.jpg  \n",
      "  inflating: datasetCorregido/train/yes/anonymized_371205.jpg  \n",
      "  inflating: datasetCorregido/train/yes/anonymized_661685.jpg  \n",
      "  inflating: datasetCorregido/train/yes/anonymized_807421.jpg  \n",
      "  inflating: datasetCorregido/train/yes/anonymized_260691.jpg  \n",
      "  inflating: datasetCorregido/train/yes/anonymized_1261777.jpg  \n",
      "  inflating: datasetCorregido/train/yes/anonymized_198022.jpg  \n",
      "  inflating: datasetCorregido/train/yes/anonymized_615745.jpg  \n",
      "  inflating: datasetCorregido/train/yes/anonymized_1424847.jpg  \n",
      "  inflating: datasetCorregido/train/yes/anonymized_472031.jpg  \n",
      "  inflating: datasetCorregido/train/yes/anonymized_875602.jpg  \n",
      "  inflating: datasetCorregido/train/yes/anonymized_275467.jpg  \n",
      "  inflating: datasetCorregido/train/yes/anonymized_1364894.jpg  \n",
      "  inflating: datasetCorregido/train/yes/anonymized_632825.jpg  \n",
      "  inflating: datasetCorregido/train/yes/anonymized_1506851.jpg  \n",
      "  inflating: datasetCorregido/train/yes/anonymized_448684.jpg  \n",
      "  inflating: datasetCorregido/train/yes/anonymized_208374.jpg  \n",
      "  inflating: datasetCorregido/train/yes/anonymized_1893772.jpg  \n",
      "  inflating: datasetCorregido/train/yes/anonymized_897913.jpg  \n",
      "  inflating: datasetCorregido/train/yes/anonymized_319779.jpg  \n",
      "  inflating: datasetCorregido/train/yes/anonymized_451235.jpg  \n",
      "  inflating: datasetCorregido/train/yes/anonymized_556356.jpg  \n",
      "  inflating: datasetCorregido/train/yes/anonymized_370374.jpg  \n",
      "  inflating: datasetCorregido/train/yes/anonymized_653628.jpg  \n",
      "  inflating: datasetCorregido/train/yes/anonymized_134574.jpg  \n",
      "  inflating: datasetCorregido/train/yes/anonymized_234656.jpg  \n",
      "  inflating: datasetCorregido/train/yes/anonymized_130974.jpg  \n",
      "  inflating: datasetCorregido/train/yes/anonymized_770288.jpg  \n",
      "  inflating: datasetCorregido/train/yes/anonymized_998165.jpg  \n",
      "  inflating: datasetCorregido/train/yes/anonymized_606152.jpg  \n",
      "  inflating: datasetCorregido/train/yes/anonymized_543040.jpg  \n",
      "  inflating: datasetCorregido/train/yes/anonymized_911915.jpg  \n",
      "  inflating: datasetCorregido/train/yes/anonymized_222934.jpg  \n",
      "  inflating: datasetCorregido/train/yes/anonymized_1370472.jpg  \n",
      "  inflating: datasetCorregido/train/yes/anonymized_473163.jpg  \n",
      "  inflating: datasetCorregido/train/yes/anonymized_778875.jpg  \n",
      "  inflating: datasetCorregido/train/yes/anonymized_1335012.jpg  \n",
      "  inflating: datasetCorregido/train/yes/anonymized_905008.jpg  \n",
      "  inflating: datasetCorregido/train/yes/anonymized_1391859.jpg  \n",
      "  inflating: datasetCorregido/train/yes/anonymized_1372786.jpg  \n",
      "  inflating: datasetCorregido/train/yes/anonymized_531440.jpg  \n",
      "  inflating: datasetCorregido/train/yes/anonymized_347233.jpg  \n",
      "  inflating: datasetCorregido/train/yes/anonymized_1241994.jpg  \n",
      "  inflating: datasetCorregido/train/yes/anonymized_213069.jpg  \n",
      "  inflating: datasetCorregido/train/yes/anonymized_473154.jpg  \n",
      "  inflating: datasetCorregido/train/yes/anonymized_324722.jpg  \n",
      "  inflating: datasetCorregido/train/yes/anonymized_1002730.jpg  \n",
      "  inflating: datasetCorregido/train/yes/anonymized_346777.jpg  \n",
      "  inflating: datasetCorregido/train/yes/anonymized_658780.jpg  \n",
      "  inflating: datasetCorregido/train/yes/anonymized_821607.jpg  \n",
      "  inflating: datasetCorregido/train/yes/anonymized_33039.jpg  \n",
      "  inflating: datasetCorregido/train/yes/anonymized_802141.jpg  \n",
      "  inflating: datasetCorregido/train/yes/anonymized_933670.jpg  \n",
      "  inflating: datasetCorregido/train/yes/anonymized_297646.jpg  \n",
      "  inflating: datasetCorregido/train/yes/anonymized_388665.jpg  \n",
      "  inflating: datasetCorregido/train/yes/anonymized_1754146.jpg  \n",
      "  inflating: datasetCorregido/train/yes/anonymized_272034.jpg  \n",
      "  inflating: datasetCorregido/train/yes/anonymized_629013.jpg  \n",
      "  inflating: datasetCorregido/train/yes/anonymized_315191.jpg  \n",
      "  inflating: datasetCorregido/train/yes/anonymized_579789.jpg  \n",
      "  inflating: datasetCorregido/train/yes/anonymized_685952.jpg  \n",
      "  inflating: datasetCorregido/train/yes/anonymized_869337.jpg  \n",
      "  inflating: datasetCorregido/train/yes/anonymized_140735.jpg  \n",
      "  inflating: datasetCorregido/train/yes/anonymized_1376209.jpg  \n",
      "  inflating: datasetCorregido/train/yes/anonymized_698305.jpg  \n",
      "  inflating: datasetCorregido/train/yes/anonymized_240185.jpg  \n",
      "  inflating: datasetCorregido/train/yes/anonymized_292445.jpg  \n",
      "  inflating: datasetCorregido/train/yes/anonymized_609761.jpg  \n",
      "  inflating: datasetCorregido/train/yes/anonymized_758897.jpg  \n",
      "  inflating: datasetCorregido/train/yes/anonymized_581622.jpg  \n",
      "  inflating: datasetCorregido/train/yes/anonymized_705468.jpg  \n",
      "  inflating: datasetCorregido/train/yes/anonymized_1282017.jpg  \n",
      "  inflating: datasetCorregido/train/yes/anonymized_218472.jpg  \n",
      "  inflating: datasetCorregido/train/yes/anonymized_1099051.jpg  \n",
      "  inflating: datasetCorregido/train/yes/anonymized_463770.jpg  \n",
      "  inflating: datasetCorregido/train/yes/anonymized_1484550.jpg  \n",
      "  inflating: datasetCorregido/train/yes/anonymized_1426026.jpg  \n",
      "  inflating: datasetCorregido/train/yes/anonymized_638720.jpg  \n",
      "  inflating: datasetCorregido/train/yes/anonymized_192850.jpg  \n",
      "  inflating: datasetCorregido/train/yes/anonymized_845034.jpg  \n",
      "  inflating: datasetCorregido/train/yes/anonymized_837412.jpg  \n",
      "  inflating: datasetCorregido/train/yes/anonymized_1402785.jpg  \n",
      "  inflating: datasetCorregido/train/yes/anonymized_832500.jpg  \n",
      "  inflating: datasetCorregido/train/yes/anonymized_1278980.jpg  \n",
      "  inflating: datasetCorregido/train/yes/anonymized_1138806.jpg  \n",
      "  inflating: datasetCorregido/train/yes/anonymized_479529.jpg  \n",
      "  inflating: datasetCorregido/train/yes/anonymized_347270.jpg  \n",
      "  inflating: datasetCorregido/train/yes/anonymized_410285.jpg  \n",
      "  inflating: datasetCorregido/train/yes/anonymized_816193.jpg  \n",
      "  inflating: datasetCorregido/train/yes/anonymized_1106477.jpg  \n",
      "  inflating: datasetCorregido/train/yes/anonymized_913400.jpg  \n",
      "  inflating: datasetCorregido/train/yes/anonymized_1886704.jpg  \n",
      "  inflating: datasetCorregido/train/yes/anonymized_329269.jpg  \n",
      "  inflating: datasetCorregido/train/yes/anonymized_241973.jpg  \n",
      "  inflating: datasetCorregido/train/yes/anonymized_187921.jpg  \n",
      "  inflating: datasetCorregido/train/yes/anonymized_640199.jpg  \n",
      "  inflating: datasetCorregido/train/yes/anonymized_567319.jpg  \n",
      "  inflating: datasetCorregido/train/yes/anonymized_533389.jpg  \n",
      "  inflating: datasetCorregido/train/yes/anonymized_311248.jpg  \n",
      "  inflating: datasetCorregido/train/yes/anonymized_1379428.jpg  \n",
      "  inflating: datasetCorregido/train/yes/anonymized_1401084.jpg  \n",
      "  inflating: datasetCorregido/train/yes/anonymized_568499.jpg  \n",
      "  inflating: datasetCorregido/train/yes/anonymized_723879.jpg  \n",
      "  inflating: datasetCorregido/train/yes/anonymized_990120.jpg  \n",
      "  inflating: datasetCorregido/train/yes/anonymized_716943.jpg  \n",
      "  inflating: datasetCorregido/train/yes/anonymized_1605978.jpg  \n",
      "  inflating: datasetCorregido/train/yes/anonymized_811019.jpg  \n",
      "  inflating: datasetCorregido/train/yes/anonymized_29008.jpg  \n",
      "  inflating: datasetCorregido/train/yes/anonymized_688223.jpg  \n",
      "  inflating: datasetCorregido/train/yes/anonymized_860317.jpg  \n",
      "  inflating: datasetCorregido/train/yes/anonymized_1209002.jpg  \n",
      "  inflating: datasetCorregido/train/yes/anonymized_250627.jpg  \n",
      "  inflating: datasetCorregido/train/yes/anonymized_448683.jpg  \n",
      "  inflating: datasetCorregido/train/yes/anonymized_608498.jpg  \n",
      "  inflating: datasetCorregido/train/yes/anonymized_776936.jpg  \n",
      "  inflating: datasetCorregido/train/yes/anonymized_587934.jpg  \n",
      "  inflating: datasetCorregido/train/yes/anonymized_239986.jpg  \n",
      "  inflating: datasetCorregido/train/yes/anonymized_278714.jpg  \n",
      "  inflating: datasetCorregido/train/yes/anonymized_318388.jpg  \n",
      "  inflating: datasetCorregido/train/yes/anonymized_714696.jpg  \n",
      "  inflating: datasetCorregido/train/yes/anonymized_846725.jpg  \n",
      "  inflating: datasetCorregido/train/yes/anonymized_527427.jpg  \n",
      "  inflating: datasetCorregido/train/yes/anonymized_126672.jpg  \n",
      "  inflating: datasetCorregido/train/yes/anonymized_159682.jpg  \n",
      "  inflating: datasetCorregido/train/yes/anonymized_1187099.jpg  \n",
      "  inflating: datasetCorregido/train/yes/anonymized_322144.jpg  \n",
      "  inflating: datasetCorregido/train/yes/anonymized_140947.jpg  \n",
      "  inflating: datasetCorregido/train/yes/anonymized_746444.jpg  \n",
      "  inflating: datasetCorregido/train/yes/anonymized_766496.jpg  \n",
      "  inflating: datasetCorregido/train/yes/anonymized_330899.jpg  \n",
      "  inflating: datasetCorregido/train/yes/anonymized_246818.jpg  \n",
      "  inflating: datasetCorregido/train/yes/anonymized_389229.jpg  \n",
      "  inflating: datasetCorregido/train/yes/anonymized_202393.jpg  \n",
      "  inflating: datasetCorregido/train/yes/anonymized_147543.jpg  \n",
      "  inflating: datasetCorregido/train/yes/anonymized_1103794.jpg  \n",
      "  inflating: datasetCorregido/train/yes/anonymized_1248061.jpg  \n",
      "  inflating: datasetCorregido/train/yes/anonymized_242160.jpg  \n",
      "  inflating: datasetCorregido/train/yes/anonymized_938161.jpg  \n",
      "  inflating: datasetCorregido/train/yes/anonymized_200222.jpg  \n",
      "  inflating: datasetCorregido/train/yes/anonymized_696471.jpg  \n",
      "  inflating: datasetCorregido/train/yes/anonymized_565730.jpg  \n",
      "  inflating: datasetCorregido/train/yes/anonymized_223844.jpg  \n",
      "  inflating: datasetCorregido/train/yes/anonymized_874806.jpg  \n",
      "  inflating: datasetCorregido/train/yes/anonymized_400754.jpg  \n",
      "  inflating: datasetCorregido/train/yes/anonymized_263513.jpg  \n",
      "  inflating: datasetCorregido/train/yes/anonymized_209610.jpg  \n",
      "  inflating: datasetCorregido/train/yes/anonymized_407235.jpg  \n",
      "  inflating: datasetCorregido/train/yes/anonymized_126076.jpg  \n",
      "  inflating: datasetCorregido/train/yes/anonymized_539896.jpg  \n",
      "  inflating: datasetCorregido/train/yes/anonymized_200224.jpg  \n",
      "  inflating: datasetCorregido/train/yes/anonymized_444896.jpg  \n",
      "  inflating: datasetCorregido/train/yes/anonymized_1008556.jpg  \n",
      "  inflating: datasetCorregido/train/yes/anonymized_328793.jpg  \n",
      "  inflating: datasetCorregido/train/yes/anonymized_393888.jpg  \n",
      "  inflating: datasetCorregido/train/yes/anonymized_499828.jpg  \n",
      "  inflating: datasetCorregido/train/yes/anonymized_1342453.jpg  \n",
      "  inflating: datasetCorregido/train/yes/anonymized_450435.jpg  \n",
      "  inflating: datasetCorregido/train/yes/anonymized_1363367.jpg  \n",
      "  inflating: datasetCorregido/train/yes/anonymized_44259.jpg  \n",
      "  inflating: datasetCorregido/train/yes/anonymized_245569.jpg  \n",
      "  inflating: datasetCorregido/train/yes/anonymized_566059.jpg  \n",
      "  inflating: datasetCorregido/train/yes/anonymized_924426.jpg  \n",
      "  inflating: datasetCorregido/train/yes/anonymized_838366.jpg  \n",
      "  inflating: datasetCorregido/train/yes/anonymized_175722.jpg  \n",
      "  inflating: datasetCorregido/train/yes/anonymized_770492.jpg  \n",
      "  inflating: datasetCorregido/train/yes/anonymized_651089.jpg  \n",
      "  inflating: datasetCorregido/train/yes/anonymized_362879.jpg  \n",
      "  inflating: datasetCorregido/train/yes/anonymized_701831.jpg  \n",
      "  inflating: datasetCorregido/train/yes/anonymized_888544.jpg  \n",
      "  inflating: datasetCorregido/train/yes/anonymized_936654.jpg  \n",
      "  inflating: datasetCorregido/train/yes/anonymized_346358.jpg  \n",
      "  inflating: datasetCorregido/train/yes/anonymized_693913.jpg  \n",
      "  inflating: datasetCorregido/train/yes/anonymized_416847.jpg  \n",
      "  inflating: datasetCorregido/train/yes/anonymized_421658.jpg  \n",
      "  inflating: datasetCorregido/train/yes/anonymized_242295.jpg  \n",
      "  inflating: datasetCorregido/train/yes/anonymized_1285229.jpg  \n",
      "  inflating: datasetCorregido/train/yes/anonymized_702118.jpg  \n",
      "  inflating: datasetCorregido/train/yes/anonymized_580982.jpg  \n",
      "  inflating: datasetCorregido/train/yes/anonymized_415257.jpg  \n",
      "  inflating: datasetCorregido/train/yes/anonymized_772881.jpg  \n",
      "  inflating: datasetCorregido/train/yes/anonymized_665179.jpg  \n",
      "  inflating: datasetCorregido/train/yes/anonymized_777099.jpg  \n",
      "  inflating: datasetCorregido/train/yes/anonymized_274500.jpg  \n",
      "  inflating: datasetCorregido/train/yes/anonymized_150682.jpg  \n",
      "  inflating: datasetCorregido/train/yes/anonymized_429601.jpg  \n",
      "  inflating: datasetCorregido/train/yes/anonymized_760304.jpg  \n",
      "  inflating: datasetCorregido/train/yes/anonymized_341043.jpg  \n",
      "  inflating: datasetCorregido/train/yes/anonymized_399601.jpg  \n",
      "  inflating: datasetCorregido/train/yes/anonymized_1529217.jpg  \n",
      "  inflating: datasetCorregido/train/yes/anonymized_796588.jpg  \n",
      "  inflating: datasetCorregido/train/yes/anonymized_940602.jpg  \n",
      "  inflating: datasetCorregido/train/yes/anonymized_176168.jpg  \n",
      "  inflating: datasetCorregido/train/yes/anonymized_1676205.jpg  \n",
      "  inflating: datasetCorregido/train/yes/anonymized_742737.jpg  \n",
      "  inflating: datasetCorregido/train/yes/anonymized_782292.jpg  \n",
      "  inflating: datasetCorregido/train/yes/anonymized_243250.jpg  \n",
      "  inflating: datasetCorregido/train/yes/anonymized_453724.jpg  \n",
      "  inflating: datasetCorregido/train/yes/anonymized_737667.jpg  \n",
      "  inflating: datasetCorregido/train/yes/anonymized_594494.jpg  \n",
      "  inflating: datasetCorregido/train/yes/anonymized_1055727.jpg  \n",
      "  inflating: datasetCorregido/train/yes/anonymized_1394947.jpg  \n",
      "  inflating: datasetCorregido/train/yes/anonymized_1403246.jpg  \n",
      "  inflating: datasetCorregido/train/yes/anonymized_1891154.jpg  \n",
      "  inflating: datasetCorregido/train/yes/anonymized_1356539.jpg  \n",
      "  inflating: datasetCorregido/train/yes/anonymized_217189.jpg  \n",
      "  inflating: datasetCorregido/train/yes/anonymized_1105665.jpg  \n",
      "  inflating: datasetCorregido/train/yes/anonymized_1024132.jpg  \n",
      "  inflating: datasetCorregido/train/yes/anonymized_324362.jpg  \n",
      "  inflating: datasetCorregido/train/yes/anonymized_1209700.jpg  \n",
      "  inflating: datasetCorregido/train/yes/anonymized_878152.jpg  \n",
      "  inflating: datasetCorregido/train/yes/anonymized_690706.jpg  \n",
      "  inflating: datasetCorregido/train/yes/anonymized_996565.jpg  \n",
      "  inflating: datasetCorregido/train/yes/anonymized_1381617.jpg  \n",
      "  inflating: datasetCorregido/train/yes/anonymized_525591.jpg  \n",
      "  inflating: datasetCorregido/train/yes/anonymized_776531.jpg  \n",
      "  inflating: datasetCorregido/train/yes/anonymized_713521.jpg  \n",
      "  inflating: datasetCorregido/train/yes/anonymized_1873542.jpg  \n",
      "  inflating: datasetCorregido/train/yes/anonymized_1010116.jpg  \n",
      "  inflating: datasetCorregido/train/yes/anonymized_345397.jpg  \n",
      "  inflating: datasetCorregido/train/yes/anonymized_742062.jpg  \n",
      "  inflating: datasetCorregido/train/yes/anonymized_1096955.jpg  \n",
      "  inflating: datasetCorregido/train/yes/anonymized_782469.jpg  \n",
      "  inflating: datasetCorregido/train/yes/anonymized_356500.jpg  \n",
      "  inflating: datasetCorregido/train/yes/anonymized_1465269.jpg  \n",
      "  inflating: datasetCorregido/train/yes/anonymized_1263835.jpg  \n",
      "  inflating: datasetCorregido/train/yes/anonymized_1178131.jpg  \n",
      "  inflating: datasetCorregido/train/yes/anonymized_275607.jpg  \n",
      "  inflating: datasetCorregido/train/yes/anonymized_803649.jpg  \n",
      "  inflating: datasetCorregido/train/yes/anonymized_420341.jpg  \n",
      "  inflating: datasetCorregido/train/yes/anonymized_813586.jpg  \n",
      "  inflating: datasetCorregido/train/yes/anonymized_471482.jpg  \n",
      "  inflating: datasetCorregido/train/yes/anonymized_622030.jpg  \n",
      "  inflating: datasetCorregido/train/yes/anonymized_1426024.jpg  \n",
      "  inflating: datasetCorregido/train/yes/anonymized_720743.jpg  \n",
      "  inflating: datasetCorregido/train/yes/anonymized_838468.jpg  \n",
      "  inflating: datasetCorregido/train/yes/anonymized_911798.jpg  \n",
      "  inflating: datasetCorregido/train/yes/anonymized_423601.jpg  \n",
      "  inflating: datasetCorregido/train/yes/anonymized_1282054.jpg  \n",
      "  inflating: datasetCorregido/train/yes/anonymized_238972.jpg  \n",
      "  inflating: datasetCorregido/train/yes/anonymized_557911.jpg  \n",
      "  inflating: datasetCorregido/train/yes/anonymized_1605612.jpg  \n",
      "  inflating: datasetCorregido/train/yes/anonymized_615379.jpg  \n",
      "  inflating: datasetCorregido/train/yes/anonymized_931536.jpg  \n",
      "  inflating: datasetCorregido/train/yes/anonymized_28100.jpg  \n",
      "  inflating: datasetCorregido/train/yes/anonymized_478305.jpg  \n",
      "  inflating: datasetCorregido/train/yes/anonymized_498840.jpg  \n",
      "  inflating: datasetCorregido/train/yes/anonymized_998361.jpg  \n",
      "  inflating: datasetCorregido/train/yes/anonymized_804199.jpg  \n",
      "  inflating: datasetCorregido/train/yes/anonymized_335185.jpg  \n",
      "  inflating: datasetCorregido/train/yes/anonymized_552736.jpg  \n",
      "  inflating: datasetCorregido/train/yes/anonymized_872562.jpg  \n",
      "  inflating: datasetCorregido/train/yes/anonymized_862035.jpg  \n",
      "  inflating: datasetCorregido/train/yes/anonymized_525589.jpg  \n",
      "  inflating: datasetCorregido/train/yes/anonymized_1315592.jpg  \n",
      "  inflating: datasetCorregido/train/yes/anonymized_284652.jpg  \n",
      "  inflating: datasetCorregido/train/yes/anonymized_899219.jpg  \n",
      "  inflating: datasetCorregido/train/yes/anonymized_1465270.jpg  \n",
      "  inflating: datasetCorregido/train/yes/anonymized_301935.jpg  \n",
      "  inflating: datasetCorregido/train/yes/anonymized_912111.jpg  \n",
      "  inflating: datasetCorregido/train/yes/anonymized_1097895.jpg  \n",
      "  inflating: datasetCorregido/train/yes/anonymized_311650.jpg  \n",
      "  inflating: datasetCorregido/train/yes/anonymized_527353.jpg  \n",
      "  inflating: datasetCorregido/train/yes/anonymized_646431.jpg  \n",
      "  inflating: datasetCorregido/train/yes/anonymized_1403454.jpg  \n",
      "  inflating: datasetCorregido/train/yes/anonymized_662052.jpg  \n",
      "  inflating: datasetCorregido/train/yes/anonymized_371383.jpg  \n",
      "  inflating: datasetCorregido/train/yes/anonymized_1872403.jpg  \n",
      "  inflating: datasetCorregido/train/yes/anonymized_175349.jpg  \n",
      "  inflating: datasetCorregido/train/yes/anonymized_576978.jpg  \n",
      "  inflating: datasetCorregido/train/yes/anonymized_815034.jpg  \n",
      "  inflating: datasetCorregido/train/yes/anonymized_1111411.jpg  \n",
      "  inflating: datasetCorregido/train/yes/anonymized_866784.jpg  \n",
      "  inflating: datasetCorregido/train/yes/anonymized_166569.jpg  \n",
      "  inflating: datasetCorregido/train/yes/anonymized_370247.jpg  \n",
      "  inflating: datasetCorregido/train/yes/anonymized_1366820.jpg  \n",
      "  inflating: datasetCorregido/train/yes/anonymized_144231.jpg  \n",
      "  inflating: datasetCorregido/train/yes/anonymized_516553.jpg  \n",
      "  inflating: datasetCorregido/train/yes/anonymized_662041.jpg  \n",
      "  inflating: datasetCorregido/train/yes/anonymized_404706.jpg  \n",
      "  inflating: datasetCorregido/train/yes/anonymized_1288289.jpg  \n",
      "  inflating: datasetCorregido/train/yes/anonymized_369202.jpg  \n",
      "  inflating: datasetCorregido/train/yes/anonymized_869276.jpg  \n",
      "  inflating: datasetCorregido/train/yes/anonymized_629688.jpg  \n",
      "  inflating: datasetCorregido/train/yes/anonymized_186963.jpg  \n",
      "  inflating: datasetCorregido/train/yes/anonymized_1874673.jpg  \n",
      "  inflating: datasetCorregido/train/yes/anonymized_351936.jpg  \n",
      "  inflating: datasetCorregido/train/yes/anonymized_238973.jpg  \n",
      "  inflating: datasetCorregido/train/yes/anonymized_359235.jpg  \n",
      "  inflating: datasetCorregido/train/yes/anonymized_390233.jpg  \n",
      "  inflating: datasetCorregido/train/yes/anonymized_237593.jpg  \n",
      "  inflating: datasetCorregido/train/yes/anonymized_1198951.jpg  \n",
      "  inflating: datasetCorregido/train/yes/anonymized_918488.jpg  \n",
      "  inflating: datasetCorregido/train/yes/anonymized_593874.jpg  \n",
      "  inflating: datasetCorregido/train/yes/anonymized_326486.jpg  \n",
      "  inflating: datasetCorregido/train/yes/anonymized_470635.jpg  \n",
      "  inflating: datasetCorregido/train/yes/anonymized_630949.jpg  \n",
      "  inflating: datasetCorregido/train/yes/anonymized_328826.jpg  \n",
      "  inflating: datasetCorregido/train/yes/anonymized_409437.jpg  \n",
      "  inflating: datasetCorregido/train/yes/anonymized_1348817.jpg  \n",
      "  inflating: datasetCorregido/train/yes/anonymized_996568.jpg  \n",
      "  inflating: datasetCorregido/train/yes/anonymized_690874.jpg  \n",
      "  inflating: datasetCorregido/train/yes/anonymized_650240.jpg  \n",
      "  inflating: datasetCorregido/train/yes/anonymized_320112.jpg  \n",
      "  inflating: datasetCorregido/train/yes/anonymized_548356.jpg  \n",
      "  inflating: datasetCorregido/train/yes/anonymized_807255.jpg  \n",
      "  inflating: datasetCorregido/train/yes/anonymized_993120.jpg  \n",
      "  inflating: datasetCorregido/train/yes/anonymized_589247.jpg  \n",
      "  inflating: datasetCorregido/train/yes/anonymized_1212867.jpg  \n",
      "  inflating: datasetCorregido/train/yes/anonymized_1351409.jpg  \n",
      "  inflating: datasetCorregido/train/yes/anonymized_503586.jpg  \n",
      "  inflating: datasetCorregido/train/yes/anonymized_652736.jpg  \n",
      "  inflating: datasetCorregido/train/yes/anonymized_352393.jpg  \n",
      "  inflating: datasetCorregido/train/yes/anonymized_353054.jpg  \n",
      "  inflating: datasetCorregido/train/yes/anonymized_782298.jpg  \n",
      "  inflating: datasetCorregido/train/yes/anonymized_390638.jpg  \n",
      "  inflating: datasetCorregido/train/yes/anonymized_1239317.jpg  \n",
      "  inflating: datasetCorregido/train/yes/anonymized_593910.jpg  \n",
      "  inflating: datasetCorregido/train/yes/anonymized_782392.jpg  \n",
      "  inflating: datasetCorregido/train/yes/anonymized_480215.jpg  \n",
      "  inflating: datasetCorregido/train/yes/anonymized_1902087.jpg  \n",
      "  inflating: datasetCorregido/train/yes/anonymized_555878.jpg  \n",
      "  inflating: datasetCorregido/train/yes/anonymized_216663.jpg  \n",
      "  inflating: datasetCorregido/train/yes/anonymized_585253.jpg  \n",
      "  inflating: datasetCorregido/train/yes/anonymized_318383.jpg  \n",
      "  inflating: datasetCorregido/train/yes/anonymized_402712.jpg  \n",
      "  inflating: datasetCorregido/train/yes/anonymized_223841.jpg  \n",
      "  inflating: datasetCorregido/train/yes/anonymized_755833.jpg  \n",
      "  inflating: datasetCorregido/train/yes/anonymized_727225.jpg  \n",
      "  inflating: datasetCorregido/train/yes/anonymized_867131.jpg  \n",
      "  inflating: datasetCorregido/train/yes/anonymized_208376.jpg  \n",
      "  inflating: datasetCorregido/train/yes/anonymized_326117.jpg  \n",
      "  inflating: datasetCorregido/train/yes/anonymized_772257.jpg  \n",
      "  inflating: datasetCorregido/train/yes/anonymized_319979.jpg  \n",
      "  inflating: datasetCorregido/train/yes/anonymized_819389.jpg  \n",
      "  inflating: datasetCorregido/train/yes/anonymized_636437.jpg  \n",
      "  inflating: datasetCorregido/train/yes/anonymized_805865.jpg  \n",
      "  inflating: datasetCorregido/train/yes/anonymized_502330.jpg  \n",
      "  inflating: datasetCorregido/train/yes/anonymized_1272250.jpg  \n",
      "  inflating: datasetCorregido/train/yes/anonymized_198021.jpg  \n",
      "  inflating: datasetCorregido/train/yes/anonymized_293432.jpg  \n",
      "  inflating: datasetCorregido/train/yes/anonymized_1235463.jpg  \n",
      "  inflating: datasetCorregido/train/yes/anonymized_245570.jpg  \n",
      "  inflating: datasetCorregido/train/yes/anonymized_1257927.jpg  \n",
      "  inflating: datasetCorregido/train/yes/anonymized_1874122.jpg  \n",
      "  inflating: datasetCorregido/train/yes/anonymized_869612.jpg  \n",
      "  inflating: datasetCorregido/train/yes/anonymized_445619.jpg  \n",
      "  inflating: datasetCorregido/train/yes/anonymized_908444.jpg  \n",
      "  inflating: datasetCorregido/train/yes/anonymized_1175154.jpg  \n",
      "  inflating: datasetCorregido/train/yes/anonymized_515498.jpg  \n",
      "  inflating: datasetCorregido/train/yes/anonymized_742736.jpg  \n",
      "  inflating: datasetCorregido/train/yes/anonymized_1416095.jpg  \n",
      "  inflating: datasetCorregido/train/yes/anonymized_449226.jpg  \n",
      "  inflating: datasetCorregido/train/yes/anonymized_593189.jpg  \n",
      "  inflating: datasetCorregido/train/yes/anonymized_133050.jpg  \n",
      "  inflating: datasetCorregido/train/yes/anonymized_450555.jpg  \n",
      "  inflating: datasetCorregido/train/yes/anonymized_1179185.jpg  \n",
      "  inflating: datasetCorregido/train/yes/anonymized_453375.jpg  \n",
      "  inflating: datasetCorregido/train/yes/anonymized_566664.jpg  \n",
      "  inflating: datasetCorregido/train/yes/anonymized_1900925.jpg  \n",
      "  inflating: datasetCorregido/train/yes/anonymized_1296131.jpg  \n",
      "  inflating: datasetCorregido/train/yes/anonymized_456292.jpg  \n",
      "  inflating: datasetCorregido/train/yes/anonymized_668670.jpg  \n",
      "  inflating: datasetCorregido/train/yes/anonymized_782291.jpg  \n",
      "  inflating: datasetCorregido/train/yes/anonymized_910773.jpg  \n",
      "  inflating: datasetCorregido/train/yes/anonymized_726161.jpg  \n",
      "  inflating: datasetCorregido/train/yes/anonymized_192312.jpg  \n",
      "  inflating: datasetCorregido/train/yes/anonymized_498202.jpg  \n",
      "  inflating: datasetCorregido/train/yes/anonymized_288165.jpg  \n",
      "  inflating: datasetCorregido/train/yes/anonymized_142996.jpg  \n",
      "  inflating: datasetCorregido/train/yes/anonymized_694512.jpg  \n",
      "  inflating: datasetCorregido/train/yes/anonymized_181335.jpg  \n",
      "  inflating: datasetCorregido/train/yes/anonymized_683726.jpg  \n",
      "  inflating: datasetCorregido/train/yes/anonymized_45487.jpg  \n",
      "  inflating: datasetCorregido/train/yes/anonymized_581782.jpg  \n",
      "  inflating: datasetCorregido/train/yes/anonymized_128567.jpg  \n",
      "  inflating: datasetCorregido/train/yes/anonymized_288068.jpg  \n",
      "  inflating: datasetCorregido/train/yes/anonymized_445767.jpg  \n",
      "  inflating: datasetCorregido/train/yes/anonymized_462622.jpg  \n",
      "  inflating: datasetCorregido/train/yes/anonymized_234450.jpg  \n",
      "  inflating: datasetCorregido/train/yes/anonymized_514349.jpg  \n",
      "  inflating: datasetCorregido/train/yes/anonymized_1256540.jpg  \n",
      "  inflating: datasetCorregido/train/yes/anonymized_1096695.jpg  \n",
      "  inflating: datasetCorregido/train/yes/anonymized_153126.jpg  \n",
      "  inflating: datasetCorregido/train/yes/anonymized_515482.jpg  \n",
      "  inflating: datasetCorregido/train/yes/anonymized_377415.jpg  \n",
      "  inflating: datasetCorregido/train/yes/anonymized_1411866.jpg  \n",
      "  inflating: datasetCorregido/train/yes/anonymized_531822.jpg  \n",
      "  inflating: datasetCorregido/train/yes/anonymized_628754.jpg  \n",
      "  inflating: datasetCorregido/train/yes/anonymized_449296.jpg  \n",
      "  inflating: datasetCorregido/train/yes/anonymized_1596736.jpg  \n",
      "  inflating: datasetCorregido/train/yes/anonymized_870665.jpg  \n",
      "  inflating: datasetCorregido/train/yes/anonymized_832640.jpg  \n",
      "  inflating: datasetCorregido/train/yes/anonymized_354887.jpg  \n",
      "  inflating: datasetCorregido/train/yes/anonymized_905900.jpg  \n",
      "  inflating: datasetCorregido/train/yes/anonymized_1207426.jpg  \n",
      "  inflating: datasetCorregido/train/yes/anonymized_1211285.jpg  \n",
      "  inflating: datasetCorregido/train/yes/anonymized_297137.jpg  \n",
      "  inflating: datasetCorregido/train/yes/anonymized_772098.jpg  \n",
      "  inflating: datasetCorregido/train/yes/anonymized_276011.jpg  \n",
      "  inflating: datasetCorregido/train/yes/anonymized_35711.jpg  \n",
      "  inflating: datasetCorregido/train/yes/anonymized_994067.jpg  \n",
      "  inflating: datasetCorregido/train/yes/anonymized_1225641.jpg  \n",
      "  inflating: datasetCorregido/train/yes/anonymized_1177281.jpg  \n",
      "  inflating: datasetCorregido/train/yes/anonymized_248893.jpg  \n",
      "  inflating: datasetCorregido/train/yes/anonymized_553218.jpg  \n",
      "  inflating: datasetCorregido/train/yes/anonymized_1004809.jpg  \n",
      "  inflating: datasetCorregido/train/yes/anonymized_348232.jpg  \n",
      "  inflating: datasetCorregido/train/yes/anonymized_1286292.jpg  \n",
      "  inflating: datasetCorregido/train/yes/anonymized_794245.jpg  \n",
      "  inflating: datasetCorregido/train/yes/anonymized_557788.jpg  \n",
      "  inflating: datasetCorregido/train/yes/anonymized_187922.jpg  \n",
      "  inflating: datasetCorregido/train/yes/anonymized_255941.jpg  \n",
      "  inflating: datasetCorregido/train/yes/anonymized_296792.jpg  \n",
      "  inflating: datasetCorregido/train/yes/anonymized_295956.jpg  \n",
      "  inflating: datasetCorregido/train/yes/anonymized_485443.jpg  \n",
      "  inflating: datasetCorregido/train/yes/anonymized_276897.jpg  \n",
      "  inflating: datasetCorregido/train/yes/anonymized_220860.jpg  \n",
      "  inflating: datasetCorregido/train/yes/anonymized_1881822.jpg  \n",
      "  inflating: datasetCorregido/train/yes/anonymized_447607.jpg  \n",
      "  inflating: datasetCorregido/train/yes/anonymized_1096951.jpg  \n",
      "  inflating: datasetCorregido/train/yes/anonymized_667711.jpg  \n",
      "  inflating: datasetCorregido/train/yes/anonymized_201500.jpg  \n",
      "  inflating: datasetCorregido/train/yes/anonymized_894905.jpg  \n",
      "  inflating: datasetCorregido/train/yes/anonymized_191252.jpg  \n",
      "  inflating: datasetCorregido/train/yes/anonymized_750435.jpg  \n",
      "  inflating: datasetCorregido/train/yes/anonymized_727491.jpg  \n",
      "  inflating: datasetCorregido/train/yes/anonymized_760653.jpg  \n",
      "  inflating: datasetCorregido/train/yes/anonymized_223741.jpg  \n",
      "  inflating: datasetCorregido/train/yes/anonymized_741901.jpg  \n",
      "  inflating: datasetCorregido/train/yes/anonymized_862037.jpg  \n",
      "  inflating: datasetCorregido/train/yes/anonymized_741899.jpg  \n",
      "  inflating: datasetCorregido/train/yes/anonymized_730957.jpg  \n",
      "  inflating: datasetCorregido/train/yes/anonymized_408363.jpg  \n",
      "  inflating: datasetCorregido/train/yes/anonymized_1177215.jpg  \n",
      "  inflating: datasetCorregido/train/yes/anonymized_553294.jpg  \n",
      "  inflating: datasetCorregido/train/yes/anonymized_321484.jpg  \n",
      "  inflating: datasetCorregido/train/yes/anonymized_1381253.jpg  \n",
      "  inflating: datasetCorregido/train/yes/anonymized_261369.jpg  \n",
      "  inflating: datasetCorregido/train/yes/anonymized_836903.jpg  \n",
      "  inflating: datasetCorregido/train/yes/anonymized_594058.jpg  \n",
      "  inflating: datasetCorregido/train/yes/anonymized_1237751.jpg  \n",
      "  inflating: datasetCorregido/train/yes/anonymized_1363259.jpg  \n",
      "  inflating: datasetCorregido/train/yes/anonymized_1356559.jpg  \n",
      "  inflating: datasetCorregido/train/yes/anonymized_383544.jpg  \n",
      "  inflating: datasetCorregido/train/yes/anonymized_722711.jpg  \n",
      "  inflating: datasetCorregido/train/yes/anonymized_1260523.jpg  \n",
      "  inflating: datasetCorregido/train/yes/anonymized_551598.jpg  \n",
      "  inflating: datasetCorregido/train/yes/anonymized_931204.jpg  \n",
      "  inflating: datasetCorregido/train/yes/anonymized_897917.jpg  \n",
      "  inflating: datasetCorregido/train/yes/anonymized_228497.jpg  \n",
      "  inflating: datasetCorregido/train/yes/anonymized_376046.jpg  \n",
      "  inflating: datasetCorregido/train/yes/anonymized_379452.jpg  \n",
      "  inflating: datasetCorregido/train/yes/anonymized_1334123.jpg  \n",
      "  inflating: datasetCorregido/train/yes/anonymized_159138.jpg  \n",
      "  inflating: datasetCorregido/train/yes/anonymized_217101.jpg  \n",
      "  inflating: datasetCorregido/train/yes/anonymized_742140.jpg  \n",
      "  inflating: datasetCorregido/train/yes/anonymized_316765.jpg  \n",
      "  inflating: datasetCorregido/train/yes/anonymized_370208.jpg  \n",
      "  inflating: datasetCorregido/train/yes/anonymized_1200530.jpg  \n",
      "  inflating: datasetCorregido/train/yes/anonymized_1108146.jpg  \n",
      "  inflating: datasetCorregido/train/yes/anonymized_246026.jpg  \n",
      "  inflating: datasetCorregido/train/yes/anonymized_724157.jpg  \n",
      "  inflating: datasetCorregido/train/yes/anonymized_36543.jpg  \n",
      "  inflating: datasetCorregido/train/yes/anonymized_1423547.jpg  \n",
      "  inflating: datasetCorregido/train/yes/anonymized_708690.jpg  \n",
      "  inflating: datasetCorregido/train/yes/anonymized_892641.jpg  \n",
      "  inflating: datasetCorregido/train/yes/anonymized_172671.jpg  \n",
      "  inflating: datasetCorregido/train/yes/anonymized_423600.jpg  \n",
      "  inflating: datasetCorregido/train/yes/anonymized_247655.jpg  \n",
      "  inflating: datasetCorregido/train/yes/anonymized_1900679.jpg  \n",
      "  inflating: datasetCorregido/train/yes/anonymized_1235279.jpg  \n",
      "  inflating: datasetCorregido/train/yes/anonymized_1602337.jpg  \n",
      "  inflating: datasetCorregido/train/yes/anonymized_43869.jpg  \n",
      "  inflating: datasetCorregido/train/yes/anonymized_1218632.jpg  \n",
      "  inflating: datasetCorregido/train/yes/anonymized_1330796.jpg  \n",
      "  inflating: datasetCorregido/train/yes/anonymized_758781.jpg  \n",
      "  inflating: datasetCorregido/train/yes/anonymized_183308.jpg  \n",
      "  inflating: datasetCorregido/train/yes/anonymized_1196598.jpg  \n",
      "  inflating: datasetCorregido/train/yes/anonymized_822966.jpg  \n",
      "  inflating: datasetCorregido/train/yes/anonymized_1369695.jpg  \n",
      "  inflating: datasetCorregido/train/yes/anonymized_465232.jpg  \n",
      "  inflating: datasetCorregido/train/yes/anonymized_291537.jpg  \n",
      "  inflating: datasetCorregido/train/yes/anonymized_356531.jpg  \n",
      "  inflating: datasetCorregido/train/yes/anonymized_315576.jpg  \n",
      "  inflating: datasetCorregido/train/yes/anonymized_797225.jpg  \n",
      "  inflating: datasetCorregido/train/yes/anonymized_545103.jpg  \n",
      "  inflating: datasetCorregido/train/yes/anonymized_759650.jpg  \n",
      "  inflating: datasetCorregido/train/yes/anonymized_188081.jpg  \n",
      "  inflating: datasetCorregido/train/yes/anonymized_837866.jpg  \n",
      "  inflating: datasetCorregido/train/yes/anonymized_782695.jpg  \n",
      "  inflating: datasetCorregido/train/yes/anonymized_1889539.jpg  \n",
      "  inflating: datasetCorregido/train/yes/anonymized_1253473.jpg  \n",
      "  inflating: datasetCorregido/train/yes/anonymized_390517.jpg  \n",
      "  inflating: datasetCorregido/train/yes/anonymized_151933.jpg  \n",
      "  inflating: datasetCorregido/train/yes/anonymized_157216.jpg  \n",
      "  inflating: datasetCorregido/train/yes/anonymized_1426089.jpg  \n",
      "  inflating: datasetCorregido/train/yes/anonymized_603966.jpg  \n",
      "  inflating: datasetCorregido/train/yes/anonymized_816191.jpg  \n",
      "  inflating: datasetCorregido/train/yes/anonymized_201504.jpg  \n",
      "  inflating: datasetCorregido/train/yes/anonymized_638568.jpg  \n",
      "  inflating: datasetCorregido/train/yes/anonymized_1641655.jpg  \n",
      "  inflating: datasetCorregido/train/yes/anonymized_435516.jpg  \n",
      "  inflating: datasetCorregido/train/yes/anonymized_1239129.jpg  \n",
      "  inflating: datasetCorregido/train/yes/anonymized_744807.jpg  \n",
      "  inflating: datasetCorregido/train/yes/anonymized_301075.jpg  \n",
      "  inflating: datasetCorregido/train/yes/anonymized_373763.jpg  \n",
      "  inflating: datasetCorregido/train/yes/anonymized_667712.jpg  \n",
      "  inflating: datasetCorregido/train/yes/anonymized_150704.jpg  \n",
      "  inflating: datasetCorregido/train/yes/anonymized_897920.jpg  \n",
      "  inflating: datasetCorregido/train/yes/anonymized_736857.jpg  \n",
      "  inflating: datasetCorregido/train/yes/anonymized_1223969.jpg  \n",
      "  inflating: datasetCorregido/train/yes/anonymized_289162.jpg  \n",
      "  inflating: datasetCorregido/train/yes/anonymized_398808.jpg  \n",
      "  inflating: datasetCorregido/train/yes/anonymized_233699.jpg  \n",
      "  inflating: datasetCorregido/train/yes/anonymized_482834.jpg  \n",
      "  inflating: datasetCorregido/train/yes/anonymized_238971.jpg  \n",
      "  inflating: datasetCorregido/train/yes/anonymized_887003.jpg  \n",
      "  inflating: datasetCorregido/train/yes/anonymized_453377.jpg  \n",
      "  inflating: datasetCorregido/train/yes/anonymized_482691.jpg  \n",
      "  inflating: datasetCorregido/train/yes/anonymized_949913.jpg  \n",
      "  inflating: datasetCorregido/train/yes/anonymized_250954.jpg  \n",
      "  inflating: datasetCorregido/train/yes/anonymized_515514.jpg  \n",
      "  inflating: datasetCorregido/train/yes/anonymized_539656.jpg  \n",
      "  inflating: datasetCorregido/train/yes/anonymized_595788.jpg  \n",
      "  inflating: datasetCorregido/train/yes/anonymized_300890.jpg  \n",
      "  inflating: datasetCorregido/train/yes/anonymized_1223301.jpg  \n",
      "  inflating: datasetCorregido/train/yes/anonymized_645380.jpg  \n",
      "  inflating: datasetCorregido/train/yes/anonymized_677227.jpg  \n",
      "  inflating: datasetCorregido/train/yes/anonymized_683287.jpg  \n",
      "  inflating: datasetCorregido/train/yes/anonymized_486277.jpg  \n",
      "  inflating: datasetCorregido/train/yes/anonymized_294276.jpg  \n",
      "  inflating: datasetCorregido/train/yes/anonymized_863012.jpg  \n",
      "  inflating: datasetCorregido/train/yes/anonymized_933721.jpg  \n",
      "  inflating: datasetCorregido/train/yes/anonymized_233708.jpg  \n",
      "  inflating: datasetCorregido/train/yes/anonymized_853050.jpg  \n",
      "  inflating: datasetCorregido/train/yes/anonymized_628891.jpg  \n",
      "  inflating: datasetCorregido/train/yes/anonymized_319029.jpg  \n",
      "  inflating: datasetCorregido/train/yes/anonymized_1173781.jpg  \n",
      "  inflating: datasetCorregido/train/yes/anonymized_157368.jpg  \n",
      "  inflating: datasetCorregido/train/yes/anonymized_931865.jpg  \n",
      "  inflating: datasetCorregido/train/yes/anonymized_441263.jpg  \n",
      "  inflating: datasetCorregido/train/yes/anonymized_1214927.jpg  \n",
      "  inflating: datasetCorregido/train/yes/anonymized_500153.jpg  \n",
      "  inflating: datasetCorregido/train/yes/anonymized_884547.jpg  \n",
      "  inflating: datasetCorregido/train/yes/anonymized_691601.jpg  \n",
      "  inflating: datasetCorregido/train/yes/anonymized_706123.jpg  \n",
      "  inflating: datasetCorregido/train/yes/anonymized_1196033.jpg  \n",
      "  inflating: datasetCorregido/train/yes/anonymized_529235.jpg  \n",
      "  inflating: datasetCorregido/train/yes/anonymized_49969.jpg  \n",
      "  inflating: datasetCorregido/train/yes/anonymized_224011.jpg  \n",
      "  inflating: datasetCorregido/train/yes/anonymized_730150.jpg  \n",
      "  inflating: datasetCorregido/train/yes/anonymized_1200346.jpg  \n",
      "  inflating: datasetCorregido/train/yes/anonymized_223755.jpg  \n",
      "  inflating: datasetCorregido/train/yes/anonymized_197303.jpg  \n",
      "  inflating: datasetCorregido/train/yes/anonymized_236276.jpg  \n",
      "  inflating: datasetCorregido/train/yes/anonymized_519638.jpg  \n",
      "  inflating: datasetCorregido/train/yes/anonymized_46226.jpg  \n",
      "  inflating: datasetCorregido/train/yes/anonymized_1179404.jpg  \n",
      "  inflating: datasetCorregido/train/yes/anonymized_802312.jpg  \n",
      "  inflating: datasetCorregido/train/yes/anonymized_918255.jpg  \n",
      "  inflating: datasetCorregido/train/yes/anonymized_1253223.jpg  \n",
      "  inflating: datasetCorregido/train/yes/anonymized_328294.jpg  \n",
      "  inflating: datasetCorregido/train/yes/anonymized_326965.jpg  \n",
      "  inflating: datasetCorregido/train/yes/anonymized_235436.jpg  \n",
      "  inflating: datasetCorregido/train/yes/anonymized_466733.jpg  \n",
      "  inflating: datasetCorregido/train/yes/anonymized_630056.jpg  \n",
      "  inflating: datasetCorregido/train/yes/anonymized_929489.jpg  \n",
      "  inflating: datasetCorregido/train/yes/anonymized_216646.jpg  \n",
      "  inflating: datasetCorregido/train/yes/anonymized_655556.jpg  \n",
      "  inflating: datasetCorregido/train/yes/anonymized_1344265.jpg  \n",
      "  inflating: datasetCorregido/train/yes/anonymized_577287.jpg  \n",
      "  inflating: datasetCorregido/train/yes/anonymized_1317127.jpg  \n",
      "  inflating: datasetCorregido/train/yes/anonymized_1242296.jpg  \n",
      "  inflating: datasetCorregido/train/yes/anonymized_382695.jpg  \n",
      "  inflating: datasetCorregido/train/yes/anonymized_999310.jpg  \n",
      "  inflating: datasetCorregido/train/yes/anonymized_598796.jpg  \n",
      "  inflating: datasetCorregido/train/yes/anonymized_679755.jpg  \n",
      "  inflating: datasetCorregido/train/yes/anonymized_1353711.jpg  \n",
      "  inflating: datasetCorregido/train/yes/anonymized_319893.jpg  \n",
      "  inflating: datasetCorregido/train/yes/anonymized_426268.jpg  \n",
      "  inflating: datasetCorregido/train/yes/anonymized_1362822.jpg  \n",
      "  inflating: datasetCorregido/train/yes/anonymized_496217.jpg  \n",
      "  inflating: datasetCorregido/train/yes/anonymized_223843.jpg  \n",
      "  inflating: datasetCorregido/train/yes/anonymized_1416098.jpg  \n",
      "  inflating: datasetCorregido/train/yes/anonymized_906273.jpg  \n",
      "  inflating: datasetCorregido/train/yes/anonymized_420457.jpg  \n",
      "  inflating: datasetCorregido/train/yes/anonymized_257409.jpg  \n",
      "  inflating: datasetCorregido/train/yes/anonymized_539277.jpg  \n",
      "  inflating: datasetCorregido/train/yes/anonymized_168801.jpg  \n",
      "  inflating: datasetCorregido/train/yes/anonymized_315304.jpg  \n",
      "  inflating: datasetCorregido/train/yes/anonymized_201489.jpg  \n",
      "  inflating: datasetCorregido/train/yes/anonymized_1105643.jpg  \n",
      "  inflating: datasetCorregido/train/yes/anonymized_1319006.jpg  \n",
      "  inflating: datasetCorregido/train/yes/anonymized_1305421.jpg  \n",
      "  inflating: datasetCorregido/train/yes/anonymized_318678.jpg  \n",
      "  inflating: datasetCorregido/train/yes/anonymized_543042.jpg  \n",
      "  inflating: datasetCorregido/train/yes/anonymized_1213196.jpg  \n",
      "  inflating: datasetCorregido/train/yes/anonymized_176176.jpg  \n",
      "  inflating: datasetCorregido/train/yes/anonymized_837507.jpg  \n",
      "  inflating: datasetCorregido/train/yes/anonymized_1320370.jpg  \n",
      "  inflating: datasetCorregido/train/yes/anonymized_326650.jpg  \n",
      "  inflating: datasetCorregido/train/yes/anonymized_638225.jpg  \n",
      "  inflating: datasetCorregido/train/yes/anonymized_688331.jpg  \n",
      "  inflating: datasetCorregido/train/yes/anonymized_693914.jpg  \n",
      "  inflating: datasetCorregido/train/yes/anonymized_1310974.jpg  \n",
      "  inflating: datasetCorregido/train/yes/anonymized_448602.jpg  \n",
      "  inflating: datasetCorregido/train/yes/anonymized_895595.jpg  \n",
      "  inflating: datasetCorregido/train/yes/anonymized_1881403.jpg  \n",
      "  inflating: datasetCorregido/train/yes/anonymized_138201.jpg  \n",
      "  inflating: datasetCorregido/train/yes/anonymized_544776.jpg  \n",
      "  inflating: datasetCorregido/train/yes/anonymized_911790.jpg  \n",
      "  inflating: datasetCorregido/train/yes/anonymized_748755.jpg  \n",
      "  inflating: datasetCorregido/train/yes/anonymized_597116.jpg  \n",
      "  inflating: datasetCorregido/train/yes/anonymized_228252.jpg  \n",
      "  inflating: datasetCorregido/train/yes/anonymized_704599.jpg  \n",
      "  inflating: datasetCorregido/train/yes/anonymized_923207.jpg  \n",
      "  inflating: datasetCorregido/train/yes/anonymized_1382400.jpg  \n",
      "  inflating: datasetCorregido/train/yes/anonymized_760584.jpg  \n",
      "  inflating: datasetCorregido/train/yes/anonymized_1406912.jpg  \n",
      "  inflating: datasetCorregido/train/yes/anonymized_624381.jpg  \n",
      "  inflating: datasetCorregido/train/yes/anonymized_414356.jpg  \n",
      "  inflating: datasetCorregido/train/yes/anonymized_426818.jpg  \n",
      "  inflating: datasetCorregido/train/yes/anonymized_568168.jpg  \n",
      "  inflating: datasetCorregido/train/yes/anonymized_477898.jpg  \n",
      "  inflating: datasetCorregido/train/yes/anonymized_259133.jpg  \n",
      "  inflating: datasetCorregido/train/yes/anonymized_946481.jpg  \n",
      "  inflating: datasetCorregido/train/yes/anonymized_924818.jpg  \n",
      "  inflating: datasetCorregido/train/yes/anonymized_185104.jpg  \n",
      "  inflating: datasetCorregido/train/yes/anonymized_583550.jpg  \n",
      "  inflating: datasetCorregido/train/yes/anonymized_660543.jpg  \n",
      "  inflating: datasetCorregido/train/yes/anonymized_617396.jpg  \n",
      "  inflating: datasetCorregido/train/yes/anonymized_1368325.jpg  \n",
      "  inflating: datasetCorregido/train/yes/anonymized_409968.jpg  \n",
      "  inflating: datasetCorregido/train/yes/anonymized_1231324.jpg  \n",
      "  inflating: datasetCorregido/train/yes/anonymized_581771.jpg  \n",
      "  inflating: datasetCorregido/train/yes/anonymized_638977.jpg  \n",
      "  inflating: datasetCorregido/train/yes/anonymized_1198750.jpg  \n",
      "  inflating: datasetCorregido/train/yes/anonymized_500002.jpg  \n",
      "  inflating: datasetCorregido/train/yes/anonymized_1097626.jpg  \n",
      "  inflating: datasetCorregido/train/yes/anonymized_737521.jpg  \n",
      "  inflating: datasetCorregido/train/yes/anonymized_767369.jpg  \n",
      "  inflating: datasetCorregido/train/yes/anonymized_399865.jpg  \n",
      "  inflating: datasetCorregido/train/yes/anonymized_771260.jpg  \n",
      "  inflating: datasetCorregido/train/yes/anonymized_1894117.jpg  \n",
      "  inflating: datasetCorregido/train/yes/anonymized_481719.jpg  \n",
      "  inflating: datasetCorregido/train/yes/anonymized_644287.jpg  \n",
      "  inflating: datasetCorregido/train/yes/anonymized_1249612.jpg  \n",
      "  inflating: datasetCorregido/train/yes/anonymized_259828.jpg  \n",
      "  inflating: datasetCorregido/train/yes/anonymized_339809.jpg  \n",
      "  inflating: datasetCorregido/train/yes/anonymized_183830.jpg  \n",
      "  inflating: datasetCorregido/train/yes/anonymized_446277.jpg  \n",
      "  inflating: datasetCorregido/train/yes/anonymized_644284.jpg  \n",
      "  inflating: datasetCorregido/train/yes/anonymized_1338942.jpg  \n",
      "  inflating: datasetCorregido/train/yes/anonymized_1336295.jpg  \n",
      "  inflating: datasetCorregido/train/yes/anonymized_502501.jpg  \n",
      "  inflating: datasetCorregido/train/yes/anonymized_150495.jpg  \n",
      "  inflating: datasetCorregido/train/yes/anonymized_175403.jpg  \n",
      "  inflating: datasetCorregido/train/yes/anonymized_1296132.jpg  \n",
      "  inflating: datasetCorregido/train/yes/anonymized_409436.jpg  \n",
      "  inflating: datasetCorregido/train/yes/anonymized_1292165.jpg  \n",
      "  inflating: datasetCorregido/train/yes/anonymized_834609.jpg  \n",
      "  inflating: datasetCorregido/train/yes/anonymized_596529.jpg  \n",
      "  inflating: datasetCorregido/train/yes/anonymized_514642.jpg  \n",
      "  inflating: datasetCorregido/train/yes/anonymized_448593.jpg  \n",
      "  inflating: datasetCorregido/train/yes/anonymized_673876.jpg  \n",
      "  inflating: datasetCorregido/train/yes/anonymized_931111.jpg  \n",
      "  inflating: datasetCorregido/train/yes/anonymized_157644.jpg  \n",
      "  inflating: datasetCorregido/train/yes/anonymized_903271.jpg  \n",
      "  inflating: datasetCorregido/train/yes/anonymized_1174954.jpg  \n",
      "  inflating: datasetCorregido/train/yes/anonymized_366748.jpg  \n",
      "  inflating: datasetCorregido/train/yes/anonymized_1288998.jpg  \n",
      "  inflating: datasetCorregido/train/yes/anonymized_379451.jpg  \n",
      "  inflating: datasetCorregido/train/yes/anonymized_482124.jpg  \n",
      "  inflating: datasetCorregido/train/yes/anonymized_997715.jpg  \n",
      "  inflating: datasetCorregido/train/yes/anonymized_731865.jpg  \n",
      "  inflating: datasetCorregido/train/yes/anonymized_393469.jpg  \n",
      "  inflating: datasetCorregido/train/yes/anonymized_816220.jpg  \n",
      "  inflating: datasetCorregido/train/yes/anonymized_1403766.jpg  \n",
      "  inflating: datasetCorregido/train/yes/anonymized_641974.jpg  \n",
      "  inflating: datasetCorregido/train/yes/anonymized_689330.jpg  \n",
      "  inflating: datasetCorregido/train/yes/anonymized_267591.jpg  \n",
      "  inflating: datasetCorregido/train/yes/anonymized_274420.jpg  \n",
      "  inflating: datasetCorregido/train/yes/anonymized_428185.jpg  \n",
      "  inflating: datasetCorregido/train/yes/anonymized_524833.jpg  \n",
      "  inflating: datasetCorregido/train/yes/anonymized_414079.jpg  \n",
      "  inflating: datasetCorregido/train/yes/anonymized_310158.jpg  \n",
      "  inflating: datasetCorregido/train/yes/anonymized_1371580.jpg  \n",
      "  inflating: datasetCorregido/train/yes/anonymized_294278.jpg  \n",
      "  inflating: datasetCorregido/train/yes/anonymized_591810.jpg  \n",
      "  inflating: datasetCorregido/train/yes/anonymized_668462.jpg  \n",
      "  inflating: datasetCorregido/train/yes/anonymized_591214.jpg  \n",
      "  inflating: datasetCorregido/train/yes/anonymized_740977.jpg  \n",
      "  inflating: datasetCorregido/train/yes/anonymized_482125.jpg  \n",
      "  inflating: datasetCorregido/train/yes/anonymized_614229.jpg  \n",
      "  inflating: datasetCorregido/train/yes/anonymized_527426.jpg  \n",
      "  inflating: datasetCorregido/train/yes/anonymized_450560.jpg  \n",
      "  inflating: datasetCorregido/train/yes/anonymized_731519.jpg  \n",
      "  inflating: datasetCorregido/train/yes/anonymized_393797.jpg  \n",
      "  inflating: datasetCorregido/train/yes/anonymized_349504.jpg  \n",
      "  inflating: datasetCorregido/train/yes/anonymized_1275479.jpg  \n",
      "  inflating: datasetCorregido/train/yes/anonymized_1893718.jpg  \n",
      "  inflating: datasetCorregido/train/yes/anonymized_655231.jpg  \n",
      "  inflating: datasetCorregido/train/yes/anonymized_316434.jpg  \n",
      "  inflating: datasetCorregido/train/yes/anonymized_279099.jpg  \n",
      "  inflating: datasetCorregido/train/yes/anonymized_1217965.jpg  \n",
      "  inflating: datasetCorregido/train/yes/anonymized_237032.jpg  \n",
      "  inflating: datasetCorregido/train/yes/anonymized_908278.jpg  \n",
      "  inflating: datasetCorregido/train/yes/anonymized_1244595.jpg  \n",
      "  inflating: datasetCorregido/train/yes/anonymized_1239314.jpg  \n",
      "  inflating: datasetCorregido/train/yes/anonymized_916163.jpg  \n",
      "  inflating: datasetCorregido/train/yes/anonymized_929777.jpg  \n",
      "  inflating: datasetCorregido/train/yes/anonymized_200214.jpg  \n",
      "  inflating: datasetCorregido/train/yes/anonymized_362333.jpg  \n",
      "  inflating: datasetCorregido/train/yes/anonymized_1353712.jpg  \n",
      "  inflating: datasetCorregido/train/yes/anonymized_519370.jpg  \n",
      "  inflating: datasetCorregido/train/yes/anonymized_702471.jpg  \n",
      "  inflating: datasetCorregido/train/yes/anonymized_1221955.jpg  \n",
      "  inflating: datasetCorregido/train/yes/anonymized_742348.jpg  \n",
      "  inflating: datasetCorregido/train/yes/anonymized_298798.jpg  \n",
      "  inflating: datasetCorregido/train/yes/anonymized_356289.jpg  \n",
      "  inflating: datasetCorregido/train/yes/anonymized_154409.jpg  \n",
      "  inflating: datasetCorregido/train/yes/anonymized_408981.jpg  \n",
      "  inflating: datasetCorregido/train/yes/anonymized_1073622.jpg  \n",
      "  inflating: datasetCorregido/train/yes/anonymized_998166.jpg  \n",
      "  inflating: datasetCorregido/train/yes/anonymized_242403.jpg  \n",
      "  inflating: datasetCorregido/train/yes/anonymized_751777.jpg  \n",
      "  inflating: datasetCorregido/train/yes/anonymized_260471.jpg  \n",
      "  inflating: datasetCorregido/train/yes/anonymized_933679.jpg  \n",
      "  inflating: datasetCorregido/train/yes/anonymized_311974.jpg  \n",
      "  inflating: datasetCorregido/train/yes/anonymized_1315231.jpg  \n",
      "  inflating: datasetCorregido/train/yes/anonymized_927334.jpg  \n",
      "  inflating: datasetCorregido/train/yes/anonymized_1610797.jpg  \n",
      "  inflating: datasetCorregido/train/yes/anonymized_729407.jpg  \n",
      "  inflating: datasetCorregido/train/yes/anonymized_632532.jpg  \n",
      "  inflating: datasetCorregido/train/yes/anonymized_502010.jpg  \n",
      "  inflating: datasetCorregido/train/yes/anonymized_36542.jpg  \n",
      "  inflating: datasetCorregido/train/yes/anonymized_677970.jpg  \n",
      "  inflating: datasetCorregido/train/yes/anonymized_1008530.jpg  \n",
      "  inflating: datasetCorregido/train/yes/anonymized_1900150.jpg  \n",
      "  inflating: datasetCorregido/train/yes/anonymized_852582.jpg  \n",
      "  inflating: datasetCorregido/train/yes/anonymized_759811.jpg  \n",
      "  inflating: datasetCorregido/train/yes/anonymized_312080.jpg  \n",
      "  inflating: datasetCorregido/train/yes/anonymized_1249469.jpg  \n",
      "  inflating: datasetCorregido/train/yes/anonymized_278655.jpg  \n",
      "  inflating: datasetCorregido/train/yes/anonymized_302144.jpg  \n",
      "  inflating: datasetCorregido/train/yes/anonymized_300469.jpg  \n",
      "  inflating: datasetCorregido/train/yes/anonymized_859423.jpg  \n",
      "  inflating: datasetCorregido/train/yes/anonymized_430783.jpg  \n",
      "  inflating: datasetCorregido/train/yes/anonymized_556688.jpg  \n",
      "  inflating: datasetCorregido/train/yes/anonymized_339810.jpg  \n",
      "  inflating: datasetCorregido/train/yes/anonymized_1360642.jpg  \n",
      "  inflating: datasetCorregido/train/yes/anonymized_524832.jpg  \n",
      "  inflating: datasetCorregido/train/yes/anonymized_261968.jpg  \n",
      "  inflating: datasetCorregido/train/yes/anonymized_184508.jpg  \n",
      "  inflating: datasetCorregido/train/yes/anonymized_947738.jpg  \n",
      "  inflating: datasetCorregido/train/yes/anonymized_1302436.jpg  \n",
      "  inflating: datasetCorregido/train/yes/anonymized_310157.jpg  \n",
      "  inflating: datasetCorregido/train/yes/anonymized_144870.jpg  \n",
      "  inflating: datasetCorregido/train/yes/anonymized_1001182.jpg  \n",
      "  inflating: datasetCorregido/train/yes/anonymized_823100.jpg  \n",
      "  inflating: datasetCorregido/train/yes/anonymized_1273126.jpg  \n",
      "  inflating: datasetCorregido/train/yes/anonymized_333664.jpg  \n",
      "  inflating: datasetCorregido/train/yes/anonymized_1242297.jpg  \n",
      "  inflating: datasetCorregido/train/yes/anonymized_426400.jpg  \n",
      "  inflating: datasetCorregido/train/yes/anonymized_525944.jpg  \n",
      "  inflating: datasetCorregido/train/yes/anonymized_737522.jpg  \n",
      "  inflating: datasetCorregido/train/yes/anonymized_453356.jpg  \n",
      "  inflating: datasetCorregido/train/yes/anonymized_39035.jpg  \n",
      "  inflating: datasetCorregido/train/yes/anonymized_1224570.jpg  \n",
      "  inflating: datasetCorregido/train/yes/anonymized_1265791.jpg  \n",
      "  inflating: datasetCorregido/train/yes/anonymized_1009445.jpg  \n",
      "  inflating: datasetCorregido/train/yes/anonymized_681015.jpg  \n",
      "  inflating: datasetCorregido/train/yes/anonymized_532909.jpg  \n",
      "  inflating: datasetCorregido/train/yes/anonymized_288843.jpg  \n",
      "  inflating: datasetCorregido/train/yes/anonymized_282441.jpg  \n",
      "  inflating: datasetCorregido/train/yes/anonymized_880667.jpg  \n",
      "  inflating: datasetCorregido/train/yes/anonymized_1318106.jpg  \n",
      "  inflating: datasetCorregido/train/yes/anonymized_741217.jpg  \n",
      "  inflating: datasetCorregido/train/yes/anonymized_222720.jpg  \n",
      "  inflating: datasetCorregido/train/yes/anonymized_370246.jpg  \n",
      "  inflating: datasetCorregido/train/yes/anonymized_523399.jpg  \n",
      "  inflating: datasetCorregido/train/yes/anonymized_1292163.jpg  \n",
      "  inflating: datasetCorregido/train/yes/anonymized_173912.jpg  \n",
      "  inflating: datasetCorregido/train/yes/anonymized_491370.jpg  \n",
      "  inflating: datasetCorregido/train/yes/anonymized_1298961.jpg  \n",
      "  inflating: datasetCorregido/train/yes/anonymized_831239.jpg  \n",
      "  inflating: datasetCorregido/train/yes/anonymized_1001831.jpg  \n",
      "  inflating: datasetCorregido/train/yes/anonymized_815981.jpg  \n",
      "  inflating: datasetCorregido/train/yes/anonymized_948035.jpg  \n",
      "  inflating: datasetCorregido/train/yes/anonymized_320069.jpg  \n",
      "  inflating: datasetCorregido/train/yes/anonymized_706832.jpg  \n",
      "  inflating: datasetCorregido/train/yes/anonymized_315303.jpg  \n",
      "  inflating: datasetCorregido/train/yes/anonymized_223452.jpg  \n",
      "  inflating: datasetCorregido/train/yes/anonymized_876678.jpg  \n",
      "  inflating: datasetCorregido/train/yes/anonymized_1351887.jpg  \n",
      "  inflating: datasetCorregido/train/yes/anonymized_1191596.jpg  \n",
      "  inflating: datasetCorregido/train/yes/anonymized_650875.jpg  \n",
      "  inflating: datasetCorregido/train/yes/anonymized_731244.jpg  \n",
      "  inflating: datasetCorregido/train/yes/anonymized_216292.jpg  \n",
      "  inflating: datasetCorregido/train/yes/anonymized_316767.jpg  \n",
      "  inflating: datasetCorregido/train/yes/anonymized_935051.jpg  \n",
      "  inflating: datasetCorregido/train/yes/anonymized_169428.jpg  \n",
      "  inflating: datasetCorregido/train/yes/anonymized_934529.jpg  \n",
      "  inflating: datasetCorregido/train/yes/anonymized_1393765.jpg  \n",
      "  inflating: datasetCorregido/train/yes/anonymized_679964.jpg  \n",
      "  inflating: datasetCorregido/train/yes/anonymized_638228.jpg  \n",
      "  inflating: datasetCorregido/train/yes/anonymized_444545.jpg  \n",
      "  inflating: datasetCorregido/train/yes/anonymized_752750.jpg  \n",
      "  inflating: datasetCorregido/train/yes/anonymized_135449.jpg  \n",
      "  inflating: datasetCorregido/train/yes/anonymized_1232063.jpg  \n",
      "  inflating: datasetCorregido/train/yes/anonymized_515802.jpg  \n",
      "  inflating: datasetCorregido/train/yes/anonymized_443003.jpg  \n",
      "  inflating: datasetCorregido/train/yes/anonymized_924374.jpg  \n",
      "  inflating: datasetCorregido/train/yes/anonymized_397039.jpg  \n",
      "  inflating: datasetCorregido/train/yes/anonymized_720583.jpg  \n",
      "  inflating: datasetCorregido/train/yes/anonymized_428189.jpg  \n",
      "  inflating: datasetCorregido/train/yes/anonymized_383546.jpg  \n",
      "  inflating: datasetCorregido/train/yes/anonymized_448283.jpg  \n",
      "  inflating: datasetCorregido/train/yes/anonymized_490253.jpg  \n",
      "  inflating: datasetCorregido/train/yes/anonymized_1240097.jpg  \n",
      "  inflating: datasetCorregido/train/yes/anonymized_931200.jpg  \n",
      "  inflating: datasetCorregido/train/yes/anonymized_801463.jpg  \n",
      "  inflating: datasetCorregido/train/yes/anonymized_1282066.jpg  \n",
      "  inflating: datasetCorregido/train/yes/anonymized_564430.jpg  \n",
      "  inflating: datasetCorregido/train/yes/anonymized_277473.jpg  \n",
      "  inflating: datasetCorregido/train/yes/anonymized_778372.jpg  \n",
      "  inflating: datasetCorregido/train/yes/anonymized_877873.jpg  \n",
      "  inflating: datasetCorregido/train/yes/anonymized_600132.jpg  \n",
      "   creating: datasetCorregido/test/\n",
      "   creating: datasetCorregido/test/no/\n",
      "  inflating: datasetCorregido/test/no/anonymized_1421704.jpg  \n",
      "  inflating: datasetCorregido/test/no/anonymized_336537.jpg  \n",
      "  inflating: datasetCorregido/test/no/anonymized_569526.jpg  \n",
      "  inflating: datasetCorregido/test/no/anonymized_196860.jpg  \n",
      "  inflating: datasetCorregido/test/no/anonymized_920184.jpg  \n",
      "  inflating: datasetCorregido/test/no/anonymized_1348815.jpg  \n",
      "  inflating: datasetCorregido/test/no/anonymized_225304.jpg  \n",
      "  inflating: datasetCorregido/test/no/anonymized_816099.jpg  \n",
      "  inflating: datasetCorregido/test/no/anonymized_260226.jpg  \n",
      "  inflating: datasetCorregido/test/no/anonymized_1619231.jpg  \n",
      "  inflating: datasetCorregido/test/no/anonymized_1314755.jpg  \n",
      "  inflating: datasetCorregido/test/no/anonymized_656024.jpg  \n",
      "  inflating: datasetCorregido/test/no/anonymized_1182585.jpg  \n",
      "  inflating: datasetCorregido/test/no/anonymized_246204.jpg  \n",
      "  inflating: datasetCorregido/test/no/anonymized_198917.jpg  \n",
      "  inflating: datasetCorregido/test/no/anonymized_324557.jpg  \n",
      "  inflating: datasetCorregido/test/no/anonymized_845592.jpg  \n",
      "  inflating: datasetCorregido/test/no/anonymized_726418.jpg  \n",
      "  inflating: datasetCorregido/test/no/anonymized_536401.jpg  \n",
      "  inflating: datasetCorregido/test/no/anonymized_1233458.jpg  \n",
      "  inflating: datasetCorregido/test/no/anonymized_978202.jpg  \n",
      "  inflating: datasetCorregido/test/no/anonymized_1226986.jpg  \n",
      "  inflating: datasetCorregido/test/no/anonymized_827980.jpg  \n",
      "  inflating: datasetCorregido/test/no/anonymized_261028.jpg  \n",
      "  inflating: datasetCorregido/test/no/anonymized_403082.jpg  \n",
      "  inflating: datasetCorregido/test/no/anonymized_1325811.jpg  \n",
      "  inflating: datasetCorregido/test/no/anonymized_699953.jpg  \n",
      "  inflating: datasetCorregido/test/no/anonymized_653291.jpg  \n",
      "  inflating: datasetCorregido/test/no/anonymized_646887.jpg  \n",
      "  inflating: datasetCorregido/test/no/anonymized_533014.jpg  \n",
      "  inflating: datasetCorregido/test/no/anonymized_258457.jpg  \n",
      "  inflating: datasetCorregido/test/no/anonymized_1315234.jpg  \n",
      "  inflating: datasetCorregido/test/no/anonymized_822395.jpg  \n",
      "  inflating: datasetCorregido/test/no/anonymized_326477.jpg  \n",
      "  inflating: datasetCorregido/test/no/anonymized_598794.jpg  \n",
      "  inflating: datasetCorregido/test/no/anonymized_166616.jpg  \n",
      "  inflating: datasetCorregido/test/no/anonymized_139440.jpg  \n",
      "  inflating: datasetCorregido/test/no/anonymized_482128.jpg  \n",
      "  inflating: datasetCorregido/test/no/anonymized_622611.jpg  \n",
      "  inflating: datasetCorregido/test/no/anonymized_257339.jpg  \n",
      "  inflating: datasetCorregido/test/no/anonymized_724240.jpg  \n",
      "  inflating: datasetCorregido/test/no/anonymized_726419.jpg  \n",
      "  inflating: datasetCorregido/test/no/anonymized_321483.jpg  \n",
      "  inflating: datasetCorregido/test/no/anonymized_478340.jpg  \n",
      "  inflating: datasetCorregido/test/no/anonymized_442140.jpg  \n",
      "  inflating: datasetCorregido/test/no/anonymized_1381982.jpg  \n",
      "  inflating: datasetCorregido/test/no/anonymized_190361.jpg  \n",
      "  inflating: datasetCorregido/test/no/anonymized_207527.jpg  \n",
      "  inflating: datasetCorregido/test/no/anonymized_845130.jpg  \n",
      "  inflating: datasetCorregido/test/no/anonymized_1892997.jpg  \n",
      "  inflating: datasetCorregido/test/no/anonymized_482129.jpg  \n",
      "  inflating: datasetCorregido/test/no/anonymized_1372759.jpg  \n",
      "  inflating: datasetCorregido/test/no/anonymized_1312519.jpg  \n",
      "  inflating: datasetCorregido/test/no/anonymized_880719.jpg  \n",
      "  inflating: datasetCorregido/test/no/anonymized_347432.jpg  \n",
      "  inflating: datasetCorregido/test/no/anonymized_756752.jpg  \n",
      "  inflating: datasetCorregido/test/no/anonymized_260239.jpg  \n",
      "  inflating: datasetCorregido/test/no/anonymized_280198.jpg  \n",
      "  inflating: datasetCorregido/test/no/anonymized_500557.jpg  \n",
      "  inflating: datasetCorregido/test/no/anonymized_196861.jpg  \n",
      "  inflating: datasetCorregido/test/no/anonymized_1365797.jpg  \n",
      "  inflating: datasetCorregido/test/no/anonymized_288096.jpg  \n",
      "  inflating: datasetCorregido/test/no/anonymized_257518.jpg  \n",
      "  inflating: datasetCorregido/test/no/anonymized_894218.jpg  \n",
      "  inflating: datasetCorregido/test/no/anonymized_260887.jpg  \n",
      "  inflating: datasetCorregido/test/no/anonymized_1005196.jpg  \n",
      "  inflating: datasetCorregido/test/no/anonymized_806243.jpg  \n",
      "  inflating: datasetCorregido/test/no/anonymized_275498.jpg  \n",
      "  inflating: datasetCorregido/test/no/anonymized_999930.jpg  \n",
      "  inflating: datasetCorregido/test/no/anonymized_1276160.jpg  \n",
      "  inflating: datasetCorregido/test/no/anonymized_261103.jpg  \n",
      "  inflating: datasetCorregido/test/no/anonymized_167430.jpg  \n",
      "  inflating: datasetCorregido/test/no/anonymized_256884.jpg  \n",
      "  inflating: datasetCorregido/test/no/anonymized_336527.jpg  \n",
      "  inflating: datasetCorregido/test/no/anonymized_151468.jpg  \n",
      "  inflating: datasetCorregido/test/no/anonymized_1201144.jpg  \n",
      "  inflating: datasetCorregido/test/no/anonymized_214519.jpg  \n",
      "  inflating: datasetCorregido/test/no/anonymized_140883.jpg  \n",
      "  inflating: datasetCorregido/test/no/anonymized_1602576.jpg  \n",
      "  inflating: datasetCorregido/test/no/anonymized_341401.jpg  \n",
      "  inflating: datasetCorregido/test/no/anonymized_634002.jpg  \n",
      "  inflating: datasetCorregido/test/no/anonymized_486267.jpg  \n",
      "  inflating: datasetCorregido/test/no/anonymized_832171.jpg  \n",
      "  inflating: datasetCorregido/test/no/anonymized_237077.jpg  \n",
      "  inflating: datasetCorregido/test/no/anonymized_1288732.jpg  \n",
      "  inflating: datasetCorregido/test/no/anonymized_50679.jpg  \n",
      "  inflating: datasetCorregido/test/no/anonymized_1254399.jpg  \n",
      "  inflating: datasetCorregido/test/no/anonymized_282512.jpg  \n",
      "  inflating: datasetCorregido/test/no/anonymized_638916.jpg  \n",
      "  inflating: datasetCorregido/test/no/anonymized_507514.jpg  \n",
      "  inflating: datasetCorregido/test/no/anonymized_804198.jpg  \n",
      "  inflating: datasetCorregido/test/no/anonymized_281484.jpg  \n",
      "  inflating: datasetCorregido/test/no/anonymized_1002983.jpg  \n",
      "  inflating: datasetCorregido/test/no/anonymized_279637.jpg  \n",
      "  inflating: datasetCorregido/test/no/anonymized_906282.jpg  \n",
      "  inflating: datasetCorregido/test/no/anonymized_338165.jpg  \n",
      "  inflating: datasetCorregido/test/no/anonymized_341482.jpg  \n",
      "  inflating: datasetCorregido/test/no/anonymized_630009.jpg  \n",
      "  inflating: datasetCorregido/test/no/anonymized_877994.jpg  \n",
      "  inflating: datasetCorregido/test/no/anonymized_1237993.jpg  \n",
      "  inflating: datasetCorregido/test/no/anonymized_557893.jpg  \n",
      "  inflating: datasetCorregido/test/no/anonymized_257549.jpg  \n",
      "  inflating: datasetCorregido/test/no/anonymized_984237.jpg  \n",
      "  inflating: datasetCorregido/test/no/anonymized_537852.jpg  \n",
      "  inflating: datasetCorregido/test/no/anonymized_906857.jpg  \n",
      "  inflating: datasetCorregido/test/no/anonymized_171491.jpg  \n",
      "  inflating: datasetCorregido/test/no/anonymized_261134.jpg  \n",
      "  inflating: datasetCorregido/test/no/anonymized_1312252.jpg  \n",
      "  inflating: datasetCorregido/test/no/anonymized_239987.jpg  \n",
      "  inflating: datasetCorregido/test/no/anonymized_289233.jpg  \n",
      "  inflating: datasetCorregido/test/no/anonymized_580855.jpg  \n",
      "  inflating: datasetCorregido/test/no/anonymized_329160.jpg  \n",
      "  inflating: datasetCorregido/test/no/anonymized_1871911.jpg  \n",
      "  inflating: datasetCorregido/test/no/anonymized_557892.jpg  \n",
      "  inflating: datasetCorregido/test/no/anonymized_463447.jpg  \n",
      "  inflating: datasetCorregido/test/no/anonymized_1900567.jpg  \n",
      "  inflating: datasetCorregido/test/no/anonymized_1191063.jpg  \n",
      "  inflating: datasetCorregido/test/no/anonymized_162078.jpg  \n",
      "  inflating: datasetCorregido/test/no/anonymized_1354750.jpg  \n",
      "  inflating: datasetCorregido/test/no/anonymized_338856.jpg  \n",
      "  inflating: datasetCorregido/test/no/anonymized_213749.jpg  \n",
      "  inflating: datasetCorregido/test/no/anonymized_1305646.jpg  \n",
      "  inflating: datasetCorregido/test/no/anonymized_835686.jpg  \n",
      "  inflating: datasetCorregido/test/no/anonymized_247234.jpg  \n",
      "  inflating: datasetCorregido/test/no/anonymized_780430.jpg  \n",
      "  inflating: datasetCorregido/test/no/anonymized_303272.jpg  \n",
      "  inflating: datasetCorregido/test/no/anonymized_887864.jpg  \n",
      "  inflating: datasetCorregido/test/no/anonymized_405374.jpg  \n",
      "  inflating: datasetCorregido/test/no/anonymized_1897243.jpg  \n",
      "  inflating: datasetCorregido/test/no/anonymized_339831.jpg  \n",
      "  inflating: datasetCorregido/test/no/anonymized_1280476.jpg  \n",
      "  inflating: datasetCorregido/test/no/anonymized_276810.jpg  \n",
      "  inflating: datasetCorregido/test/no/anonymized_237002.jpg  \n",
      "  inflating: datasetCorregido/test/no/anonymized_379968.jpg  \n",
      "  inflating: datasetCorregido/test/no/anonymized_675343.jpg  \n",
      "  inflating: datasetCorregido/test/no/anonymized_133216.jpg  \n",
      "  inflating: datasetCorregido/test/no/anonymized_141662.jpg  \n",
      "  inflating: datasetCorregido/test/no/anonymized_892453.jpg  \n",
      "  inflating: datasetCorregido/test/no/anonymized_646348.jpg  \n",
      "  inflating: datasetCorregido/test/no/anonymized_133899.jpg  \n",
      "  inflating: datasetCorregido/test/no/anonymized_622609.jpg  \n",
      "  inflating: datasetCorregido/test/no/anonymized_499331.jpg  \n",
      "  inflating: datasetCorregido/test/no/anonymized_1267104.jpg  \n",
      "  inflating: datasetCorregido/test/no/anonymized_407439.jpg  \n",
      "  inflating: datasetCorregido/test/no/anonymized_774870.jpg  \n",
      "  inflating: datasetCorregido/test/no/anonymized_338861.jpg  \n",
      "  inflating: datasetCorregido/test/no/anonymized_261138.jpg  \n",
      "  inflating: datasetCorregido/test/no/anonymized_270122.jpg  \n",
      "  inflating: datasetCorregido/test/no/anonymized_1252031.jpg  \n",
      "  inflating: datasetCorregido/test/no/anonymized_1265118.jpg  \n",
      "  inflating: datasetCorregido/test/no/anonymized_687699.jpg  \n",
      "  inflating: datasetCorregido/test/no/anonymized_857384.jpg  \n",
      "  inflating: datasetCorregido/test/no/anonymized_1202913.jpg  \n",
      "  inflating: datasetCorregido/test/no/anonymized_944716.jpg  \n",
      "  inflating: datasetCorregido/test/no/anonymized_866571.jpg  \n",
      "  inflating: datasetCorregido/test/no/anonymized_727608.jpg  \n",
      "  inflating: datasetCorregido/test/no/anonymized_733663.jpg  \n",
      "  inflating: datasetCorregido/test/no/anonymized_406907.jpg  \n",
      "  inflating: datasetCorregido/test/no/anonymized_1596505.jpg  \n",
      "  inflating: datasetCorregido/test/no/anonymized_422198.jpg  \n",
      "  inflating: datasetCorregido/test/no/anonymized_834911.jpg  \n",
      "  inflating: datasetCorregido/test/no/anonymized_822432.jpg  \n",
      "  inflating: datasetCorregido/test/no/anonymized_1324760.jpg  \n",
      "  inflating: datasetCorregido/test/no/anonymized_1330583.jpg  \n",
      "  inflating: datasetCorregido/test/no/anonymized_1372325.jpg  \n",
      "  inflating: datasetCorregido/test/no/anonymized_1195204.jpg  \n",
      "  inflating: datasetCorregido/test/no/anonymized_445620.jpg  \n",
      "  inflating: datasetCorregido/test/no/anonymized_270031.jpg  \n",
      "  inflating: datasetCorregido/test/no/anonymized_226012.jpg  \n",
      "  inflating: datasetCorregido/test/no/anonymized_924375.jpg  \n",
      "  inflating: datasetCorregido/test/no/anonymized_1179811.jpg  \n",
      "  inflating: datasetCorregido/test/no/anonymized_845590.jpg  \n",
      "  inflating: datasetCorregido/test/no/anonymized_998609.jpg  \n",
      "  inflating: datasetCorregido/test/no/anonymized_638915.jpg  \n",
      "  inflating: datasetCorregido/test/no/anonymized_131213.jpg  \n",
      "  inflating: datasetCorregido/test/no/anonymized_442668.jpg  \n",
      "  inflating: datasetCorregido/test/no/anonymized_1198132.jpg  \n",
      "  inflating: datasetCorregido/test/no/anonymized_832579.jpg  \n",
      "  inflating: datasetCorregido/test/no/anonymized_1292729.jpg  \n",
      "  inflating: datasetCorregido/test/no/anonymized_442189.jpg  \n",
      "  inflating: datasetCorregido/test/no/anonymized_341397.jpg  \n",
      "  inflating: datasetCorregido/test/no/anonymized_1254993.jpg  \n",
      "  inflating: datasetCorregido/test/no/anonymized_1008496.jpg  \n",
      "  inflating: datasetCorregido/test/no/anonymized_175310.jpg  \n",
      "  inflating: datasetCorregido/test/no/anonymized_1186159.jpg  \n",
      "  inflating: datasetCorregido/test/no/anonymized_228728.jpg  \n",
      "  inflating: datasetCorregido/test/no/anonymized_136853.jpg  \n",
      "  inflating: datasetCorregido/test/no/anonymized_490353.jpg  \n",
      "  inflating: datasetCorregido/test/no/anonymized_570471.jpg  \n",
      "  inflating: datasetCorregido/test/no/anonymized_818031.jpg  \n",
      "  inflating: datasetCorregido/test/no/anonymized_452073.jpg  \n",
      "  inflating: datasetCorregido/test/no/anonymized_746252.jpg  \n",
      "  inflating: datasetCorregido/test/no/anonymized_656026.jpg  \n",
      "  inflating: datasetCorregido/test/no/anonymized_188819.jpg  \n",
      "  inflating: datasetCorregido/test/no/anonymized_599624.jpg  \n",
      "  inflating: datasetCorregido/test/no/anonymized_817437.jpg  \n",
      "  inflating: datasetCorregido/test/no/anonymized_215200.jpg  \n",
      "  inflating: datasetCorregido/test/no/anonymized_1365798.jpg  \n",
      "  inflating: datasetCorregido/test/no/anonymized_196981.jpg  \n",
      "  inflating: datasetCorregido/test/no/anonymized_934356.jpg  \n",
      "  inflating: datasetCorregido/test/no/anonymized_336538.jpg  \n",
      "  inflating: datasetCorregido/test/no/anonymized_440283.jpg  \n",
      "  inflating: datasetCorregido/test/no/anonymized_1894115.jpg  \n",
      "  inflating: datasetCorregido/test/no/anonymized_281471.jpg  \n",
      "  inflating: datasetCorregido/test/no/anonymized_597959.jpg  \n",
      "  inflating: datasetCorregido/test/no/anonymized_212329.jpg  \n",
      "  inflating: datasetCorregido/test/no/anonymized_467991.jpg  \n",
      "  inflating: datasetCorregido/test/no/anonymized_431668.jpg  \n",
      "  inflating: datasetCorregido/test/no/anonymized_1186155.jpg  \n",
      "  inflating: datasetCorregido/test/no/anonymized_282615.jpg  \n",
      "  inflating: datasetCorregido/test/no/anonymized_510000.jpg  \n",
      "  inflating: datasetCorregido/test/no/anonymized_1596395.jpg  \n",
      "  inflating: datasetCorregido/test/no/anonymized_1186158.jpg  \n",
      "  inflating: datasetCorregido/test/no/anonymized_468879.jpg  \n",
      "  inflating: datasetCorregido/test/no/anonymized_261047.jpg  \n",
      "  inflating: datasetCorregido/test/no/anonymized_1047507.jpg  \n",
      "  inflating: datasetCorregido/test/no/anonymized_803517.jpg  \n",
      "  inflating: datasetCorregido/test/no/anonymized_1267094.jpg  \n",
      "  inflating: datasetCorregido/test/no/anonymized_573052.jpg  \n",
      "  inflating: datasetCorregido/test/no/anonymized_874232.jpg  \n",
      "  inflating: datasetCorregido/test/no/anonymized_344469.jpg  \n",
      "  inflating: datasetCorregido/test/no/anonymized_200358.jpg  \n",
      "  inflating: datasetCorregido/test/no/anonymized_29254.jpg  \n",
      "  inflating: datasetCorregido/test/no/anonymized_499529.jpg  \n",
      "  inflating: datasetCorregido/test/no/anonymized_1277120.jpg  \n",
      "  inflating: datasetCorregido/test/no/anonymized_151645.jpg  \n",
      "  inflating: datasetCorregido/test/no/anonymized_237638.jpg  \n",
      "  inflating: datasetCorregido/test/no/anonymized_809199.jpg  \n",
      "  inflating: datasetCorregido/test/no/anonymized_261032.jpg  \n",
      "  inflating: datasetCorregido/test/no/anonymized_270023.jpg  \n",
      "  inflating: datasetCorregido/test/no/anonymized_427332.jpg  \n",
      "  inflating: datasetCorregido/test/no/anonymized_1175063.jpg  \n",
      "  inflating: datasetCorregido/test/no/anonymized_802322.jpg  \n",
      "  inflating: datasetCorregido/test/no/anonymized_127687.jpg  \n",
      "  inflating: datasetCorregido/test/no/anonymized_295646.jpg  \n",
      "  inflating: datasetCorregido/test/no/anonymized_1312247.jpg  \n",
      "  inflating: datasetCorregido/test/no/anonymized_1204251.jpg  \n",
      "  inflating: datasetCorregido/test/no/anonymized_794886.jpg  \n",
      "  inflating: datasetCorregido/test/no/anonymized_294434.jpg  \n",
      "  inflating: datasetCorregido/test/no/anonymized_500813.jpg  \n",
      "  inflating: datasetCorregido/test/no/anonymized_196859.jpg  \n",
      "  inflating: datasetCorregido/test/no/anonymized_260240.jpg  \n",
      "  inflating: datasetCorregido/test/no/anonymized_1310965.jpg  \n",
      "  inflating: datasetCorregido/test/no/anonymized_737523.jpg  \n",
      "  inflating: datasetCorregido/test/no/anonymized_305031.jpg  \n",
      "  inflating: datasetCorregido/test/no/anonymized_29253.jpg  \n",
      "  inflating: datasetCorregido/test/no/anonymized_985778.jpg  \n",
      "  inflating: datasetCorregido/test/no/anonymized_368818.jpg  \n",
      "  inflating: datasetCorregido/test/no/anonymized_901223.jpg  \n",
      "  inflating: datasetCorregido/test/no/anonymized_360001.jpg  \n",
      "  inflating: datasetCorregido/test/no/anonymized_935498.jpg  \n",
      "  inflating: datasetCorregido/test/no/anonymized_528779.jpg  \n",
      "  inflating: datasetCorregido/test/no/anonymized_656025.jpg  \n",
      "  inflating: datasetCorregido/test/no/anonymized_359867.jpg  \n",
      "  inflating: datasetCorregido/test/no/anonymized_682598.jpg  \n",
      "  inflating: datasetCorregido/test/no/anonymized_455822.jpg  \n",
      "  inflating: datasetCorregido/test/no/anonymized_1276867.jpg  \n",
      "  inflating: datasetCorregido/test/no/anonymized_716948.jpg  \n",
      "  inflating: datasetCorregido/test/no/anonymized_1379420.jpg  \n",
      "  inflating: datasetCorregido/test/no/anonymized_422203.jpg  \n",
      "  inflating: datasetCorregido/test/no/anonymized_716324.jpg  \n",
      "  inflating: datasetCorregido/test/no/anonymized_303268.jpg  \n",
      "  inflating: datasetCorregido/test/no/anonymized_477474.jpg  \n",
      "  inflating: datasetCorregido/test/no/anonymized_245267.jpg  \n",
      "  inflating: datasetCorregido/test/no/anonymized_489062.jpg  \n",
      "  inflating: datasetCorregido/test/no/anonymized_474551.jpg  \n",
      "  inflating: datasetCorregido/test/no/anonymized_500801.jpg  \n",
      "  inflating: datasetCorregido/test/no/anonymized_1328105.jpg  \n",
      "  inflating: datasetCorregido/test/no/anonymized_253580.jpg  \n",
      "  inflating: datasetCorregido/test/no/anonymized_808047.jpg  \n",
      "  inflating: datasetCorregido/test/no/anonymized_339210.jpg  \n",
      "  inflating: datasetCorregido/test/no/anonymized_408183.jpg  \n",
      "  inflating: datasetCorregido/test/no/anonymized_669905.jpg  \n",
      "  inflating: datasetCorregido/test/no/anonymized_481687.jpg  \n",
      "  inflating: datasetCorregido/test/no/anonymized_599420.jpg  \n",
      "  inflating: datasetCorregido/test/no/anonymized_823496.jpg  \n",
      "  inflating: datasetCorregido/test/no/anonymized_1310971.jpg  \n",
      "  inflating: datasetCorregido/test/no/anonymized_1413596.jpg  \n",
      "  inflating: datasetCorregido/test/no/anonymized_222891.jpg  \n",
      "  inflating: datasetCorregido/test/no/anonymized_775623.jpg  \n",
      "  inflating: datasetCorregido/test/no/anonymized_338858.jpg  \n",
      "  inflating: datasetCorregido/test/no/anonymized_270856.jpg  \n",
      "  inflating: datasetCorregido/test/no/anonymized_804203.jpg  \n",
      "  inflating: datasetCorregido/test/no/anonymized_540311.jpg  \n",
      "  inflating: datasetCorregido/test/no/anonymized_212163.jpg  \n",
      "  inflating: datasetCorregido/test/no/anonymized_340581.jpg  \n",
      "  inflating: datasetCorregido/test/no/anonymized_711119.jpg  \n",
      "  inflating: datasetCorregido/test/no/anonymized_493865.jpg  \n",
      "  inflating: datasetCorregido/test/no/anonymized_1486698.jpg  \n",
      "  inflating: datasetCorregido/test/no/anonymized_1228486.jpg  \n",
      "  inflating: datasetCorregido/test/no/anonymized_630187.jpg  \n",
      "  inflating: datasetCorregido/test/no/anonymized_633131.jpg  \n",
      "  inflating: datasetCorregido/test/no/anonymized_196863.jpg  \n",
      "  inflating: datasetCorregido/test/no/anonymized_693101.jpg  \n",
      "  inflating: datasetCorregido/test/no/anonymized_696089.jpg  \n",
      "  inflating: datasetCorregido/test/no/anonymized_496115.jpg  \n",
      "  inflating: datasetCorregido/test/no/anonymized_840201.jpg  \n",
      "  inflating: datasetCorregido/test/no/anonymized_28751.jpg  \n",
      "  inflating: datasetCorregido/test/no/anonymized_1295182.jpg  \n",
      "  inflating: datasetCorregido/test/no/anonymized_857344.jpg  \n",
      "  inflating: datasetCorregido/test/no/anonymized_245585.jpg  \n",
      "  inflating: datasetCorregido/test/no/anonymized_1426516.jpg  \n",
      "  inflating: datasetCorregido/test/no/anonymized_612979.jpg  \n",
      "  inflating: datasetCorregido/test/no/anonymized_1208056.jpg  \n",
      "  inflating: datasetCorregido/test/no/anonymized_407174.jpg  \n",
      "  inflating: datasetCorregido/test/no/anonymized_235589.jpg  \n",
      "  inflating: datasetCorregido/test/no/anonymized_1405050.jpg  \n",
      "  inflating: datasetCorregido/test/no/anonymized_263573.jpg  \n",
      "  inflating: datasetCorregido/test/no/anonymized_264111.jpg  \n",
      "  inflating: datasetCorregido/test/no/anonymized_1309294.jpg  \n",
      "  inflating: datasetCorregido/test/no/anonymized_1336291.jpg  \n",
      "  inflating: datasetCorregido/test/no/anonymized_1187336.jpg  \n",
      "  inflating: datasetCorregido/test/no/anonymized_261137.jpg  \n",
      "  inflating: datasetCorregido/test/no/anonymized_1317830.jpg  \n",
      "  inflating: datasetCorregido/test/no/anonymized_698479.jpg  \n",
      "  inflating: datasetCorregido/test/no/anonymized_232468.jpg  \n",
      "  inflating: datasetCorregido/test/no/anonymized_997716.jpg  \n",
      "  inflating: datasetCorregido/test/no/anonymized_1367115.jpg  \n",
      "  inflating: datasetCorregido/test/no/anonymized_286349.jpg  \n",
      "  inflating: datasetCorregido/test/no/anonymized_359865.jpg  \n",
      "  inflating: datasetCorregido/test/no/anonymized_338860.jpg  \n",
      "  inflating: datasetCorregido/test/no/anonymized_302146.jpg  \n",
      "  inflating: datasetCorregido/test/no/anonymized_131214.jpg  \n",
      "  inflating: datasetCorregido/test/no/anonymized_612274.jpg  \n",
      "  inflating: datasetCorregido/test/no/anonymized_174134.jpg  \n",
      "  inflating: datasetCorregido/test/no/anonymized_1258569.jpg  \n",
      "  inflating: datasetCorregido/test/no/anonymized_825176.jpg  \n",
      "  inflating: datasetCorregido/test/no/anonymized_1198130.jpg  \n",
      "  inflating: datasetCorregido/test/no/anonymized_653292.jpg  \n",
      "  inflating: datasetCorregido/test/no/anonymized_1175067.jpg  \n",
      "  inflating: datasetCorregido/test/no/anonymized_1356654.jpg  \n",
      "  inflating: datasetCorregido/test/no/anonymized_289369.jpg  \n",
      "  inflating: datasetCorregido/test/no/anonymized_480214.jpg  \n",
      "  inflating: datasetCorregido/test/no/anonymized_207704.jpg  \n",
      "  inflating: datasetCorregido/test/no/anonymized_1596773.jpg  \n",
      "  inflating: datasetCorregido/test/no/anonymized_880669.jpg  \n",
      "  inflating: datasetCorregido/test/no/anonymized_467221.jpg  \n",
      "  inflating: datasetCorregido/test/no/anonymized_1317123.jpg  \n",
      "  inflating: datasetCorregido/test/no/anonymized_836706.jpg  \n",
      "  inflating: datasetCorregido/test/no/anonymized_684585.jpg  \n",
      "  inflating: datasetCorregido/test/no/anonymized_490785.jpg  \n",
      "  inflating: datasetCorregido/test/no/anonymized_139441.jpg  \n",
      "  inflating: datasetCorregido/test/no/anonymized_1624370.jpg  \n",
      "  inflating: datasetCorregido/test/no/anonymized_1880877.jpg  \n",
      "  inflating: datasetCorregido/test/no/anonymized_536033.jpg  \n",
      "  inflating: datasetCorregido/test/no/anonymized_499744.jpg  \n",
      "  inflating: datasetCorregido/test/no/anonymized_39482.jpg  \n",
      "  inflating: datasetCorregido/test/no/anonymized_279650.jpg  \n",
      "  inflating: datasetCorregido/test/no/anonymized_660376.jpg  \n",
      "  inflating: datasetCorregido/test/no/anonymized_366053.jpg  \n",
      "  inflating: datasetCorregido/test/no/anonymized_801130.jpg  \n",
      "   creating: datasetCorregido/test/yes/\n",
      "  inflating: datasetCorregido/test/yes/anonymized_1099275.jpg  \n",
      "  inflating: datasetCorregido/test/yes/anonymized_388477.jpg  \n",
      "  inflating: datasetCorregido/test/yes/anonymized_354888.jpg  \n",
      "  inflating: datasetCorregido/test/yes/anonymized_472578.jpg  \n",
      "  inflating: datasetCorregido/test/yes/anonymized_1009693.jpg  \n",
      "  inflating: datasetCorregido/test/yes/anonymized_535637.jpg  \n",
      "  inflating: datasetCorregido/test/yes/anonymized_1298962.jpg  \n",
      "  inflating: datasetCorregido/test/yes/anonymized_305026.jpg  \n",
      "  inflating: datasetCorregido/test/yes/anonymized_1879259.jpg  \n",
      "  inflating: datasetCorregido/test/yes/anonymized_1361265.jpg  \n",
      "  inflating: datasetCorregido/test/yes/anonymized_1205499.jpg  \n",
      "  inflating: datasetCorregido/test/yes/anonymized_257362.jpg  \n",
      "  inflating: datasetCorregido/test/yes/anonymized_150168.jpg  \n",
      "  inflating: datasetCorregido/test/yes/anonymized_288067.jpg  \n",
      "  inflating: datasetCorregido/test/yes/anonymized_539260.jpg  \n",
      "  inflating: datasetCorregido/test/yes/anonymized_760302.jpg  \n",
      "  inflating: datasetCorregido/test/yes/anonymized_382807.jpg  \n",
      "  inflating: datasetCorregido/test/yes/anonymized_492637.jpg  \n",
      "  inflating: datasetCorregido/test/yes/anonymized_223138.jpg  \n",
      "  inflating: datasetCorregido/test/yes/anonymized_620484.jpg  \n",
      "  inflating: datasetCorregido/test/yes/anonymized_1390148.jpg  \n",
      "  inflating: datasetCorregido/test/yes/anonymized_315574.jpg  \n",
      "  inflating: datasetCorregido/test/yes/anonymized_223842.jpg  \n",
      "  inflating: datasetCorregido/test/yes/anonymized_982049.jpg  \n",
      "  inflating: datasetCorregido/test/yes/anonymized_389227.jpg  \n",
      "  inflating: datasetCorregido/test/yes/anonymized_1310964.jpg  \n",
      "  inflating: datasetCorregido/test/yes/anonymized_1245400.jpg  \n",
      "  inflating: datasetCorregido/test/yes/anonymized_480658.jpg  \n",
      "  inflating: datasetCorregido/test/yes/anonymized_370962.jpg  \n",
      "  inflating: datasetCorregido/test/yes/anonymized_679735.jpg  \n",
      "  inflating: datasetCorregido/test/yes/anonymized_922650.jpg  \n",
      "  inflating: datasetCorregido/test/yes/anonymized_371673.jpg  \n",
      "  inflating: datasetCorregido/test/yes/anonymized_1173780.jpg  \n",
      "  inflating: datasetCorregido/test/yes/anonymized_150978.jpg  \n",
      "  inflating: datasetCorregido/test/yes/anonymized_1271862.jpg  \n",
      "  inflating: datasetCorregido/test/yes/anonymized_324633.jpg  \n",
      "  inflating: datasetCorregido/test/yes/anonymized_1105645.jpg  \n",
      "  inflating: datasetCorregido/test/yes/anonymized_988656.jpg  \n",
      "  inflating: datasetCorregido/test/yes/anonymized_320172.jpg  \n",
      "  inflating: datasetCorregido/test/yes/anonymized_1356669.jpg  \n",
      "  inflating: datasetCorregido/test/yes/anonymized_282452.jpg  \n",
      "  inflating: datasetCorregido/test/yes/anonymized_208013.jpg  \n",
      "  inflating: datasetCorregido/test/yes/anonymized_398594.jpg  \n",
      "  inflating: datasetCorregido/test/yes/anonymized_466416.jpg  \n",
      "  inflating: datasetCorregido/test/yes/anonymized_696555.jpg  \n",
      "  inflating: datasetCorregido/test/yes/anonymized_588927.jpg  \n",
      "  inflating: datasetCorregido/test/yes/anonymized_496216.jpg  \n",
      "  inflating: datasetCorregido/test/yes/anonymized_1179402.jpg  \n",
      "  inflating: datasetCorregido/test/yes/anonymized_1197681.jpg  \n",
      "  inflating: datasetCorregido/test/yes/anonymized_661912.jpg  \n",
      "  inflating: datasetCorregido/test/yes/anonymized_1410502.jpg  \n",
      "  inflating: datasetCorregido/test/yes/anonymized_35707.jpg  \n",
      "  inflating: datasetCorregido/test/yes/anonymized_913811.jpg  \n",
      "  inflating: datasetCorregido/test/yes/anonymized_872505.jpg  \n",
      "  inflating: datasetCorregido/test/yes/anonymized_1894123.jpg  \n",
      "  inflating: datasetCorregido/test/yes/anonymized_1269119.jpg  \n",
      "  inflating: datasetCorregido/test/yes/anonymized_1180854.jpg  \n",
      "  inflating: datasetCorregido/test/yes/anonymized_723295.jpg  \n",
      "  inflating: datasetCorregido/test/yes/anonymized_602512.jpg  \n",
      "  inflating: datasetCorregido/test/yes/anonymized_302285.jpg  \n",
      "  inflating: datasetCorregido/test/yes/anonymized_1343058.jpg  \n",
      "  inflating: datasetCorregido/test/yes/anonymized_936652.jpg  \n",
      "  inflating: datasetCorregido/test/yes/anonymized_100028.jpg  \n",
      "  inflating: datasetCorregido/test/yes/anonymized_398888.jpg  \n",
      "  inflating: datasetCorregido/test/yes/anonymized_133968.jpg  \n",
      "  inflating: datasetCorregido/test/yes/anonymized_737748.jpg  \n",
      "  inflating: datasetCorregido/test/yes/anonymized_133920.jpg  \n",
      "  inflating: datasetCorregido/test/yes/anonymized_847848.jpg  \n",
      "  inflating: datasetCorregido/test/yes/anonymized_684586.jpg  \n",
      "  inflating: datasetCorregido/test/yes/anonymized_417652.jpg  \n",
      "  inflating: datasetCorregido/test/yes/anonymized_450561.jpg  \n",
      "  inflating: datasetCorregido/test/yes/anonymized_657020.jpg  \n",
      "  inflating: datasetCorregido/test/yes/anonymized_328794.jpg  \n",
      "  inflating: datasetCorregido/test/yes/anonymized_680366.jpg  \n",
      "  inflating: datasetCorregido/test/yes/anonymized_451395.jpg  \n",
      "  inflating: datasetCorregido/test/yes/anonymized_531438.jpg  \n",
      "  inflating: datasetCorregido/test/yes/anonymized_347958.jpg  \n",
      "  inflating: datasetCorregido/test/yes/anonymized_224099.jpg  \n",
      "  inflating: datasetCorregido/test/yes/anonymized_282143.jpg  \n",
      "  inflating: datasetCorregido/test/yes/anonymized_496996.jpg  \n",
      "  inflating: datasetCorregido/test/yes/anonymized_884700.jpg  \n",
      "  inflating: datasetCorregido/test/yes/anonymized_595789.jpg  \n",
      "  inflating: datasetCorregido/test/yes/anonymized_497305.jpg  \n",
      "  inflating: datasetCorregido/test/yes/anonymized_708540.jpg  \n",
      "  inflating: datasetCorregido/test/yes/anonymized_208398.jpg  \n",
      "  inflating: datasetCorregido/test/yes/anonymized_200025.jpg  \n",
      "  inflating: datasetCorregido/test/yes/anonymized_683601.jpg  \n",
      "  inflating: datasetCorregido/test/yes/anonymized_816454.jpg  \n",
      "  inflating: datasetCorregido/test/yes/anonymized_589646.jpg  \n",
      "  inflating: datasetCorregido/test/yes/anonymized_877876.jpg  \n",
      "  inflating: datasetCorregido/test/yes/anonymized_1386473.jpg  \n",
      "  inflating: datasetCorregido/test/yes/anonymized_1305426.jpg  \n",
      "  inflating: datasetCorregido/test/yes/anonymized_37747.jpg  \n",
      "  inflating: datasetCorregido/test/yes/anonymized_139286.jpg  \n",
      "  inflating: datasetCorregido/test/yes/anonymized_1274315.jpg  \n",
      "  inflating: datasetCorregido/test/yes/anonymized_1408559.jpg  \n",
      "  inflating: datasetCorregido/test/yes/anonymized_912241.jpg  \n",
      "  inflating: datasetCorregido/test/yes/anonymized_874911.jpg  \n",
      "  inflating: datasetCorregido/test/yes/anonymized_522020.jpg  \n",
      "  inflating: datasetCorregido/test/yes/anonymized_1371320.jpg  \n",
      "  inflating: datasetCorregido/test/yes/anonymized_498836.jpg  \n",
      "  inflating: datasetCorregido/test/yes/anonymized_622891.jpg  \n",
      "  inflating: datasetCorregido/test/yes/anonymized_851080.jpg  \n",
      "  inflating: datasetCorregido/test/yes/anonymized_853051.jpg  \n",
      "  inflating: datasetCorregido/test/yes/anonymized_523372.jpg  \n",
      "  inflating: datasetCorregido/test/yes/anonymized_1195576.jpg  \n",
      "  inflating: datasetCorregido/test/yes/anonymized_1250598.jpg  \n",
      "  inflating: datasetCorregido/test/yes/anonymized_362334.jpg  \n",
      "  inflating: datasetCorregido/test/yes/anonymized_1891893.jpg  \n",
      "  inflating: datasetCorregido/test/yes/anonymized_907994.jpg  \n",
      "  inflating: datasetCorregido/test/yes/anonymized_1298869.jpg  \n",
      "  inflating: datasetCorregido/test/yes/anonymized_562912.jpg  \n",
      "  inflating: datasetCorregido/test/yes/anonymized_641969.jpg  \n",
      "  inflating: datasetCorregido/test/yes/anonymized_757009.jpg  \n",
      "  inflating: datasetCorregido/test/yes/anonymized_931281.jpg  \n",
      "  inflating: datasetCorregido/test/yes/anonymized_277475.jpg  \n",
      "  inflating: datasetCorregido/test/yes/anonymized_709042.jpg  \n",
      "  inflating: datasetCorregido/test/yes/anonymized_778360.jpg  \n",
      "  inflating: datasetCorregido/test/yes/anonymized_836670.jpg  \n",
      "  inflating: datasetCorregido/test/yes/anonymized_724158.jpg  \n",
      "  inflating: datasetCorregido/test/yes/anonymized_576819.jpg  \n",
      "  inflating: datasetCorregido/test/yes/anonymized_280876.jpg  \n",
      "  inflating: datasetCorregido/test/yes/anonymized_597728.jpg  \n",
      "  inflating: datasetCorregido/test/yes/anonymized_520306.jpg  \n",
      "  inflating: datasetCorregido/test/yes/anonymized_1175227.jpg  \n",
      "  inflating: datasetCorregido/test/yes/anonymized_37746.jpg  \n",
      "  inflating: datasetCorregido/test/yes/anonymized_682691.jpg  \n",
      "  inflating: datasetCorregido/test/yes/anonymized_1386170.jpg  \n",
      "  inflating: datasetCorregido/test/yes/anonymized_158230.jpg  \n",
      "  inflating: datasetCorregido/test/yes/anonymized_207601.jpg  \n",
      "  inflating: datasetCorregido/test/yes/anonymized_682917.jpg  \n",
      "  inflating: datasetCorregido/test/yes/anonymized_260692.jpg  \n",
      "  inflating: datasetCorregido/test/yes/anonymized_307994.jpg  \n",
      "  inflating: datasetCorregido/test/yes/anonymized_1328723.jpg  \n",
      "  inflating: datasetCorregido/test/yes/anonymized_357116.jpg  \n",
      "  inflating: datasetCorregido/test/yes/anonymized_795240.jpg  \n",
      "  inflating: datasetCorregido/test/yes/anonymized_144942.jpg  \n",
      "  inflating: datasetCorregido/test/yes/anonymized_601557.jpg  \n",
      "  inflating: datasetCorregido/test/yes/anonymized_223740.jpg  \n",
      "  inflating: datasetCorregido/test/yes/anonymized_1348717.jpg  \n",
      "  inflating: datasetCorregido/test/yes/anonymized_40207.jpg  \n",
      "  inflating: datasetCorregido/test/yes/anonymized_455747.jpg  \n",
      "  inflating: datasetCorregido/test/yes/anonymized_526335.jpg  \n",
      "  inflating: datasetCorregido/test/yes/anonymized_1191756.jpg  \n",
      "  inflating: datasetCorregido/test/yes/anonymized_627961.jpg  \n",
      "  inflating: datasetCorregido/test/yes/anonymized_304577.jpg  \n",
      "  inflating: datasetCorregido/test/yes/anonymized_181895.jpg  \n",
      "  inflating: datasetCorregido/test/yes/anonymized_439867.jpg  \n",
      "  inflating: datasetCorregido/test/yes/anonymized_836675.jpg  \n",
      "  inflating: datasetCorregido/test/yes/anonymized_233678.jpg  \n",
      "  inflating: datasetCorregido/test/yes/anonymized_237592.jpg  \n",
      "  inflating: datasetCorregido/test/yes/anonymized_675396.jpg  \n",
      "  inflating: datasetCorregido/test/yes/anonymized_499002.jpg  \n",
      "  inflating: datasetCorregido/test/yes/anonymized_342135.jpg  \n",
      "  inflating: datasetCorregido/test/yes/anonymized_946286.jpg  \n",
      "  inflating: datasetCorregido/test/yes/anonymized_426056.jpg  \n",
      "  inflating: datasetCorregido/test/yes/anonymized_272981.jpg  \n",
      "  inflating: datasetCorregido/test/yes/anonymized_837413.jpg  \n",
      "  inflating: datasetCorregido/test/yes/anonymized_856309.jpg  \n",
      "  inflating: datasetCorregido/test/yes/anonymized_153022.jpg  \n",
      "  inflating: datasetCorregido/test/yes/anonymized_1892458.jpg  \n",
      "  inflating: datasetCorregido/test/yes/anonymized_160251.jpg  \n",
      "  inflating: datasetCorregido/test/yes/anonymized_851572.jpg  \n",
      "  inflating: datasetCorregido/test/yes/anonymized_440183.jpg  \n",
      "  inflating: datasetCorregido/test/yes/anonymized_1362046.jpg  \n",
      "  inflating: datasetCorregido/test/yes/anonymized_1813054.jpg  \n",
      "  inflating: datasetCorregido/test/yes/anonymized_426269.jpg  \n",
      "  inflating: datasetCorregido/test/yes/anonymized_1324591.jpg  \n",
      "  inflating: datasetCorregido/test/yes/anonymized_142592.jpg  \n",
      "  inflating: datasetCorregido/test/yes/anonymized_233083.jpg  \n",
      "  inflating: datasetCorregido/test/yes/anonymized_977938.jpg  \n",
      "  inflating: datasetCorregido/test/yes/anonymized_1453111.jpg  \n",
      "  inflating: datasetCorregido/test/yes/anonymized_693223.jpg  \n",
      "  inflating: datasetCorregido/test/yes/anonymized_192766.jpg  \n",
      "  inflating: datasetCorregido/test/yes/anonymized_45488.jpg  \n",
      "  inflating: datasetCorregido/test/yes/anonymized_396912.jpg  \n",
      "  inflating: datasetCorregido/test/yes/anonymized_653960.jpg  \n",
      "  inflating: datasetCorregido/test/yes/anonymized_316766.jpg  \n",
      "  inflating: datasetCorregido/test/yes/anonymized_993478.jpg  \n",
      "  inflating: datasetCorregido/test/yes/anonymized_525942.jpg  \n",
      "  inflating: datasetCorregido/test/yes/anonymized_236791.jpg  \n",
      "  inflating: datasetCorregido/test/yes/anonymized_477905.jpg  \n",
      "  inflating: datasetCorregido/test/yes/anonymized_244390.jpg  \n",
      "  inflating: datasetCorregido/test/yes/anonymized_611296.jpg  \n",
      "  inflating: datasetCorregido/test/yes/anonymized_977586.jpg  \n",
      "  inflating: datasetCorregido/test/yes/anonymized_1006566.jpg  \n",
      "  inflating: datasetCorregido/test/yes/anonymized_204425.jpg  \n",
      "  inflating: datasetCorregido/test/yes/anonymized_352555.jpg  \n",
      "  inflating: datasetCorregido/test/yes/anonymized_931535.jpg  \n",
      "  inflating: datasetCorregido/test/yes/anonymized_610038.jpg  \n",
      "  inflating: datasetCorregido/test/yes/anonymized_804693.jpg  \n",
      "  inflating: datasetCorregido/test/yes/anonymized_188812.jpg  \n",
      "  inflating: datasetCorregido/test/yes/anonymized_187471.jpg  \n",
      "  inflating: datasetCorregido/test/yes/anonymized_931203.jpg  \n",
      "  inflating: datasetCorregido/test/yes/anonymized_330635.jpg  \n",
      "  inflating: datasetCorregido/test/yes/anonymized_47010.jpg  \n",
      "  inflating: datasetCorregido/test/yes/anonymized_1384582.jpg  \n",
      "  inflating: datasetCorregido/test/yes/anonymized_777006.jpg  \n",
      "  inflating: datasetCorregido/test/yes/anonymized_719342.jpg  \n",
      "  inflating: datasetCorregido/test/yes/anonymized_688535.jpg  \n",
      "  inflating: datasetCorregido/test/yes/anonymized_44258.jpg  \n",
      "  inflating: datasetCorregido/test/yes/anonymized_248300.jpg  \n",
      "  inflating: datasetCorregido/test/yes/anonymized_555256.jpg  \n",
      "  inflating: datasetCorregido/test/yes/anonymized_328596.jpg  \n",
      "  inflating: datasetCorregido/test/yes/anonymized_573039.jpg  \n",
      "  inflating: datasetCorregido/test/yes/anonymized_600686.jpg  \n",
      "  inflating: datasetCorregido/test/yes/anonymized_401497.jpg  \n",
      "  inflating: datasetCorregido/test/yes/anonymized_313052.jpg  \n",
      "  inflating: datasetCorregido/test/yes/anonymized_907834.jpg  \n",
      "  inflating: datasetCorregido/test/yes/anonymized_1347921.jpg  \n",
      "  inflating: datasetCorregido/test/yes/anonymized_1000635.jpg  \n",
      "  inflating: datasetCorregido/test/yes/anonymized_648055.jpg  \n",
      "  inflating: datasetCorregido/test/yes/anonymized_829148.jpg  \n",
      "  inflating: datasetCorregido/test/yes/anonymized_486276.jpg  \n",
      "  inflating: datasetCorregido/test/yes/anonymized_887857.jpg  \n",
      "  inflating: datasetCorregido/test/yes/anonymized_211419.jpg  \n",
      "  inflating: datasetCorregido/test/yes/anonymized_777173.jpg  \n",
      "  inflating: datasetCorregido/test/yes/anonymized_455267.jpg  \n",
      "  inflating: datasetCorregido/test/yes/anonymized_1882994.jpg  \n",
      "  inflating: datasetCorregido/test/yes/anonymized_993668.jpg  \n",
      "  inflating: datasetCorregido/test/yes/anonymized_232858.jpg  \n",
      "  inflating: datasetCorregido/test/yes/anonymized_1250541.jpg  \n",
      "  inflating: datasetCorregido/test/yes/anonymized_723877.jpg  \n",
      "  inflating: datasetCorregido/test/yes/anonymized_1152038.jpg  \n",
      "  inflating: datasetCorregido/test/yes/anonymized_529101.jpg  \n",
      "  inflating: datasetCorregido/test/yes/anonymized_934522.jpg  \n",
      "  inflating: datasetCorregido/test/yes/anonymized_1180857.jpg  \n",
      "  inflating: datasetCorregido/test/yes/anonymized_623655.jpg  \n",
      "  inflating: datasetCorregido/test/yes/anonymized_194469.jpg  \n",
      "  inflating: datasetCorregido/test/yes/anonymized_1880499.jpg  \n",
      "  inflating: datasetCorregido/test/yes/anonymized_1261527.jpg  \n",
      "  inflating: datasetCorregido/test/yes/anonymized_508808.jpg  \n",
      "  inflating: datasetCorregido/test/yes/anonymized_874308.jpg  \n",
      "  inflating: datasetCorregido/test/yes/anonymized_805537.jpg  \n",
      "  inflating: datasetCorregido/test/yes/anonymized_499004.jpg  \n",
      "  inflating: datasetCorregido/test/yes/anonymized_429527.jpg  \n",
      "  inflating: datasetCorregido/test/yes/anonymized_686520.jpg  \n",
      "  inflating: datasetCorregido/test/yes/anonymized_909596.jpg  \n",
      "  inflating: datasetCorregido/test/yes/anonymized_216720.jpg  \n",
      "  inflating: datasetCorregido/test/yes/anonymized_250622.jpg  \n",
      "  inflating: datasetCorregido/test/yes/anonymized_1691572.jpg  \n",
      "  inflating: datasetCorregido/test/yes/anonymized_50742.jpg  \n",
      "  inflating: datasetCorregido/test/yes/anonymized_376048.jpg  \n",
      "  inflating: datasetCorregido/test/yes/anonymized_728752.jpg  \n",
      "  inflating: datasetCorregido/test/yes/anonymized_444237.jpg  \n",
      "  inflating: datasetCorregido/test/yes/anonymized_263550.jpg  \n",
      "  inflating: datasetCorregido/test/yes/anonymized_611997.jpg  \n",
      "  inflating: datasetCorregido/test/yes/anonymized_714808.jpg  \n",
      "  inflating: datasetCorregido/test/yes/anonymized_1529187.jpg  \n",
      "  inflating: datasetCorregido/test/yes/anonymized_800969.jpg  \n",
      "  inflating: datasetCorregido/test/yes/anonymized_804666.jpg  \n",
      "  inflating: datasetCorregido/test/yes/anonymized_679757.jpg  \n",
      "  inflating: datasetCorregido/test/yes/anonymized_837304.jpg  \n",
      "  inflating: datasetCorregido/test/yes/anonymized_980133.jpg  \n",
      "  inflating: datasetCorregido/test/yes/anonymized_1370117.jpg  \n",
      "  inflating: datasetCorregido/test/yes/anonymized_757010.jpg  \n",
      "  inflating: datasetCorregido/test/yes/anonymized_1270093.jpg  \n",
      "  inflating: datasetCorregido/test/yes/anonymized_636976.jpg  \n",
      "  inflating: datasetCorregido/test/yes/anonymized_1315744.jpg  \n",
      "  inflating: datasetCorregido/test/yes/anonymized_94344.jpg  \n",
      "  inflating: datasetCorregido/test/yes/anonymized_553874.jpg  \n",
      "  inflating: datasetCorregido/test/yes/anonymized_894354.jpg  \n",
      "  inflating: datasetCorregido/test/yes/anonymized_331968.jpg  \n",
      "  inflating: datasetCorregido/test/yes/anonymized_205923.jpg  \n",
      "  inflating: datasetCorregido/test/yes/anonymized_250624.jpg  \n",
      "  inflating: datasetCorregido/test/yes/anonymized_944596.jpg  \n",
      "  inflating: datasetCorregido/test/yes/anonymized_624468.jpg  \n",
      "  inflating: datasetCorregido/test/yes/anonymized_185808.jpg  \n",
      "  inflating: datasetCorregido/test/yes/anonymized_186639.jpg  \n",
      "  inflating: datasetCorregido/test/yes/anonymized_1406301.jpg  \n",
      "  inflating: datasetCorregido/test/yes/anonymized_541816.jpg  \n",
      "  inflating: datasetCorregido/test/yes/anonymized_222718.jpg  \n",
      "  inflating: datasetCorregido/test/yes/anonymized_266007.jpg  \n",
      "  inflating: datasetCorregido/test/yes/anonymized_240013.jpg  \n",
      "  inflating: datasetCorregido/test/yes/anonymized_378505.jpg  \n",
      "  inflating: datasetCorregido/test/yes/anonymized_521727.jpg  \n",
      "  inflating: datasetCorregido/test/yes/anonymized_778232.jpg  \n",
      "  inflating: datasetCorregido/test/yes/anonymized_802265.jpg  \n",
      "  inflating: datasetCorregido/test/yes/anonymized_150633.jpg  \n",
      "  inflating: datasetCorregido/test/yes/anonymized_693828.jpg  \n",
      "  inflating: datasetCorregido/test/yes/anonymized_205146.jpg  \n",
      "  inflating: datasetCorregido/test/yes/anonymized_770768.jpg  \n",
      "  inflating: datasetCorregido/test/yes/anonymized_250955.jpg  \n",
      "  inflating: datasetCorregido/test/yes/anonymized_247873.jpg  \n",
      "  inflating: datasetCorregido/test/yes/anonymized_1259505.jpg  \n",
      "  inflating: datasetCorregido/test/yes/anonymized_666455.jpg  \n",
      "  inflating: datasetCorregido/test/yes/anonymized_1238887.jpg  \n",
      "  inflating: datasetCorregido/test/yes/anonymized_1306809.jpg  \n",
      "  inflating: datasetCorregido/test/yes/anonymized_650646.jpg  \n",
      "  inflating: datasetCorregido/test/yes/anonymized_1237364.jpg  \n",
      "  inflating: datasetCorregido/test/yes/anonymized_314180.jpg  \n",
      "  inflating: datasetCorregido/test/yes/anonymized_667367.jpg  \n",
      "  inflating: datasetCorregido/test/yes/anonymized_371873.jpg  \n",
      "  inflating: datasetCorregido/test/yes/anonymized_947288.jpg  \n",
      "  inflating: datasetCorregido/test/yes/anonymized_688224.jpg  \n",
      "  inflating: datasetCorregido/test/yes/anonymized_1199265.jpg  \n",
      "  inflating: datasetCorregido/test/yes/anonymized_313639.jpg  \n",
      "  inflating: datasetCorregido/test/yes/anonymized_213068.jpg  \n",
      "  inflating: datasetCorregido/test/yes/anonymized_69009.jpg  \n",
      "  inflating: datasetCorregido/test/yes/anonymized_479650.jpg  \n",
      "  inflating: datasetCorregido/test/yes/anonymized_1200107.jpg  \n",
      "  inflating: datasetCorregido/test/yes/anonymized_775322.jpg  \n",
      "  inflating: datasetCorregido/test/yes/anonymized_457244.jpg  \n",
      "  inflating: datasetCorregido/test/yes/anonymized_241139.jpg  \n",
      "  inflating: datasetCorregido/test/yes/anonymized_463444.jpg  \n",
      "  inflating: datasetCorregido/test/yes/anonymized_1007427.jpg  \n",
      "  inflating: datasetCorregido/test/yes/anonymized_510756.jpg  \n",
      "  inflating: datasetCorregido/test/yes/anonymized_253485.jpg  \n",
      "  inflating: datasetCorregido/test/yes/anonymized_220389.jpg  \n",
      "  inflating: datasetCorregido/test/yes/anonymized_780388.jpg  \n",
      "  inflating: datasetCorregido/test/yes/anonymized_1097368.jpg  \n",
      "  inflating: datasetCorregido/test/yes/anonymized_198119.jpg  \n",
      "  inflating: datasetCorregido/test/yes/anonymized_319027.jpg  \n",
      "  inflating: datasetCorregido/test/yes/anonymized_450632.jpg  \n",
      "  inflating: datasetCorregido/test/yes/anonymized_315728.jpg  \n",
      "  inflating: datasetCorregido/test/yes/anonymized_845222.jpg  \n",
      "  inflating: datasetCorregido/test/yes/anonymized_487703.jpg  \n",
      "  inflating: datasetCorregido/test/yes/anonymized_453892.jpg  \n",
      "  inflating: datasetCorregido/test/yes/anonymized_814292.jpg  \n",
      "  inflating: datasetCorregido/test/yes/anonymized_911914.jpg  \n",
      "  inflating: datasetCorregido/test/yes/anonymized_1455681.jpg  \n",
      "  inflating: datasetCorregido/test/yes/anonymized_202046.jpg  \n",
      "  inflating: datasetCorregido/test/yes/anonymized_466421.jpg  \n",
      "  inflating: datasetCorregido/test/yes/anonymized_829217.jpg  \n",
      "  inflating: datasetCorregido/test/yes/anonymized_836669.jpg  \n",
      "  inflating: datasetCorregido/test/yes/anonymized_619398.jpg  \n",
      "  inflating: datasetCorregido/test/yes/anonymized_1186879.jpg  \n",
      "  inflating: datasetCorregido/test/yes/anonymized_552735.jpg  \n",
      "  inflating: datasetCorregido/test/yes/anonymized_1282012.jpg  \n",
      "  inflating: datasetCorregido/test/yes/anonymized_299348.jpg  \n",
      "  inflating: datasetCorregido/test/yes/anonymized_1205167.jpg  \n",
      "  inflating: datasetCorregido/test/yes/anonymized_169420.jpg  \n",
      "  inflating: datasetCorregido/test/yes/anonymized_715123.jpg  \n",
      "  inflating: datasetCorregido/test/yes/anonymized_915654.jpg  \n",
      "  inflating: datasetCorregido/test/yes/anonymized_189600.jpg  \n",
      "  inflating: datasetCorregido/test/yes/anonymized_673532.jpg  \n",
      "  inflating: datasetCorregido/test/yes/anonymized_307565.jpg  \n",
      "  inflating: datasetCorregido/test/yes/anonymized_511429.jpg  \n",
      "  inflating: datasetCorregido/test/yes/anonymized_243373.jpg  \n",
      "  inflating: datasetCorregido/test/yes/anonymized_629403.jpg  \n",
      "  inflating: datasetCorregido/test/yes/anonymized_630240.jpg  \n",
      "  inflating: datasetCorregido/test/yes/anonymized_165320.jpg  \n",
      "  inflating: datasetCorregido/test/yes/anonymized_839221.jpg  \n",
      "  inflating: datasetCorregido/test/yes/anonymized_47011.jpg  \n",
      "  inflating: datasetCorregido/test/yes/anonymized_777593.jpg  \n",
      "  inflating: datasetCorregido/test/yes/anonymized_426059.jpg  \n",
      "  inflating: datasetCorregido/test/yes/anonymized_377836.jpg  \n",
      "  inflating: datasetCorregido/test/yes/anonymized_685954.jpg  \n",
      "  inflating: datasetCorregido/test/yes/anonymized_1256267.jpg  \n",
      "  inflating: datasetCorregido/test/yes/anonymized_645666.jpg  \n",
      "  inflating: datasetCorregido/test/yes/anonymized_752449.jpg  \n",
      "  inflating: datasetCorregido/test/yes/anonymized_838221.jpg  \n",
      "  inflating: datasetCorregido/test/yes/anonymized_916748.jpg  \n",
      "  inflating: datasetCorregido/test/yes/anonymized_752362.jpg  \n",
      "  inflating: datasetCorregido/test/yes/anonymized_835698.jpg  \n",
      "  inflating: datasetCorregido/test/yes/anonymized_436223.jpg  \n",
      "  inflating: datasetCorregido/test/yes/anonymized_820344.jpg  \n",
      "  inflating: datasetCorregido/test/yes/anonymized_500556.jpg  \n",
      "  inflating: datasetCorregido/test/yes/anonymized_209993.jpg  \n",
      "  inflating: datasetCorregido/test/yes/anonymized_1385776.jpg  \n",
      "  inflating: datasetCorregido/test/yes/anonymized_196706.jpg  \n",
      "  inflating: datasetCorregido/test/yes/anonymized_892637.jpg  \n",
      "  inflating: datasetCorregido/test/yes/anonymized_41889.jpg  \n",
      "  inflating: datasetCorregido/test/yes/anonymized_463847.jpg  \n",
      "  inflating: datasetCorregido/test/yes/anonymized_1236799.jpg  \n",
      "  inflating: datasetCorregido/test/yes/anonymized_741429.jpg  \n",
      "  inflating: datasetCorregido/test/yes/anonymized_820326.jpg  \n",
      "  inflating: datasetCorregido/test/yes/anonymized_359240.jpg  \n",
      "  inflating: datasetCorregido/test/yes/anonymized_980135.jpg  \n",
      "  inflating: datasetCorregido/test/yes/anonymized_322117.jpg  \n",
      "  inflating: datasetCorregido/test/yes/anonymized_448598.jpg  \n",
      "  inflating: datasetCorregido/test/yes/anonymized_239063.jpg  \n",
      "  inflating: datasetCorregido/test/yes/anonymized_1386455.jpg  \n",
      "  inflating: datasetCorregido/test/yes/anonymized_143740.jpg  \n",
      "  inflating: datasetCorregido/test/yes/anonymized_614603.jpg  \n",
      "  inflating: datasetCorregido/test/yes/anonymized_996569.jpg  \n",
      "  inflating: datasetCorregido/test/yes/anonymized_1278344.jpg  \n",
      "  inflating: datasetCorregido/test/yes/anonymized_562015.jpg  \n",
      "  inflating: datasetCorregido/test/yes/anonymized_206392.jpg  \n",
      "  inflating: datasetCorregido/test/yes/anonymized_704865.jpg  \n",
      "  inflating: datasetCorregido/test/yes/anonymized_260889.jpg  \n",
      "  inflating: datasetCorregido/test/yes/anonymized_1482360.jpg  \n",
      "  inflating: datasetCorregido/test/yes/anonymized_453684.jpg  \n",
      "  inflating: datasetCorregido/test/yes/anonymized_1424846.jpg  \n",
      "  inflating: datasetCorregido/test/yes/anonymized_367720.jpg  \n",
      "  inflating: datasetCorregido/test/yes/anonymized_857685.jpg  \n",
      "  inflating: datasetCorregido/test/yes/anonymized_258954.jpg  \n",
      "  inflating: datasetCorregido/test/yes/anonymized_218081.jpg  \n",
      "  inflating: datasetCorregido/test/yes/anonymized_802561.jpg  \n",
      "  inflating: datasetCorregido/test/yes/anonymized_833670.jpg  \n",
      "  inflating: datasetCorregido/test/yes/anonymized_472194.jpg  \n",
      "  inflating: datasetCorregido/test/yes/anonymized_589083.jpg  \n",
      "  inflating: datasetCorregido/test/yes/anonymized_208399.jpg  \n",
      "  inflating: datasetCorregido/test/yes/anonymized_1207833.jpg  \n",
      "  inflating: datasetCorregido/test/yes/anonymized_502011.jpg  \n",
      "  inflating: datasetCorregido/test/yes/anonymized_224376.jpg  \n",
      "  inflating: datasetCorregido/test/yes/anonymized_932358.jpg  \n",
      "  inflating: datasetCorregido/test/yes/anonymized_914214.jpg  \n",
      "  inflating: datasetCorregido/test/yes/anonymized_146186.jpg  \n",
      "  inflating: datasetCorregido/test/yes/anonymized_502327.jpg  \n",
      "  inflating: datasetCorregido/test/yes/anonymized_499525.jpg  \n",
      "  inflating: datasetCorregido/test/yes/anonymized_893818.jpg  \n",
      "  inflating: datasetCorregido/test/yes/anonymized_321795.jpg  \n",
      "  inflating: datasetCorregido/test/yes/anonymized_763232.jpg  \n",
      "  inflating: datasetCorregido/test/yes/anonymized_616215.jpg  \n",
      "  inflating: datasetCorregido/test/yes/anonymized_237267.jpg  \n",
      "  inflating: datasetCorregido/test/yes/anonymized_248154.jpg  \n",
      "  inflating: datasetCorregido/test/yes/anonymized_1009254.jpg  \n",
      "  inflating: datasetCorregido/test/yes/anonymized_177612.jpg  \n",
      "  inflating: datasetCorregido/test/yes/anonymized_35710.jpg  \n",
      "  inflating: datasetCorregido/test/yes/anonymized_1605058.jpg  \n",
      "  inflating: datasetCorregido/test/yes/anonymized_822415.jpg  \n",
      "  inflating: datasetCorregido/test/yes/anonymized_925355.jpg  \n",
      "  inflating: datasetCorregido/test/yes/anonymized_274061.jpg  \n",
      "  inflating: datasetCorregido/test/yes/anonymized_571029.jpg  \n",
      "  inflating: datasetCorregido/test/yes/anonymized_893483.jpg  \n",
      "  inflating: datasetCorregido/test/yes/anonymized_1219590.jpg  \n",
      "  inflating: datasetCorregido/test/yes/anonymized_481269.jpg  \n",
      "  inflating: datasetCorregido/test/yes/anonymized_235906.jpg  \n",
      "  inflating: datasetCorregido/test/yes/anonymized_1398937.jpg  \n",
      "  inflating: datasetCorregido/test/yes/anonymized_127320.jpg  \n",
      "  inflating: datasetCorregido/test/yes/anonymized_564431.jpg  \n",
      "  inflating: datasetCorregido/test/yes/anonymized_301425.jpg  \n",
      "  inflating: datasetCorregido/test/yes/anonymized_695261.jpg  \n",
      "  inflating: datasetCorregido/test/yes/anonymized_262957.jpg  \n",
      "  inflating: datasetCorregido/test/yes/anonymized_588399.jpg  \n",
      "  inflating: datasetCorregido/test/yes/anonymized_638975.jpg  \n",
      "  inflating: datasetCorregido/test/yes/anonymized_1366667.jpg  \n",
      "  inflating: datasetCorregido/test/yes/anonymized_149560.jpg  \n",
      "  inflating: datasetCorregido/test/yes/anonymized_261550.jpg  \n",
      "  inflating: datasetCorregido/test/yes/anonymized_622890.jpg  \n",
      "  inflating: datasetCorregido/test/yes/anonymized_266015.jpg  \n",
      "  inflating: datasetCorregido/test/yes/anonymized_1221811.jpg  \n",
      "  inflating: datasetCorregido/test/yes/anonymized_1104409.jpg  \n",
      "  inflating: datasetCorregido/test/yes/anonymized_258969.jpg  \n",
      "  inflating: datasetCorregido/test/yes/anonymized_207594.jpg  \n",
      "  inflating: datasetCorregido/test/yes/anonymized_376126.jpg  \n",
      "  inflating: datasetCorregido/test/yes/anonymized_519184.jpg  \n",
      "  inflating: datasetCorregido/test/yes/anonymized_213171.jpg  \n",
      "  inflating: datasetCorregido/test/yes/anonymized_523192.jpg  \n",
      "  inflating: datasetCorregido/test/yes/anonymized_833657.jpg  \n",
      "  inflating: datasetCorregido/test/yes/anonymized_1261783.jpg  \n",
      "  inflating: datasetCorregido/test/yes/anonymized_148988.jpg  \n",
      "  inflating: datasetCorregido/test/yes/anonymized_321487.jpg  \n",
      "  inflating: datasetCorregido/test/yes/anonymized_296439.jpg  \n",
      "  inflating: datasetCorregido/test/yes/anonymized_796593.jpg  \n",
      "  inflating: datasetCorregido/test/yes/anonymized_245533.jpg  \n",
      "  inflating: datasetCorregido/test/yes/anonymized_452800.jpg  \n",
      "  inflating: datasetCorregido/test/yes/anonymized_739360.jpg  \n",
      "  inflating: datasetCorregido/test/yes/anonymized_581784.jpg  \n",
      "  inflating: datasetCorregido/test/yes/anonymized_398922.jpg  \n",
      "  inflating: datasetCorregido/test/yes/anonymized_1270091.jpg  \n",
      "  inflating: datasetCorregido/test/yes/anonymized_810006.jpg  \n",
      "  inflating: datasetCorregido/test/yes/anonymized_983380.jpg  \n",
      "  inflating: datasetCorregido/test/yes/anonymized_483015.jpg  \n",
      "  inflating: datasetCorregido/test/yes/anonymized_168654.jpg  \n"
     ]
    }
   ],
   "source": [
    "!unzip erm.zip"
   ]
  },
  {
   "cell_type": "code",
   "execution_count": 1,
   "metadata": {
    "id": "xa8czXjMFs6s"
   },
   "outputs": [],
   "source": [
    "from fastai.vision.all import *\n",
    "import fastai\n",
    "from wwf.vision.timm import *\n",
    "import torch\n",
    "torch.cuda.set_device(1)"
   ]
  },
  {
   "cell_type": "code",
   "execution_count": 2,
   "metadata": {
    "id": "fZBBfWqAFwTe"
   },
   "outputs": [],
   "source": [
    "path = Path('datasetCorregido/')\n",
    "trainPath = path/'train'\n",
    "testPath = path/'test'"
   ]
  },
  {
   "cell_type": "code",
   "execution_count": 3,
   "metadata": {
    "id": "Y2g2SnOFFxel"
   },
   "outputs": [],
   "source": [
    "def getDataBlock(presize=512,size=256):\n",
    "    return DataBlock(blocks = (ImageBlock, CategoryBlock),\n",
    "                 get_items=get_image_files, \n",
    "                 splitter=RandomSplitter(valid_pct=0.2,seed=42),\n",
    "                 get_y=parent_label,\n",
    "                 item_tfms = Resize(presize),\n",
    "                 batch_tfms=[*aug_transforms(size=size, min_scale=0.75,do_flip=True,flip_vert=True,\n",
    "                      max_rotate=360,max_warp=0,max_zoom=1.1,\n",
    "                      max_lighting=0.1,p_lighting=0.5), Normalize.from_stats(*imagenet_stats)])"
   ]
  },
  {
   "cell_type": "code",
   "execution_count": 4,
   "metadata": {
    "id": "QQ3i6fZYFzIv"
   },
   "outputs": [],
   "source": [
    "db512 = getDataBlock()\n",
    "dls512 = db512.dataloaders(trainPath,bs=8)"
   ]
  },
  {
   "cell_type": "code",
   "execution_count": 5,
   "metadata": {
    "id": "x0nGj448F0cA"
   },
   "outputs": [],
   "source": [
    "from fastai.vision.all import *\n",
    "import timm\n",
    "callbacks = [\n",
    "    ShowGraphCallback(),\n",
    "    EarlyStoppingCallback(patience=3),\n",
    "    SaveModelCallback(fname='resnest18')\n",
    "]"
   ]
  },
  {
   "cell_type": "code",
   "execution_count": 6,
   "metadata": {
    "colab": {
     "base_uri": "https://localhost:8080/"
    },
    "executionInfo": {
     "elapsed": 7877,
     "status": "ok",
     "timestamp": 1615227924997,
     "user": {
      "displayName": "Adrián Inés",
      "photoUrl": "",
      "userId": "05591729960422855292"
     },
     "user_tz": -60
    },
    "id": "HuHKYL8dGv21",
    "outputId": "7a81a364-a471-4031-f984-73c297e066b0"
   },
   "outputs": [],
   "source": [
    "modelo=timm.models.hrnet.hrnet_w64(num_classes=2)"
   ]
  },
  {
   "cell_type": "code",
   "execution_count": 7,
   "metadata": {
    "id": "oEb9Sh2pIa5S"
   },
   "outputs": [],
   "source": [
    "lr=1e-4"
   ]
  },
  {
   "cell_type": "markdown",
   "metadata": {
    "id": "NAdBbRPWFLmu"
   },
   "source": [
    "## Ranger"
   ]
  },
  {
   "cell_type": "code",
   "execution_count": 9,
   "metadata": {
    "id": "CDVlVDfNZ17N"
   },
   "outputs": [],
   "source": [
    "opt_func = partial(ranger, beta=0.99, eps=1e-6)"
   ]
  },
  {
   "cell_type": "code",
   "execution_count": 9,
   "metadata": {
    "id": "w_Cvt7u0F3KB"
   },
   "outputs": [],
   "source": [
    "learn = Learner(dls512, modelo,cbs = callbacks,metrics=[accuracy,Precision(),Recall()],opt_func=opt_func)"
   ]
  },
  {
   "cell_type": "code",
   "execution_count": 10,
   "metadata": {
    "colab": {
     "base_uri": "https://localhost:8080/",
     "height": 300
    },
    "executionInfo": {
     "elapsed": 123039,
     "status": "ok",
     "timestamp": 1615228083149,
     "user": {
      "displayName": "Adrián Inés",
      "photoUrl": "",
      "userId": "05591729960422855292"
     },
     "user_tz": -60
    },
    "id": "t6MJYY8qAGoA",
    "outputId": "7abb6519-d76e-47b7-f9d0-334c03f5553d"
   },
   "outputs": [
    {
     "data": {
      "text/html": [],
      "text/plain": [
       "<IPython.core.display.HTML object>"
      ]
     },
     "metadata": {},
     "output_type": "display_data"
    },
    {
     "data": {
      "text/plain": [
       "SuggestedLRs(lr_min=2.511886486900039e-06, lr_steep=0.14454397559165955)"
      ]
     },
     "execution_count": 10,
     "metadata": {},
     "output_type": "execute_result"
    },
    {
     "data": {
      "image/png": "[encoded data removed]",
      "text/plain": [
       "<Figure size 432x288 with 1 Axes>"
      ]
     },
     "metadata": {
      "needs_background": "light"
     },
     "output_type": "display_data"
    }
   ],
   "source": [
    "learn.lr_find()"
   ]
  },
  {
   "cell_type": "code",
   "execution_count": 11,
   "metadata": {
    "colab": {
     "base_uri": "https://localhost:8080/",
     "height": 1000
    },
    "executionInfo": {
     "elapsed": 1874785,
     "status": "ok",
     "timestamp": 1615229834904,
     "user": {
      "displayName": "Adrián Inés",
      "photoUrl": "",
      "userId": "05591729960422855292"
     },
     "user_tz": -60
    },
    "id": "3NCIDtf-F8hw",
    "outputId": "327e7d8d-b576-4f28-b31e-3f9468b65593"
   },
   "outputs": [
    {
     "data": {
      "text/html": [
       "<table border=\"1\" class=\"dataframe\">\n",
       "  <thead>\n",
       "    <tr style=\"text-align: left;\">\n",
       "      <th>epoch</th>\n",
       "      <th>train_loss</th>\n",
       "      <th>valid_loss</th>\n",
       "      <th>accuracy</th>\n",
       "      <th>precision_score</th>\n",
       "      <th>recall_score</th>\n",
       "      <th>time</th>\n",
       "    </tr>\n",
       "  </thead>\n",
       "  <tbody>\n",
       "    <tr>\n",
       "      <td>0</td>\n",
       "      <td>0.695889</td>\n",
       "      <td>0.696687</td>\n",
       "      <td>0.469419</td>\n",
       "      <td>0.457478</td>\n",
       "      <td>0.490566</td>\n",
       "      <td>01:38</td>\n",
       "    </tr>\n",
       "    <tr>\n",
       "      <td>1</td>\n",
       "      <td>0.694370</td>\n",
       "      <td>0.697941</td>\n",
       "      <td>0.483180</td>\n",
       "      <td>0.477679</td>\n",
       "      <td>0.672956</td>\n",
       "      <td>01:39</td>\n",
       "    </tr>\n",
       "  </tbody>\n",
       "</table>"
      ],
      "text/plain": [
       "<IPython.core.display.HTML object>"
      ]
     },
     "metadata": {},
     "output_type": "display_data"
    },
    {
     "name": "stdout",
     "output_type": "stream",
     "text": [
      "Better model found at epoch 0 with valid_loss value: 0.6966869831085205.\n"
     ]
    },
    {
     "data": {
      "image/png": "[encoded data removed]",
      "text/plain": [
       "<Figure size 432x288 with 1 Axes>"
      ]
     },
     "metadata": {},
     "output_type": "display_data"
    },
    {
     "data": {
      "text/html": [
       "<table border=\"1\" class=\"dataframe\">\n",
       "  <thead>\n",
       "    <tr style=\"text-align: left;\">\n",
       "      <th>epoch</th>\n",
       "      <th>train_loss</th>\n",
       "      <th>valid_loss</th>\n",
       "      <th>accuracy</th>\n",
       "      <th>precision_score</th>\n",
       "      <th>recall_score</th>\n",
       "      <th>time</th>\n",
       "    </tr>\n",
       "  </thead>\n",
       "  <tbody>\n",
       "    <tr>\n",
       "      <td>0</td>\n",
       "      <td>0.691596</td>\n",
       "      <td>0.696326</td>\n",
       "      <td>0.484709</td>\n",
       "      <td>0.474934</td>\n",
       "      <td>0.566038</td>\n",
       "      <td>01:39</td>\n",
       "    </tr>\n",
       "    <tr>\n",
       "      <td>1</td>\n",
       "      <td>0.694473</td>\n",
       "      <td>0.697633</td>\n",
       "      <td>0.466361</td>\n",
       "      <td>0.460759</td>\n",
       "      <td>0.572327</td>\n",
       "      <td>01:39</td>\n",
       "    </tr>\n",
       "    <tr>\n",
       "      <td>2</td>\n",
       "      <td>0.693810</td>\n",
       "      <td>0.697556</td>\n",
       "      <td>0.474006</td>\n",
       "      <td>0.470588</td>\n",
       "      <td>0.654088</td>\n",
       "      <td>01:39</td>\n",
       "    </tr>\n",
       "    <tr>\n",
       "      <td>3</td>\n",
       "      <td>0.691643</td>\n",
       "      <td>0.697427</td>\n",
       "      <td>0.478593</td>\n",
       "      <td>0.474836</td>\n",
       "      <td>0.682390</td>\n",
       "      <td>01:39</td>\n",
       "    </tr>\n",
       "  </tbody>\n",
       "</table>"
      ],
      "text/plain": [
       "<IPython.core.display.HTML object>"
      ]
     },
     "metadata": {},
     "output_type": "display_data"
    },
    {
     "name": "stdout",
     "output_type": "stream",
     "text": [
      "Better model found at epoch 0 with valid_loss value: 0.6963263750076294.\n"
     ]
    },
    {
     "data": {
      "image/png": "[encoded data removed]",
      "text/plain": [
       "<Figure size 432x288 with 1 Axes>"
      ]
     },
     "metadata": {},
     "output_type": "display_data"
    },
    {
     "name": "stdout",
     "output_type": "stream",
     "text": [
      "No improvement since epoch 0: early stopping\n"
     ]
    }
   ],
   "source": [
    "learn.fine_tune(15,freeze_epochs=2,base_lr=lr)"
   ]
  },
  {
   "cell_type": "code",
   "execution_count": 12,
   "metadata": {
    "id": "c3ggmSV2FqM9"
   },
   "outputs": [],
   "source": [
    "dbTest = DataBlock(blocks = (ImageBlock, CategoryBlock),\n",
    "                 get_items=get_image_files, \n",
    "                 splitter=GrandparentSplitter(valid_name='test'),\n",
    "                 get_y=parent_label,\n",
    "                 item_tfms = Resize(512),\n",
    "                 batch_tfms=[*aug_transforms(size=256, min_scale=0.75), Normalize.from_stats(*imagenet_stats)])\n",
    "dlsTest = dbTest.dataloaders(path,bs=32)"
   ]
  },
  {
   "cell_type": "code",
   "execution_count": 13,
   "metadata": {
    "colab": {
     "base_uri": "https://localhost:8080/",
     "height": 743
    },
    "executionInfo": {
     "elapsed": 1885258,
     "status": "ok",
     "timestamp": 1615229845390,
     "user": {
      "displayName": "Adrián Inés",
      "photoUrl": "",
      "userId": "05591729960422855292"
     },
     "user_tz": -60
    },
    "id": "eT9INlUtFqM9",
    "outputId": "c7dfb39b-51ed-4238-c0f2-4625ee248383"
   },
   "outputs": [
    {
     "data": {
      "text/html": [],
      "text/plain": [
       "<IPython.core.display.HTML object>"
      ]
     },
     "metadata": {},
     "output_type": "display_data"
    },
    {
     "data": {
      "image/png": "[encoded data removed]",
      "text/plain": [
       "<Figure size 720x720 with 1 Axes>"
      ]
     },
     "metadata": {
      "needs_background": "light"
     },
     "output_type": "display_data"
    }
   ],
   "source": [
    "learn.dls = dlsTest\n",
    "interp = ClassificationInterpretation.from_learner(learn)\n",
    "interp.plot_confusion_matrix(figsize=(12,12),dpi=60)"
   ]
  },
  {
   "cell_type": "code",
   "execution_count": 14,
   "metadata": {
    "colab": {
     "base_uri": "https://localhost:8080/",
     "height": 51
    },
    "executionInfo": {
     "elapsed": 1895307,
     "status": "ok",
     "timestamp": 1615229855446,
     "user": {
      "displayName": "Adrián Inés",
      "photoUrl": "",
      "userId": "05591729960422855292"
     },
     "user_tz": -60
    },
    "id": "ZFb25Yq_FqM-",
    "outputId": "e0213d1c-d3ae-49ba-f21d-e0c9ae3e1eb9"
   },
   "outputs": [
    {
     "data": {
      "text/html": [],
      "text/plain": [
       "<IPython.core.display.HTML object>"
      ]
     },
     "metadata": {},
     "output_type": "display_data"
    },
    {
     "name": "stdout",
     "output_type": "stream",
     "text": [
      "Better model found at epoch 0 with valid_loss value: 0.48946717381477356.\n"
     ]
    },
    {
     "data": {
      "text/plain": [
       "(#4) [0.6967379450798035,0.48946717381477356,0.5478260869565217,0.5526315789473685]"
      ]
     },
     "execution_count": 14,
     "metadata": {},
     "output_type": "execute_result"
    }
   ],
   "source": [
    "learn.validate()"
   ]
  },
  {
   "cell_type": "markdown",
   "metadata": {
    "id": "ZwUrqqEYFSpd"
   },
   "source": [
    "## Faltten"
   ]
  },
  {
   "cell_type": "code",
   "execution_count": 15,
   "metadata": {
    "id": "bfTdcHilFZaM"
   },
   "outputs": [],
   "source": [
    "learn = Learner(dls512, modelo,cbs = callbacks,metrics=[accuracy,Precision(),Recall()])"
   ]
  },
  {
   "cell_type": "code",
   "execution_count": 16,
   "metadata": {
    "colab": {
     "base_uri": "https://localhost:8080/",
     "height": 447
    },
    "executionInfo": {
     "elapsed": 2097236,
     "status": "ok",
     "timestamp": 1615230057386,
     "user": {
      "displayName": "Adrián Inés",
      "photoUrl": "",
      "userId": "05591729960422855292"
     },
     "user_tz": -60
    },
    "id": "OVLJnwX-FZaN",
    "outputId": "6e180767-81f0-418d-ad45-8463642a71dc"
   },
   "outputs": [
    {
     "data": {
      "text/html": [
       "<table border=\"1\" class=\"dataframe\">\n",
       "  <thead>\n",
       "    <tr style=\"text-align: left;\">\n",
       "      <th>epoch</th>\n",
       "      <th>train_loss</th>\n",
       "      <th>valid_loss</th>\n",
       "      <th>accuracy</th>\n",
       "      <th>precision_score</th>\n",
       "      <th>recall_score</th>\n",
       "      <th>time</th>\n",
       "    </tr>\n",
       "  </thead>\n",
       "  <tbody>\n",
       "    <tr>\n",
       "      <td>0</td>\n",
       "      <td>0.717025</td>\n",
       "      <td>0.694386</td>\n",
       "      <td>0.489297</td>\n",
       "      <td>0.487692</td>\n",
       "      <td>0.996855</td>\n",
       "      <td>01:36</td>\n",
       "    </tr>\n",
       "    <tr>\n",
       "      <td>1</td>\n",
       "      <td>0.701311</td>\n",
       "      <td>0.698701</td>\n",
       "      <td>0.486239</td>\n",
       "      <td>0.486239</td>\n",
       "      <td>1.000000</td>\n",
       "      <td>01:36</td>\n",
       "    </tr>\n",
       "  </tbody>\n",
       "</table>"
      ],
      "text/plain": [
       "<IPython.core.display.HTML object>"
      ]
     },
     "metadata": {},
     "output_type": "display_data"
    },
    {
     "name": "stdout",
     "output_type": "stream",
     "text": [
      "Better model found at epoch 0 with valid_loss value: 0.694385826587677.\n"
     ]
    },
    {
     "data": {
      "image/png": "[encoded data removed]",
      "text/plain": [
       "<Figure size 432x288 with 1 Axes>"
      ]
     },
     "metadata": {},
     "output_type": "display_data"
    }
   ],
   "source": [
    "learn.fit_flat_cos(2,lr=1e-3)"
   ]
  },
  {
   "cell_type": "code",
   "execution_count": 17,
   "metadata": {
    "id": "zRbMCSVbFZaP"
   },
   "outputs": [],
   "source": [
    "learn.unfreeze()"
   ]
  },
  {
   "cell_type": "code",
   "execution_count": 18,
   "metadata": {
    "colab": {
     "base_uri": "https://localhost:8080/",
     "height": 300
    },
    "executionInfo": {
     "elapsed": 2206545,
     "status": "ok",
     "timestamp": 1615230166709,
     "user": {
      "displayName": "Adrián Inés",
      "photoUrl": "",
      "userId": "05591729960422855292"
     },
     "user_tz": -60
    },
    "id": "mv2jRwD8FZaP",
    "outputId": "08ebd6ed-1949-4614-e740-cdc106ba4560"
   },
   "outputs": [
    {
     "data": {
      "text/html": [],
      "text/plain": [
       "<IPython.core.display.HTML object>"
      ]
     },
     "metadata": {},
     "output_type": "display_data"
    },
    {
     "data": {
      "text/plain": [
       "SuggestedLRs(lr_min=1.0964781722577755e-07, lr_steep=0.6309573650360107)"
      ]
     },
     "execution_count": 18,
     "metadata": {},
     "output_type": "execute_result"
    },
    {
     "data": {
      "image/png": "[encoded data removed]",
      "text/plain": [
       "<Figure size 432x288 with 1 Axes>"
      ]
     },
     "metadata": {
      "needs_background": "light"
     },
     "output_type": "display_data"
    }
   ],
   "source": [
    "learn.lr_find()"
   ]
  },
  {
   "cell_type": "code",
   "execution_count": 19,
   "metadata": {
    "colab": {
     "base_uri": "https://localhost:8080/",
     "height": 455
    },
    "executionInfo": {
     "elapsed": 2605223,
     "status": "ok",
     "timestamp": 1615230565393,
     "user": {
      "displayName": "Adrián Inés",
      "photoUrl": "",
      "userId": "05591729960422855292"
     },
     "user_tz": -60
    },
    "id": "xqiurOg8FZaR",
    "outputId": "4f5e8dd5-2cdb-48d7-b155-319f567bf8cd"
   },
   "outputs": [
    {
     "data": {
      "text/html": [
       "<table border=\"1\" class=\"dataframe\">\n",
       "  <thead>\n",
       "    <tr style=\"text-align: left;\">\n",
       "      <th>epoch</th>\n",
       "      <th>train_loss</th>\n",
       "      <th>valid_loss</th>\n",
       "      <th>accuracy</th>\n",
       "      <th>precision_score</th>\n",
       "      <th>recall_score</th>\n",
       "      <th>time</th>\n",
       "    </tr>\n",
       "  </thead>\n",
       "  <tbody>\n",
       "    <tr>\n",
       "      <td>0</td>\n",
       "      <td>0.694511</td>\n",
       "      <td>0.739973</td>\n",
       "      <td>0.510703</td>\n",
       "      <td>0.375000</td>\n",
       "      <td>0.009434</td>\n",
       "      <td>01:38</td>\n",
       "    </tr>\n",
       "    <tr>\n",
       "      <td>1</td>\n",
       "      <td>0.692513</td>\n",
       "      <td>0.690401</td>\n",
       "      <td>0.519878</td>\n",
       "      <td>0.510870</td>\n",
       "      <td>0.295597</td>\n",
       "      <td>01:38</td>\n",
       "    </tr>\n",
       "    <tr>\n",
       "      <td>2</td>\n",
       "      <td>0.689942</td>\n",
       "      <td>0.709074</td>\n",
       "      <td>0.530581</td>\n",
       "      <td>0.525346</td>\n",
       "      <td>0.358491</td>\n",
       "      <td>01:38</td>\n",
       "    </tr>\n",
       "    <tr>\n",
       "      <td>3</td>\n",
       "      <td>0.676160</td>\n",
       "      <td>0.673275</td>\n",
       "      <td>0.585627</td>\n",
       "      <td>0.582456</td>\n",
       "      <td>0.522013</td>\n",
       "      <td>01:38</td>\n",
       "    </tr>\n",
       "    <tr>\n",
       "      <td>4</td>\n",
       "      <td>0.669372</td>\n",
       "      <td>0.693173</td>\n",
       "      <td>0.623853</td>\n",
       "      <td>0.586124</td>\n",
       "      <td>0.770440</td>\n",
       "      <td>01:38</td>\n",
       "    </tr>\n",
       "    <tr>\n",
       "      <td>5</td>\n",
       "      <td>0.646615</td>\n",
       "      <td>0.636196</td>\n",
       "      <td>0.662080</td>\n",
       "      <td>0.652997</td>\n",
       "      <td>0.650943</td>\n",
       "      <td>01:37</td>\n",
       "    </tr>\n",
       "    <tr>\n",
       "      <td>6</td>\n",
       "      <td>0.632383</td>\n",
       "      <td>0.636987</td>\n",
       "      <td>0.666667</td>\n",
       "      <td>0.637363</td>\n",
       "      <td>0.729560</td>\n",
       "      <td>01:36</td>\n",
       "    </tr>\n",
       "    <tr>\n",
       "      <td>7</td>\n",
       "      <td>0.610907</td>\n",
       "      <td>0.622068</td>\n",
       "      <td>0.685015</td>\n",
       "      <td>0.683007</td>\n",
       "      <td>0.657233</td>\n",
       "      <td>01:36</td>\n",
       "    </tr>\n",
       "    <tr>\n",
       "      <td>8</td>\n",
       "      <td>0.602625</td>\n",
       "      <td>0.603742</td>\n",
       "      <td>0.657492</td>\n",
       "      <td>0.686508</td>\n",
       "      <td>0.544025</td>\n",
       "      <td>01:36</td>\n",
       "    </tr>\n",
       "    <tr>\n",
       "      <td>9</td>\n",
       "      <td>0.584537</td>\n",
       "      <td>0.589254</td>\n",
       "      <td>0.694190</td>\n",
       "      <td>0.706294</td>\n",
       "      <td>0.635220</td>\n",
       "      <td>01:35</td>\n",
       "    </tr>\n",
       "  </tbody>\n",
       "</table>"
      ],
      "text/plain": [
       "<IPython.core.display.HTML object>"
      ]
     },
     "metadata": {},
     "output_type": "display_data"
    },
    {
     "name": "stdout",
     "output_type": "stream",
     "text": [
      "Better model found at epoch 0 with valid_loss value: 0.7399730682373047.\n"
     ]
    },
    {
     "data": {
      "image/png": "[encoded data removed]",
      "text/plain": [
       "<Figure size 432x288 with 1 Axes>"
      ]
     },
     "metadata": {},
     "output_type": "display_data"
    },
    {
     "name": "stdout",
     "output_type": "stream",
     "text": [
      "Better model found at epoch 1 with valid_loss value: 0.6904009580612183.\n",
      "Better model found at epoch 3 with valid_loss value: 0.6732749938964844.\n",
      "Better model found at epoch 5 with valid_loss value: 0.6361960172653198.\n",
      "Better model found at epoch 7 with valid_loss value: 0.6220682263374329.\n",
      "Better model found at epoch 8 with valid_loss value: 0.6037420630455017.\n",
      "Better model found at epoch 9 with valid_loss value: 0.5892541408538818.\n"
     ]
    }
   ],
   "source": [
    "learn.fit_flat_cos(10,lr=1e-4)"
   ]
  },
  {
   "cell_type": "code",
   "execution_count": 20,
   "metadata": {
    "id": "kKD6JtK9FsI8"
   },
   "outputs": [],
   "source": [
    "dbTest = DataBlock(blocks = (ImageBlock, CategoryBlock),\n",
    "                 get_items=get_image_files, \n",
    "                 splitter=GrandparentSplitter(valid_name='test'),\n",
    "                 get_y=parent_label,\n",
    "                 item_tfms = Resize(512),\n",
    "                 batch_tfms=[*aug_transforms(size=256, min_scale=0.75), Normalize.from_stats(*imagenet_stats)])\n",
    "dlsTest = dbTest.dataloaders(path,bs=32)"
   ]
  },
  {
   "cell_type": "code",
   "execution_count": 21,
   "metadata": {
    "colab": {
     "base_uri": "https://localhost:8080/",
     "height": 743
    },
    "executionInfo": {
     "elapsed": 2615418,
     "status": "ok",
     "timestamp": 1615230575601,
     "user": {
      "displayName": "Adrián Inés",
      "photoUrl": "",
      "userId": "05591729960422855292"
     },
     "user_tz": -60
    },
    "id": "r7Zlyq0dFsI-",
    "outputId": "355e65d7-e117-43c3-9ab8-3623a6e8d276"
   },
   "outputs": [
    {
     "data": {
      "text/html": [],
      "text/plain": [
       "<IPython.core.display.HTML object>"
      ]
     },
     "metadata": {},
     "output_type": "display_data"
    },
    {
     "data": {
      "image/png": "[encoded data removed]",
      "text/plain": [
       "<Figure size 720x720 with 1 Axes>"
      ]
     },
     "metadata": {
      "needs_background": "light"
     },
     "output_type": "display_data"
    }
   ],
   "source": [
    "learn.dls = dlsTest\n",
    "interp = ClassificationInterpretation.from_learner(learn)\n",
    "interp.plot_confusion_matrix(figsize=(12,12),dpi=60)"
   ]
  },
  {
   "cell_type": "code",
   "execution_count": 22,
   "metadata": {
    "colab": {
     "base_uri": "https://localhost:8080/",
     "height": 51
    },
    "executionInfo": {
     "elapsed": 2624816,
     "status": "ok",
     "timestamp": 1615230585009,
     "user": {
      "displayName": "Adrián Inés",
      "photoUrl": "",
      "userId": "05591729960422855292"
     },
     "user_tz": -60
    },
    "id": "3CzFPYByFsJA",
    "outputId": "db99bc5e-9934-4c3e-ed39-cce15825a036"
   },
   "outputs": [
    {
     "data": {
      "text/html": [],
      "text/plain": [
       "<IPython.core.display.HTML object>"
      ]
     },
     "metadata": {},
     "output_type": "display_data"
    },
    {
     "name": "stdout",
     "output_type": "stream",
     "text": [
      "Better model found at epoch 0 with valid_loss value: 0.7087979912757874.\n"
     ]
    },
    {
     "data": {
      "text/plain": [
       "(#4) [0.5695003271102905,0.7087979912757874,0.8060941828254847,0.6381578947368421]"
      ]
     },
     "execution_count": 22,
     "metadata": {},
     "output_type": "execute_result"
    }
   ],
   "source": [
    "learn.validate()"
   ]
  },
  {
   "cell_type": "markdown",
   "metadata": {
    "id": "ceY9FbvuHC5o"
   },
   "source": [
    "## LabelSmoothing"
   ]
  },
  {
   "cell_type": "code",
   "execution_count": 23,
   "metadata": {
    "id": "Z_q5SVc-HMv-"
   },
   "outputs": [],
   "source": [
    "learn = Learner(dls512, modelo,cbs = callbacks,metrics=[accuracy,Precision(),Recall()],loss_func=LabelSmoothingCrossEntropy())"
   ]
  },
  {
   "cell_type": "code",
   "execution_count": 24,
   "metadata": {
    "colab": {
     "base_uri": "https://localhost:8080/",
     "height": 300
    },
    "executionInfo": {
     "elapsed": 2730401,
     "status": "ok",
     "timestamp": 1615230690610,
     "user": {
      "displayName": "Adrián Inés",
      "photoUrl": "",
      "userId": "05591729960422855292"
     },
     "user_tz": -60
    },
    "id": "MA1ulQdTHMv_",
    "outputId": "4dd3b858-9449-4f06-8ca7-68ac1c0f2155"
   },
   "outputs": [
    {
     "data": {
      "text/html": [],
      "text/plain": [
       "<IPython.core.display.HTML object>"
      ]
     },
     "metadata": {},
     "output_type": "display_data"
    },
    {
     "data": {
      "text/plain": [
       "SuggestedLRs(lr_min=1.0964782268274575e-05, lr_steep=1.5848931980144698e-06)"
      ]
     },
     "execution_count": 24,
     "metadata": {},
     "output_type": "execute_result"
    },
    {
     "data": {
      "image/png": "[encoded data removed]",
      "text/plain": [
       "<Figure size 432x288 with 1 Axes>"
      ]
     },
     "metadata": {
      "needs_background": "light"
     },
     "output_type": "display_data"
    }
   ],
   "source": [
    "learn.lr_find()"
   ]
  },
  {
   "cell_type": "code",
   "execution_count": 25,
   "metadata": {
    "colab": {
     "base_uri": "https://localhost:8080/",
     "height": 831
    },
    "executionInfo": {
     "elapsed": 3329858,
     "status": "ok",
     "timestamp": 1615231290072,
     "user": {
      "displayName": "Adrián Inés",
      "photoUrl": "",
      "userId": "05591729960422855292"
     },
     "user_tz": -60
    },
    "id": "mREhAyuAHMv_",
    "outputId": "d340ec28-e057-4ba2-eccd-29249c72332d"
   },
   "outputs": [
    {
     "data": {
      "text/html": [
       "<table border=\"1\" class=\"dataframe\">\n",
       "  <thead>\n",
       "    <tr style=\"text-align: left;\">\n",
       "      <th>epoch</th>\n",
       "      <th>train_loss</th>\n",
       "      <th>valid_loss</th>\n",
       "      <th>accuracy</th>\n",
       "      <th>precision_score</th>\n",
       "      <th>recall_score</th>\n",
       "      <th>time</th>\n",
       "    </tr>\n",
       "  </thead>\n",
       "  <tbody>\n",
       "    <tr>\n",
       "      <td>0</td>\n",
       "      <td>0.596625</td>\n",
       "      <td>0.635135</td>\n",
       "      <td>0.663609</td>\n",
       "      <td>0.722727</td>\n",
       "      <td>0.500000</td>\n",
       "      <td>01:36</td>\n",
       "    </tr>\n",
       "    <tr>\n",
       "      <td>1</td>\n",
       "      <td>0.608337</td>\n",
       "      <td>0.624921</td>\n",
       "      <td>0.669725</td>\n",
       "      <td>0.719828</td>\n",
       "      <td>0.525157</td>\n",
       "      <td>01:36</td>\n",
       "    </tr>\n",
       "  </tbody>\n",
       "</table>"
      ],
      "text/plain": [
       "<IPython.core.display.HTML object>"
      ]
     },
     "metadata": {},
     "output_type": "display_data"
    },
    {
     "name": "stdout",
     "output_type": "stream",
     "text": [
      "Better model found at epoch 0 with valid_loss value: 0.6351354122161865.\n"
     ]
    },
    {
     "data": {
      "image/png": "[encoded data removed]",
      "text/plain": [
       "<Figure size 432x288 with 1 Axes>"
      ]
     },
     "metadata": {},
     "output_type": "display_data"
    },
    {
     "name": "stdout",
     "output_type": "stream",
     "text": [
      "Better model found at epoch 1 with valid_loss value: 0.6249210238456726.\n"
     ]
    },
    {
     "data": {
      "text/html": [
       "<table border=\"1\" class=\"dataframe\">\n",
       "  <thead>\n",
       "    <tr style=\"text-align: left;\">\n",
       "      <th>epoch</th>\n",
       "      <th>train_loss</th>\n",
       "      <th>valid_loss</th>\n",
       "      <th>accuracy</th>\n",
       "      <th>precision_score</th>\n",
       "      <th>recall_score</th>\n",
       "      <th>time</th>\n",
       "    </tr>\n",
       "  </thead>\n",
       "  <tbody>\n",
       "    <tr>\n",
       "      <td>0</td>\n",
       "      <td>0.596410</td>\n",
       "      <td>0.598334</td>\n",
       "      <td>0.685015</td>\n",
       "      <td>0.718750</td>\n",
       "      <td>0.578616</td>\n",
       "      <td>01:36</td>\n",
       "    </tr>\n",
       "    <tr>\n",
       "      <td>1</td>\n",
       "      <td>0.604404</td>\n",
       "      <td>0.600342</td>\n",
       "      <td>0.700306</td>\n",
       "      <td>0.750000</td>\n",
       "      <td>0.575472</td>\n",
       "      <td>01:36</td>\n",
       "    </tr>\n",
       "    <tr>\n",
       "      <td>2</td>\n",
       "      <td>0.576686</td>\n",
       "      <td>0.593935</td>\n",
       "      <td>0.729358</td>\n",
       "      <td>0.723810</td>\n",
       "      <td>0.716981</td>\n",
       "      <td>01:36</td>\n",
       "    </tr>\n",
       "    <tr>\n",
       "      <td>3</td>\n",
       "      <td>0.583525</td>\n",
       "      <td>0.605033</td>\n",
       "      <td>0.711009</td>\n",
       "      <td>0.739777</td>\n",
       "      <td>0.625786</td>\n",
       "      <td>01:36</td>\n",
       "    </tr>\n",
       "    <tr>\n",
       "      <td>4</td>\n",
       "      <td>0.584082</td>\n",
       "      <td>0.584749</td>\n",
       "      <td>0.727829</td>\n",
       "      <td>0.731788</td>\n",
       "      <td>0.694969</td>\n",
       "      <td>01:36</td>\n",
       "    </tr>\n",
       "    <tr>\n",
       "      <td>5</td>\n",
       "      <td>0.583941</td>\n",
       "      <td>0.591501</td>\n",
       "      <td>0.723242</td>\n",
       "      <td>0.709480</td>\n",
       "      <td>0.729560</td>\n",
       "      <td>01:36</td>\n",
       "    </tr>\n",
       "    <tr>\n",
       "      <td>6</td>\n",
       "      <td>0.572030</td>\n",
       "      <td>0.577343</td>\n",
       "      <td>0.733945</td>\n",
       "      <td>0.719512</td>\n",
       "      <td>0.742138</td>\n",
       "      <td>01:36</td>\n",
       "    </tr>\n",
       "    <tr>\n",
       "      <td>7</td>\n",
       "      <td>0.570736</td>\n",
       "      <td>0.574334</td>\n",
       "      <td>0.735474</td>\n",
       "      <td>0.723077</td>\n",
       "      <td>0.738994</td>\n",
       "      <td>01:36</td>\n",
       "    </tr>\n",
       "    <tr>\n",
       "      <td>8</td>\n",
       "      <td>0.564013</td>\n",
       "      <td>0.569573</td>\n",
       "      <td>0.743119</td>\n",
       "      <td>0.750000</td>\n",
       "      <td>0.707547</td>\n",
       "      <td>01:36</td>\n",
       "    </tr>\n",
       "    <tr>\n",
       "      <td>9</td>\n",
       "      <td>0.545522</td>\n",
       "      <td>0.580790</td>\n",
       "      <td>0.729358</td>\n",
       "      <td>0.715596</td>\n",
       "      <td>0.735849</td>\n",
       "      <td>01:36</td>\n",
       "    </tr>\n",
       "    <tr>\n",
       "      <td>10</td>\n",
       "      <td>0.544935</td>\n",
       "      <td>0.570753</td>\n",
       "      <td>0.735474</td>\n",
       "      <td>0.706553</td>\n",
       "      <td>0.779874</td>\n",
       "      <td>01:36</td>\n",
       "    </tr>\n",
       "    <tr>\n",
       "      <td>11</td>\n",
       "      <td>0.541274</td>\n",
       "      <td>0.572475</td>\n",
       "      <td>0.743119</td>\n",
       "      <td>0.758621</td>\n",
       "      <td>0.691824</td>\n",
       "      <td>01:36</td>\n",
       "    </tr>\n",
       "  </tbody>\n",
       "</table>"
      ],
      "text/plain": [
       "<IPython.core.display.HTML object>"
      ]
     },
     "metadata": {},
     "output_type": "display_data"
    },
    {
     "name": "stdout",
     "output_type": "stream",
     "text": [
      "Better model found at epoch 0 with valid_loss value: 0.5983337163925171.\n"
     ]
    },
    {
     "data": {
      "image/png": "[encoded data removed]",
      "text/plain": [
       "<Figure size 432x288 with 1 Axes>"
      ]
     },
     "metadata": {},
     "output_type": "display_data"
    },
    {
     "name": "stdout",
     "output_type": "stream",
     "text": [
      "Better model found at epoch 2 with valid_loss value: 0.5939351320266724.\n",
      "Better model found at epoch 4 with valid_loss value: 0.5847486853599548.\n",
      "Better model found at epoch 6 with valid_loss value: 0.5773431062698364.\n",
      "Better model found at epoch 7 with valid_loss value: 0.5743338465690613.\n",
      "Better model found at epoch 8 with valid_loss value: 0.5695732831954956.\n",
      "No improvement since epoch 8: early stopping\n"
     ]
    }
   ],
   "source": [
    "learn.fine_tune(15,freeze_epochs=2,base_lr=lr)"
   ]
  },
  {
   "cell_type": "code",
   "execution_count": 26,
   "metadata": {
    "id": "Bay6_92XHMwA"
   },
   "outputs": [],
   "source": [
    "dbTest = DataBlock(blocks = (ImageBlock, CategoryBlock),\n",
    "                 get_items=get_image_files, \n",
    "                 splitter=GrandparentSplitter(valid_name='test'),\n",
    "                 get_y=parent_label,\n",
    "                 item_tfms = Resize(512),\n",
    "                 batch_tfms=[*aug_transforms(size=256, min_scale=0.75), Normalize.from_stats(*imagenet_stats)])\n",
    "dlsTest = dbTest.dataloaders(path,bs=32)"
   ]
  },
  {
   "cell_type": "code",
   "execution_count": 27,
   "metadata": {
    "colab": {
     "base_uri": "https://localhost:8080/",
     "height": 743
    },
    "executionInfo": {
     "elapsed": 3339660,
     "status": "ok",
     "timestamp": 1615231299886,
     "user": {
      "displayName": "Adrián Inés",
      "photoUrl": "",
      "userId": "05591729960422855292"
     },
     "user_tz": -60
    },
    "id": "7lB0jwoFHMwB",
    "outputId": "8ef63fe0-5e6c-4700-85db-84edb0826695"
   },
   "outputs": [
    {
     "data": {
      "text/html": [],
      "text/plain": [
       "<IPython.core.display.HTML object>"
      ]
     },
     "metadata": {},
     "output_type": "display_data"
    },
    {
     "data": {
      "image/png": "[encoded data removed]",
      "text/plain": [
       "<Figure size 720x720 with 1 Axes>"
      ]
     },
     "metadata": {
      "needs_background": "light"
     },
     "output_type": "display_data"
    }
   ],
   "source": [
    "learn.dls = dlsTest\n",
    "interp = ClassificationInterpretation.from_learner(learn)\n",
    "interp.plot_confusion_matrix(figsize=(12,12),dpi=60)"
   ]
  },
  {
   "cell_type": "code",
   "execution_count": 28,
   "metadata": {
    "colab": {
     "base_uri": "https://localhost:8080/",
     "height": 51
    },
    "executionInfo": {
     "elapsed": 3348924,
     "status": "ok",
     "timestamp": 1615231309156,
     "user": {
      "displayName": "Adrián Inés",
      "photoUrl": "",
      "userId": "05591729960422855292"
     },
     "user_tz": -60
    },
    "id": "alh499NsHMwC",
    "outputId": "622d16c9-2ff7-4ccc-c092-8c8cba33ac52"
   },
   "outputs": [
    {
     "data": {
      "text/html": [],
      "text/plain": [
       "<IPython.core.display.HTML object>"
      ]
     },
     "metadata": {},
     "output_type": "display_data"
    },
    {
     "name": "stdout",
     "output_type": "stream",
     "text": [
      "Better model found at epoch 0 with valid_loss value: 0.7571251392364502.\n"
     ]
    },
    {
     "data": {
      "text/plain": [
       "(#4) [0.5515421628952026,0.7571251392364502,0.8421052631578947,0.7017543859649122]"
      ]
     },
     "execution_count": 28,
     "metadata": {},
     "output_type": "execute_result"
    }
   ],
   "source": [
    "learn.validate()"
   ]
  },
  {
   "cell_type": "markdown",
   "metadata": {
    "id": "ajRNofC1HcvA"
   },
   "source": [
    "## MixUp"
   ]
  },
  {
   "cell_type": "code",
   "execution_count": 10,
   "metadata": {
    "id": "b9la6qBxGUqG"
   },
   "outputs": [],
   "source": [
    "mixup=MixUp()\n",
    "callbacks2 = [\n",
    "    ShowGraphCallback(),\n",
    "    EarlyStoppingCallback(patience=3),\n",
    "    SaveModelCallback(fname='resnest18'),\n",
    "    mixup\n",
    "]"
   ]
  },
  {
   "cell_type": "code",
   "execution_count": 30,
   "metadata": {
    "id": "JzehzN2yHpmY"
   },
   "outputs": [],
   "source": [
    "learn = Learner(dls512, modelo,cbs = callbacks2,metrics=[accuracy,Precision(),Recall()])"
   ]
  },
  {
   "cell_type": "code",
   "execution_count": 31,
   "metadata": {
    "colab": {
     "base_uri": "https://localhost:8080/",
     "height": 817
    },
    "executionInfo": {
     "elapsed": 3947321,
     "status": "ok",
     "timestamp": 1615231907572,
     "user": {
      "displayName": "Adrián Inés",
      "photoUrl": "",
      "userId": "05591729960422855292"
     },
     "user_tz": -60
    },
    "id": "pF3pQwWiHpmb",
    "outputId": "3bb8c6e7-2738-4928-ded3-91cfe85084e1"
   },
   "outputs": [
    {
     "data": {
      "text/html": [
       "<table border=\"1\" class=\"dataframe\">\n",
       "  <thead>\n",
       "    <tr style=\"text-align: left;\">\n",
       "      <th>epoch</th>\n",
       "      <th>train_loss</th>\n",
       "      <th>valid_loss</th>\n",
       "      <th>accuracy</th>\n",
       "      <th>precision_score</th>\n",
       "      <th>recall_score</th>\n",
       "      <th>time</th>\n",
       "    </tr>\n",
       "  </thead>\n",
       "  <tbody>\n",
       "    <tr>\n",
       "      <td>0</td>\n",
       "      <td>0.586007</td>\n",
       "      <td>0.559828</td>\n",
       "      <td>0.706422</td>\n",
       "      <td>0.681034</td>\n",
       "      <td>0.745283</td>\n",
       "      <td>01:35</td>\n",
       "    </tr>\n",
       "    <tr>\n",
       "      <td>1</td>\n",
       "      <td>0.600352</td>\n",
       "      <td>0.560927</td>\n",
       "      <td>0.723242</td>\n",
       "      <td>0.709480</td>\n",
       "      <td>0.729560</td>\n",
       "      <td>01:36</td>\n",
       "    </tr>\n",
       "  </tbody>\n",
       "</table>"
      ],
      "text/plain": [
       "<IPython.core.display.HTML object>"
      ]
     },
     "metadata": {},
     "output_type": "display_data"
    },
    {
     "name": "stdout",
     "output_type": "stream",
     "text": [
      "Better model found at epoch 0 with valid_loss value: 0.5598276853561401.\n"
     ]
    },
    {
     "data": {
      "image/png": "[encoded data removed]",
      "text/plain": [
       "<Figure size 432x288 with 1 Axes>"
      ]
     },
     "metadata": {},
     "output_type": "display_data"
    },
    {
     "data": {
      "text/html": [
       "<table border=\"1\" class=\"dataframe\">\n",
       "  <thead>\n",
       "    <tr style=\"text-align: left;\">\n",
       "      <th>epoch</th>\n",
       "      <th>train_loss</th>\n",
       "      <th>valid_loss</th>\n",
       "      <th>accuracy</th>\n",
       "      <th>precision_score</th>\n",
       "      <th>recall_score</th>\n",
       "      <th>time</th>\n",
       "    </tr>\n",
       "  </thead>\n",
       "  <tbody>\n",
       "    <tr>\n",
       "      <td>0</td>\n",
       "      <td>0.581164</td>\n",
       "      <td>0.541443</td>\n",
       "      <td>0.741590</td>\n",
       "      <td>0.770909</td>\n",
       "      <td>0.666667</td>\n",
       "      <td>01:36</td>\n",
       "    </tr>\n",
       "    <tr>\n",
       "      <td>1</td>\n",
       "      <td>0.560499</td>\n",
       "      <td>0.543628</td>\n",
       "      <td>0.740061</td>\n",
       "      <td>0.772059</td>\n",
       "      <td>0.660377</td>\n",
       "      <td>01:36</td>\n",
       "    </tr>\n",
       "    <tr>\n",
       "      <td>2</td>\n",
       "      <td>0.575460</td>\n",
       "      <td>0.550614</td>\n",
       "      <td>0.726300</td>\n",
       "      <td>0.709970</td>\n",
       "      <td>0.738994</td>\n",
       "      <td>01:36</td>\n",
       "    </tr>\n",
       "    <tr>\n",
       "      <td>3</td>\n",
       "      <td>0.589427</td>\n",
       "      <td>0.568141</td>\n",
       "      <td>0.726300</td>\n",
       "      <td>0.758364</td>\n",
       "      <td>0.641509</td>\n",
       "      <td>01:36</td>\n",
       "    </tr>\n",
       "  </tbody>\n",
       "</table>"
      ],
      "text/plain": [
       "<IPython.core.display.HTML object>"
      ]
     },
     "metadata": {},
     "output_type": "display_data"
    },
    {
     "name": "stdout",
     "output_type": "stream",
     "text": [
      "Better model found at epoch 0 with valid_loss value: 0.5414427518844604.\n"
     ]
    },
    {
     "data": {
      "image/png": "[encoded data removed]",
      "text/plain": [
       "<Figure size 432x288 with 1 Axes>"
      ]
     },
     "metadata": {},
     "output_type": "display_data"
    },
    {
     "name": "stdout",
     "output_type": "stream",
     "text": [
      "No improvement since epoch 0: early stopping\n"
     ]
    }
   ],
   "source": [
    "learn.fine_tune(15,freeze_epochs=2,base_lr=lr)"
   ]
  },
  {
   "cell_type": "code",
   "execution_count": 32,
   "metadata": {
    "id": "sG_Ai5n5Hpmc"
   },
   "outputs": [],
   "source": [
    "dbTest = DataBlock(blocks = (ImageBlock, CategoryBlock),\n",
    "                 get_items=get_image_files, \n",
    "                 splitter=GrandparentSplitter(valid_name='test'),\n",
    "                 get_y=parent_label,\n",
    "                 item_tfms = Resize(512),\n",
    "                 batch_tfms=[*aug_transforms(size=256, min_scale=0.75), Normalize.from_stats(*imagenet_stats)])\n",
    "dlsTest = dbTest.dataloaders(path,bs=32)"
   ]
  },
  {
   "cell_type": "code",
   "execution_count": 33,
   "metadata": {
    "colab": {
     "base_uri": "https://localhost:8080/",
     "height": 743
    },
    "executionInfo": {
     "elapsed": 3957013,
     "status": "ok",
     "timestamp": 1615231917277,
     "user": {
      "displayName": "Adrián Inés",
      "photoUrl": "",
      "userId": "05591729960422855292"
     },
     "user_tz": -60
    },
    "id": "wThZl663Hpmc",
    "outputId": "4795eea2-9b8a-464f-820c-2d4dd7472847"
   },
   "outputs": [],
   "source": [
    "learn.dls = dlsTest"
   ]
  },
  {
   "cell_type": "code",
   "execution_count": 34,
   "metadata": {
    "colab": {
     "base_uri": "https://localhost:8080/",
     "height": 51
    },
    "executionInfo": {
     "elapsed": 3966657,
     "status": "ok",
     "timestamp": 1615231926927,
     "user": {
      "displayName": "Adrián Inés",
      "photoUrl": "",
      "userId": "05591729960422855292"
     },
     "user_tz": -60
    },
    "id": "7HhA3p17Hpmd",
    "outputId": "e77eb29b-c367-4649-a46a-bc7dc7ba3342"
   },
   "outputs": [
    {
     "data": {
      "text/html": [],
      "text/plain": [
       "<IPython.core.display.HTML object>"
      ]
     },
     "metadata": {},
     "output_type": "display_data"
    },
    {
     "name": "stdout",
     "output_type": "stream",
     "text": [
      "Better model found at epoch 0 with valid_loss value: 0.7670384049415588.\n"
     ]
    },
    {
     "data": {
      "text/plain": [
       "(#4) [0.5131204128265381,0.7670384049415588,0.8435897435897436,0.7214912280701754]"
      ]
     },
     "execution_count": 34,
     "metadata": {},
     "output_type": "execute_result"
    }
   ],
   "source": [
    "learn.validate()"
   ]
  },
  {
   "cell_type": "markdown",
   "metadata": {
    "id": "5S_sdE_GjYUr"
   },
   "source": [
    "## Ranger + Flat cosin Anneal"
   ]
  },
  {
   "cell_type": "code",
   "execution_count": 11,
   "metadata": {
    "id": "156wMRpLFD7p"
   },
   "outputs": [],
   "source": [
    "learn = Learner(dls512, modelo,cbs = callbacks,metrics=[accuracy,Precision(),Recall()],opt_func=opt_func)"
   ]
  },
  {
   "cell_type": "code",
   "execution_count": 12,
   "metadata": {
    "colab": {
     "base_uri": "https://localhost:8080/",
     "height": 376
    },
    "executionInfo": {
     "elapsed": 4170231,
     "status": "ok",
     "timestamp": 1615232130512,
     "user": {
      "displayName": "Adrián Inés",
      "photoUrl": "",
      "userId": "05591729960422855292"
     },
     "user_tz": -60
    },
    "id": "3EzqwO14cv1e",
    "outputId": "af3d4deb-6881-48d4-d908-a07d44f2be83"
   },
   "outputs": [
    {
     "data": {
      "text/html": [
       "<table border=\"1\" class=\"dataframe\">\n",
       "  <thead>\n",
       "    <tr style=\"text-align: left;\">\n",
       "      <th>epoch</th>\n",
       "      <th>train_loss</th>\n",
       "      <th>valid_loss</th>\n",
       "      <th>accuracy</th>\n",
       "      <th>precision_score</th>\n",
       "      <th>recall_score</th>\n",
       "      <th>time</th>\n",
       "    </tr>\n",
       "  </thead>\n",
       "  <tbody>\n",
       "    <tr>\n",
       "      <td>0</td>\n",
       "      <td>0.690912</td>\n",
       "      <td>0.689361</td>\n",
       "      <td>0.539755</td>\n",
       "      <td>0.644068</td>\n",
       "      <td>0.119497</td>\n",
       "      <td>02:10</td>\n",
       "    </tr>\n",
       "    <tr>\n",
       "      <td>1</td>\n",
       "      <td>0.680699</td>\n",
       "      <td>0.680569</td>\n",
       "      <td>0.570336</td>\n",
       "      <td>0.561462</td>\n",
       "      <td>0.531447</td>\n",
       "      <td>02:12</td>\n",
       "    </tr>\n",
       "  </tbody>\n",
       "</table>"
      ],
      "text/plain": [
       "<IPython.core.display.HTML object>"
      ]
     },
     "metadata": {},
     "output_type": "display_data"
    },
    {
     "name": "stdout",
     "output_type": "stream",
     "text": [
      "Better model found at epoch 0 with valid_loss value: 0.6893611550331116.\n"
     ]
    },
    {
     "data": {
      "image/png": "[encoded data removed]",
      "text/plain": [
       "<Figure size 432x288 with 1 Axes>"
      ]
     },
     "metadata": {},
     "output_type": "display_data"
    },
    {
     "name": "stdout",
     "output_type": "stream",
     "text": [
      "Better model found at epoch 1 with valid_loss value: 0.6805685758590698.\n"
     ]
    }
   ],
   "source": [
    "learn.fit_flat_cos(2,lr=1e-3)"
   ]
  },
  {
   "cell_type": "code",
   "execution_count": 13,
   "metadata": {
    "id": "dsJqupv5fS1Y"
   },
   "outputs": [],
   "source": [
    "learn.unfreeze()"
   ]
  },
  {
   "cell_type": "code",
   "execution_count": 14,
   "metadata": {
    "colab": {
     "base_uri": "https://localhost:8080/",
     "height": 300
    },
    "executionInfo": {
     "elapsed": 4288472,
     "status": "ok",
     "timestamp": 1615232248767,
     "user": {
      "displayName": "Adrián Inés",
      "photoUrl": "",
      "userId": "05591729960422855292"
     },
     "user_tz": -60
    },
    "id": "D43qYm3UgGJo",
    "outputId": "2af9c4c7-4489-4c8f-dc7e-2558a4ae1983"
   },
   "outputs": [
    {
     "data": {
      "text/html": [],
      "text/plain": [
       "<IPython.core.display.HTML object>"
      ]
     },
     "metadata": {},
     "output_type": "display_data"
    },
    {
     "data": {
      "text/plain": [
       "SuggestedLRs(lr_min=0.00020892962347716094, lr_steep=1.5848932266235352)"
      ]
     },
     "execution_count": 14,
     "metadata": {},
     "output_type": "execute_result"
    },
    {
     "data": {
      "image/png": "[encoded data removed]",
      "text/plain": [
       "<Figure size 432x288 with 1 Axes>"
      ]
     },
     "metadata": {
      "needs_background": "light"
     },
     "output_type": "display_data"
    }
   ],
   "source": [
    "learn.lr_find()"
   ]
  },
  {
   "cell_type": "code",
   "execution_count": 15,
   "metadata": {
    "colab": {
     "base_uri": "https://localhost:8080/",
     "height": 534
    },
    "executionInfo": {
     "elapsed": 4896450,
     "status": "ok",
     "timestamp": 1615232856751,
     "user": {
      "displayName": "Adrián Inés",
      "photoUrl": "",
      "userId": "05591729960422855292"
     },
     "user_tz": -60
    },
    "id": "2AWFjv6rgHG4",
    "outputId": "11127be2-f211-4ebc-de3e-ecb61377b9c1"
   },
   "outputs": [
    {
     "data": {
      "text/html": [
       "<table border=\"1\" class=\"dataframe\">\n",
       "  <thead>\n",
       "    <tr style=\"text-align: left;\">\n",
       "      <th>epoch</th>\n",
       "      <th>train_loss</th>\n",
       "      <th>valid_loss</th>\n",
       "      <th>accuracy</th>\n",
       "      <th>precision_score</th>\n",
       "      <th>recall_score</th>\n",
       "      <th>time</th>\n",
       "    </tr>\n",
       "  </thead>\n",
       "  <tbody>\n",
       "    <tr>\n",
       "      <td>0</td>\n",
       "      <td>0.676284</td>\n",
       "      <td>0.680606</td>\n",
       "      <td>0.564220</td>\n",
       "      <td>0.552381</td>\n",
       "      <td>0.547170</td>\n",
       "      <td>02:12</td>\n",
       "    </tr>\n",
       "    <tr>\n",
       "      <td>1</td>\n",
       "      <td>0.673612</td>\n",
       "      <td>0.679671</td>\n",
       "      <td>0.574924</td>\n",
       "      <td>0.565789</td>\n",
       "      <td>0.540881</td>\n",
       "      <td>02:13</td>\n",
       "    </tr>\n",
       "    <tr>\n",
       "      <td>2</td>\n",
       "      <td>0.675488</td>\n",
       "      <td>0.677742</td>\n",
       "      <td>0.565749</td>\n",
       "      <td>0.561151</td>\n",
       "      <td>0.490566</td>\n",
       "      <td>02:12</td>\n",
       "    </tr>\n",
       "    <tr>\n",
       "      <td>3</td>\n",
       "      <td>0.665090</td>\n",
       "      <td>0.677340</td>\n",
       "      <td>0.591743</td>\n",
       "      <td>0.574780</td>\n",
       "      <td>0.616352</td>\n",
       "      <td>02:12</td>\n",
       "    </tr>\n",
       "    <tr>\n",
       "      <td>4</td>\n",
       "      <td>0.671486</td>\n",
       "      <td>0.679172</td>\n",
       "      <td>0.588685</td>\n",
       "      <td>0.559036</td>\n",
       "      <td>0.729560</td>\n",
       "      <td>02:13</td>\n",
       "    </tr>\n",
       "    <tr>\n",
       "      <td>5</td>\n",
       "      <td>0.679493</td>\n",
       "      <td>0.675728</td>\n",
       "      <td>0.568807</td>\n",
       "      <td>0.581081</td>\n",
       "      <td>0.405660</td>\n",
       "      <td>02:13</td>\n",
       "    </tr>\n",
       "    <tr>\n",
       "      <td>6</td>\n",
       "      <td>0.661448</td>\n",
       "      <td>0.675343</td>\n",
       "      <td>0.600917</td>\n",
       "      <td>0.576819</td>\n",
       "      <td>0.672956</td>\n",
       "      <td>02:13</td>\n",
       "    </tr>\n",
       "    <tr>\n",
       "      <td>7</td>\n",
       "      <td>0.676418</td>\n",
       "      <td>0.673877</td>\n",
       "      <td>0.581040</td>\n",
       "      <td>0.572368</td>\n",
       "      <td>0.547170</td>\n",
       "      <td>02:14</td>\n",
       "    </tr>\n",
       "    <tr>\n",
       "      <td>8</td>\n",
       "      <td>0.660482</td>\n",
       "      <td>0.672986</td>\n",
       "      <td>0.588685</td>\n",
       "      <td>0.588448</td>\n",
       "      <td>0.512579</td>\n",
       "      <td>02:14</td>\n",
       "    </tr>\n",
       "    <tr>\n",
       "      <td>9</td>\n",
       "      <td>0.677314</td>\n",
       "      <td>0.672627</td>\n",
       "      <td>0.584098</td>\n",
       "      <td>0.575658</td>\n",
       "      <td>0.550314</td>\n",
       "      <td>02:12</td>\n",
       "    </tr>\n",
       "  </tbody>\n",
       "</table>"
      ],
      "text/plain": [
       "<IPython.core.display.HTML object>"
      ]
     },
     "metadata": {},
     "output_type": "display_data"
    },
    {
     "name": "stdout",
     "output_type": "stream",
     "text": [
      "Better model found at epoch 0 with valid_loss value: 0.680605947971344.\n"
     ]
    },
    {
     "data": {
      "image/png": "[encoded data removed]",
      "text/plain": [
       "<Figure size 432x288 with 1 Axes>"
      ]
     },
     "metadata": {},
     "output_type": "display_data"
    },
    {
     "name": "stdout",
     "output_type": "stream",
     "text": [
      "Better model found at epoch 1 with valid_loss value: 0.6796712875366211.\n",
      "Better model found at epoch 2 with valid_loss value: 0.6777419447898865.\n",
      "Better model found at epoch 3 with valid_loss value: 0.6773403882980347.\n",
      "Better model found at epoch 5 with valid_loss value: 0.6757276058197021.\n",
      "Better model found at epoch 6 with valid_loss value: 0.6753426790237427.\n",
      "Better model found at epoch 7 with valid_loss value: 0.6738767623901367.\n",
      "Better model found at epoch 8 with valid_loss value: 0.6729856729507446.\n",
      "Better model found at epoch 9 with valid_loss value: 0.6726266741752625.\n"
     ]
    }
   ],
   "source": [
    "learn.fit_flat_cos(10,lr=1e-4)"
   ]
  },
  {
   "cell_type": "code",
   "execution_count": 16,
   "metadata": {
    "id": "dEKfVTgAIfNG"
   },
   "outputs": [],
   "source": [
    "dbTest = DataBlock(blocks = (ImageBlock, CategoryBlock),\n",
    "                 get_items=get_image_files, \n",
    "                 splitter=GrandparentSplitter(valid_name='test'),\n",
    "                 get_y=parent_label,\n",
    "                 item_tfms = Resize(512),\n",
    "                 batch_tfms=[*aug_transforms(size=256, min_scale=0.75), Normalize.from_stats(*imagenet_stats)])\n",
    "dlsTest = dbTest.dataloaders(path,bs=32)"
   ]
  },
  {
   "cell_type": "code",
   "execution_count": 17,
   "metadata": {
    "id": "YdfEYxMWIfNI"
   },
   "outputs": [],
   "source": [
    "learn.dls = dlsTest"
   ]
  },
  {
   "cell_type": "code",
   "execution_count": 18,
   "metadata": {
    "colab": {
     "base_uri": "https://localhost:8080/",
     "height": 51
    },
    "executionInfo": {
     "elapsed": 4906264,
     "status": "ok",
     "timestamp": 1615232866584,
     "user": {
      "displayName": "Adrián Inés",
      "photoUrl": "",
      "userId": "05591729960422855292"
     },
     "user_tz": -60
    },
    "id": "GRN8EMawIfNK",
    "outputId": "5d0f41d5-5ccf-438a-ea7f-11ddb4bdde63"
   },
   "outputs": [
    {
     "data": {
      "text/html": [],
      "text/plain": [
       "<IPython.core.display.HTML object>"
      ]
     },
     "metadata": {},
     "output_type": "display_data"
    },
    {
     "name": "stdout",
     "output_type": "stream",
     "text": [
      "Better model found at epoch 0 with valid_loss value: 0.6047087907791138.\n"
     ]
    },
    {
     "data": {
      "text/plain": [
       "(#4) [0.6707645058631897,0.6047087907791138,0.6797900262467191,0.5679824561403509]"
      ]
     },
     "execution_count": 18,
     "metadata": {},
     "output_type": "execute_result"
    }
   ],
   "source": [
    "learn.validate()"
   ]
  },
  {
   "cell_type": "markdown",
   "metadata": {
    "id": "Y_cBY_RLjFMf"
   },
   "source": [
    "## Ranger+Flar Cossin Anneal+LabelSmoothing"
   ]
  },
  {
   "cell_type": "code",
   "execution_count": 19,
   "metadata": {
    "id": "mdYmcXnfIPqG"
   },
   "outputs": [],
   "source": [
    "learn = Learner(dls512, modelo,cbs = callbacks,metrics=[accuracy,Precision(),Recall()],opt_func=opt_func,loss_func=LabelSmoothingCrossEntropy())"
   ]
  },
  {
   "cell_type": "code",
   "execution_count": 20,
   "metadata": {
    "colab": {
     "base_uri": "https://localhost:8080/",
     "height": 393
    },
    "executionInfo": {
     "elapsed": 5110546,
     "status": "ok",
     "timestamp": 1615233070885,
     "user": {
      "displayName": "Adrián Inés",
      "photoUrl": "",
      "userId": "05591729960422855292"
     },
     "user_tz": -60
    },
    "id": "74LrFcyVjLCv",
    "outputId": "494099ef-e75f-4147-db06-0133420130c5"
   },
   "outputs": [
    {
     "data": {
      "text/html": [
       "<table border=\"1\" class=\"dataframe\">\n",
       "  <thead>\n",
       "    <tr style=\"text-align: left;\">\n",
       "      <th>epoch</th>\n",
       "      <th>train_loss</th>\n",
       "      <th>valid_loss</th>\n",
       "      <th>accuracy</th>\n",
       "      <th>precision_score</th>\n",
       "      <th>recall_score</th>\n",
       "      <th>time</th>\n",
       "    </tr>\n",
       "  </thead>\n",
       "  <tbody>\n",
       "    <tr>\n",
       "      <td>0</td>\n",
       "      <td>0.669893</td>\n",
       "      <td>0.672027</td>\n",
       "      <td>0.573394</td>\n",
       "      <td>0.622642</td>\n",
       "      <td>0.311321</td>\n",
       "      <td>02:11</td>\n",
       "    </tr>\n",
       "    <tr>\n",
       "      <td>1</td>\n",
       "      <td>0.655175</td>\n",
       "      <td>0.661146</td>\n",
       "      <td>0.636086</td>\n",
       "      <td>0.619048</td>\n",
       "      <td>0.654088</td>\n",
       "      <td>02:12</td>\n",
       "    </tr>\n",
       "  </tbody>\n",
       "</table>"
      ],
      "text/plain": [
       "<IPython.core.display.HTML object>"
      ]
     },
     "metadata": {},
     "output_type": "display_data"
    },
    {
     "name": "stdout",
     "output_type": "stream",
     "text": [
      "Better model found at epoch 0 with valid_loss value: 0.6720272898674011.\n"
     ]
    },
    {
     "data": {
      "image/png": "[encoded data removed]",
      "text/plain": [
       "<Figure size 432x288 with 1 Axes>"
      ]
     },
     "metadata": {},
     "output_type": "display_data"
    },
    {
     "name": "stdout",
     "output_type": "stream",
     "text": [
      "Better model found at epoch 1 with valid_loss value: 0.6611464619636536.\n"
     ]
    }
   ],
   "source": [
    "learn.fit_flat_cos(2,lr=1e-3)"
   ]
  },
  {
   "cell_type": "code",
   "execution_count": 21,
   "metadata": {
    "id": "mlUCCCIPjj2N"
   },
   "outputs": [],
   "source": [
    "learn.unfreeze()"
   ]
  },
  {
   "cell_type": "code",
   "execution_count": 22,
   "metadata": {
    "colab": {
     "base_uri": "https://localhost:8080/",
     "height": 300
    },
    "executionInfo": {
     "elapsed": 5229644,
     "status": "ok",
     "timestamp": 1615233189995,
     "user": {
      "displayName": "Adrián Inés",
      "photoUrl": "",
      "userId": "05591729960422855292"
     },
     "user_tz": -60
    },
    "id": "cPD0wF6ejj2P",
    "outputId": "586f90be-1110-4775-8949-50d1db0a4ee7"
   },
   "outputs": [
    {
     "data": {
      "text/html": [],
      "text/plain": [
       "<IPython.core.display.HTML object>"
      ]
     },
     "metadata": {},
     "output_type": "display_data"
    },
    {
     "data": {
      "text/plain": [
       "SuggestedLRs(lr_min=2.7542287716642023e-05, lr_steep=2.75422871709452e-06)"
      ]
     },
     "execution_count": 22,
     "metadata": {},
     "output_type": "execute_result"
    },
    {
     "data": {
      "image/png": "[encoded data removed]",
      "text/plain": [
       "<Figure size 432x288 with 1 Axes>"
      ]
     },
     "metadata": {
      "needs_background": "light"
     },
     "output_type": "display_data"
    }
   ],
   "source": [
    "learn.lr_find()"
   ]
  },
  {
   "cell_type": "code",
   "execution_count": 23,
   "metadata": {
    "colab": {
     "base_uri": "https://localhost:8080/",
     "height": 455
    },
    "executionInfo": {
     "elapsed": 5634911,
     "status": "ok",
     "timestamp": 1615233595267,
     "user": {
      "displayName": "Adrián Inés",
      "photoUrl": "",
      "userId": "05591729960422855292"
     },
     "user_tz": -60
    },
    "id": "Cq471BZFjj2Q",
    "outputId": "6316bf47-960e-473e-f6a9-39d5f0f793b2"
   },
   "outputs": [
    {
     "data": {
      "text/html": [
       "<table border=\"1\" class=\"dataframe\">\n",
       "  <thead>\n",
       "    <tr style=\"text-align: left;\">\n",
       "      <th>epoch</th>\n",
       "      <th>train_loss</th>\n",
       "      <th>valid_loss</th>\n",
       "      <th>accuracy</th>\n",
       "      <th>precision_score</th>\n",
       "      <th>recall_score</th>\n",
       "      <th>time</th>\n",
       "    </tr>\n",
       "  </thead>\n",
       "  <tbody>\n",
       "    <tr>\n",
       "      <td>0</td>\n",
       "      <td>0.657007</td>\n",
       "      <td>0.659194</td>\n",
       "      <td>0.640673</td>\n",
       "      <td>0.623145</td>\n",
       "      <td>0.660377</td>\n",
       "      <td>02:12</td>\n",
       "    </tr>\n",
       "    <tr>\n",
       "      <td>1</td>\n",
       "      <td>0.662015</td>\n",
       "      <td>0.658213</td>\n",
       "      <td>0.631498</td>\n",
       "      <td>0.654618</td>\n",
       "      <td>0.512579</td>\n",
       "      <td>02:14</td>\n",
       "    </tr>\n",
       "    <tr>\n",
       "      <td>2</td>\n",
       "      <td>0.653391</td>\n",
       "      <td>0.655616</td>\n",
       "      <td>0.634557</td>\n",
       "      <td>0.620061</td>\n",
       "      <td>0.641509</td>\n",
       "      <td>02:12</td>\n",
       "    </tr>\n",
       "    <tr>\n",
       "      <td>3</td>\n",
       "      <td>0.651798</td>\n",
       "      <td>0.655275</td>\n",
       "      <td>0.648318</td>\n",
       "      <td>0.658273</td>\n",
       "      <td>0.575472</td>\n",
       "      <td>02:14</td>\n",
       "    </tr>\n",
       "    <tr>\n",
       "      <td>4</td>\n",
       "      <td>0.648626</td>\n",
       "      <td>0.653767</td>\n",
       "      <td>0.651376</td>\n",
       "      <td>0.659574</td>\n",
       "      <td>0.584906</td>\n",
       "      <td>02:15</td>\n",
       "    </tr>\n",
       "    <tr>\n",
       "      <td>5</td>\n",
       "      <td>0.647752</td>\n",
       "      <td>0.653267</td>\n",
       "      <td>0.636086</td>\n",
       "      <td>0.670940</td>\n",
       "      <td>0.493711</td>\n",
       "      <td>02:16</td>\n",
       "    </tr>\n",
       "    <tr>\n",
       "      <td>6</td>\n",
       "      <td>0.645863</td>\n",
       "      <td>0.649326</td>\n",
       "      <td>0.651376</td>\n",
       "      <td>0.670455</td>\n",
       "      <td>0.556604</td>\n",
       "      <td>02:15</td>\n",
       "    </tr>\n",
       "    <tr>\n",
       "      <td>7</td>\n",
       "      <td>0.636182</td>\n",
       "      <td>0.648259</td>\n",
       "      <td>0.646789</td>\n",
       "      <td>0.664151</td>\n",
       "      <td>0.553459</td>\n",
       "      <td>02:15</td>\n",
       "    </tr>\n",
       "    <tr>\n",
       "      <td>8</td>\n",
       "      <td>0.654750</td>\n",
       "      <td>0.647637</td>\n",
       "      <td>0.654434</td>\n",
       "      <td>0.664286</td>\n",
       "      <td>0.584906</td>\n",
       "      <td>02:18</td>\n",
       "    </tr>\n",
       "    <tr>\n",
       "      <td>9</td>\n",
       "      <td>0.632869</td>\n",
       "      <td>0.648756</td>\n",
       "      <td>0.648318</td>\n",
       "      <td>0.657143</td>\n",
       "      <td>0.578616</td>\n",
       "      <td>02:17</td>\n",
       "    </tr>\n",
       "    <tr>\n",
       "      <td>10</td>\n",
       "      <td>0.630389</td>\n",
       "      <td>0.644544</td>\n",
       "      <td>0.652905</td>\n",
       "      <td>0.671698</td>\n",
       "      <td>0.559748</td>\n",
       "      <td>02:21</td>\n",
       "    </tr>\n",
       "    <tr>\n",
       "      <td>11</td>\n",
       "      <td>0.634206</td>\n",
       "      <td>0.645049</td>\n",
       "      <td>0.652905</td>\n",
       "      <td>0.663082</td>\n",
       "      <td>0.581761</td>\n",
       "      <td>02:18</td>\n",
       "    </tr>\n",
       "    <tr>\n",
       "      <td>12</td>\n",
       "      <td>0.643068</td>\n",
       "      <td>0.642857</td>\n",
       "      <td>0.659021</td>\n",
       "      <td>0.686275</td>\n",
       "      <td>0.550314</td>\n",
       "      <td>02:18</td>\n",
       "    </tr>\n",
       "    <tr>\n",
       "      <td>13</td>\n",
       "      <td>0.630287</td>\n",
       "      <td>0.641158</td>\n",
       "      <td>0.663609</td>\n",
       "      <td>0.680147</td>\n",
       "      <td>0.581761</td>\n",
       "      <td>02:19</td>\n",
       "    </tr>\n",
       "    <tr>\n",
       "      <td>14</td>\n",
       "      <td>0.633411</td>\n",
       "      <td>0.639523</td>\n",
       "      <td>0.663609</td>\n",
       "      <td>0.675000</td>\n",
       "      <td>0.594340</td>\n",
       "      <td>02:12</td>\n",
       "    </tr>\n",
       "  </tbody>\n",
       "</table>"
      ],
      "text/plain": [
       "<IPython.core.display.HTML object>"
      ]
     },
     "metadata": {},
     "output_type": "display_data"
    },
    {
     "name": "stdout",
     "output_type": "stream",
     "text": [
      "Better model found at epoch 0 with valid_loss value: 0.6591939926147461.\n"
     ]
    },
    {
     "data": {
      "image/png": "[encoded data removed]",
      "text/plain": [
       "<Figure size 432x288 with 1 Axes>"
      ]
     },
     "metadata": {},
     "output_type": "display_data"
    },
    {
     "name": "stdout",
     "output_type": "stream",
     "text": [
      "Better model found at epoch 1 with valid_loss value: 0.6582126021385193.\n",
      "Better model found at epoch 2 with valid_loss value: 0.6556158065795898.\n",
      "Better model found at epoch 3 with valid_loss value: 0.6552746295928955.\n",
      "Better model found at epoch 4 with valid_loss value: 0.6537668108940125.\n",
      "Better model found at epoch 5 with valid_loss value: 0.6532673239707947.\n",
      "Better model found at epoch 6 with valid_loss value: 0.6493259072303772.\n",
      "Better model found at epoch 7 with valid_loss value: 0.6482588648796082.\n",
      "Better model found at epoch 8 with valid_loss value: 0.6476366519927979.\n",
      "Better model found at epoch 10 with valid_loss value: 0.6445437073707581.\n",
      "Better model found at epoch 12 with valid_loss value: 0.6428568363189697.\n",
      "Better model found at epoch 13 with valid_loss value: 0.6411577463150024.\n",
      "Better model found at epoch 14 with valid_loss value: 0.639522910118103.\n"
     ]
    }
   ],
   "source": [
    "learn.fit_flat_cos(15,lr=1e-4)"
   ]
  },
  {
   "cell_type": "code",
   "execution_count": 24,
   "metadata": {
    "id": "OK8WgRxlIdc3"
   },
   "outputs": [],
   "source": [
    "dbTest = DataBlock(blocks = (ImageBlock, CategoryBlock),\n",
    "                 get_items=get_image_files, \n",
    "                 splitter=GrandparentSplitter(valid_name='test'),\n",
    "                 get_y=parent_label,\n",
    "                 item_tfms = Resize(512),\n",
    "                 batch_tfms=[*aug_transforms(size=256, min_scale=0.75), Normalize.from_stats(*imagenet_stats)])\n",
    "dlsTest = dbTest.dataloaders(path,bs=32)"
   ]
  },
  {
   "cell_type": "code",
   "execution_count": 25,
   "metadata": {
    "id": "CVBK-RQrIdc4"
   },
   "outputs": [],
   "source": [
    "learn.dls = dlsTest"
   ]
  },
  {
   "cell_type": "code",
   "execution_count": 26,
   "metadata": {
    "colab": {
     "base_uri": "https://localhost:8080/",
     "height": 51
    },
    "executionInfo": {
     "elapsed": 5645077,
     "status": "ok",
     "timestamp": 1615233605452,
     "user": {
      "displayName": "Adrián Inés",
      "photoUrl": "",
      "userId": "05591729960422855292"
     },
     "user_tz": -60
    },
    "id": "fw-cKUyBIdc6",
    "outputId": "f430d664-bc35-4488-9620-f30be690cbc2"
   },
   "outputs": [
    {
     "data": {
      "text/html": [],
      "text/plain": [
       "<IPython.core.display.HTML object>"
      ]
     },
     "metadata": {},
     "output_type": "display_data"
    },
    {
     "name": "stdout",
     "output_type": "stream",
     "text": [
      "Better model found at epoch 0 with valid_loss value: 0.6666666865348816.\n"
     ]
    },
    {
     "data": {
      "text/plain": [
       "(#4) [0.635949969291687,0.6666666865348816,0.7648725212464589,0.5921052631578947]"
      ]
     },
     "execution_count": 26,
     "metadata": {},
     "output_type": "execute_result"
    }
   ],
   "source": [
    "learn.validate()"
   ]
  },
  {
   "cell_type": "markdown",
   "metadata": {
    "id": "rSDVZR2AJi7_"
   },
   "source": [
    "## Ranger +Flat + Label + MixUp"
   ]
  },
  {
   "cell_type": "code",
   "execution_count": 27,
   "metadata": {
    "id": "sV2L6ikpJnZS"
   },
   "outputs": [],
   "source": [
    "learn = Learner(dls512, modelo,cbs = callbacks2,metrics=[accuracy,Precision(),Recall()],opt_func=opt_func,loss_func=LabelSmoothingCrossEntropy())"
   ]
  },
  {
   "cell_type": "code",
   "execution_count": 28,
   "metadata": {
    "colab": {
     "base_uri": "https://localhost:8080/",
     "height": 376
    },
    "executionInfo": {
     "elapsed": 5848385,
     "status": "ok",
     "timestamp": 1615233808772,
     "user": {
      "displayName": "Adrián Inés",
      "photoUrl": "",
      "userId": "05591729960422855292"
     },
     "user_tz": -60
    },
    "id": "d34epKAIJnZU",
    "outputId": "f31ca151-0c44-4377-d343-762c4a6e55f6"
   },
   "outputs": [
    {
     "data": {
      "text/html": [
       "<table border=\"1\" class=\"dataframe\">\n",
       "  <thead>\n",
       "    <tr style=\"text-align: left;\">\n",
       "      <th>epoch</th>\n",
       "      <th>train_loss</th>\n",
       "      <th>valid_loss</th>\n",
       "      <th>accuracy</th>\n",
       "      <th>precision_score</th>\n",
       "      <th>recall_score</th>\n",
       "      <th>time</th>\n",
       "    </tr>\n",
       "  </thead>\n",
       "  <tbody>\n",
       "    <tr>\n",
       "      <td>0</td>\n",
       "      <td>0.664106</td>\n",
       "      <td>0.647072</td>\n",
       "      <td>0.629969</td>\n",
       "      <td>0.711111</td>\n",
       "      <td>0.402516</td>\n",
       "      <td>02:08</td>\n",
       "    </tr>\n",
       "    <tr>\n",
       "      <td>1</td>\n",
       "      <td>0.660587</td>\n",
       "      <td>0.634669</td>\n",
       "      <td>0.657492</td>\n",
       "      <td>0.680769</td>\n",
       "      <td>0.556604</td>\n",
       "      <td>02:07</td>\n",
       "    </tr>\n",
       "  </tbody>\n",
       "</table>"
      ],
      "text/plain": [
       "<IPython.core.display.HTML object>"
      ]
     },
     "metadata": {},
     "output_type": "display_data"
    },
    {
     "name": "stdout",
     "output_type": "stream",
     "text": [
      "Better model found at epoch 0 with valid_loss value: 0.6470723152160645.\n"
     ]
    },
    {
     "data": {
      "image/png": "[encoded data removed]",
      "text/plain": [
       "<Figure size 432x288 with 1 Axes>"
      ]
     },
     "metadata": {},
     "output_type": "display_data"
    },
    {
     "name": "stdout",
     "output_type": "stream",
     "text": [
      "Better model found at epoch 1 with valid_loss value: 0.6346688866615295.\n"
     ]
    }
   ],
   "source": [
    "learn.fit_flat_cos(2,lr=1e-3)"
   ]
  },
  {
   "cell_type": "code",
   "execution_count": 29,
   "metadata": {
    "id": "X8ayArdcJnZV"
   },
   "outputs": [],
   "source": [
    "learn.unfreeze()"
   ]
  },
  {
   "cell_type": "code",
   "execution_count": 30,
   "metadata": {
    "colab": {
     "base_uri": "https://localhost:8080/",
     "height": 599
    },
    "executionInfo": {
     "elapsed": 6558613,
     "status": "ok",
     "timestamp": 1615234519012,
     "user": {
      "displayName": "Adrián Inés",
      "photoUrl": "",
      "userId": "05591729960422855292"
     },
     "user_tz": -60
    },
    "id": "sw9EqHuDJnZX",
    "outputId": "c242bc14-9f3f-4f67-af1d-3311da996618"
   },
   "outputs": [
    {
     "data": {
      "text/html": [
       "<table border=\"1\" class=\"dataframe\">\n",
       "  <thead>\n",
       "    <tr style=\"text-align: left;\">\n",
       "      <th>epoch</th>\n",
       "      <th>train_loss</th>\n",
       "      <th>valid_loss</th>\n",
       "      <th>accuracy</th>\n",
       "      <th>precision_score</th>\n",
       "      <th>recall_score</th>\n",
       "      <th>time</th>\n",
       "    </tr>\n",
       "  </thead>\n",
       "  <tbody>\n",
       "    <tr>\n",
       "      <td>0</td>\n",
       "      <td>0.653145</td>\n",
       "      <td>0.635760</td>\n",
       "      <td>0.659021</td>\n",
       "      <td>0.664360</td>\n",
       "      <td>0.603774</td>\n",
       "      <td>02:07</td>\n",
       "    </tr>\n",
       "    <tr>\n",
       "      <td>1</td>\n",
       "      <td>0.635874</td>\n",
       "      <td>0.635250</td>\n",
       "      <td>0.648318</td>\n",
       "      <td>0.648649</td>\n",
       "      <td>0.603774</td>\n",
       "      <td>02:20</td>\n",
       "    </tr>\n",
       "    <tr>\n",
       "      <td>2</td>\n",
       "      <td>0.645677</td>\n",
       "      <td>0.635087</td>\n",
       "      <td>0.651376</td>\n",
       "      <td>0.657343</td>\n",
       "      <td>0.591195</td>\n",
       "      <td>02:22</td>\n",
       "    </tr>\n",
       "    <tr>\n",
       "      <td>3</td>\n",
       "      <td>0.653754</td>\n",
       "      <td>0.635662</td>\n",
       "      <td>0.649847</td>\n",
       "      <td>0.652921</td>\n",
       "      <td>0.597484</td>\n",
       "      <td>02:25</td>\n",
       "    </tr>\n",
       "    <tr>\n",
       "      <td>4</td>\n",
       "      <td>0.642616</td>\n",
       "      <td>0.632620</td>\n",
       "      <td>0.655963</td>\n",
       "      <td>0.674157</td>\n",
       "      <td>0.566038</td>\n",
       "      <td>02:24</td>\n",
       "    </tr>\n",
       "    <tr>\n",
       "      <td>5</td>\n",
       "      <td>0.643578</td>\n",
       "      <td>0.631985</td>\n",
       "      <td>0.646789</td>\n",
       "      <td>0.671937</td>\n",
       "      <td>0.534591</td>\n",
       "      <td>02:22</td>\n",
       "    </tr>\n",
       "    <tr>\n",
       "      <td>6</td>\n",
       "      <td>0.643294</td>\n",
       "      <td>0.633671</td>\n",
       "      <td>0.654434</td>\n",
       "      <td>0.666667</td>\n",
       "      <td>0.578616</td>\n",
       "      <td>02:14</td>\n",
       "    </tr>\n",
       "    <tr>\n",
       "      <td>7</td>\n",
       "      <td>0.627795</td>\n",
       "      <td>0.629306</td>\n",
       "      <td>0.657492</td>\n",
       "      <td>0.660959</td>\n",
       "      <td>0.606918</td>\n",
       "      <td>02:14</td>\n",
       "    </tr>\n",
       "    <tr>\n",
       "      <td>8</td>\n",
       "      <td>0.641631</td>\n",
       "      <td>0.629145</td>\n",
       "      <td>0.662080</td>\n",
       "      <td>0.672598</td>\n",
       "      <td>0.594340</td>\n",
       "      <td>02:13</td>\n",
       "    </tr>\n",
       "    <tr>\n",
       "      <td>9</td>\n",
       "      <td>0.648628</td>\n",
       "      <td>0.630615</td>\n",
       "      <td>0.654434</td>\n",
       "      <td>0.685484</td>\n",
       "      <td>0.534591</td>\n",
       "      <td>02:14</td>\n",
       "    </tr>\n",
       "    <tr>\n",
       "      <td>10</td>\n",
       "      <td>0.635355</td>\n",
       "      <td>0.628501</td>\n",
       "      <td>0.648318</td>\n",
       "      <td>0.678862</td>\n",
       "      <td>0.525157</td>\n",
       "      <td>02:14</td>\n",
       "    </tr>\n",
       "    <tr>\n",
       "      <td>11</td>\n",
       "      <td>0.632017</td>\n",
       "      <td>0.628369</td>\n",
       "      <td>0.660550</td>\n",
       "      <td>0.696721</td>\n",
       "      <td>0.534591</td>\n",
       "      <td>02:13</td>\n",
       "    </tr>\n",
       "    <tr>\n",
       "      <td>12</td>\n",
       "      <td>0.640316</td>\n",
       "      <td>0.626811</td>\n",
       "      <td>0.662080</td>\n",
       "      <td>0.659016</td>\n",
       "      <td>0.632075</td>\n",
       "      <td>02:13</td>\n",
       "    </tr>\n",
       "    <tr>\n",
       "      <td>13</td>\n",
       "      <td>0.644467</td>\n",
       "      <td>0.630018</td>\n",
       "      <td>0.666667</td>\n",
       "      <td>0.731481</td>\n",
       "      <td>0.496855</td>\n",
       "      <td>02:13</td>\n",
       "    </tr>\n",
       "    <tr>\n",
       "      <td>14</td>\n",
       "      <td>0.631672</td>\n",
       "      <td>0.626937</td>\n",
       "      <td>0.665138</td>\n",
       "      <td>0.723982</td>\n",
       "      <td>0.503145</td>\n",
       "      <td>02:13</td>\n",
       "    </tr>\n",
       "  </tbody>\n",
       "</table>"
      ],
      "text/plain": [
       "<IPython.core.display.HTML object>"
      ]
     },
     "metadata": {},
     "output_type": "display_data"
    },
    {
     "name": "stdout",
     "output_type": "stream",
     "text": [
      "Better model found at epoch 0 with valid_loss value: 0.6357598900794983.\n"
     ]
    },
    {
     "data": {
      "image/png": "[encoded data removed]",
      "text/plain": [
       "<Figure size 432x288 with 1 Axes>"
      ]
     },
     "metadata": {},
     "output_type": "display_data"
    },
    {
     "name": "stdout",
     "output_type": "stream",
     "text": [
      "Better model found at epoch 1 with valid_loss value: 0.6352501511573792.\n",
      "Better model found at epoch 2 with valid_loss value: 0.635087251663208.\n",
      "Better model found at epoch 4 with valid_loss value: 0.6326199769973755.\n",
      "Better model found at epoch 5 with valid_loss value: 0.6319847106933594.\n",
      "Better model found at epoch 7 with valid_loss value: 0.6293064951896667.\n",
      "Better model found at epoch 8 with valid_loss value: 0.6291452646255493.\n",
      "Better model found at epoch 10 with valid_loss value: 0.6285011768341064.\n",
      "Better model found at epoch 11 with valid_loss value: 0.628369152545929.\n",
      "Better model found at epoch 12 with valid_loss value: 0.626811146736145.\n"
     ]
    }
   ],
   "source": [
    "learn.fit_flat_cos(15,lr=1e-4)"
   ]
  },
  {
   "cell_type": "code",
   "execution_count": 31,
   "metadata": {
    "id": "03941VUyJnZY"
   },
   "outputs": [],
   "source": [
    "dbTest = DataBlock(blocks = (ImageBlock, CategoryBlock),\n",
    "                 get_items=get_image_files, \n",
    "                 splitter=GrandparentSplitter(valid_name='test'),\n",
    "                 get_y=parent_label,\n",
    "                 item_tfms = Resize(512),\n",
    "                 batch_tfms=[*aug_transforms(size=256, min_scale=0.75), Normalize.from_stats(*imagenet_stats)])\n",
    "dlsTest = dbTest.dataloaders(path,bs=32)"
   ]
  },
  {
   "cell_type": "code",
   "execution_count": 32,
   "metadata": {
    "colab": {
     "base_uri": "https://localhost:8080/",
     "height": 743
    },
    "executionInfo": {
     "elapsed": 6568516,
     "status": "ok",
     "timestamp": 1615234528929,
     "user": {
      "displayName": "Adrián Inés",
      "photoUrl": "",
      "userId": "05591729960422855292"
     },
     "user_tz": -60
    },
    "id": "4THk3aI6JnZZ",
    "outputId": "d7fcbf5d-81f7-40ed-facf-3ee7fd297e82"
   },
   "outputs": [],
   "source": [
    "learn.dls = dlsTest"
   ]
  },
  {
   "cell_type": "code",
   "execution_count": 33,
   "metadata": {
    "colab": {
     "base_uri": "https://localhost:8080/",
     "height": 51
    },
    "executionInfo": {
     "elapsed": 6577814,
     "status": "ok",
     "timestamp": 1615234538233,
     "user": {
      "displayName": "Adrián Inés",
      "photoUrl": "",
      "userId": "05591729960422855292"
     },
     "user_tz": -60
    },
    "id": "MePbX_yKJnZd",
    "outputId": "546ecf4a-101f-45c0-eebc-8a1ef4a40664"
   },
   "outputs": [
    {
     "data": {
      "text/html": [],
      "text/plain": [
       "<IPython.core.display.HTML object>"
      ]
     },
     "metadata": {},
     "output_type": "display_data"
    },
    {
     "name": "stdout",
     "output_type": "stream",
     "text": [
      "Better model found at epoch 0 with valid_loss value: 0.727385401725769.\n"
     ]
    },
    {
     "data": {
      "text/plain": [
       "(#4) [0.6068653464317322,0.727385401725769,0.7906403940886699,0.7039473684210527]"
      ]
     },
     "execution_count": 33,
     "metadata": {},
     "output_type": "execute_result"
    }
   ],
   "source": [
    "learn.validate()"
   ]
  },
  {
   "cell_type": "markdown",
   "metadata": {
    "id": "ZjSbwy8Moy1I"
   },
   "source": [
    "## Ranger + Flat + MixUp"
   ]
  },
  {
   "cell_type": "code",
   "execution_count": 34,
   "metadata": {
    "id": "iyR1cvaipAN3"
   },
   "outputs": [],
   "source": [
    "mixup=MixUp()\n",
    "callbacks2 = [\n",
    "    ShowGraphCallback(),\n",
    "    EarlyStoppingCallback(patience=3),\n",
    "    SaveModelCallback(fname='resnest18'),\n",
    "    mixup\n",
    "]"
   ]
  },
  {
   "cell_type": "code",
   "execution_count": 35,
   "metadata": {
    "id": "I3ZxfCBmo4rC"
   },
   "outputs": [],
   "source": [
    "learn = Learner(dls512, modelo,cbs = callbacks2,metrics=[accuracy,Precision(),Recall()],opt_func=opt_func)"
   ]
  },
  {
   "cell_type": "code",
   "execution_count": 36,
   "metadata": {
    "colab": {
     "base_uri": "https://localhost:8080/",
     "height": 393
    },
    "executionInfo": {
     "elapsed": 6781979,
     "status": "ok",
     "timestamp": 1615234742417,
     "user": {
      "displayName": "Adrián Inés",
      "photoUrl": "",
      "userId": "05591729960422855292"
     },
     "user_tz": -60
    },
    "id": "lb0FoYmJo4rD",
    "outputId": "bbffd347-6ed2-4dc3-af95-c5cb2c627280"
   },
   "outputs": [
    {
     "data": {
      "text/html": [
       "<table border=\"1\" class=\"dataframe\">\n",
       "  <thead>\n",
       "    <tr style=\"text-align: left;\">\n",
       "      <th>epoch</th>\n",
       "      <th>train_loss</th>\n",
       "      <th>valid_loss</th>\n",
       "      <th>accuracy</th>\n",
       "      <th>precision_score</th>\n",
       "      <th>recall_score</th>\n",
       "      <th>time</th>\n",
       "    </tr>\n",
       "  </thead>\n",
       "  <tbody>\n",
       "    <tr>\n",
       "      <td>0</td>\n",
       "      <td>0.616555</td>\n",
       "      <td>0.607078</td>\n",
       "      <td>0.672783</td>\n",
       "      <td>0.652047</td>\n",
       "      <td>0.701258</td>\n",
       "      <td>02:12</td>\n",
       "    </tr>\n",
       "    <tr>\n",
       "      <td>1</td>\n",
       "      <td>0.628289</td>\n",
       "      <td>0.602837</td>\n",
       "      <td>0.677370</td>\n",
       "      <td>0.777202</td>\n",
       "      <td>0.471698</td>\n",
       "      <td>02:13</td>\n",
       "    </tr>\n",
       "  </tbody>\n",
       "</table>"
      ],
      "text/plain": [
       "<IPython.core.display.HTML object>"
      ]
     },
     "metadata": {},
     "output_type": "display_data"
    },
    {
     "name": "stdout",
     "output_type": "stream",
     "text": [
      "Better model found at epoch 0 with valid_loss value: 0.6070778965950012.\n"
     ]
    },
    {
     "data": {
      "image/png": "[encoded data removed]",
      "text/plain": [
       "<Figure size 432x288 with 1 Axes>"
      ]
     },
     "metadata": {},
     "output_type": "display_data"
    },
    {
     "name": "stdout",
     "output_type": "stream",
     "text": [
      "Better model found at epoch 1 with valid_loss value: 0.6028366684913635.\n"
     ]
    }
   ],
   "source": [
    "learn.fit_flat_cos(2,lr=1e-3)"
   ]
  },
  {
   "cell_type": "code",
   "execution_count": 37,
   "metadata": {
    "id": "adE4_R6Yo4rF"
   },
   "outputs": [],
   "source": [
    "learn.unfreeze()"
   ]
  },
  {
   "cell_type": "code",
   "execution_count": 38,
   "metadata": {
    "colab": {
     "base_uri": "https://localhost:8080/",
     "height": 503
    },
    "executionInfo": {
     "elapsed": 7289001,
     "status": "ok",
     "timestamp": 1615235249451,
     "user": {
      "displayName": "Adrián Inés",
      "photoUrl": "",
      "userId": "05591729960422855292"
     },
     "user_tz": -60
    },
    "id": "wRVgnRP8o4rF",
    "outputId": "cd8b4b6c-bad0-4e8c-c105-f0e4e1c3a73e"
   },
   "outputs": [
    {
     "data": {
      "text/html": [
       "<table border=\"1\" class=\"dataframe\">\n",
       "  <thead>\n",
       "    <tr style=\"text-align: left;\">\n",
       "      <th>epoch</th>\n",
       "      <th>train_loss</th>\n",
       "      <th>valid_loss</th>\n",
       "      <th>accuracy</th>\n",
       "      <th>precision_score</th>\n",
       "      <th>recall_score</th>\n",
       "      <th>time</th>\n",
       "    </tr>\n",
       "  </thead>\n",
       "  <tbody>\n",
       "    <tr>\n",
       "      <td>0</td>\n",
       "      <td>0.601101</td>\n",
       "      <td>0.594852</td>\n",
       "      <td>0.689602</td>\n",
       "      <td>0.755556</td>\n",
       "      <td>0.534591</td>\n",
       "      <td>02:12</td>\n",
       "    </tr>\n",
       "    <tr>\n",
       "      <td>1</td>\n",
       "      <td>0.607346</td>\n",
       "      <td>0.596148</td>\n",
       "      <td>0.677370</td>\n",
       "      <td>0.753555</td>\n",
       "      <td>0.500000</td>\n",
       "      <td>02:12</td>\n",
       "    </tr>\n",
       "    <tr>\n",
       "      <td>2</td>\n",
       "      <td>0.596874</td>\n",
       "      <td>0.596638</td>\n",
       "      <td>0.678899</td>\n",
       "      <td>0.757143</td>\n",
       "      <td>0.500000</td>\n",
       "      <td>02:12</td>\n",
       "    </tr>\n",
       "    <tr>\n",
       "      <td>3</td>\n",
       "      <td>0.620545</td>\n",
       "      <td>0.590395</td>\n",
       "      <td>0.681957</td>\n",
       "      <td>0.750000</td>\n",
       "      <td>0.518868</td>\n",
       "      <td>02:12</td>\n",
       "    </tr>\n",
       "    <tr>\n",
       "      <td>4</td>\n",
       "      <td>0.630928</td>\n",
       "      <td>0.596711</td>\n",
       "      <td>0.686544</td>\n",
       "      <td>0.781095</td>\n",
       "      <td>0.493711</td>\n",
       "      <td>02:13</td>\n",
       "    </tr>\n",
       "    <tr>\n",
       "      <td>5</td>\n",
       "      <td>0.594247</td>\n",
       "      <td>0.587777</td>\n",
       "      <td>0.672783</td>\n",
       "      <td>0.722222</td>\n",
       "      <td>0.531447</td>\n",
       "      <td>02:13</td>\n",
       "    </tr>\n",
       "    <tr>\n",
       "      <td>6</td>\n",
       "      <td>0.604863</td>\n",
       "      <td>0.588938</td>\n",
       "      <td>0.677370</td>\n",
       "      <td>0.737778</td>\n",
       "      <td>0.522013</td>\n",
       "      <td>02:14</td>\n",
       "    </tr>\n",
       "    <tr>\n",
       "      <td>7</td>\n",
       "      <td>0.612242</td>\n",
       "      <td>0.586464</td>\n",
       "      <td>0.677370</td>\n",
       "      <td>0.731602</td>\n",
       "      <td>0.531447</td>\n",
       "      <td>02:14</td>\n",
       "    </tr>\n",
       "    <tr>\n",
       "      <td>8</td>\n",
       "      <td>0.608887</td>\n",
       "      <td>0.578812</td>\n",
       "      <td>0.692661</td>\n",
       "      <td>0.720755</td>\n",
       "      <td>0.600629</td>\n",
       "      <td>02:13</td>\n",
       "    </tr>\n",
       "    <tr>\n",
       "      <td>9</td>\n",
       "      <td>0.599180</td>\n",
       "      <td>0.582097</td>\n",
       "      <td>0.681957</td>\n",
       "      <td>0.706767</td>\n",
       "      <td>0.591195</td>\n",
       "      <td>02:13</td>\n",
       "    </tr>\n",
       "    <tr>\n",
       "      <td>10</td>\n",
       "      <td>0.610473</td>\n",
       "      <td>0.578155</td>\n",
       "      <td>0.686544</td>\n",
       "      <td>0.740426</td>\n",
       "      <td>0.547170</td>\n",
       "      <td>02:14</td>\n",
       "    </tr>\n",
       "    <tr>\n",
       "      <td>11</td>\n",
       "      <td>0.615732</td>\n",
       "      <td>0.584330</td>\n",
       "      <td>0.689602</td>\n",
       "      <td>0.757848</td>\n",
       "      <td>0.531447</td>\n",
       "      <td>02:13</td>\n",
       "    </tr>\n",
       "    <tr>\n",
       "      <td>12</td>\n",
       "      <td>0.596526</td>\n",
       "      <td>0.582949</td>\n",
       "      <td>0.686544</td>\n",
       "      <td>0.736402</td>\n",
       "      <td>0.553459</td>\n",
       "      <td>02:14</td>\n",
       "    </tr>\n",
       "    <tr>\n",
       "      <td>13</td>\n",
       "      <td>0.595190</td>\n",
       "      <td>0.578180</td>\n",
       "      <td>0.700306</td>\n",
       "      <td>0.740157</td>\n",
       "      <td>0.591195</td>\n",
       "      <td>02:14</td>\n",
       "    </tr>\n",
       "  </tbody>\n",
       "</table>"
      ],
      "text/plain": [
       "<IPython.core.display.HTML object>"
      ]
     },
     "metadata": {},
     "output_type": "display_data"
    },
    {
     "name": "stdout",
     "output_type": "stream",
     "text": [
      "Better model found at epoch 0 with valid_loss value: 0.5948517918586731.\n"
     ]
    },
    {
     "data": {
      "image/png": "[encoded data removed]",
      "text/plain": [
       "<Figure size 432x288 with 1 Axes>"
      ]
     },
     "metadata": {},
     "output_type": "display_data"
    },
    {
     "name": "stdout",
     "output_type": "stream",
     "text": [
      "Better model found at epoch 3 with valid_loss value: 0.5903949737548828.\n",
      "Better model found at epoch 5 with valid_loss value: 0.5877774953842163.\n",
      "Better model found at epoch 7 with valid_loss value: 0.5864641070365906.\n",
      "Better model found at epoch 8 with valid_loss value: 0.578811764717102.\n",
      "Better model found at epoch 10 with valid_loss value: 0.5781551599502563.\n",
      "No improvement since epoch 10: early stopping\n"
     ]
    }
   ],
   "source": [
    "learn.fit_flat_cos(15,lr=1e-4)"
   ]
  },
  {
   "cell_type": "code",
   "execution_count": 39,
   "metadata": {
    "id": "zxzS0osxo4rF"
   },
   "outputs": [],
   "source": [
    "dbTest = DataBlock(blocks = (ImageBlock, CategoryBlock),\n",
    "                 get_items=get_image_files, \n",
    "                 splitter=GrandparentSplitter(valid_name='test'),\n",
    "                 get_y=parent_label,\n",
    "                 item_tfms = Resize(512),\n",
    "                 batch_tfms=[*aug_transforms(size=256, min_scale=0.75), Normalize.from_stats(*imagenet_stats)])\n",
    "dlsTest = dbTest.dataloaders(path,bs=32)"
   ]
  },
  {
   "cell_type": "code",
   "execution_count": 40,
   "metadata": {
    "id": "gAuAkBV8o4rG"
   },
   "outputs": [],
   "source": [
    "learn.dls = dlsTest"
   ]
  },
  {
   "cell_type": "code",
   "execution_count": 41,
   "metadata": {
    "colab": {
     "base_uri": "https://localhost:8080/",
     "height": 51
    },
    "executionInfo": {
     "elapsed": 7298510,
     "status": "ok",
     "timestamp": 1615235258978,
     "user": {
      "displayName": "Adrián Inés",
      "photoUrl": "",
      "userId": "05591729960422855292"
     },
     "user_tz": -60
    },
    "id": "dJle_Qkxo4rI",
    "outputId": "8ebf74be-9304-4c77-fd9e-2790c07ee164"
   },
   "outputs": [
    {
     "data": {
      "text/html": [],
      "text/plain": [
       "<IPython.core.display.HTML object>"
      ]
     },
     "metadata": {},
     "output_type": "display_data"
    },
    {
     "name": "stdout",
     "output_type": "stream",
     "text": [
      "Better model found at epoch 0 with valid_loss value: 0.7385377883911133.\n"
     ]
    },
    {
     "data": {
      "text/plain": [
       "(#4) [0.5522269606590271,0.7385377883911133,0.886435331230284,0.6162280701754386]"
      ]
     },
     "execution_count": 41,
     "metadata": {},
     "output_type": "execute_result"
    }
   ],
   "source": [
    "learn.validate()"
   ]
  },
  {
   "cell_type": "markdown",
   "metadata": {
    "id": "BWLecS_pt6qn"
   },
   "source": [
    "## Ranger + MixUp"
   ]
  },
  {
   "cell_type": "code",
   "execution_count": 42,
   "metadata": {
    "id": "vG8JokF1t-g3"
   },
   "outputs": [],
   "source": [
    "#opt_func = partial(ranger, beta=(0.9,0.99), eps=1e-6)"
   ]
  },
  {
   "cell_type": "code",
   "execution_count": 43,
   "metadata": {
    "id": "ByMmIgZrt-g4"
   },
   "outputs": [],
   "source": [
    "learn = Learner(dls512, modelo,cbs = callbacks2,metrics=[accuracy,Precision(),Recall()],opt_func=opt_func)"
   ]
  },
  {
   "cell_type": "code",
   "execution_count": 44,
   "metadata": {
    "colab": {
     "base_uri": "https://localhost:8080/",
     "height": 1000
    },
    "executionInfo": {
     "elapsed": 8418592,
     "status": "ok",
     "timestamp": 1615236379078,
     "user": {
      "displayName": "Adrián Inés",
      "photoUrl": "",
      "userId": "05591729960422855292"
     },
     "user_tz": -60
    },
    "id": "SgeXsjXnt-g6",
    "outputId": "8796c40d-85fb-42bc-8065-b7e7b1965475"
   },
   "outputs": [
    {
     "data": {
      "text/html": [
       "<table border=\"1\" class=\"dataframe\">\n",
       "  <thead>\n",
       "    <tr style=\"text-align: left;\">\n",
       "      <th>epoch</th>\n",
       "      <th>train_loss</th>\n",
       "      <th>valid_loss</th>\n",
       "      <th>accuracy</th>\n",
       "      <th>precision_score</th>\n",
       "      <th>recall_score</th>\n",
       "      <th>time</th>\n",
       "    </tr>\n",
       "  </thead>\n",
       "  <tbody>\n",
       "    <tr>\n",
       "      <td>0</td>\n",
       "      <td>0.604236</td>\n",
       "      <td>0.584575</td>\n",
       "      <td>0.685015</td>\n",
       "      <td>0.717054</td>\n",
       "      <td>0.581761</td>\n",
       "      <td>02:13</td>\n",
       "    </tr>\n",
       "    <tr>\n",
       "      <td>1</td>\n",
       "      <td>0.589250</td>\n",
       "      <td>0.583494</td>\n",
       "      <td>0.680428</td>\n",
       "      <td>0.724280</td>\n",
       "      <td>0.553459</td>\n",
       "      <td>02:13</td>\n",
       "    </tr>\n",
       "  </tbody>\n",
       "</table>"
      ],
      "text/plain": [
       "<IPython.core.display.HTML object>"
      ]
     },
     "metadata": {},
     "output_type": "display_data"
    },
    {
     "name": "stdout",
     "output_type": "stream",
     "text": [
      "Better model found at epoch 0 with valid_loss value: 0.5845746994018555.\n"
     ]
    },
    {
     "data": {
      "image/png": "[encoded data removed]",
      "text/plain": [
       "<Figure size 432x288 with 1 Axes>"
      ]
     },
     "metadata": {},
     "output_type": "display_data"
    },
    {
     "name": "stdout",
     "output_type": "stream",
     "text": [
      "Better model found at epoch 1 with valid_loss value: 0.5834938287734985.\n"
     ]
    },
    {
     "data": {
      "text/html": [
       "<table border=\"1\" class=\"dataframe\">\n",
       "  <thead>\n",
       "    <tr style=\"text-align: left;\">\n",
       "      <th>epoch</th>\n",
       "      <th>train_loss</th>\n",
       "      <th>valid_loss</th>\n",
       "      <th>accuracy</th>\n",
       "      <th>precision_score</th>\n",
       "      <th>recall_score</th>\n",
       "      <th>time</th>\n",
       "    </tr>\n",
       "  </thead>\n",
       "  <tbody>\n",
       "    <tr>\n",
       "      <td>0</td>\n",
       "      <td>0.611912</td>\n",
       "      <td>0.583087</td>\n",
       "      <td>0.685015</td>\n",
       "      <td>0.735294</td>\n",
       "      <td>0.550314</td>\n",
       "      <td>02:12</td>\n",
       "    </tr>\n",
       "    <tr>\n",
       "      <td>1</td>\n",
       "      <td>0.615790</td>\n",
       "      <td>0.575998</td>\n",
       "      <td>0.697248</td>\n",
       "      <td>0.715827</td>\n",
       "      <td>0.625786</td>\n",
       "      <td>02:13</td>\n",
       "    </tr>\n",
       "    <tr>\n",
       "      <td>2</td>\n",
       "      <td>0.596656</td>\n",
       "      <td>0.577832</td>\n",
       "      <td>0.692661</td>\n",
       "      <td>0.706714</td>\n",
       "      <td>0.628931</td>\n",
       "      <td>02:14</td>\n",
       "    </tr>\n",
       "    <tr>\n",
       "      <td>3</td>\n",
       "      <td>0.600375</td>\n",
       "      <td>0.582875</td>\n",
       "      <td>0.686544</td>\n",
       "      <td>0.755656</td>\n",
       "      <td>0.525157</td>\n",
       "      <td>02:13</td>\n",
       "    </tr>\n",
       "    <tr>\n",
       "      <td>4</td>\n",
       "      <td>0.590302</td>\n",
       "      <td>0.585681</td>\n",
       "      <td>0.692661</td>\n",
       "      <td>0.777251</td>\n",
       "      <td>0.515723</td>\n",
       "      <td>02:13</td>\n",
       "    </tr>\n",
       "  </tbody>\n",
       "</table>"
      ],
      "text/plain": [
       "<IPython.core.display.HTML object>"
      ]
     },
     "metadata": {},
     "output_type": "display_data"
    },
    {
     "name": "stdout",
     "output_type": "stream",
     "text": [
      "Better model found at epoch 0 with valid_loss value: 0.5830870270729065.\n"
     ]
    },
    {
     "data": {
      "image/png": "[encoded data removed]",
      "text/plain": [
       "<Figure size 432x288 with 1 Axes>"
      ]
     },
     "metadata": {},
     "output_type": "display_data"
    },
    {
     "name": "stdout",
     "output_type": "stream",
     "text": [
      "Better model found at epoch 1 with valid_loss value: 0.575997531414032.\n",
      "No improvement since epoch 1: early stopping\n"
     ]
    }
   ],
   "source": [
    "learn.fine_tune(15,freeze_epochs=2,base_lr=lr)"
   ]
  },
  {
   "cell_type": "code",
   "execution_count": 45,
   "metadata": {
    "id": "zDZI4vuPt-g7"
   },
   "outputs": [],
   "source": [
    "dbTest = DataBlock(blocks = (ImageBlock, CategoryBlock),\n",
    "                 get_items=get_image_files, \n",
    "                 splitter=GrandparentSplitter(valid_name='test'),\n",
    "                 get_y=parent_label,\n",
    "                 item_tfms = Resize(512),\n",
    "                 batch_tfms=[*aug_transforms(size=256, min_scale=0.75), Normalize.from_stats(*imagenet_stats)])\n",
    "dlsTest = dbTest.dataloaders(path,bs=32)"
   ]
  },
  {
   "cell_type": "code",
   "execution_count": 46,
   "metadata": {
    "id": "sT4YPDrmt-g8"
   },
   "outputs": [],
   "source": [
    "learn.dls = dlsTest"
   ]
  },
  {
   "cell_type": "code",
   "execution_count": 47,
   "metadata": {
    "colab": {
     "base_uri": "https://localhost:8080/",
     "height": 51
    },
    "executionInfo": {
     "elapsed": 8428093,
     "status": "ok",
     "timestamp": 1615236388600,
     "user": {
      "displayName": "Adrián Inés",
      "photoUrl": "",
      "userId": "05591729960422855292"
     },
     "user_tz": -60
    },
    "id": "dyNqWQbht-g-",
    "outputId": "03c77ec8-c504-4b72-e154-bb67b66f6739"
   },
   "outputs": [
    {
     "data": {
      "text/html": [],
      "text/plain": [
       "<IPython.core.display.HTML object>"
      ]
     },
     "metadata": {},
     "output_type": "display_data"
    },
    {
     "name": "stdout",
     "output_type": "stream",
     "text": [
      "Better model found at epoch 0 with valid_loss value: 0.7546468377113342.\n"
     ]
    },
    {
     "data": {
      "text/plain": [
       "(#4) [0.5429998636245728,0.7546468377113342,0.864406779661017,0.6710526315789473]"
      ]
     },
     "execution_count": 47,
     "metadata": {},
     "output_type": "execute_result"
    }
   ],
   "source": [
    "learn.validate()"
   ]
  },
  {
   "cell_type": "markdown",
   "metadata": {
    "id": "JJZCnmiNt-g_"
   },
   "source": [
    "## Faltten + MixUp"
   ]
  },
  {
   "cell_type": "code",
   "execution_count": 48,
   "metadata": {
    "id": "sV9nrF35t-g_"
   },
   "outputs": [],
   "source": [
    "learn = Learner(dls512, modelo,cbs = callbacks2,metrics=[accuracy,Precision(),Recall()])"
   ]
  },
  {
   "cell_type": "code",
   "execution_count": 49,
   "metadata": {
    "colab": {
     "base_uri": "https://localhost:8080/",
     "height": 380
    },
    "executionInfo": {
     "elapsed": 8628463,
     "status": "ok",
     "timestamp": 1615236588982,
     "user": {
      "displayName": "Adrián Inés",
      "photoUrl": "",
      "userId": "05591729960422855292"
     },
     "user_tz": -60
    },
    "id": "V7ybDkmTt-hA",
    "outputId": "4af10c19-c892-4065-afb2-86a09eceb129"
   },
   "outputs": [
    {
     "data": {
      "text/html": [
       "<table border=\"1\" class=\"dataframe\">\n",
       "  <thead>\n",
       "    <tr style=\"text-align: left;\">\n",
       "      <th>epoch</th>\n",
       "      <th>train_loss</th>\n",
       "      <th>valid_loss</th>\n",
       "      <th>accuracy</th>\n",
       "      <th>precision_score</th>\n",
       "      <th>recall_score</th>\n",
       "      <th>time</th>\n",
       "    </tr>\n",
       "  </thead>\n",
       "  <tbody>\n",
       "    <tr>\n",
       "      <td>0</td>\n",
       "      <td>0.717307</td>\n",
       "      <td>0.734761</td>\n",
       "      <td>0.490826</td>\n",
       "      <td>0.486085</td>\n",
       "      <td>0.823899</td>\n",
       "      <td>02:08</td>\n",
       "    </tr>\n",
       "    <tr>\n",
       "      <td>1</td>\n",
       "      <td>0.706492</td>\n",
       "      <td>0.748345</td>\n",
       "      <td>0.486239</td>\n",
       "      <td>0.486239</td>\n",
       "      <td>1.000000</td>\n",
       "      <td>02:08</td>\n",
       "    </tr>\n",
       "  </tbody>\n",
       "</table>"
      ],
      "text/plain": [
       "<IPython.core.display.HTML object>"
      ]
     },
     "metadata": {},
     "output_type": "display_data"
    },
    {
     "name": "stdout",
     "output_type": "stream",
     "text": [
      "Better model found at epoch 0 with valid_loss value: 0.7347612977027893.\n"
     ]
    },
    {
     "data": {
      "image/png": "[encoded data removed]",
      "text/plain": [
       "<Figure size 432x288 with 1 Axes>"
      ]
     },
     "metadata": {},
     "output_type": "display_data"
    }
   ],
   "source": [
    "learn.fit_flat_cos(2,lr=1e-3)"
   ]
  },
  {
   "cell_type": "code",
   "execution_count": 50,
   "metadata": {
    "id": "hJlU-I62t-hB"
   },
   "outputs": [],
   "source": [
    "learn.unfreeze()"
   ]
  },
  {
   "cell_type": "code",
   "execution_count": 51,
   "metadata": {
    "colab": {
     "base_uri": "https://localhost:8080/",
     "height": 455
    },
    "executionInfo": {
     "elapsed": 9025455,
     "status": "ok",
     "timestamp": 1615236985985,
     "user": {
      "displayName": "Adrián Inés",
      "photoUrl": "",
      "userId": "05591729960422855292"
     },
     "user_tz": -60
    },
    "id": "iG8xCY-Xt-hC",
    "outputId": "d5543d3d-069a-4c9c-8318-69a5115b881a"
   },
   "outputs": [
    {
     "data": {
      "text/html": [
       "<table border=\"1\" class=\"dataframe\">\n",
       "  <thead>\n",
       "    <tr style=\"text-align: left;\">\n",
       "      <th>epoch</th>\n",
       "      <th>train_loss</th>\n",
       "      <th>valid_loss</th>\n",
       "      <th>accuracy</th>\n",
       "      <th>precision_score</th>\n",
       "      <th>recall_score</th>\n",
       "      <th>time</th>\n",
       "    </tr>\n",
       "  </thead>\n",
       "  <tbody>\n",
       "    <tr>\n",
       "      <td>0</td>\n",
       "      <td>0.695478</td>\n",
       "      <td>0.719656</td>\n",
       "      <td>0.486239</td>\n",
       "      <td>0.485000</td>\n",
       "      <td>0.915094</td>\n",
       "      <td>02:08</td>\n",
       "    </tr>\n",
       "    <tr>\n",
       "      <td>1</td>\n",
       "      <td>0.695389</td>\n",
       "      <td>0.694502</td>\n",
       "      <td>0.513761</td>\n",
       "      <td>0.000000</td>\n",
       "      <td>0.000000</td>\n",
       "      <td>02:08</td>\n",
       "    </tr>\n",
       "    <tr>\n",
       "      <td>2</td>\n",
       "      <td>0.699605</td>\n",
       "      <td>1.432394</td>\n",
       "      <td>0.512232</td>\n",
       "      <td>0.493671</td>\n",
       "      <td>0.122642</td>\n",
       "      <td>02:08</td>\n",
       "    </tr>\n",
       "    <tr>\n",
       "      <td>3</td>\n",
       "      <td>0.699469</td>\n",
       "      <td>0.702788</td>\n",
       "      <td>0.477064</td>\n",
       "      <td>0.475806</td>\n",
       "      <td>0.742138</td>\n",
       "      <td>02:08</td>\n",
       "    </tr>\n",
       "    <tr>\n",
       "      <td>4</td>\n",
       "      <td>0.693242</td>\n",
       "      <td>0.722637</td>\n",
       "      <td>0.489297</td>\n",
       "      <td>0.487730</td>\n",
       "      <td>1.000000</td>\n",
       "      <td>02:08</td>\n",
       "    </tr>\n",
       "  </tbody>\n",
       "</table>"
      ],
      "text/plain": [
       "<IPython.core.display.HTML object>"
      ]
     },
     "metadata": {},
     "output_type": "display_data"
    },
    {
     "name": "stdout",
     "output_type": "stream",
     "text": [
      "Better model found at epoch 0 with valid_loss value: 0.7196564078330994.\n"
     ]
    },
    {
     "data": {
      "image/png": "[encoded data removed]",
      "text/plain": [
       "<Figure size 432x288 with 1 Axes>"
      ]
     },
     "metadata": {},
     "output_type": "display_data"
    },
    {
     "name": "stderr",
     "output_type": "stream",
     "text": [
      "/home/jonathan/.virtualenvs/segmentation/lib/python3.6/site-packages/sklearn/metrics/_classification.py:1221: UndefinedMetricWarning: Precision is ill-defined and being set to 0.0 due to no predicted samples. Use `zero_division` parameter to control this behavior.\n",
      "  _warn_prf(average, modifier, msg_start, len(result))\n"
     ]
    },
    {
     "name": "stdout",
     "output_type": "stream",
     "text": [
      "Better model found at epoch 1 with valid_loss value: 0.6945017576217651.\n",
      "No improvement since epoch 1: early stopping\n"
     ]
    }
   ],
   "source": [
    "learn.fit_flat_cos(10,lr=1e-4)"
   ]
  },
  {
   "cell_type": "code",
   "execution_count": 52,
   "metadata": {
    "id": "M1ngFnsAt-hD"
   },
   "outputs": [],
   "source": [
    "dbTest = DataBlock(blocks = (ImageBlock, CategoryBlock),\n",
    "                 get_items=get_image_files, \n",
    "                 splitter=GrandparentSplitter(valid_name='test'),\n",
    "                 get_y=parent_label,\n",
    "                 item_tfms = Resize(512),\n",
    "                 batch_tfms=[*aug_transforms(size=256, min_scale=0.75), Normalize.from_stats(*imagenet_stats)])\n",
    "dlsTest = dbTest.dataloaders(path,bs=32)"
   ]
  },
  {
   "cell_type": "code",
   "execution_count": 53,
   "metadata": {
    "id": "TYkRxML1t-hE"
   },
   "outputs": [],
   "source": [
    "learn.dls = dlsTest"
   ]
  },
  {
   "cell_type": "code",
   "execution_count": 54,
   "metadata": {
    "colab": {
     "base_uri": "https://localhost:8080/",
     "height": 51
    },
    "executionInfo": {
     "elapsed": 9035036,
     "status": "ok",
     "timestamp": 1615236995584,
     "user": {
      "displayName": "Adrián Inés",
      "photoUrl": "",
      "userId": "05591729960422855292"
     },
     "user_tz": -60
    },
    "id": "xfzUq4Jpt-hF",
    "outputId": "b9e600ec-6c9f-4ecf-910b-24ab4b5c3525"
   },
   "outputs": [
    {
     "data": {
      "text/html": [],
      "text/plain": [
       "<IPython.core.display.HTML object>"
      ]
     },
     "metadata": {},
     "output_type": "display_data"
    },
    {
     "name": "stdout",
     "output_type": "stream",
     "text": [
      "Better model found at epoch 0 with valid_loss value: 0.4349442422389984.\n"
     ]
    },
    {
     "data": {
      "text/plain": [
       "(#4) [0.7024838924407959,0.4349442422389984,0.0,0.0]"
      ]
     },
     "execution_count": 54,
     "metadata": {},
     "output_type": "execute_result"
    }
   ],
   "source": [
    "learn.validate()"
   ]
  },
  {
   "cell_type": "markdown",
   "metadata": {
    "id": "R1ElDu-6xT5k"
   },
   "source": [
    "## Ranger + Label"
   ]
  },
  {
   "cell_type": "code",
   "execution_count": 55,
   "metadata": {
    "id": "_qjFtSnBxT5m"
   },
   "outputs": [],
   "source": [
    "#opt_func = partial(ranger, beta=(0.9,0.99), eps=1e-6)"
   ]
  },
  {
   "cell_type": "code",
   "execution_count": 56,
   "metadata": {
    "id": "6ScYTit4xT5n"
   },
   "outputs": [],
   "source": [
    "learn = Learner(dls512, modelo,cbs = callbacks,metrics=[accuracy,Precision(),Recall()],opt_func=opt_func,loss_func=LabelSmoothingCrossEntropy())"
   ]
  },
  {
   "cell_type": "code",
   "execution_count": 57,
   "metadata": {
    "colab": {
     "base_uri": "https://localhost:8080/",
     "height": 941
    },
    "executionInfo": {
     "elapsed": 9946353,
     "status": "ok",
     "timestamp": 1615237906919,
     "user": {
      "displayName": "Adrián Inés",
      "photoUrl": "",
      "userId": "05591729960422855292"
     },
     "user_tz": -60
    },
    "id": "1DiCPB59xT5q",
    "outputId": "396cd577-a407-45ff-a7d3-50f160f18516"
   },
   "outputs": [
    {
     "data": {
      "text/html": [
       "<table border=\"1\" class=\"dataframe\">\n",
       "  <thead>\n",
       "    <tr style=\"text-align: left;\">\n",
       "      <th>epoch</th>\n",
       "      <th>train_loss</th>\n",
       "      <th>valid_loss</th>\n",
       "      <th>accuracy</th>\n",
       "      <th>precision_score</th>\n",
       "      <th>recall_score</th>\n",
       "      <th>time</th>\n",
       "    </tr>\n",
       "  </thead>\n",
       "  <tbody>\n",
       "    <tr>\n",
       "      <td>0</td>\n",
       "      <td>0.697240</td>\n",
       "      <td>0.693440</td>\n",
       "      <td>0.513761</td>\n",
       "      <td>0.000000</td>\n",
       "      <td>0.000000</td>\n",
       "      <td>02:12</td>\n",
       "    </tr>\n",
       "    <tr>\n",
       "      <td>1</td>\n",
       "      <td>0.695205</td>\n",
       "      <td>0.694676</td>\n",
       "      <td>0.507645</td>\n",
       "      <td>0.000000</td>\n",
       "      <td>0.000000</td>\n",
       "      <td>02:13</td>\n",
       "    </tr>\n",
       "  </tbody>\n",
       "</table>"
      ],
      "text/plain": [
       "<IPython.core.display.HTML object>"
      ]
     },
     "metadata": {},
     "output_type": "display_data"
    },
    {
     "name": "stdout",
     "output_type": "stream",
     "text": [
      "Better model found at epoch 0 with valid_loss value: 0.693440318107605.\n"
     ]
    },
    {
     "data": {
      "image/png": "[encoded data removed]",
      "text/plain": [
       "<Figure size 432x288 with 1 Axes>"
      ]
     },
     "metadata": {},
     "output_type": "display_data"
    },
    {
     "data": {
      "text/html": [
       "<table border=\"1\" class=\"dataframe\">\n",
       "  <thead>\n",
       "    <tr style=\"text-align: left;\">\n",
       "      <th>epoch</th>\n",
       "      <th>train_loss</th>\n",
       "      <th>valid_loss</th>\n",
       "      <th>accuracy</th>\n",
       "      <th>precision_score</th>\n",
       "      <th>recall_score</th>\n",
       "      <th>time</th>\n",
       "    </tr>\n",
       "  </thead>\n",
       "  <tbody>\n",
       "    <tr>\n",
       "      <td>0</td>\n",
       "      <td>0.695550</td>\n",
       "      <td>0.693229</td>\n",
       "      <td>0.513761</td>\n",
       "      <td>0.000000</td>\n",
       "      <td>0.000000</td>\n",
       "      <td>02:12</td>\n",
       "    </tr>\n",
       "    <tr>\n",
       "      <td>1</td>\n",
       "      <td>0.694081</td>\n",
       "      <td>0.693210</td>\n",
       "      <td>0.513761</td>\n",
       "      <td>0.000000</td>\n",
       "      <td>0.000000</td>\n",
       "      <td>02:13</td>\n",
       "    </tr>\n",
       "    <tr>\n",
       "      <td>2</td>\n",
       "      <td>0.693373</td>\n",
       "      <td>0.692979</td>\n",
       "      <td>0.515290</td>\n",
       "      <td>1.000000</td>\n",
       "      <td>0.003145</td>\n",
       "      <td>02:12</td>\n",
       "    </tr>\n",
       "    <tr>\n",
       "      <td>3</td>\n",
       "      <td>0.693681</td>\n",
       "      <td>0.693217</td>\n",
       "      <td>0.512232</td>\n",
       "      <td>0.333333</td>\n",
       "      <td>0.003145</td>\n",
       "      <td>02:13</td>\n",
       "    </tr>\n",
       "    <tr>\n",
       "      <td>4</td>\n",
       "      <td>0.693145</td>\n",
       "      <td>0.695421</td>\n",
       "      <td>0.509174</td>\n",
       "      <td>0.457143</td>\n",
       "      <td>0.050314</td>\n",
       "      <td>02:12</td>\n",
       "    </tr>\n",
       "    <tr>\n",
       "      <td>5</td>\n",
       "      <td>0.693714</td>\n",
       "      <td>0.694090</td>\n",
       "      <td>0.512232</td>\n",
       "      <td>0.478261</td>\n",
       "      <td>0.034591</td>\n",
       "      <td>02:13</td>\n",
       "    </tr>\n",
       "  </tbody>\n",
       "</table>"
      ],
      "text/plain": [
       "<IPython.core.display.HTML object>"
      ]
     },
     "metadata": {},
     "output_type": "display_data"
    },
    {
     "name": "stdout",
     "output_type": "stream",
     "text": [
      "Better model found at epoch 0 with valid_loss value: 0.6932288408279419.\n"
     ]
    },
    {
     "data": {
      "image/png": "[encoded data removed]",
      "text/plain": [
       "<Figure size 432x288 with 1 Axes>"
      ]
     },
     "metadata": {},
     "output_type": "display_data"
    },
    {
     "name": "stdout",
     "output_type": "stream",
     "text": [
      "Better model found at epoch 1 with valid_loss value: 0.6932098865509033.\n",
      "Better model found at epoch 2 with valid_loss value: 0.6929786801338196.\n",
      "No improvement since epoch 2: early stopping\n"
     ]
    }
   ],
   "source": [
    "learn.fine_tune(15,freeze_epochs=2,base_lr=lr)"
   ]
  },
  {
   "cell_type": "code",
   "execution_count": 58,
   "metadata": {
    "id": "C8YAxn7uxT5q"
   },
   "outputs": [],
   "source": [
    "dbTest = DataBlock(blocks = (ImageBlock, CategoryBlock),\n",
    "                 get_items=get_image_files, \n",
    "                 splitter=GrandparentSplitter(valid_name='test'),\n",
    "                 get_y=parent_label,\n",
    "                 item_tfms = Resize(512),\n",
    "                 batch_tfms=[*aug_transforms(size=256, min_scale=0.75), Normalize.from_stats(*imagenet_stats)])\n",
    "dlsTest = dbTest.dataloaders(path,bs=32)"
   ]
  },
  {
   "cell_type": "code",
   "execution_count": 59,
   "metadata": {
    "id": "E4f_LiCAxT5s"
   },
   "outputs": [],
   "source": [
    "learn.dls = dlsTest"
   ]
  },
  {
   "cell_type": "code",
   "execution_count": 60,
   "metadata": {
    "colab": {
     "base_uri": "https://localhost:8080/",
     "height": 51
    },
    "executionInfo": {
     "elapsed": 9955929,
     "status": "ok",
     "timestamp": 1615237916520,
     "user": {
      "displayName": "Adrián Inés",
      "photoUrl": "",
      "userId": "05591729960422855292"
     },
     "user_tz": -60
    },
    "id": "Cq4xjORDxT5t",
    "outputId": "22bab0cf-5b7f-478a-ee30-1b0c12192ca6"
   },
   "outputs": [
    {
     "data": {
      "text/html": [],
      "text/plain": [
       "<IPython.core.display.HTML object>"
      ]
     },
     "metadata": {},
     "output_type": "display_data"
    },
    {
     "name": "stdout",
     "output_type": "stream",
     "text": [
      "Better model found at epoch 0 with valid_loss value: 0.4361833930015564.\n"
     ]
    },
    {
     "data": {
      "text/plain": [
       "(#4) [0.6971837282180786,0.4361833930015564,0.6666666666666666,0.0043859649122807015]"
      ]
     },
     "execution_count": 60,
     "metadata": {},
     "output_type": "execute_result"
    }
   ],
   "source": [
    "learn.validate()"
   ]
  },
  {
   "cell_type": "markdown",
   "metadata": {
    "id": "_T2WupMPxT5v"
   },
   "source": [
    "## Faltten + Label"
   ]
  },
  {
   "cell_type": "code",
   "execution_count": 61,
   "metadata": {
    "id": "xEjsvQUWxT5v"
   },
   "outputs": [],
   "source": [
    "learn = Learner(dls512, modelo,cbs = callbacks,metrics=[accuracy,Precision(),Recall()],loss_func=LabelSmoothingCrossEntropy())"
   ]
  },
  {
   "cell_type": "code",
   "execution_count": 62,
   "metadata": {
    "colab": {
     "base_uri": "https://localhost:8080/",
     "height": 394
    },
    "executionInfo": {
     "elapsed": 10155782,
     "status": "ok",
     "timestamp": 1615238116386,
     "user": {
      "displayName": "Adrián Inés",
      "photoUrl": "",
      "userId": "05591729960422855292"
     },
     "user_tz": -60
    },
    "id": "dDNxAGOlxT5v",
    "outputId": "978e9f33-6e4f-4984-80b6-f432fa4526e3"
   },
   "outputs": [
    {
     "data": {
      "text/html": [
       "<table border=\"1\" class=\"dataframe\">\n",
       "  <thead>\n",
       "    <tr style=\"text-align: left;\">\n",
       "      <th>epoch</th>\n",
       "      <th>train_loss</th>\n",
       "      <th>valid_loss</th>\n",
       "      <th>accuracy</th>\n",
       "      <th>precision_score</th>\n",
       "      <th>recall_score</th>\n",
       "      <th>time</th>\n",
       "    </tr>\n",
       "  </thead>\n",
       "  <tbody>\n",
       "    <tr>\n",
       "      <td>0</td>\n",
       "      <td>0.715223</td>\n",
       "      <td>2.162499</td>\n",
       "      <td>0.489297</td>\n",
       "      <td>0.486063</td>\n",
       "      <td>0.877358</td>\n",
       "      <td>02:07</td>\n",
       "    </tr>\n",
       "    <tr>\n",
       "      <td>1</td>\n",
       "      <td>0.701112</td>\n",
       "      <td>0.744371</td>\n",
       "      <td>0.498471</td>\n",
       "      <td>0.491803</td>\n",
       "      <td>0.943396</td>\n",
       "      <td>02:07</td>\n",
       "    </tr>\n",
       "  </tbody>\n",
       "</table>"
      ],
      "text/plain": [
       "<IPython.core.display.HTML object>"
      ]
     },
     "metadata": {},
     "output_type": "display_data"
    },
    {
     "name": "stdout",
     "output_type": "stream",
     "text": [
      "Better model found at epoch 0 with valid_loss value: 2.162498950958252.\n"
     ]
    },
    {
     "data": {
      "image/png": "[encoded data removed]",
      "text/plain": [
       "<Figure size 432x288 with 1 Axes>"
      ]
     },
     "metadata": {},
     "output_type": "display_data"
    },
    {
     "name": "stdout",
     "output_type": "stream",
     "text": [
      "Better model found at epoch 1 with valid_loss value: 0.744370698928833.\n"
     ]
    }
   ],
   "source": [
    "learn.fit_flat_cos(2,lr=1e-3)"
   ]
  },
  {
   "cell_type": "code",
   "execution_count": 63,
   "metadata": {
    "id": "P3U8ce2ZxT5w"
   },
   "outputs": [],
   "source": [
    "learn.unfreeze()"
   ]
  },
  {
   "cell_type": "code",
   "execution_count": 64,
   "metadata": {
    "colab": {
     "base_uri": "https://localhost:8080/",
     "height": 300
    },
    "executionInfo": {
     "elapsed": 10258552,
     "status": "ok",
     "timestamp": 1615238219169,
     "user": {
      "displayName": "Adrián Inés",
      "photoUrl": "",
      "userId": "05591729960422855292"
     },
     "user_tz": -60
    },
    "id": "7VxsYu5exT5x",
    "outputId": "20785b15-d5e1-4f5f-cf3f-d70d32ba92e0"
   },
   "outputs": [
    {
     "data": {
      "text/html": [],
      "text/plain": [
       "<IPython.core.display.HTML object>"
      ]
     },
     "metadata": {},
     "output_type": "display_data"
    },
    {
     "data": {
      "text/plain": [
       "SuggestedLRs(lr_min=2.7542287170945203e-07, lr_steep=0.3630780577659607)"
      ]
     },
     "execution_count": 64,
     "metadata": {},
     "output_type": "execute_result"
    },
    {
     "data": {
      "image/png": "[encoded data removed]",
      "text/plain": [
       "<Figure size 432x288 with 1 Axes>"
      ]
     },
     "metadata": {
      "needs_background": "light"
     },
     "output_type": "display_data"
    }
   ],
   "source": [
    "learn.lr_find()"
   ]
  },
  {
   "cell_type": "code",
   "execution_count": 65,
   "metadata": {
    "colab": {
     "base_uri": "https://localhost:8080/",
     "height": 605
    },
    "executionInfo": {
     "elapsed": 10854206,
     "status": "ok",
     "timestamp": 1615238814829,
     "user": {
      "displayName": "Adrián Inés",
      "photoUrl": "",
      "userId": "05591729960422855292"
     },
     "user_tz": -60
    },
    "id": "9MYRZXIsxT5y",
    "outputId": "ed4476e9-f0ee-46bd-ec57-5bbd867f780c"
   },
   "outputs": [
    {
     "data": {
      "text/html": [
       "<table border=\"1\" class=\"dataframe\">\n",
       "  <thead>\n",
       "    <tr style=\"text-align: left;\">\n",
       "      <th>epoch</th>\n",
       "      <th>train_loss</th>\n",
       "      <th>valid_loss</th>\n",
       "      <th>accuracy</th>\n",
       "      <th>precision_score</th>\n",
       "      <th>recall_score</th>\n",
       "      <th>time</th>\n",
       "    </tr>\n",
       "  </thead>\n",
       "  <tbody>\n",
       "    <tr>\n",
       "      <td>0</td>\n",
       "      <td>0.695709</td>\n",
       "      <td>0.829983</td>\n",
       "      <td>0.486239</td>\n",
       "      <td>0.486239</td>\n",
       "      <td>1.000000</td>\n",
       "      <td>02:08</td>\n",
       "    </tr>\n",
       "    <tr>\n",
       "      <td>1</td>\n",
       "      <td>0.696351</td>\n",
       "      <td>0.697914</td>\n",
       "      <td>0.513761</td>\n",
       "      <td>0.500000</td>\n",
       "      <td>0.003145</td>\n",
       "      <td>02:08</td>\n",
       "    </tr>\n",
       "    <tr>\n",
       "      <td>2</td>\n",
       "      <td>0.695936</td>\n",
       "      <td>0.694945</td>\n",
       "      <td>0.489297</td>\n",
       "      <td>0.486667</td>\n",
       "      <td>0.918239</td>\n",
       "      <td>02:08</td>\n",
       "    </tr>\n",
       "    <tr>\n",
       "      <td>3</td>\n",
       "      <td>0.695623</td>\n",
       "      <td>0.699588</td>\n",
       "      <td>0.483180</td>\n",
       "      <td>0.484177</td>\n",
       "      <td>0.962264</td>\n",
       "      <td>02:08</td>\n",
       "    </tr>\n",
       "    <tr>\n",
       "      <td>4</td>\n",
       "      <td>0.694615</td>\n",
       "      <td>0.693596</td>\n",
       "      <td>0.522936</td>\n",
       "      <td>0.505618</td>\n",
       "      <td>0.849057</td>\n",
       "      <td>02:08</td>\n",
       "    </tr>\n",
       "    <tr>\n",
       "      <td>5</td>\n",
       "      <td>0.698400</td>\n",
       "      <td>0.693611</td>\n",
       "      <td>0.515290</td>\n",
       "      <td>0.500907</td>\n",
       "      <td>0.867925</td>\n",
       "      <td>02:08</td>\n",
       "    </tr>\n",
       "    <tr>\n",
       "      <td>6</td>\n",
       "      <td>0.697521</td>\n",
       "      <td>0.693535</td>\n",
       "      <td>0.484709</td>\n",
       "      <td>0.483186</td>\n",
       "      <td>0.858491</td>\n",
       "      <td>02:08</td>\n",
       "    </tr>\n",
       "    <tr>\n",
       "      <td>7</td>\n",
       "      <td>0.695214</td>\n",
       "      <td>0.701276</td>\n",
       "      <td>0.492355</td>\n",
       "      <td>0.488294</td>\n",
       "      <td>0.918239</td>\n",
       "      <td>02:08</td>\n",
       "    </tr>\n",
       "    <tr>\n",
       "      <td>8</td>\n",
       "      <td>0.695258</td>\n",
       "      <td>0.697309</td>\n",
       "      <td>0.489297</td>\n",
       "      <td>0.484962</td>\n",
       "      <td>0.811321</td>\n",
       "      <td>02:08</td>\n",
       "    </tr>\n",
       "    <tr>\n",
       "      <td>9</td>\n",
       "      <td>0.691942</td>\n",
       "      <td>0.699196</td>\n",
       "      <td>0.487768</td>\n",
       "      <td>0.484574</td>\n",
       "      <td>0.839623</td>\n",
       "      <td>02:09</td>\n",
       "    </tr>\n",
       "  </tbody>\n",
       "</table>"
      ],
      "text/plain": [
       "<IPython.core.display.HTML object>"
      ]
     },
     "metadata": {},
     "output_type": "display_data"
    },
    {
     "name": "stdout",
     "output_type": "stream",
     "text": [
      "Better model found at epoch 0 with valid_loss value: 0.8299834132194519.\n"
     ]
    },
    {
     "data": {
      "image/png": "[encoded data removed]",
      "text/plain": [
       "<Figure size 432x288 with 1 Axes>"
      ]
     },
     "metadata": {},
     "output_type": "display_data"
    },
    {
     "name": "stdout",
     "output_type": "stream",
     "text": [
      "Better model found at epoch 1 with valid_loss value: 0.6979135274887085.\n",
      "Better model found at epoch 2 with valid_loss value: 0.6949450969696045.\n",
      "Better model found at epoch 4 with valid_loss value: 0.6935959458351135.\n",
      "Better model found at epoch 6 with valid_loss value: 0.6935347318649292.\n",
      "No improvement since epoch 6: early stopping\n"
     ]
    }
   ],
   "source": [
    "learn.fit_flat_cos(10,lr=1e-4)"
   ]
  },
  {
   "cell_type": "code",
   "execution_count": 66,
   "metadata": {
    "id": "qt50c3iRxT5z"
   },
   "outputs": [],
   "source": [
    "dbTest = DataBlock(blocks = (ImageBlock, CategoryBlock),\n",
    "                 get_items=get_image_files, \n",
    "                 splitter=GrandparentSplitter(valid_name='test'),\n",
    "                 get_y=parent_label,\n",
    "                 item_tfms = Resize(512),\n",
    "                 batch_tfms=[*aug_transforms(size=256, min_scale=0.75), Normalize.from_stats(*imagenet_stats)])\n",
    "dlsTest = dbTest.dataloaders(path,bs=32)"
   ]
  },
  {
   "cell_type": "code",
   "execution_count": 67,
   "metadata": {
    "id": "T7aKEtJ4xT51"
   },
   "outputs": [],
   "source": [
    "learn.dls = dlsTest"
   ]
  },
  {
   "cell_type": "code",
   "execution_count": 68,
   "metadata": {
    "colab": {
     "base_uri": "https://localhost:8080/",
     "height": 51
    },
    "executionInfo": {
     "elapsed": 10864195,
     "status": "ok",
     "timestamp": 1615238824836,
     "user": {
      "displayName": "Adrián Inés",
      "photoUrl": "",
      "userId": "05591729960422855292"
     },
     "user_tz": -60
    },
    "id": "lKXBtm_6xT51",
    "outputId": "6d649c35-0499-45e2-c1e1-3ac67cb784db"
   },
   "outputs": [
    {
     "data": {
      "text/html": [],
      "text/plain": [
       "<IPython.core.display.HTML object>"
      ]
     },
     "metadata": {},
     "output_type": "display_data"
    },
    {
     "name": "stdout",
     "output_type": "stream",
     "text": [
      "Better model found at epoch 0 with valid_loss value: 0.553903341293335.\n"
     ]
    },
    {
     "data": {
      "text/plain": [
       "(#4) [0.6943250298500061,0.553903341293335,0.5659340659340659,0.9035087719298246]"
      ]
     },
     "execution_count": 68,
     "metadata": {},
     "output_type": "execute_result"
    }
   ],
   "source": [
    "learn.validate()"
   ]
  },
  {
   "cell_type": "markdown",
   "metadata": {
    "id": "Jch-LI6rxmwO"
   },
   "source": [
    "## Label + MixUp"
   ]
  },
  {
   "cell_type": "code",
   "execution_count": 69,
   "metadata": {
    "id": "RQ4oAmeMxmwQ"
   },
   "outputs": [],
   "source": [
    "learn = Learner(dls512, modelo,cbs = callbacks2,metrics=[accuracy,Precision(),Recall()],loss_func=LabelSmoothingCrossEntropy())"
   ]
  },
  {
   "cell_type": "code",
   "execution_count": 70,
   "metadata": {
    "colab": {
     "base_uri": "https://localhost:8080/",
     "height": 944
    },
    "executionInfo": {
     "elapsed": 11759398,
     "status": "ok",
     "timestamp": 1615239720051,
     "user": {
      "displayName": "Adrián Inés",
      "photoUrl": "",
      "userId": "05591729960422855292"
     },
     "user_tz": -60
    },
    "id": "zrv5StV3xmwS",
    "outputId": "4f44055c-2204-4f1e-b9d2-558f6c9d4cca"
   },
   "outputs": [
    {
     "data": {
      "text/html": [
       "<table border=\"1\" class=\"dataframe\">\n",
       "  <thead>\n",
       "    <tr style=\"text-align: left;\">\n",
       "      <th>epoch</th>\n",
       "      <th>train_loss</th>\n",
       "      <th>valid_loss</th>\n",
       "      <th>accuracy</th>\n",
       "      <th>precision_score</th>\n",
       "      <th>recall_score</th>\n",
       "      <th>time</th>\n",
       "    </tr>\n",
       "  </thead>\n",
       "  <tbody>\n",
       "    <tr>\n",
       "      <td>0</td>\n",
       "      <td>0.692799</td>\n",
       "      <td>0.748683</td>\n",
       "      <td>0.513761</td>\n",
       "      <td>0.000000</td>\n",
       "      <td>0.000000</td>\n",
       "      <td>02:08</td>\n",
       "    </tr>\n",
       "    <tr>\n",
       "      <td>1</td>\n",
       "      <td>0.694469</td>\n",
       "      <td>0.692624</td>\n",
       "      <td>0.492355</td>\n",
       "      <td>0.487633</td>\n",
       "      <td>0.867925</td>\n",
       "      <td>02:08</td>\n",
       "    </tr>\n",
       "  </tbody>\n",
       "</table>"
      ],
      "text/plain": [
       "<IPython.core.display.HTML object>"
      ]
     },
     "metadata": {},
     "output_type": "display_data"
    },
    {
     "name": "stdout",
     "output_type": "stream",
     "text": [
      "Better model found at epoch 0 with valid_loss value: 0.7486826181411743.\n"
     ]
    },
    {
     "data": {
      "image/png": "[encoded data removed]",
      "text/plain": [
       "<Figure size 432x288 with 1 Axes>"
      ]
     },
     "metadata": {},
     "output_type": "display_data"
    },
    {
     "name": "stdout",
     "output_type": "stream",
     "text": [
      "Better model found at epoch 1 with valid_loss value: 0.6926237940788269.\n"
     ]
    },
    {
     "data": {
      "text/html": [
       "<table border=\"1\" class=\"dataframe\">\n",
       "  <thead>\n",
       "    <tr style=\"text-align: left;\">\n",
       "      <th>epoch</th>\n",
       "      <th>train_loss</th>\n",
       "      <th>valid_loss</th>\n",
       "      <th>accuracy</th>\n",
       "      <th>precision_score</th>\n",
       "      <th>recall_score</th>\n",
       "      <th>time</th>\n",
       "    </tr>\n",
       "  </thead>\n",
       "  <tbody>\n",
       "    <tr>\n",
       "      <td>0</td>\n",
       "      <td>0.694498</td>\n",
       "      <td>0.694281</td>\n",
       "      <td>0.487768</td>\n",
       "      <td>0.485062</td>\n",
       "      <td>0.867925</td>\n",
       "      <td>02:08</td>\n",
       "    </tr>\n",
       "    <tr>\n",
       "      <td>1</td>\n",
       "      <td>0.694045</td>\n",
       "      <td>0.704799</td>\n",
       "      <td>0.484709</td>\n",
       "      <td>0.482633</td>\n",
       "      <td>0.830189</td>\n",
       "      <td>02:08</td>\n",
       "    </tr>\n",
       "    <tr>\n",
       "      <td>2</td>\n",
       "      <td>0.693489</td>\n",
       "      <td>0.697384</td>\n",
       "      <td>0.493884</td>\n",
       "      <td>0.488774</td>\n",
       "      <td>0.889937</td>\n",
       "      <td>02:09</td>\n",
       "    </tr>\n",
       "    <tr>\n",
       "      <td>3</td>\n",
       "      <td>0.694484</td>\n",
       "      <td>0.703796</td>\n",
       "      <td>0.490826</td>\n",
       "      <td>0.486631</td>\n",
       "      <td>0.858491</td>\n",
       "      <td>02:08</td>\n",
       "    </tr>\n",
       "  </tbody>\n",
       "</table>"
      ],
      "text/plain": [
       "<IPython.core.display.HTML object>"
      ]
     },
     "metadata": {},
     "output_type": "display_data"
    },
    {
     "name": "stdout",
     "output_type": "stream",
     "text": [
      "Better model found at epoch 0 with valid_loss value: 0.6942812204360962.\n"
     ]
    },
    {
     "data": {
      "image/png": "[encoded data removed]",
      "text/plain": [
       "<Figure size 432x288 with 1 Axes>"
      ]
     },
     "metadata": {},
     "output_type": "display_data"
    },
    {
     "name": "stdout",
     "output_type": "stream",
     "text": [
      "No improvement since epoch 0: early stopping\n"
     ]
    }
   ],
   "source": [
    "learn.fine_tune(15,freeze_epochs=2,base_lr=lr)"
   ]
  },
  {
   "cell_type": "code",
   "execution_count": 71,
   "metadata": {
    "id": "fdAbrEqExmwT"
   },
   "outputs": [],
   "source": [
    "dbTest = DataBlock(blocks = (ImageBlock, CategoryBlock),\n",
    "                 get_items=get_image_files, \n",
    "                 splitter=GrandparentSplitter(valid_name='test'),\n",
    "                 get_y=parent_label,\n",
    "                 item_tfms = Resize(512),\n",
    "                 batch_tfms=[*aug_transforms(size=256, min_scale=0.75), Normalize.from_stats(*imagenet_stats)])\n",
    "dlsTest = dbTest.dataloaders(path,bs=32)"
   ]
  },
  {
   "cell_type": "code",
   "execution_count": 72,
   "metadata": {
    "id": "iGmxJjtDxmwU"
   },
   "outputs": [],
   "source": [
    "learn.dls = dlsTest"
   ]
  },
  {
   "cell_type": "code",
   "execution_count": 73,
   "metadata": {
    "colab": {
     "base_uri": "https://localhost:8080/",
     "height": 51
    },
    "executionInfo": {
     "elapsed": 11768965,
     "status": "ok",
     "timestamp": 1615239729635,
     "user": {
      "displayName": "Adrián Inés",
      "photoUrl": "",
      "userId": "05591729960422855292"
     },
     "user_tz": -60
    },
    "id": "c0VFrn16xmwV",
    "outputId": "ff430290-557b-4231-eda8-14f121ffaf2b"
   },
   "outputs": [
    {
     "data": {
      "text/html": [],
      "text/plain": [
       "<IPython.core.display.HTML object>"
      ]
     },
     "metadata": {},
     "output_type": "display_data"
    },
    {
     "name": "stdout",
     "output_type": "stream",
     "text": [
      "Better model found at epoch 0 with valid_loss value: 0.5662949085235596.\n"
     ]
    },
    {
     "data": {
      "text/plain": [
       "(#4) [0.6930213570594788,0.5662949085235596,0.5732044198895028,0.9100877192982456]"
      ]
     },
     "execution_count": 73,
     "metadata": {},
     "output_type": "execute_result"
    }
   ],
   "source": [
    "learn.validate()"
   ]
  }
 ],
 "metadata": {
  "accelerator": "GPU",
  "colab": {
   "collapsed_sections": [],
   "name": "HRNet44.ipynb",
   "provenance": [],
   "toc_visible": true
  },
  "kernelspec": {
   "display_name": "Python 3",
   "language": "python",
   "name": "python3"
  },
  "language_info": {
   "codemirror_mode": {
    "name": "ipython",
    "version": 3
   },
   "file_extension": ".py",
   "mimetype": "text/x-python",
   "name": "python",
   "nbconvert_exporter": "python",
   "pygments_lexer": "ipython3",
   "version": "3.6.7"
  }
 },
 "nbformat": 4,
 "nbformat_minor": 1
}
